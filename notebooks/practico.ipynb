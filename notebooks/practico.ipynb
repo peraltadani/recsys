{
 "cells": [
  {
   "cell_type": "markdown",
   "metadata": {
    "slideshow": {
     "slide_type": "slide"
    }
   },
   "source": [
    "# Práctico: Recomendación de Artistas\n",
    "\n",
    "En este práctico trabajaremos con el conjuto de datos de [LastFM](https://grouplens.org/datasets/hetrec-2011/) para el desarrollo de un sistema de recomendación que, dado el nombre de un artista musical, devuelve una lista de artistas \"similares\".\n",
    "\n",
    "Para el práctico utilizaremos el conjunto de datos de LastFM que consiguieron del [notebook de instalación](./instalacion.ipynb). Se recomienda leer el [Readme](http://files.grouplens.org/datasets/hetrec2011/hetrec2011-lastfm-readme.txt) de los datos para saber más sobre que información contiene cada archivo."
   ]
  },
  {
   "cell_type": "code",
   "execution_count": 2,
   "metadata": {},
   "outputs": [],
   "source": [
    "import pandas as pd\n",
    "import numpy as np"
   ]
  },
  {
   "cell_type": "code",
   "execution_count": 3,
   "metadata": {},
   "outputs": [
    {
     "output_type": "stream",
     "name": "stdout",
     "text": [
      "(17632, 4)\n"
     ]
    },
    {
     "output_type": "execute_result",
     "data": {
      "text/plain": [
       "          id          name                                                url  \\\n",
       "9246    9479   Collin Raye               http://www.last.fm/music/Collin+Raye   \n",
       "14871  15648   Summer Camp               http://www.last.fm/music/Summer+Camp   \n",
       "1019    1028  Anything Box              http://www.last.fm/music/Anything+Box   \n",
       "11168  11550    The Format                http://www.last.fm/music/The+Format   \n",
       "3762    3838         Михей  http://www.last.fm/music/%D0%9C%D0%B8%D1%85%D0...   \n",
       "\n",
       "                                              pictureURL  \n",
       "9246    http://userserve-ak.last.fm/serve/252/185415.jpg  \n",
       "14871  http://userserve-ak.last.fm/serve/252/49033625...  \n",
       "1019    http://userserve-ak.last.fm/serve/252/141406.gif  \n",
       "11168   http://userserve-ak.last.fm/serve/252/163726.jpg  \n",
       "3762   http://userserve-ak.last.fm/serve/252/1967078.jpg  "
      ],
      "text/html": "<div>\n<style scoped>\n    .dataframe tbody tr th:only-of-type {\n        vertical-align: middle;\n    }\n\n    .dataframe tbody tr th {\n        vertical-align: top;\n    }\n\n    .dataframe thead th {\n        text-align: right;\n    }\n</style>\n<table border=\"1\" class=\"dataframe\">\n  <thead>\n    <tr style=\"text-align: right;\">\n      <th></th>\n      <th>id</th>\n      <th>name</th>\n      <th>url</th>\n      <th>pictureURL</th>\n    </tr>\n  </thead>\n  <tbody>\n    <tr>\n      <th>9246</th>\n      <td>9479</td>\n      <td>Collin Raye</td>\n      <td>http://www.last.fm/music/Collin+Raye</td>\n      <td>http://userserve-ak.last.fm/serve/252/185415.jpg</td>\n    </tr>\n    <tr>\n      <th>14871</th>\n      <td>15648</td>\n      <td>Summer Camp</td>\n      <td>http://www.last.fm/music/Summer+Camp</td>\n      <td>http://userserve-ak.last.fm/serve/252/49033625...</td>\n    </tr>\n    <tr>\n      <th>1019</th>\n      <td>1028</td>\n      <td>Anything Box</td>\n      <td>http://www.last.fm/music/Anything+Box</td>\n      <td>http://userserve-ak.last.fm/serve/252/141406.gif</td>\n    </tr>\n    <tr>\n      <th>11168</th>\n      <td>11550</td>\n      <td>The Format</td>\n      <td>http://www.last.fm/music/The+Format</td>\n      <td>http://userserve-ak.last.fm/serve/252/163726.jpg</td>\n    </tr>\n    <tr>\n      <th>3762</th>\n      <td>3838</td>\n      <td>Михей</td>\n      <td>http://www.last.fm/music/%D0%9C%D0%B8%D1%85%D0...</td>\n      <td>http://userserve-ak.last.fm/serve/252/1967078.jpg</td>\n    </tr>\n  </tbody>\n</table>\n</div>"
     },
     "metadata": {},
     "execution_count": 3
    }
   ],
   "source": [
    "artist_data = pd.read_csv(\"../data/lastFm/artists.dat\", sep=\"\\t\")\n",
    "print(artist_data.shape)\n",
    "artist_data.sample(5)"
   ]
  },
  {
   "cell_type": "code",
   "execution_count": 4,
   "metadata": {},
   "outputs": [
    {
     "output_type": "stream",
     "name": "stdout",
     "text": [
      "(92834, 3)\n"
     ]
    },
    {
     "output_type": "execute_result",
     "data": {
      "text/plain": [
       "       userID  artistID  weight\n",
       "63750    1437       349      52\n",
       "29647     649       953      39\n",
       "15622     338       289    2407\n",
       "5050      106      2720     708\n",
       "71021    1599     15503     191"
      ],
      "text/html": "<div>\n<style scoped>\n    .dataframe tbody tr th:only-of-type {\n        vertical-align: middle;\n    }\n\n    .dataframe tbody tr th {\n        vertical-align: top;\n    }\n\n    .dataframe thead th {\n        text-align: right;\n    }\n</style>\n<table border=\"1\" class=\"dataframe\">\n  <thead>\n    <tr style=\"text-align: right;\">\n      <th></th>\n      <th>userID</th>\n      <th>artistID</th>\n      <th>weight</th>\n    </tr>\n  </thead>\n  <tbody>\n    <tr>\n      <th>63750</th>\n      <td>1437</td>\n      <td>349</td>\n      <td>52</td>\n    </tr>\n    <tr>\n      <th>29647</th>\n      <td>649</td>\n      <td>953</td>\n      <td>39</td>\n    </tr>\n    <tr>\n      <th>15622</th>\n      <td>338</td>\n      <td>289</td>\n      <td>2407</td>\n    </tr>\n    <tr>\n      <th>5050</th>\n      <td>106</td>\n      <td>2720</td>\n      <td>708</td>\n    </tr>\n    <tr>\n      <th>71021</th>\n      <td>1599</td>\n      <td>15503</td>\n      <td>191</td>\n    </tr>\n  </tbody>\n</table>\n</div>"
     },
     "metadata": {},
     "execution_count": 4
    }
   ],
   "source": [
    "user_artist_plays = pd.read_csv(\"../data/lastFm/user_artists.dat\", sep=\"\\t\")\n",
    "print(user_artist_plays.shape)\n",
    "user_artist_plays.sample(5)"
   ]
  },
  {
   "cell_type": "code",
   "execution_count": 5,
   "metadata": {},
   "outputs": [
    {
     "output_type": "stream",
     "name": "stdout",
     "text": [
      "(11946, 2)\n"
     ]
    },
    {
     "output_type": "execute_result",
     "data": {
      "text/plain": [
       "       tagID     tagValue\n",
       "8595    9023       mágico\n",
       "7420    7739       vagisa\n",
       "4177    4284  work of art\n",
       "10863  11477      locking\n",
       "2022    2062       low fi"
      ],
      "text/html": "<div>\n<style scoped>\n    .dataframe tbody tr th:only-of-type {\n        vertical-align: middle;\n    }\n\n    .dataframe tbody tr th {\n        vertical-align: top;\n    }\n\n    .dataframe thead th {\n        text-align: right;\n    }\n</style>\n<table border=\"1\" class=\"dataframe\">\n  <thead>\n    <tr style=\"text-align: right;\">\n      <th></th>\n      <th>tagID</th>\n      <th>tagValue</th>\n    </tr>\n  </thead>\n  <tbody>\n    <tr>\n      <th>8595</th>\n      <td>9023</td>\n      <td>mágico</td>\n    </tr>\n    <tr>\n      <th>7420</th>\n      <td>7739</td>\n      <td>vagisa</td>\n    </tr>\n    <tr>\n      <th>4177</th>\n      <td>4284</td>\n      <td>work of art</td>\n    </tr>\n    <tr>\n      <th>10863</th>\n      <td>11477</td>\n      <td>locking</td>\n    </tr>\n    <tr>\n      <th>2022</th>\n      <td>2062</td>\n      <td>low fi</td>\n    </tr>\n  </tbody>\n</table>\n</div>"
     },
     "metadata": {},
     "execution_count": 5
    }
   ],
   "source": [
    "tags = pd.read_csv(\"../data/lastFm/tags.dat\", sep=\"\\t\", encoding = \"ISO-8859-1\")\n",
    "print(tags.shape)\n",
    "tags.sample(5)"
   ]
  },
  {
   "cell_type": "code",
   "execution_count": 6,
   "metadata": {},
   "outputs": [
    {
     "output_type": "stream",
     "name": "stdout",
     "text": [
      "(186479, 6)\n"
     ]
    },
    {
     "output_type": "execute_result",
     "data": {
      "text/plain": [
       "        userID  artistID  tagID  day  month  year\n",
       "137419    1605       306     39    1      7  2010\n",
       "168269    1900      5550    130    1      8  2007\n",
       "124610    1423       915    167    1      1  2009\n",
       "135031    1575      6829    216    1      1  2009\n",
       "15029      153      2964   1680    1      2  2008"
      ],
      "text/html": "<div>\n<style scoped>\n    .dataframe tbody tr th:only-of-type {\n        vertical-align: middle;\n    }\n\n    .dataframe tbody tr th {\n        vertical-align: top;\n    }\n\n    .dataframe thead th {\n        text-align: right;\n    }\n</style>\n<table border=\"1\" class=\"dataframe\">\n  <thead>\n    <tr style=\"text-align: right;\">\n      <th></th>\n      <th>userID</th>\n      <th>artistID</th>\n      <th>tagID</th>\n      <th>day</th>\n      <th>month</th>\n      <th>year</th>\n    </tr>\n  </thead>\n  <tbody>\n    <tr>\n      <th>137419</th>\n      <td>1605</td>\n      <td>306</td>\n      <td>39</td>\n      <td>1</td>\n      <td>7</td>\n      <td>2010</td>\n    </tr>\n    <tr>\n      <th>168269</th>\n      <td>1900</td>\n      <td>5550</td>\n      <td>130</td>\n      <td>1</td>\n      <td>8</td>\n      <td>2007</td>\n    </tr>\n    <tr>\n      <th>124610</th>\n      <td>1423</td>\n      <td>915</td>\n      <td>167</td>\n      <td>1</td>\n      <td>1</td>\n      <td>2009</td>\n    </tr>\n    <tr>\n      <th>135031</th>\n      <td>1575</td>\n      <td>6829</td>\n      <td>216</td>\n      <td>1</td>\n      <td>1</td>\n      <td>2009</td>\n    </tr>\n    <tr>\n      <th>15029</th>\n      <td>153</td>\n      <td>2964</td>\n      <td>1680</td>\n      <td>1</td>\n      <td>2</td>\n      <td>2008</td>\n    </tr>\n  </tbody>\n</table>\n</div>"
     },
     "metadata": {},
     "execution_count": 6
    }
   ],
   "source": [
    "user_tagged_artists = pd.read_csv(\"../data/lastFm/user_taggedartists.dat\", sep=\"\\t\", encoding = \"ISO-8859-1\")\n",
    "print(user_tagged_artists.shape)\n",
    "user_tagged_artists.sample(5)"
   ]
  },
  {
   "cell_type": "markdown",
   "metadata": {},
   "source": [
    "## Actividades\n",
    "\n",
    "El [Ejercicio 1](#Ejercicio-1---Análisis-Exploratorio-de-Datos) deberá ser realizado por quienes estén realizando cualquier parte de la materia.\n",
    "\n",
    "El [Ejercicio 2](#Ejercicio-2---Sistema-de-Recomendación) variará de acuerdo a que parte de la materia estén realizando, quienes estén realizando la materia completa, deberán realizar ambas partes."
   ]
  },
  {
   "cell_type": "markdown",
   "metadata": {},
   "source": [
    "De acuerdo a la parte de la materia que hagan, deberán realizar una de las siguientes actividades (pueden realizar ambas si así lo desean):\n",
    "\n",
    "La idea del práctico es hacer un análisis muy sencillo del conjunto de datos y desarrollar dos sistemas de recomendación: \n",
    "1. El primero, más sencillo, utilizando [Surpr!se](http://surpriselib.com/), y a partir de los datos de LastFM, en especial del archivo `./data/lastfm/user_artists.dat`, generar un sistema de recomendación basado en filtros colaborativos.\n",
    "2. En el segundo, deberán utilizar todos los datos ofrecidos en el dataset de LastFM para generar un sistema de filtrado colaborativo más complejo, deberá utilizar las técnicas aprendidas \n",
    "\n",
    "basado en filtrado colaborativo (usando Surpr!se), a partir de los datos existentes."
   ]
  },
  {
   "cell_type": "markdown",
   "metadata": {},
   "source": [
    "## Ejercicio 1 - Análisis Exploratorio de Datos\n",
    "\n",
    "En esta primera parte deberán hacer un análisis exploratorio de los datos, aprovechando toda la información brindada por el conjunto. A partir de eso podrán tener mayor idea de qué tipo de datos estarán enfrentando (describe o hist).\n",
    "\n",
    "Algunas preguntas para responder:\n",
    "- ¿Cuáles son los artistas que fueron más escuchados?\n",
    "- ¿Cómo es la distribución de cantidad de listens por user?\n",
    "- ¿Es posible ver el género más escuchado?"
   ]
  },
  {
   "cell_type": "markdown",
   "metadata": {},
   "source": [
    "### 1.1. Artistas más escuchados"
   ]
  },
  {
   "cell_type": "code",
   "execution_count": 7,
   "metadata": {},
   "outputs": [
    {
     "output_type": "execute_result",
     "data": {
      "text/plain": [
       "    weight   id                name  \\\n",
       "0  2393140  289      Britney Spears   \n",
       "1  1301308   72        Depeche Mode   \n",
       "2  1291387   89           Lady Gaga   \n",
       "3  1058405  292  Christina Aguilera   \n",
       "4   963449  498            Paramore   \n",
       "5   921198   67             Madonna   \n",
       "6   905423  288             Rihanna   \n",
       "7   688529  701             Shakira   \n",
       "8   662116  227         The Beatles   \n",
       "9   532545  300          Katy Perry   \n",
       "\n",
       "                                           url  \\\n",
       "0      http://www.last.fm/music/Britney+Spears   \n",
       "1        http://www.last.fm/music/Depeche+Mode   \n",
       "2           http://www.last.fm/music/Lady+Gaga   \n",
       "3  http://www.last.fm/music/Christina+Aguilera   \n",
       "4            http://www.last.fm/music/Paramore   \n",
       "5             http://www.last.fm/music/Madonna   \n",
       "6             http://www.last.fm/music/Rihanna   \n",
       "7             http://www.last.fm/music/Shakira   \n",
       "8         http://www.last.fm/music/The+Beatles   \n",
       "9          http://www.last.fm/music/Katy+Perry   \n",
       "\n",
       "                                          pictureURL  \n",
       "0  http://userserve-ak.last.fm/serve/252/60126439...  \n",
       "1    http://userserve-ak.last.fm/serve/252/75022.jpg  \n",
       "2  http://userserve-ak.last.fm/serve/252/47390093...  \n",
       "3  http://userserve-ak.last.fm/serve/252/47363849...  \n",
       "4  http://userserve-ak.last.fm/serve/252/35837991...  \n",
       "5   http://userserve-ak.last.fm/serve/252/340387.jpg  \n",
       "6  http://userserve-ak.last.fm/serve/252/53023109...  \n",
       "7  http://userserve-ak.last.fm/serve/252/52116105...  \n",
       "8  http://userserve-ak.last.fm/serve/252/2588646.jpg  \n",
       "9  http://userserve-ak.last.fm/serve/252/42128121...  "
      ],
      "text/html": "<div>\n<style scoped>\n    .dataframe tbody tr th:only-of-type {\n        vertical-align: middle;\n    }\n\n    .dataframe tbody tr th {\n        vertical-align: top;\n    }\n\n    .dataframe thead th {\n        text-align: right;\n    }\n</style>\n<table border=\"1\" class=\"dataframe\">\n  <thead>\n    <tr style=\"text-align: right;\">\n      <th></th>\n      <th>weight</th>\n      <th>id</th>\n      <th>name</th>\n      <th>url</th>\n      <th>pictureURL</th>\n    </tr>\n  </thead>\n  <tbody>\n    <tr>\n      <th>0</th>\n      <td>2393140</td>\n      <td>289</td>\n      <td>Britney Spears</td>\n      <td>http://www.last.fm/music/Britney+Spears</td>\n      <td>http://userserve-ak.last.fm/serve/252/60126439...</td>\n    </tr>\n    <tr>\n      <th>1</th>\n      <td>1301308</td>\n      <td>72</td>\n      <td>Depeche Mode</td>\n      <td>http://www.last.fm/music/Depeche+Mode</td>\n      <td>http://userserve-ak.last.fm/serve/252/75022.jpg</td>\n    </tr>\n    <tr>\n      <th>2</th>\n      <td>1291387</td>\n      <td>89</td>\n      <td>Lady Gaga</td>\n      <td>http://www.last.fm/music/Lady+Gaga</td>\n      <td>http://userserve-ak.last.fm/serve/252/47390093...</td>\n    </tr>\n    <tr>\n      <th>3</th>\n      <td>1058405</td>\n      <td>292</td>\n      <td>Christina Aguilera</td>\n      <td>http://www.last.fm/music/Christina+Aguilera</td>\n      <td>http://userserve-ak.last.fm/serve/252/47363849...</td>\n    </tr>\n    <tr>\n      <th>4</th>\n      <td>963449</td>\n      <td>498</td>\n      <td>Paramore</td>\n      <td>http://www.last.fm/music/Paramore</td>\n      <td>http://userserve-ak.last.fm/serve/252/35837991...</td>\n    </tr>\n    <tr>\n      <th>5</th>\n      <td>921198</td>\n      <td>67</td>\n      <td>Madonna</td>\n      <td>http://www.last.fm/music/Madonna</td>\n      <td>http://userserve-ak.last.fm/serve/252/340387.jpg</td>\n    </tr>\n    <tr>\n      <th>6</th>\n      <td>905423</td>\n      <td>288</td>\n      <td>Rihanna</td>\n      <td>http://www.last.fm/music/Rihanna</td>\n      <td>http://userserve-ak.last.fm/serve/252/53023109...</td>\n    </tr>\n    <tr>\n      <th>7</th>\n      <td>688529</td>\n      <td>701</td>\n      <td>Shakira</td>\n      <td>http://www.last.fm/music/Shakira</td>\n      <td>http://userserve-ak.last.fm/serve/252/52116105...</td>\n    </tr>\n    <tr>\n      <th>8</th>\n      <td>662116</td>\n      <td>227</td>\n      <td>The Beatles</td>\n      <td>http://www.last.fm/music/The+Beatles</td>\n      <td>http://userserve-ak.last.fm/serve/252/2588646.jpg</td>\n    </tr>\n    <tr>\n      <th>9</th>\n      <td>532545</td>\n      <td>300</td>\n      <td>Katy Perry</td>\n      <td>http://www.last.fm/music/Katy+Perry</td>\n      <td>http://userserve-ak.last.fm/serve/252/42128121...</td>\n    </tr>\n  </tbody>\n</table>\n</div>"
     },
     "metadata": {},
     "execution_count": 7
    }
   ],
   "source": [
    "user_artist_plays_by_artist = (\n",
    "    user_artist_plays[[\"artistID\", \"weight\"]]\n",
    "    .groupby(['artistID']).sum()\n",
    "    .sort_values(by=[\"weight\"], ascending=False)\n",
    ")\n",
    "\n",
    "artist_plays = user_artist_plays_by_artist.merge(artist_data, left_on=\"artistID\", right_on=\"id\")\n",
    "artist_plays.head(10)"
   ]
  },
  {
   "cell_type": "code",
   "execution_count": 8,
   "metadata": {},
   "outputs": [
    {
     "output_type": "execute_result",
     "data": {
      "text/plain": [
       "<matplotlib.axes._subplots.AxesSubplot at 0x21b0ea2d688>"
      ]
     },
     "metadata": {},
     "execution_count": 8
    },
    {
     "output_type": "display_data",
     "data": {
      "text/plain": "<Figure size 432x288 with 1 Axes>",
      "image/svg+xml": "<?xml version=\"1.0\" encoding=\"utf-8\" standalone=\"no\"?>\r\n<!DOCTYPE svg PUBLIC \"-//W3C//DTD SVG 1.1//EN\"\r\n  \"http://www.w3.org/Graphics/SVG/1.1/DTD/svg11.dtd\">\r\n<!-- Created with matplotlib (https://matplotlib.org/) -->\r\n<svg height=\"231.84pt\" version=\"1.1\" viewBox=\"0 0 345.547469 231.84\" width=\"345.547469pt\" xmlns=\"http://www.w3.org/2000/svg\" xmlns:xlink=\"http://www.w3.org/1999/xlink\">\r\n <defs>\r\n  <style type=\"text/css\">\r\n*{stroke-linecap:butt;stroke-linejoin:round;}\r\n  </style>\r\n </defs>\r\n <g id=\"figure_1\">\r\n  <g id=\"patch_1\">\r\n   <path d=\"M 0 231.84 \r\nL 345.547469 231.84 \r\nL 345.547469 0 \r\nL 0 0 \r\nz\r\n\" style=\"fill:none;\"/>\r\n  </g>\r\n  <g id=\"axes_1\">\r\n   <g id=\"patch_2\">\r\n    <path d=\"M 278.684228 115.92 \r\nC 278.684228 95.376147 271.405498 75.48215 258.147311 59.789145 \r\nC 244.889124 44.09614 226.490264 33.59695 206.23498 30.165711 \r\nL 191.708228 115.92 \r\nL 278.684228 115.92 \r\nz\r\n\" style=\"fill:#1f77b4;\"/>\r\n   </g>\r\n   <g id=\"patch_3\">\r\n    <path d=\"M 206.23498 30.165711 \r\nC 195.298405 28.313059 184.107706 28.56957 173.267505 30.921386 \r\nC 162.427304 33.273203 152.136413 37.677192 142.95084 43.895409 \r\nL 191.708228 115.92 \r\nL 206.23498 30.165711 \r\nz\r\n\" style=\"fill:#ff7f0e;\"/>\r\n   </g>\r\n   <g id=\"patch_4\">\r\n    <path d=\"M 142.95084 43.895409 \r\nC 133.835712 50.065939 125.974264 57.911109 119.784854 67.013427 \r\nC 113.595445 76.115746 109.18985 86.310832 106.802519 97.05614 \r\nL 191.708228 115.92 \r\nL 142.95084 43.895409 \r\nz\r\n\" style=\"fill:#2ca02c;\"/>\r\n   </g>\r\n   <g id=\"patch_5\">\r\n    <path d=\"M 106.802519 97.05614 \r\nC 104.847794 105.854304 104.272428 114.903078 105.097055 123.877967 \r\nC 105.921681 132.852856 108.136324 141.64528 111.661563 149.939936 \r\nL 191.708228 115.92 \r\nL 106.802519 97.05614 \r\nz\r\n\" style=\"fill:#d62728;\"/>\r\n   </g>\r\n   <g id=\"patch_6\">\r\n    <path d=\"M 111.661563 149.939936 \r\nC 114.869436 157.487848 119.128828 164.544239 124.31303 170.899195 \r\nC 129.497233 177.254151 135.554326 182.844026 142.304122 187.502532 \r\nL 191.708228 115.92 \r\nL 111.661563 149.939936 \r\nz\r\n\" style=\"fill:#9467bd;\"/>\r\n   </g>\r\n   <g id=\"patch_7\">\r\n    <path d=\"M 142.304122 187.502532 \r\nC 148.756998 191.956112 155.782552 195.516761 163.189629 198.087597 \r\nC 170.596706 200.658434 178.317511 202.215928 186.141974 202.717704 \r\nL 191.708228 115.92 \r\nL 142.304122 187.502532 \r\nz\r\n\" style=\"fill:#8c564b;\"/>\r\n   </g>\r\n   <g id=\"patch_8\">\r\n    <path d=\"M 186.141974 202.717704 \r\nC 193.832052 203.210861 201.553676 202.679854 209.103853 201.138641 \r\nC 216.654029 199.597429 223.96601 197.059636 230.84757 193.59198 \r\nL 191.708228 115.92 \r\nL 186.141974 202.717704 \r\nz\r\n\" style=\"fill:#e377c2;\"/>\r\n   </g>\r\n   <g id=\"patch_9\">\r\n    <path d=\"M 230.84757 193.59198 \r\nC 236.077427 190.956626 241.02777 187.799787 245.623191 184.169552 \r\nC 250.218611 180.539317 254.435655 176.454213 258.210084 171.97647 \r\nL 191.708228 115.92 \r\nL 230.84757 193.59198 \r\nz\r\n\" style=\"fill:#7f7f7f;\"/>\r\n   </g>\r\n   <g id=\"patch_10\">\r\n    <path d=\"M 258.210084 171.97647 \r\nC 261.839488 167.670774 265.042167 163.022755 267.772997 158.097903 \r\nC 270.503826 153.173052 272.74992 147.994606 274.47963 142.63553 \r\nL 191.708228 115.92 \r\nL 258.210084 171.97647 \r\nz\r\n\" style=\"fill:#bcbd22;\"/>\r\n   </g>\r\n   <g id=\"patch_11\">\r\n    <path d=\"M 274.47963 142.63553 \r\nC 275.870465 138.326376 276.922671 133.915181 277.626648 129.44219 \r\nC 278.330626 124.969199 278.684228 120.448056 278.684228 115.920006 \r\nL 191.708228 115.92 \r\nL 274.47963 142.63553 \r\nz\r\n\" style=\"fill:#17becf;\"/>\r\n   </g>\r\n   <g id=\"matplotlib.axis_1\"/>\r\n   <g id=\"matplotlib.axis_2\">\r\n    <g id=\"text_1\">\r\n     <!-- weight -->\r\n     <defs>\r\n      <path d=\"M 4.203125 54.6875 \r\nL 13.1875 54.6875 \r\nL 24.421875 12.015625 \r\nL 35.59375 54.6875 \r\nL 46.1875 54.6875 \r\nL 57.421875 12.015625 \r\nL 68.609375 54.6875 \r\nL 77.59375 54.6875 \r\nL 63.28125 0 \r\nL 52.6875 0 \r\nL 40.921875 44.828125 \r\nL 29.109375 0 \r\nL 18.5 0 \r\nz\r\n\" id=\"DejaVuSans-119\"/>\r\n      <path d=\"M 56.203125 29.59375 \r\nL 56.203125 25.203125 \r\nL 14.890625 25.203125 \r\nQ 15.484375 15.921875 20.484375 11.0625 \r\nQ 25.484375 6.203125 34.421875 6.203125 \r\nQ 39.59375 6.203125 44.453125 7.46875 \r\nQ 49.3125 8.734375 54.109375 11.28125 \r\nL 54.109375 2.78125 \r\nQ 49.265625 0.734375 44.1875 -0.34375 \r\nQ 39.109375 -1.421875 33.890625 -1.421875 \r\nQ 20.796875 -1.421875 13.15625 6.1875 \r\nQ 5.515625 13.8125 5.515625 26.8125 \r\nQ 5.515625 40.234375 12.765625 48.109375 \r\nQ 20.015625 56 32.328125 56 \r\nQ 43.359375 56 49.78125 48.890625 \r\nQ 56.203125 41.796875 56.203125 29.59375 \r\nz\r\nM 47.21875 32.234375 \r\nQ 47.125 39.59375 43.09375 43.984375 \r\nQ 39.0625 48.390625 32.421875 48.390625 \r\nQ 24.90625 48.390625 20.390625 44.140625 \r\nQ 15.875 39.890625 15.1875 32.171875 \r\nz\r\n\" id=\"DejaVuSans-101\"/>\r\n      <path d=\"M 9.421875 54.6875 \r\nL 18.40625 54.6875 \r\nL 18.40625 0 \r\nL 9.421875 0 \r\nz\r\nM 9.421875 75.984375 \r\nL 18.40625 75.984375 \r\nL 18.40625 64.59375 \r\nL 9.421875 64.59375 \r\nz\r\n\" id=\"DejaVuSans-105\"/>\r\n      <path d=\"M 45.40625 27.984375 \r\nQ 45.40625 37.75 41.375 43.109375 \r\nQ 37.359375 48.484375 30.078125 48.484375 \r\nQ 22.859375 48.484375 18.828125 43.109375 \r\nQ 14.796875 37.75 14.796875 27.984375 \r\nQ 14.796875 18.265625 18.828125 12.890625 \r\nQ 22.859375 7.515625 30.078125 7.515625 \r\nQ 37.359375 7.515625 41.375 12.890625 \r\nQ 45.40625 18.265625 45.40625 27.984375 \r\nz\r\nM 54.390625 6.78125 \r\nQ 54.390625 -7.171875 48.1875 -13.984375 \r\nQ 42 -20.796875 29.203125 -20.796875 \r\nQ 24.46875 -20.796875 20.265625 -20.09375 \r\nQ 16.0625 -19.390625 12.109375 -17.921875 \r\nL 12.109375 -9.1875 \r\nQ 16.0625 -11.328125 19.921875 -12.34375 \r\nQ 23.78125 -13.375 27.78125 -13.375 \r\nQ 36.625 -13.375 41.015625 -8.765625 \r\nQ 45.40625 -4.15625 45.40625 5.171875 \r\nL 45.40625 9.625 \r\nQ 42.625 4.78125 38.28125 2.390625 \r\nQ 33.9375 0 27.875 0 \r\nQ 17.828125 0 11.671875 7.65625 \r\nQ 5.515625 15.328125 5.515625 27.984375 \r\nQ 5.515625 40.671875 11.671875 48.328125 \r\nQ 17.828125 56 27.875 56 \r\nQ 33.9375 56 38.28125 53.609375 \r\nQ 42.625 51.21875 45.40625 46.390625 \r\nL 45.40625 54.6875 \r\nL 54.390625 54.6875 \r\nz\r\n\" id=\"DejaVuSans-103\"/>\r\n      <path d=\"M 54.890625 33.015625 \r\nL 54.890625 0 \r\nL 45.90625 0 \r\nL 45.90625 32.71875 \r\nQ 45.90625 40.484375 42.875 44.328125 \r\nQ 39.84375 48.1875 33.796875 48.1875 \r\nQ 26.515625 48.1875 22.3125 43.546875 \r\nQ 18.109375 38.921875 18.109375 30.90625 \r\nL 18.109375 0 \r\nL 9.078125 0 \r\nL 9.078125 75.984375 \r\nL 18.109375 75.984375 \r\nL 18.109375 46.1875 \r\nQ 21.34375 51.125 25.703125 53.5625 \r\nQ 30.078125 56 35.796875 56 \r\nQ 45.21875 56 50.046875 50.171875 \r\nQ 54.890625 44.34375 54.890625 33.015625 \r\nz\r\n\" id=\"DejaVuSans-104\"/>\r\n      <path d=\"M 18.3125 70.21875 \r\nL 18.3125 54.6875 \r\nL 36.8125 54.6875 \r\nL 36.8125 47.703125 \r\nL 18.3125 47.703125 \r\nL 18.3125 18.015625 \r\nQ 18.3125 11.328125 20.140625 9.421875 \r\nQ 21.96875 7.515625 27.59375 7.515625 \r\nL 36.8125 7.515625 \r\nL 36.8125 0 \r\nL 27.59375 0 \r\nQ 17.1875 0 13.234375 3.875 \r\nQ 9.28125 7.765625 9.28125 18.015625 \r\nL 9.28125 47.703125 \r\nL 2.6875 47.703125 \r\nL 2.6875 54.6875 \r\nL 9.28125 54.6875 \r\nL 9.28125 70.21875 \r\nz\r\n\" id=\"DejaVuSans-116\"/>\r\n     </defs>\r\n     <g transform=\"translate(76.908541 132.777812)rotate(-90)scale(0.1 -0.1)\">\r\n      <use xlink:href=\"#DejaVuSans-119\"/>\r\n      <use x=\"81.787109\" xlink:href=\"#DejaVuSans-101\"/>\r\n      <use x=\"143.310547\" xlink:href=\"#DejaVuSans-105\"/>\r\n      <use x=\"171.09375\" xlink:href=\"#DejaVuSans-103\"/>\r\n      <use x=\"234.570312\" xlink:href=\"#DejaVuSans-104\"/>\r\n      <use x=\"297.949219\" xlink:href=\"#DejaVuSans-116\"/>\r\n     </g>\r\n    </g>\r\n   </g>\r\n   <g id=\"text_2\">\r\n    <!-- Britney Spears -->\r\n    <defs>\r\n     <path d=\"M 19.671875 34.8125 \r\nL 19.671875 8.109375 \r\nL 35.5 8.109375 \r\nQ 43.453125 8.109375 47.28125 11.40625 \r\nQ 51.125 14.703125 51.125 21.484375 \r\nQ 51.125 28.328125 47.28125 31.5625 \r\nQ 43.453125 34.8125 35.5 34.8125 \r\nz\r\nM 19.671875 64.796875 \r\nL 19.671875 42.828125 \r\nL 34.28125 42.828125 \r\nQ 41.5 42.828125 45.03125 45.53125 \r\nQ 48.578125 48.25 48.578125 53.8125 \r\nQ 48.578125 59.328125 45.03125 62.0625 \r\nQ 41.5 64.796875 34.28125 64.796875 \r\nz\r\nM 9.8125 72.90625 \r\nL 35.015625 72.90625 \r\nQ 46.296875 72.90625 52.390625 68.21875 \r\nQ 58.5 63.53125 58.5 54.890625 \r\nQ 58.5 48.1875 55.375 44.234375 \r\nQ 52.25 40.28125 46.1875 39.3125 \r\nQ 53.46875 37.75 57.5 32.78125 \r\nQ 61.53125 27.828125 61.53125 20.40625 \r\nQ 61.53125 10.640625 54.890625 5.3125 \r\nQ 48.25 0 35.984375 0 \r\nL 9.8125 0 \r\nz\r\n\" id=\"DejaVuSans-66\"/>\r\n     <path d=\"M 41.109375 46.296875 \r\nQ 39.59375 47.171875 37.8125 47.578125 \r\nQ 36.03125 48 33.890625 48 \r\nQ 26.265625 48 22.1875 43.046875 \r\nQ 18.109375 38.09375 18.109375 28.8125 \r\nL 18.109375 0 \r\nL 9.078125 0 \r\nL 9.078125 54.6875 \r\nL 18.109375 54.6875 \r\nL 18.109375 46.1875 \r\nQ 20.953125 51.171875 25.484375 53.578125 \r\nQ 30.03125 56 36.53125 56 \r\nQ 37.453125 56 38.578125 55.875 \r\nQ 39.703125 55.765625 41.0625 55.515625 \r\nz\r\n\" id=\"DejaVuSans-114\"/>\r\n     <path d=\"M 54.890625 33.015625 \r\nL 54.890625 0 \r\nL 45.90625 0 \r\nL 45.90625 32.71875 \r\nQ 45.90625 40.484375 42.875 44.328125 \r\nQ 39.84375 48.1875 33.796875 48.1875 \r\nQ 26.515625 48.1875 22.3125 43.546875 \r\nQ 18.109375 38.921875 18.109375 30.90625 \r\nL 18.109375 0 \r\nL 9.078125 0 \r\nL 9.078125 54.6875 \r\nL 18.109375 54.6875 \r\nL 18.109375 46.1875 \r\nQ 21.34375 51.125 25.703125 53.5625 \r\nQ 30.078125 56 35.796875 56 \r\nQ 45.21875 56 50.046875 50.171875 \r\nQ 54.890625 44.34375 54.890625 33.015625 \r\nz\r\n\" id=\"DejaVuSans-110\"/>\r\n     <path d=\"M 32.171875 -5.078125 \r\nQ 28.375 -14.84375 24.75 -17.8125 \r\nQ 21.140625 -20.796875 15.09375 -20.796875 \r\nL 7.90625 -20.796875 \r\nL 7.90625 -13.28125 \r\nL 13.1875 -13.28125 \r\nQ 16.890625 -13.28125 18.9375 -11.515625 \r\nQ 21 -9.765625 23.484375 -3.21875 \r\nL 25.09375 0.875 \r\nL 2.984375 54.6875 \r\nL 12.5 54.6875 \r\nL 29.59375 11.921875 \r\nL 46.6875 54.6875 \r\nL 56.203125 54.6875 \r\nz\r\n\" id=\"DejaVuSans-121\"/>\r\n     <path id=\"DejaVuSans-32\"/>\r\n     <path d=\"M 53.515625 70.515625 \r\nL 53.515625 60.890625 \r\nQ 47.90625 63.578125 42.921875 64.890625 \r\nQ 37.9375 66.21875 33.296875 66.21875 \r\nQ 25.25 66.21875 20.875 63.09375 \r\nQ 16.5 59.96875 16.5 54.203125 \r\nQ 16.5 49.359375 19.40625 46.890625 \r\nQ 22.3125 44.4375 30.421875 42.921875 \r\nL 36.375 41.703125 \r\nQ 47.40625 39.59375 52.65625 34.296875 \r\nQ 57.90625 29 57.90625 20.125 \r\nQ 57.90625 9.515625 50.796875 4.046875 \r\nQ 43.703125 -1.421875 29.984375 -1.421875 \r\nQ 24.8125 -1.421875 18.96875 -0.25 \r\nQ 13.140625 0.921875 6.890625 3.21875 \r\nL 6.890625 13.375 \r\nQ 12.890625 10.015625 18.65625 8.296875 \r\nQ 24.421875 6.59375 29.984375 6.59375 \r\nQ 38.421875 6.59375 43.015625 9.90625 \r\nQ 47.609375 13.234375 47.609375 19.390625 \r\nQ 47.609375 24.75 44.3125 27.78125 \r\nQ 41.015625 30.8125 33.5 32.328125 \r\nL 27.484375 33.5 \r\nQ 16.453125 35.6875 11.515625 40.375 \r\nQ 6.59375 45.0625 6.59375 53.421875 \r\nQ 6.59375 63.09375 13.40625 68.65625 \r\nQ 20.21875 74.21875 32.171875 74.21875 \r\nQ 37.3125 74.21875 42.625 73.28125 \r\nQ 47.953125 72.359375 53.515625 70.515625 \r\nz\r\n\" id=\"DejaVuSans-83\"/>\r\n     <path d=\"M 18.109375 8.203125 \r\nL 18.109375 -20.796875 \r\nL 9.078125 -20.796875 \r\nL 9.078125 54.6875 \r\nL 18.109375 54.6875 \r\nL 18.109375 46.390625 \r\nQ 20.953125 51.265625 25.265625 53.625 \r\nQ 29.59375 56 35.59375 56 \r\nQ 45.5625 56 51.78125 48.09375 \r\nQ 58.015625 40.1875 58.015625 27.296875 \r\nQ 58.015625 14.40625 51.78125 6.484375 \r\nQ 45.5625 -1.421875 35.59375 -1.421875 \r\nQ 29.59375 -1.421875 25.265625 0.953125 \r\nQ 20.953125 3.328125 18.109375 8.203125 \r\nz\r\nM 48.6875 27.296875 \r\nQ 48.6875 37.203125 44.609375 42.84375 \r\nQ 40.53125 48.484375 33.40625 48.484375 \r\nQ 26.265625 48.484375 22.1875 42.84375 \r\nQ 18.109375 37.203125 18.109375 27.296875 \r\nQ 18.109375 17.390625 22.1875 11.75 \r\nQ 26.265625 6.109375 33.40625 6.109375 \r\nQ 40.53125 6.109375 44.609375 11.75 \r\nQ 48.6875 17.390625 48.6875 27.296875 \r\nz\r\n\" id=\"DejaVuSans-112\"/>\r\n     <path d=\"M 34.28125 27.484375 \r\nQ 23.390625 27.484375 19.1875 25 \r\nQ 14.984375 22.515625 14.984375 16.5 \r\nQ 14.984375 11.71875 18.140625 8.90625 \r\nQ 21.296875 6.109375 26.703125 6.109375 \r\nQ 34.1875 6.109375 38.703125 11.40625 \r\nQ 43.21875 16.703125 43.21875 25.484375 \r\nL 43.21875 27.484375 \r\nz\r\nM 52.203125 31.203125 \r\nL 52.203125 0 \r\nL 43.21875 0 \r\nL 43.21875 8.296875 \r\nQ 40.140625 3.328125 35.546875 0.953125 \r\nQ 30.953125 -1.421875 24.3125 -1.421875 \r\nQ 15.921875 -1.421875 10.953125 3.296875 \r\nQ 6 8.015625 6 15.921875 \r\nQ 6 25.140625 12.171875 29.828125 \r\nQ 18.359375 34.515625 30.609375 34.515625 \r\nL 43.21875 34.515625 \r\nL 43.21875 35.40625 \r\nQ 43.21875 41.609375 39.140625 45 \r\nQ 35.0625 48.390625 27.6875 48.390625 \r\nQ 23 48.390625 18.546875 47.265625 \r\nQ 14.109375 46.140625 10.015625 43.890625 \r\nL 10.015625 52.203125 \r\nQ 14.9375 54.109375 19.578125 55.046875 \r\nQ 24.21875 56 28.609375 56 \r\nQ 40.484375 56 46.34375 49.84375 \r\nQ 52.203125 43.703125 52.203125 31.203125 \r\nz\r\n\" id=\"DejaVuSans-97\"/>\r\n     <path d=\"M 44.28125 53.078125 \r\nL 44.28125 44.578125 \r\nQ 40.484375 46.53125 36.375 47.5 \r\nQ 32.28125 48.484375 27.875 48.484375 \r\nQ 21.1875 48.484375 17.84375 46.4375 \r\nQ 14.5 44.390625 14.5 40.28125 \r\nQ 14.5 37.15625 16.890625 35.375 \r\nQ 19.28125 33.59375 26.515625 31.984375 \r\nL 29.59375 31.296875 \r\nQ 39.15625 29.25 43.1875 25.515625 \r\nQ 47.21875 21.78125 47.21875 15.09375 \r\nQ 47.21875 7.46875 41.1875 3.015625 \r\nQ 35.15625 -1.421875 24.609375 -1.421875 \r\nQ 20.21875 -1.421875 15.453125 -0.5625 \r\nQ 10.6875 0.296875 5.421875 2 \r\nL 5.421875 11.28125 \r\nQ 10.40625 8.6875 15.234375 7.390625 \r\nQ 20.0625 6.109375 24.8125 6.109375 \r\nQ 31.15625 6.109375 34.5625 8.28125 \r\nQ 37.984375 10.453125 37.984375 14.40625 \r\nQ 37.984375 18.0625 35.515625 20.015625 \r\nQ 33.0625 21.96875 24.703125 23.78125 \r\nL 21.578125 24.515625 \r\nQ 13.234375 26.265625 9.515625 29.90625 \r\nQ 5.8125 33.546875 5.8125 39.890625 \r\nQ 5.8125 47.609375 11.28125 51.796875 \r\nQ 16.75 56 26.8125 56 \r\nQ 31.78125 56 36.171875 55.265625 \r\nQ 40.578125 54.546875 44.28125 53.078125 \r\nz\r\n\" id=\"DejaVuSans-115\"/>\r\n    </defs>\r\n    <g transform=\"translate(264.791219 56.935434)scale(0.1 -0.1)\">\r\n     <use xlink:href=\"#DejaVuSans-66\"/>\r\n     <use x=\"68.603516\" xlink:href=\"#DejaVuSans-114\"/>\r\n     <use x=\"109.716797\" xlink:href=\"#DejaVuSans-105\"/>\r\n     <use x=\"137.5\" xlink:href=\"#DejaVuSans-116\"/>\r\n     <use x=\"176.708984\" xlink:href=\"#DejaVuSans-110\"/>\r\n     <use x=\"240.087891\" xlink:href=\"#DejaVuSans-101\"/>\r\n     <use x=\"301.611328\" xlink:href=\"#DejaVuSans-121\"/>\r\n     <use x=\"360.791016\" xlink:href=\"#DejaVuSans-32\"/>\r\n     <use x=\"392.578125\" xlink:href=\"#DejaVuSans-83\"/>\r\n     <use x=\"456.054688\" xlink:href=\"#DejaVuSans-112\"/>\r\n     <use x=\"519.53125\" xlink:href=\"#DejaVuSans-101\"/>\r\n     <use x=\"581.054688\" xlink:href=\"#DejaVuSans-97\"/>\r\n     <use x=\"642.333984\" xlink:href=\"#DejaVuSans-114\"/>\r\n     <use x=\"683.447266\" xlink:href=\"#DejaVuSans-115\"/>\r\n    </g>\r\n   </g>\r\n   <g id=\"text_3\">\r\n    <!-- Depeche Mode -->\r\n    <defs>\r\n     <path d=\"M 19.671875 64.796875 \r\nL 19.671875 8.109375 \r\nL 31.59375 8.109375 \r\nQ 46.6875 8.109375 53.6875 14.9375 \r\nQ 60.6875 21.78125 60.6875 36.53125 \r\nQ 60.6875 51.171875 53.6875 57.984375 \r\nQ 46.6875 64.796875 31.59375 64.796875 \r\nz\r\nM 9.8125 72.90625 \r\nL 30.078125 72.90625 \r\nQ 51.265625 72.90625 61.171875 64.09375 \r\nQ 71.09375 55.28125 71.09375 36.53125 \r\nQ 71.09375 17.671875 61.125 8.828125 \r\nQ 51.171875 0 30.078125 0 \r\nL 9.8125 0 \r\nz\r\n\" id=\"DejaVuSans-68\"/>\r\n     <path d=\"M 48.78125 52.59375 \r\nL 48.78125 44.1875 \r\nQ 44.96875 46.296875 41.140625 47.34375 \r\nQ 37.3125 48.390625 33.40625 48.390625 \r\nQ 24.65625 48.390625 19.8125 42.84375 \r\nQ 14.984375 37.3125 14.984375 27.296875 \r\nQ 14.984375 17.28125 19.8125 11.734375 \r\nQ 24.65625 6.203125 33.40625 6.203125 \r\nQ 37.3125 6.203125 41.140625 7.25 \r\nQ 44.96875 8.296875 48.78125 10.40625 \r\nL 48.78125 2.09375 \r\nQ 45.015625 0.34375 40.984375 -0.53125 \r\nQ 36.96875 -1.421875 32.421875 -1.421875 \r\nQ 20.0625 -1.421875 12.78125 6.34375 \r\nQ 5.515625 14.109375 5.515625 27.296875 \r\nQ 5.515625 40.671875 12.859375 48.328125 \r\nQ 20.21875 56 33.015625 56 \r\nQ 37.15625 56 41.109375 55.140625 \r\nQ 45.0625 54.296875 48.78125 52.59375 \r\nz\r\n\" id=\"DejaVuSans-99\"/>\r\n     <path d=\"M 9.8125 72.90625 \r\nL 24.515625 72.90625 \r\nL 43.109375 23.296875 \r\nL 61.8125 72.90625 \r\nL 76.515625 72.90625 \r\nL 76.515625 0 \r\nL 66.890625 0 \r\nL 66.890625 64.015625 \r\nL 48.09375 14.015625 \r\nL 38.1875 14.015625 \r\nL 19.390625 64.015625 \r\nL 19.390625 0 \r\nL 9.8125 0 \r\nz\r\n\" id=\"DejaVuSans-77\"/>\r\n     <path d=\"M 30.609375 48.390625 \r\nQ 23.390625 48.390625 19.1875 42.75 \r\nQ 14.984375 37.109375 14.984375 27.296875 \r\nQ 14.984375 17.484375 19.15625 11.84375 \r\nQ 23.34375 6.203125 30.609375 6.203125 \r\nQ 37.796875 6.203125 41.984375 11.859375 \r\nQ 46.1875 17.53125 46.1875 27.296875 \r\nQ 46.1875 37.015625 41.984375 42.703125 \r\nQ 37.796875 48.390625 30.609375 48.390625 \r\nz\r\nM 30.609375 56 \r\nQ 42.328125 56 49.015625 48.375 \r\nQ 55.71875 40.765625 55.71875 27.296875 \r\nQ 55.71875 13.875 49.015625 6.21875 \r\nQ 42.328125 -1.421875 30.609375 -1.421875 \r\nQ 18.84375 -1.421875 12.171875 6.21875 \r\nQ 5.515625 13.875 5.515625 27.296875 \r\nQ 5.515625 40.765625 12.171875 48.375 \r\nQ 18.84375 56 30.609375 56 \r\nz\r\n\" id=\"DejaVuSans-111\"/>\r\n     <path d=\"M 45.40625 46.390625 \r\nL 45.40625 75.984375 \r\nL 54.390625 75.984375 \r\nL 54.390625 0 \r\nL 45.40625 0 \r\nL 45.40625 8.203125 \r\nQ 42.578125 3.328125 38.25 0.953125 \r\nQ 33.9375 -1.421875 27.875 -1.421875 \r\nQ 17.96875 -1.421875 11.734375 6.484375 \r\nQ 5.515625 14.40625 5.515625 27.296875 \r\nQ 5.515625 40.1875 11.734375 48.09375 \r\nQ 17.96875 56 27.875 56 \r\nQ 33.9375 56 38.25 53.625 \r\nQ 42.578125 51.265625 45.40625 46.390625 \r\nz\r\nM 14.796875 27.296875 \r\nQ 14.796875 17.390625 18.875 11.75 \r\nQ 22.953125 6.109375 30.078125 6.109375 \r\nQ 37.203125 6.109375 41.296875 11.75 \r\nQ 45.40625 17.390625 45.40625 27.296875 \r\nQ 45.40625 37.203125 41.296875 42.84375 \r\nQ 37.203125 48.484375 30.078125 48.484375 \r\nQ 22.953125 48.484375 18.875 42.84375 \r\nQ 14.796875 37.203125 14.796875 27.296875 \r\nz\r\n\" id=\"DejaVuSans-100\"/>\r\n    </defs>\r\n    <g transform=\"translate(96.65312 25.1809)scale(0.1 -0.1)\">\r\n     <use xlink:href=\"#DejaVuSans-68\"/>\r\n     <use x=\"77.001953\" xlink:href=\"#DejaVuSans-101\"/>\r\n     <use x=\"138.525391\" xlink:href=\"#DejaVuSans-112\"/>\r\n     <use x=\"202.001953\" xlink:href=\"#DejaVuSans-101\"/>\r\n     <use x=\"263.525391\" xlink:href=\"#DejaVuSans-99\"/>\r\n     <use x=\"318.505859\" xlink:href=\"#DejaVuSans-104\"/>\r\n     <use x=\"381.884766\" xlink:href=\"#DejaVuSans-101\"/>\r\n     <use x=\"443.408203\" xlink:href=\"#DejaVuSans-32\"/>\r\n     <use x=\"475.195312\" xlink:href=\"#DejaVuSans-77\"/>\r\n     <use x=\"561.474609\" xlink:href=\"#DejaVuSans-111\"/>\r\n     <use x=\"622.65625\" xlink:href=\"#DejaVuSans-100\"/>\r\n     <use x=\"686.132812\" xlink:href=\"#DejaVuSans-101\"/>\r\n    </g>\r\n   </g>\r\n   <g id=\"text_4\">\r\n    <!-- Lady Gaga -->\r\n    <defs>\r\n     <path d=\"M 9.8125 72.90625 \r\nL 19.671875 72.90625 \r\nL 19.671875 8.296875 \r\nL 55.171875 8.296875 \r\nL 55.171875 0 \r\nL 9.8125 0 \r\nz\r\n\" id=\"DejaVuSans-76\"/>\r\n     <path d=\"M 59.515625 10.40625 \r\nL 59.515625 29.984375 \r\nL 43.40625 29.984375 \r\nL 43.40625 38.09375 \r\nL 69.28125 38.09375 \r\nL 69.28125 6.78125 \r\nQ 63.578125 2.734375 56.6875 0.65625 \r\nQ 49.8125 -1.421875 42 -1.421875 \r\nQ 24.90625 -1.421875 15.25 8.5625 \r\nQ 5.609375 18.5625 5.609375 36.375 \r\nQ 5.609375 54.25 15.25 64.234375 \r\nQ 24.90625 74.21875 42 74.21875 \r\nQ 49.125 74.21875 55.546875 72.453125 \r\nQ 61.96875 70.703125 67.390625 67.28125 \r\nL 67.390625 56.78125 \r\nQ 61.921875 61.421875 55.765625 63.765625 \r\nQ 49.609375 66.109375 42.828125 66.109375 \r\nQ 29.4375 66.109375 22.71875 58.640625 \r\nQ 16.015625 51.171875 16.015625 36.375 \r\nQ 16.015625 21.625 22.71875 14.15625 \r\nQ 29.4375 6.6875 42.828125 6.6875 \r\nQ 48.046875 6.6875 52.140625 7.59375 \r\nQ 56.25 8.5 59.515625 10.40625 \r\nz\r\n\" id=\"DejaVuSans-71\"/>\r\n    </defs>\r\n    <g transform=\"translate(59.094079 64.882145)scale(0.1 -0.1)\">\r\n     <use xlink:href=\"#DejaVuSans-76\"/>\r\n     <use x=\"55.712891\" xlink:href=\"#DejaVuSans-97\"/>\r\n     <use x=\"116.992188\" xlink:href=\"#DejaVuSans-100\"/>\r\n     <use x=\"180.46875\" xlink:href=\"#DejaVuSans-121\"/>\r\n     <use x=\"239.648438\" xlink:href=\"#DejaVuSans-32\"/>\r\n     <use x=\"271.435547\" xlink:href=\"#DejaVuSans-71\"/>\r\n     <use x=\"348.925781\" xlink:href=\"#DejaVuSans-97\"/>\r\n     <use x=\"410.205078\" xlink:href=\"#DejaVuSans-103\"/>\r\n     <use x=\"473.681641\" xlink:href=\"#DejaVuSans-97\"/>\r\n    </g>\r\n   </g>\r\n   <g id=\"text_5\">\r\n    <!-- Christina Aguilera -->\r\n    <defs>\r\n     <path d=\"M 64.40625 67.28125 \r\nL 64.40625 56.890625 \r\nQ 59.421875 61.53125 53.78125 63.8125 \r\nQ 48.140625 66.109375 41.796875 66.109375 \r\nQ 29.296875 66.109375 22.65625 58.46875 \r\nQ 16.015625 50.828125 16.015625 36.375 \r\nQ 16.015625 21.96875 22.65625 14.328125 \r\nQ 29.296875 6.6875 41.796875 6.6875 \r\nQ 48.140625 6.6875 53.78125 8.984375 \r\nQ 59.421875 11.28125 64.40625 15.921875 \r\nL 64.40625 5.609375 \r\nQ 59.234375 2.09375 53.4375 0.328125 \r\nQ 47.65625 -1.421875 41.21875 -1.421875 \r\nQ 24.65625 -1.421875 15.125 8.703125 \r\nQ 5.609375 18.84375 5.609375 36.375 \r\nQ 5.609375 53.953125 15.125 64.078125 \r\nQ 24.65625 74.21875 41.21875 74.21875 \r\nQ 47.75 74.21875 53.53125 72.484375 \r\nQ 59.328125 70.75 64.40625 67.28125 \r\nz\r\n\" id=\"DejaVuSans-67\"/>\r\n     <path d=\"M 34.1875 63.1875 \r\nL 20.796875 26.90625 \r\nL 47.609375 26.90625 \r\nz\r\nM 28.609375 72.90625 \r\nL 39.796875 72.90625 \r\nL 67.578125 0 \r\nL 57.328125 0 \r\nL 50.6875 18.703125 \r\nL 17.828125 18.703125 \r\nL 11.1875 0 \r\nL 0.78125 0 \r\nz\r\n\" id=\"DejaVuSans-65\"/>\r\n     <path d=\"M 8.5 21.578125 \r\nL 8.5 54.6875 \r\nL 17.484375 54.6875 \r\nL 17.484375 21.921875 \r\nQ 17.484375 14.15625 20.5 10.265625 \r\nQ 23.53125 6.390625 29.59375 6.390625 \r\nQ 36.859375 6.390625 41.078125 11.03125 \r\nQ 45.3125 15.671875 45.3125 23.6875 \r\nL 45.3125 54.6875 \r\nL 54.296875 54.6875 \r\nL 54.296875 0 \r\nL 45.3125 0 \r\nL 45.3125 8.40625 \r\nQ 42.046875 3.421875 37.71875 1 \r\nQ 33.40625 -1.421875 27.6875 -1.421875 \r\nQ 18.265625 -1.421875 13.375 4.4375 \r\nQ 8.5 10.296875 8.5 21.578125 \r\nz\r\nM 31.109375 56 \r\nz\r\n\" id=\"DejaVuSans-117\"/>\r\n     <path d=\"M 9.421875 75.984375 \r\nL 18.40625 75.984375 \r\nL 18.40625 0 \r\nL 9.421875 0 \r\nz\r\n\" id=\"DejaVuSans-108\"/>\r\n    </defs>\r\n    <g transform=\"translate(7.2 127.433139)scale(0.1 -0.1)\">\r\n     <use xlink:href=\"#DejaVuSans-67\"/>\r\n     <use x=\"69.824219\" xlink:href=\"#DejaVuSans-104\"/>\r\n     <use x=\"133.203125\" xlink:href=\"#DejaVuSans-114\"/>\r\n     <use x=\"174.316406\" xlink:href=\"#DejaVuSans-105\"/>\r\n     <use x=\"202.099609\" xlink:href=\"#DejaVuSans-115\"/>\r\n     <use x=\"254.199219\" xlink:href=\"#DejaVuSans-116\"/>\r\n     <use x=\"293.408203\" xlink:href=\"#DejaVuSans-105\"/>\r\n     <use x=\"321.191406\" xlink:href=\"#DejaVuSans-110\"/>\r\n     <use x=\"384.570312\" xlink:href=\"#DejaVuSans-97\"/>\r\n     <use x=\"445.849609\" xlink:href=\"#DejaVuSans-32\"/>\r\n     <use x=\"477.636719\" xlink:href=\"#DejaVuSans-65\"/>\r\n     <use x=\"546.044922\" xlink:href=\"#DejaVuSans-103\"/>\r\n     <use x=\"609.521484\" xlink:href=\"#DejaVuSans-117\"/>\r\n     <use x=\"672.900391\" xlink:href=\"#DejaVuSans-105\"/>\r\n     <use x=\"700.683594\" xlink:href=\"#DejaVuSans-108\"/>\r\n     <use x=\"728.466797\" xlink:href=\"#DejaVuSans-101\"/>\r\n     <use x=\"789.990234\" xlink:href=\"#DejaVuSans-114\"/>\r\n     <use x=\"831.103516\" xlink:href=\"#DejaVuSans-97\"/>\r\n    </g>\r\n   </g>\r\n   <g id=\"text_6\">\r\n    <!-- Paramore -->\r\n    <defs>\r\n     <path d=\"M 19.671875 64.796875 \r\nL 19.671875 37.40625 \r\nL 32.078125 37.40625 \r\nQ 38.96875 37.40625 42.71875 40.96875 \r\nQ 46.484375 44.53125 46.484375 51.125 \r\nQ 46.484375 57.671875 42.71875 61.234375 \r\nQ 38.96875 64.796875 32.078125 64.796875 \r\nz\r\nM 9.8125 72.90625 \r\nL 32.078125 72.90625 \r\nQ 44.34375 72.90625 50.609375 67.359375 \r\nQ 56.890625 61.8125 56.890625 51.125 \r\nQ 56.890625 40.328125 50.609375 34.8125 \r\nQ 44.34375 29.296875 32.078125 29.296875 \r\nL 19.671875 29.296875 \r\nL 19.671875 0 \r\nL 9.8125 0 \r\nz\r\n\" id=\"DejaVuSans-80\"/>\r\n     <path d=\"M 52 44.1875 \r\nQ 55.375 50.25 60.0625 53.125 \r\nQ 64.75 56 71.09375 56 \r\nQ 79.640625 56 84.28125 50.015625 \r\nQ 88.921875 44.046875 88.921875 33.015625 \r\nL 88.921875 0 \r\nL 79.890625 0 \r\nL 79.890625 32.71875 \r\nQ 79.890625 40.578125 77.09375 44.375 \r\nQ 74.3125 48.1875 68.609375 48.1875 \r\nQ 61.625 48.1875 57.5625 43.546875 \r\nQ 53.515625 38.921875 53.515625 30.90625 \r\nL 53.515625 0 \r\nL 44.484375 0 \r\nL 44.484375 32.71875 \r\nQ 44.484375 40.625 41.703125 44.40625 \r\nQ 38.921875 48.1875 33.109375 48.1875 \r\nQ 26.21875 48.1875 22.15625 43.53125 \r\nQ 18.109375 38.875 18.109375 30.90625 \r\nL 18.109375 0 \r\nL 9.078125 0 \r\nL 9.078125 54.6875 \r\nL 18.109375 54.6875 \r\nL 18.109375 46.1875 \r\nQ 21.1875 51.21875 25.484375 53.609375 \r\nQ 29.78125 56 35.6875 56 \r\nQ 41.65625 56 45.828125 52.96875 \r\nQ 50 49.953125 52 44.1875 \r\nz\r\n\" id=\"DejaVuSans-109\"/>\r\n    </defs>\r\n    <g transform=\"translate(69.728198 179.15649)scale(0.1 -0.1)\">\r\n     <use xlink:href=\"#DejaVuSans-80\"/>\r\n     <use x=\"55.802734\" xlink:href=\"#DejaVuSans-97\"/>\r\n     <use x=\"117.082031\" xlink:href=\"#DejaVuSans-114\"/>\r\n     <use x=\"158.195312\" xlink:href=\"#DejaVuSans-97\"/>\r\n     <use x=\"219.474609\" xlink:href=\"#DejaVuSans-109\"/>\r\n     <use x=\"316.886719\" xlink:href=\"#DejaVuSans-111\"/>\r\n     <use x=\"378.068359\" xlink:href=\"#DejaVuSans-114\"/>\r\n     <use x=\"416.931641\" xlink:href=\"#DejaVuSans-101\"/>\r\n    </g>\r\n   </g>\r\n   <g id=\"text_7\">\r\n    <!-- Madonna -->\r\n    <g transform=\"translate(114.311206 209.063732)scale(0.1 -0.1)\">\r\n     <use xlink:href=\"#DejaVuSans-77\"/>\r\n     <use x=\"86.279297\" xlink:href=\"#DejaVuSans-97\"/>\r\n     <use x=\"147.558594\" xlink:href=\"#DejaVuSans-100\"/>\r\n     <use x=\"211.035156\" xlink:href=\"#DejaVuSans-111\"/>\r\n     <use x=\"272.216797\" xlink:href=\"#DejaVuSans-110\"/>\r\n     <use x=\"335.595703\" xlink:href=\"#DejaVuSans-110\"/>\r\n     <use x=\"398.974609\" xlink:href=\"#DejaVuSans-97\"/>\r\n    </g>\r\n   </g>\r\n   <g id=\"text_8\">\r\n    <!-- Rihanna -->\r\n    <defs>\r\n     <path d=\"M 44.390625 34.1875 \r\nQ 47.5625 33.109375 50.5625 29.59375 \r\nQ 53.5625 26.078125 56.59375 19.921875 \r\nL 66.609375 0 \r\nL 56 0 \r\nL 46.6875 18.703125 \r\nQ 43.0625 26.03125 39.671875 28.421875 \r\nQ 36.28125 30.8125 30.421875 30.8125 \r\nL 19.671875 30.8125 \r\nL 19.671875 0 \r\nL 9.8125 0 \r\nL 9.8125 72.90625 \r\nL 32.078125 72.90625 \r\nQ 44.578125 72.90625 50.734375 67.671875 \r\nQ 56.890625 62.453125 56.890625 51.90625 \r\nQ 56.890625 45.015625 53.6875 40.46875 \r\nQ 50.484375 35.9375 44.390625 34.1875 \r\nz\r\nM 19.671875 64.796875 \r\nL 19.671875 38.921875 \r\nL 32.078125 38.921875 \r\nQ 39.203125 38.921875 42.84375 42.21875 \r\nQ 46.484375 45.515625 46.484375 51.90625 \r\nQ 46.484375 58.296875 42.84375 61.546875 \r\nQ 39.203125 64.796875 32.078125 64.796875 \r\nz\r\n\" id=\"DejaVuSans-82\"/>\r\n    </defs>\r\n    <g transform=\"translate(210.843415 212.41988)scale(0.1 -0.1)\">\r\n     <use xlink:href=\"#DejaVuSans-82\"/>\r\n     <use x=\"69.482422\" xlink:href=\"#DejaVuSans-105\"/>\r\n     <use x=\"97.265625\" xlink:href=\"#DejaVuSans-104\"/>\r\n     <use x=\"160.644531\" xlink:href=\"#DejaVuSans-97\"/>\r\n     <use x=\"221.923828\" xlink:href=\"#DejaVuSans-110\"/>\r\n     <use x=\"285.302734\" xlink:href=\"#DejaVuSans-110\"/>\r\n     <use x=\"348.681641\" xlink:href=\"#DejaVuSans-97\"/>\r\n    </g>\r\n   </g>\r\n   <g id=\"text_9\">\r\n    <!-- Shakira -->\r\n    <defs>\r\n     <path d=\"M 9.078125 75.984375 \r\nL 18.109375 75.984375 \r\nL 18.109375 31.109375 \r\nL 44.921875 54.6875 \r\nL 56.390625 54.6875 \r\nL 27.390625 29.109375 \r\nL 57.625 0 \r\nL 45.90625 0 \r\nL 18.109375 26.703125 \r\nL 18.109375 0 \r\nL 9.078125 0 \r\nz\r\n\" id=\"DejaVuSans-107\"/>\r\n    </defs>\r\n    <g transform=\"translate(251.014687 193.753882)scale(0.1 -0.1)\">\r\n     <use xlink:href=\"#DejaVuSans-83\"/>\r\n     <use x=\"63.476562\" xlink:href=\"#DejaVuSans-104\"/>\r\n     <use x=\"126.855469\" xlink:href=\"#DejaVuSans-97\"/>\r\n     <use x=\"188.134766\" xlink:href=\"#DejaVuSans-107\"/>\r\n     <use x=\"246.044922\" xlink:href=\"#DejaVuSans-105\"/>\r\n     <use x=\"273.828125\" xlink:href=\"#DejaVuSans-114\"/>\r\n     <use x=\"314.941406\" xlink:href=\"#DejaVuSans-97\"/>\r\n    </g>\r\n   </g>\r\n   <g id=\"text_10\">\r\n    <!-- The Beatles -->\r\n    <defs>\r\n     <path d=\"M -0.296875 72.90625 \r\nL 61.375 72.90625 \r\nL 61.375 64.59375 \r\nL 35.5 64.59375 \r\nL 35.5 0 \r\nL 25.59375 0 \r\nL 25.59375 64.59375 \r\nL -0.296875 64.59375 \r\nz\r\n\" id=\"DejaVuSans-84\"/>\r\n    </defs>\r\n    <g transform=\"translate(275.379474 165.075069)scale(0.1 -0.1)\">\r\n     <use xlink:href=\"#DejaVuSans-84\"/>\r\n     <use x=\"61.083984\" xlink:href=\"#DejaVuSans-104\"/>\r\n     <use x=\"124.462891\" xlink:href=\"#DejaVuSans-101\"/>\r\n     <use x=\"185.986328\" xlink:href=\"#DejaVuSans-32\"/>\r\n     <use x=\"217.773438\" xlink:href=\"#DejaVuSans-66\"/>\r\n     <use x=\"286.376953\" xlink:href=\"#DejaVuSans-101\"/>\r\n     <use x=\"347.900391\" xlink:href=\"#DejaVuSans-97\"/>\r\n     <use x=\"409.179688\" xlink:href=\"#DejaVuSans-116\"/>\r\n     <use x=\"448.388672\" xlink:href=\"#DejaVuSans-108\"/>\r\n     <use x=\"476.171875\" xlink:href=\"#DejaVuSans-101\"/>\r\n     <use x=\"537.695312\" xlink:href=\"#DejaVuSans-115\"/>\r\n    </g>\r\n   </g>\r\n   <g id=\"text_11\">\r\n    <!-- Katy Perry -->\r\n    <defs>\r\n     <path d=\"M 9.8125 72.90625 \r\nL 19.671875 72.90625 \r\nL 19.671875 42.09375 \r\nL 52.390625 72.90625 \r\nL 65.09375 72.90625 \r\nL 28.90625 38.921875 \r\nL 67.671875 0 \r\nL 54.6875 0 \r\nL 19.671875 35.109375 \r\nL 19.671875 0 \r\nL 9.8125 0 \r\nz\r\n\" id=\"DejaVuSans-75\"/>\r\n    </defs>\r\n    <g transform=\"translate(286.21849 133.553784)scale(0.1 -0.1)\">\r\n     <use xlink:href=\"#DejaVuSans-75\"/>\r\n     <use x=\"63.826172\" xlink:href=\"#DejaVuSans-97\"/>\r\n     <use x=\"125.105469\" xlink:href=\"#DejaVuSans-116\"/>\r\n     <use x=\"164.314453\" xlink:href=\"#DejaVuSans-121\"/>\r\n     <use x=\"223.494141\" xlink:href=\"#DejaVuSans-32\"/>\r\n     <use x=\"255.28125\" xlink:href=\"#DejaVuSans-80\"/>\r\n     <use x=\"311.958984\" xlink:href=\"#DejaVuSans-101\"/>\r\n     <use x=\"373.482422\" xlink:href=\"#DejaVuSans-114\"/>\r\n     <use x=\"412.845703\" xlink:href=\"#DejaVuSans-114\"/>\r\n     <use x=\"453.958984\" xlink:href=\"#DejaVuSans-121\"/>\r\n    </g>\r\n   </g>\r\n  </g>\r\n </g>\r\n</svg>\r\n",
      "image/png": "[encoded data removed]"
     },
     "metadata": {}
    }
   ],
   "source": [
    "artist_plays.head(10).set_index(\"name\")[\"weight\"].plot.pie()"
   ]
  },
  {
   "cell_type": "markdown",
   "metadata": {},
   "source": [
    "### 1.2. Distribución de cantidad de listens por user"
   ]
  },
  {
   "cell_type": "code",
   "execution_count": 9,
   "metadata": {},
   "outputs": [
    {
     "output_type": "execute_result",
     "data": {
      "text/plain": [
       "<matplotlib.axes._subplots.AxesSubplot at 0x21b0f540c48>"
      ]
     },
     "metadata": {},
     "execution_count": 9
    },
    {
     "output_type": "display_data",
     "data": {
      "text/plain": "<Figure size 432x288 with 1 Axes>",
      "image/svg+xml": "<?xml version=\"1.0\" encoding=\"utf-8\" standalone=\"no\"?>\r\n<!DOCTYPE svg PUBLIC \"-//W3C//DTD SVG 1.1//EN\"\r\n  \"http://www.w3.org/Graphics/SVG/1.1/DTD/svg11.dtd\">\r\n<!-- Created with matplotlib (https://matplotlib.org/) -->\r\n<svg height=\"248.518125pt\" version=\"1.1\" viewBox=\"0 0 398.175458 248.518125\" width=\"398.175458pt\" xmlns=\"http://www.w3.org/2000/svg\" xmlns:xlink=\"http://www.w3.org/1999/xlink\">\r\n <defs>\r\n  <style type=\"text/css\">\r\n*{stroke-linecap:butt;stroke-linejoin:round;}\r\n  </style>\r\n </defs>\r\n <g id=\"figure_1\">\r\n  <g id=\"patch_1\">\r\n   <path d=\"M -0 248.518125 \r\nL 398.175458 248.518125 \r\nL 398.175458 0 \r\nL -0 0 \r\nz\r\n\" style=\"fill:none;\"/>\r\n  </g>\r\n  <g id=\"axes_1\">\r\n   <g id=\"patch_2\">\r\n    <path d=\"M 39.65 224.64 \r\nL 374.45 224.64 \r\nL 374.45 7.2 \r\nL 39.65 7.2 \r\nz\r\n\" style=\"fill:#ffffff;\"/>\r\n   </g>\r\n   <g id=\"patch_3\">\r\n    <path clip-path=\"url(#pceee0a1557)\" d=\"M 54.868182 224.64 \r\nL 70.086364 224.64 \r\nL 70.086364 17.554286 \r\nL 54.868182 17.554286 \r\nz\r\n\" style=\"fill:#1f77b4;\"/>\r\n   </g>\r\n   <g id=\"patch_4\">\r\n    <path clip-path=\"url(#pceee0a1557)\" d=\"M 70.086364 224.64 \r\nL 85.304545 224.64 \r\nL 85.304545 130.215398 \r\nL 70.086364 130.215398 \r\nz\r\n\" style=\"fill:#1f77b4;\"/>\r\n   </g>\r\n   <g id=\"patch_5\">\r\n    <path clip-path=\"url(#pceee0a1557)\" d=\"M 85.304545 224.64 \r\nL 100.522727 224.64 \r\nL 100.522727 189.990629 \r\nL 85.304545 189.990629 \r\nz\r\n\" style=\"fill:#1f77b4;\"/>\r\n   </g>\r\n   <g id=\"patch_6\">\r\n    <path clip-path=\"url(#pceee0a1557)\" d=\"M 100.522727 224.64 \r\nL 115.740909 224.64 \r\nL 115.740909 207.821884 \r\nL 100.522727 207.821884 \r\nz\r\n\" style=\"fill:#1f77b4;\"/>\r\n   </g>\r\n   <g id=\"patch_7\">\r\n    <path clip-path=\"url(#pceee0a1557)\" d=\"M 115.740909 224.64 \r\nL 130.959091 224.64 \r\nL 130.959091 215.521744 \r\nL 115.740909 215.521744 \r\nz\r\n\" style=\"fill:#1f77b4;\"/>\r\n   </g>\r\n   <g id=\"patch_8\">\r\n    <path clip-path=\"url(#pceee0a1557)\" d=\"M 130.959091 224.64 \r\nL 146.177273 224.64 \r\nL 146.177273 218.358535 \r\nL 130.959091 218.358535 \r\nz\r\n\" style=\"fill:#1f77b4;\"/>\r\n   </g>\r\n   <g id=\"patch_9\">\r\n    <path clip-path=\"url(#pceee0a1557)\" d=\"M 146.177273 224.64 \r\nL 161.395455 224.64 \r\nL 161.395455 220.587442 \r\nL 146.177273 220.587442 \r\nz\r\n\" style=\"fill:#1f77b4;\"/>\r\n   </g>\r\n   <g id=\"patch_10\">\r\n    <path clip-path=\"url(#pceee0a1557)\" d=\"M 161.395455 224.64 \r\nL 176.613636 224.64 \r\nL 176.613636 221.600581 \r\nL 161.395455 221.600581 \r\nz\r\n\" style=\"fill:#1f77b4;\"/>\r\n   </g>\r\n   <g id=\"patch_11\">\r\n    <path clip-path=\"url(#pceee0a1557)\" d=\"M 176.613636 224.64 \r\nL 191.831818 224.64 \r\nL 191.831818 223.424233 \r\nL 176.613636 223.424233 \r\nz\r\n\" style=\"fill:#1f77b4;\"/>\r\n   </g>\r\n   <g id=\"patch_12\">\r\n    <path clip-path=\"url(#pceee0a1557)\" d=\"M 191.831818 224.64 \r\nL 207.05 224.64 \r\nL 207.05 223.018977 \r\nL 191.831818 223.018977 \r\nz\r\n\" style=\"fill:#1f77b4;\"/>\r\n   </g>\r\n   <g id=\"patch_13\">\r\n    <path clip-path=\"url(#pceee0a1557)\" d=\"M 207.05 224.64 \r\nL 222.268182 224.64 \r\nL 222.268182 222.411093 \r\nL 207.05 222.411093 \r\nz\r\n\" style=\"fill:#1f77b4;\"/>\r\n   </g>\r\n   <g id=\"patch_14\">\r\n    <path clip-path=\"url(#pceee0a1557)\" d=\"M 222.268182 224.64 \r\nL 237.486364 224.64 \r\nL 237.486364 224.234744 \r\nL 222.268182 224.234744 \r\nz\r\n\" style=\"fill:#1f77b4;\"/>\r\n   </g>\r\n   <g id=\"patch_15\">\r\n    <path clip-path=\"url(#pceee0a1557)\" d=\"M 237.486364 224.64 \r\nL 252.704545 224.64 \r\nL 252.704545 224.234744 \r\nL 237.486364 224.234744 \r\nz\r\n\" style=\"fill:#1f77b4;\"/>\r\n   </g>\r\n   <g id=\"patch_16\">\r\n    <path clip-path=\"url(#pceee0a1557)\" d=\"M 252.704545 224.64 \r\nL 267.922727 224.64 \r\nL 267.922727 224.032116 \r\nL 252.704545 224.032116 \r\nz\r\n\" style=\"fill:#1f77b4;\"/>\r\n   </g>\r\n   <g id=\"patch_17\">\r\n    <path clip-path=\"url(#pceee0a1557)\" d=\"M 267.922727 224.64 \r\nL 283.140909 224.64 \r\nL 283.140909 224.234744 \r\nL 267.922727 224.234744 \r\nz\r\n\" style=\"fill:#1f77b4;\"/>\r\n   </g>\r\n   <g id=\"patch_18\">\r\n    <path clip-path=\"url(#pceee0a1557)\" d=\"M 283.140909 224.64 \r\nL 298.359091 224.64 \r\nL 298.359091 224.437372 \r\nL 283.140909 224.437372 \r\nz\r\n\" style=\"fill:#1f77b4;\"/>\r\n   </g>\r\n   <g id=\"patch_19\">\r\n    <path clip-path=\"url(#pceee0a1557)\" d=\"M 298.359091 224.64 \r\nL 313.577273 224.64 \r\nL 313.577273 224.437372 \r\nL 298.359091 224.437372 \r\nz\r\n\" style=\"fill:#1f77b4;\"/>\r\n   </g>\r\n   <g id=\"patch_20\">\r\n    <path clip-path=\"url(#pceee0a1557)\" d=\"M 313.577273 224.64 \r\nL 328.795455 224.64 \r\nL 328.795455 224.437372 \r\nL 313.577273 224.437372 \r\nz\r\n\" style=\"fill:#1f77b4;\"/>\r\n   </g>\r\n   <g id=\"patch_21\">\r\n    <path clip-path=\"url(#pceee0a1557)\" d=\"M 328.795455 224.64 \r\nL 344.013636 224.64 \r\nL 344.013636 224.64 \r\nL 328.795455 224.64 \r\nz\r\n\" style=\"fill:#1f77b4;\"/>\r\n   </g>\r\n   <g id=\"patch_22\">\r\n    <path clip-path=\"url(#pceee0a1557)\" d=\"M 344.013636 224.64 \r\nL 359.231818 224.64 \r\nL 359.231818 224.234744 \r\nL 344.013636 224.234744 \r\nz\r\n\" style=\"fill:#1f77b4;\"/>\r\n   </g>\r\n   <g id=\"matplotlib.axis_1\">\r\n    <g id=\"xtick_1\">\r\n     <g id=\"line2d_1\">\r\n      <path clip-path=\"url(#pceee0a1557)\" d=\"M 54.86628 224.64 \r\nL 54.86628 7.2 \r\n\" style=\"fill:none;stroke:#b0b0b0;stroke-linecap:square;stroke-width:0.8;\"/>\r\n     </g>\r\n     <g id=\"line2d_2\">\r\n      <defs>\r\n       <path d=\"M 0 0 \r\nL 0 3.5 \r\n\" id=\"m7cfd5629a9\" style=\"stroke:#000000;stroke-width:0.8;\"/>\r\n      </defs>\r\n      <g>\r\n       <use style=\"stroke:#000000;stroke-width:0.8;\" x=\"54.86628\" xlink:href=\"#m7cfd5629a9\" y=\"224.64\"/>\r\n      </g>\r\n     </g>\r\n     <g id=\"text_1\">\r\n      <!-- 0 -->\r\n      <defs>\r\n       <path d=\"M 31.78125 66.40625 \r\nQ 24.171875 66.40625 20.328125 58.90625 \r\nQ 16.5 51.421875 16.5 36.375 \r\nQ 16.5 21.390625 20.328125 13.890625 \r\nQ 24.171875 6.390625 31.78125 6.390625 \r\nQ 39.453125 6.390625 43.28125 13.890625 \r\nQ 47.125 21.390625 47.125 36.375 \r\nQ 47.125 51.421875 43.28125 58.90625 \r\nQ 39.453125 66.40625 31.78125 66.40625 \r\nz\r\nM 31.78125 74.21875 \r\nQ 44.046875 74.21875 50.515625 64.515625 \r\nQ 56.984375 54.828125 56.984375 36.375 \r\nQ 56.984375 17.96875 50.515625 8.265625 \r\nQ 44.046875 -1.421875 31.78125 -1.421875 \r\nQ 19.53125 -1.421875 13.0625 8.265625 \r\nQ 6.59375 17.96875 6.59375 36.375 \r\nQ 6.59375 54.828125 13.0625 64.515625 \r\nQ 19.53125 74.21875 31.78125 74.21875 \r\nz\r\n\" id=\"DejaVuSans-48\"/>\r\n      </defs>\r\n      <g transform=\"translate(51.68503 239.238437)scale(0.1 -0.1)\">\r\n       <use xlink:href=\"#DejaVuSans-48\"/>\r\n      </g>\r\n     </g>\r\n    </g>\r\n    <g id=\"xtick_2\">\r\n     <g id=\"line2d_3\">\r\n      <path clip-path=\"url(#pceee0a1557)\" d=\"M 118.270615 224.64 \r\nL 118.270615 7.2 \r\n\" style=\"fill:none;stroke:#b0b0b0;stroke-linecap:square;stroke-width:0.8;\"/>\r\n     </g>\r\n     <g id=\"line2d_4\">\r\n      <g>\r\n       <use style=\"stroke:#000000;stroke-width:0.8;\" x=\"118.270615\" xlink:href=\"#m7cfd5629a9\" y=\"224.64\"/>\r\n      </g>\r\n     </g>\r\n     <g id=\"text_2\">\r\n      <!-- 100000 -->\r\n      <defs>\r\n       <path d=\"M 12.40625 8.296875 \r\nL 28.515625 8.296875 \r\nL 28.515625 63.921875 \r\nL 10.984375 60.40625 \r\nL 10.984375 69.390625 \r\nL 28.421875 72.90625 \r\nL 38.28125 72.90625 \r\nL 38.28125 8.296875 \r\nL 54.390625 8.296875 \r\nL 54.390625 0 \r\nL 12.40625 0 \r\nz\r\n\" id=\"DejaVuSans-49\"/>\r\n      </defs>\r\n      <g transform=\"translate(99.183115 239.238437)scale(0.1 -0.1)\">\r\n       <use xlink:href=\"#DejaVuSans-49\"/>\r\n       <use x=\"63.623047\" xlink:href=\"#DejaVuSans-48\"/>\r\n       <use x=\"127.246094\" xlink:href=\"#DejaVuSans-48\"/>\r\n       <use x=\"190.869141\" xlink:href=\"#DejaVuSans-48\"/>\r\n       <use x=\"254.492188\" xlink:href=\"#DejaVuSans-48\"/>\r\n       <use x=\"318.115234\" xlink:href=\"#DejaVuSans-48\"/>\r\n      </g>\r\n     </g>\r\n    </g>\r\n    <g id=\"xtick_3\">\r\n     <g id=\"line2d_5\">\r\n      <path clip-path=\"url(#pceee0a1557)\" d=\"M 181.674951 224.64 \r\nL 181.674951 7.2 \r\n\" style=\"fill:none;stroke:#b0b0b0;stroke-linecap:square;stroke-width:0.8;\"/>\r\n     </g>\r\n     <g id=\"line2d_6\">\r\n      <g>\r\n       <use style=\"stroke:#000000;stroke-width:0.8;\" x=\"181.674951\" xlink:href=\"#m7cfd5629a9\" y=\"224.64\"/>\r\n      </g>\r\n     </g>\r\n     <g id=\"text_3\">\r\n      <!-- 200000 -->\r\n      <defs>\r\n       <path d=\"M 19.1875 8.296875 \r\nL 53.609375 8.296875 \r\nL 53.609375 0 \r\nL 7.328125 0 \r\nL 7.328125 8.296875 \r\nQ 12.9375 14.109375 22.625 23.890625 \r\nQ 32.328125 33.6875 34.8125 36.53125 \r\nQ 39.546875 41.84375 41.421875 45.53125 \r\nQ 43.3125 49.21875 43.3125 52.78125 \r\nQ 43.3125 58.59375 39.234375 62.25 \r\nQ 35.15625 65.921875 28.609375 65.921875 \r\nQ 23.96875 65.921875 18.8125 64.3125 \r\nQ 13.671875 62.703125 7.8125 59.421875 \r\nL 7.8125 69.390625 \r\nQ 13.765625 71.78125 18.9375 73 \r\nQ 24.125 74.21875 28.421875 74.21875 \r\nQ 39.75 74.21875 46.484375 68.546875 \r\nQ 53.21875 62.890625 53.21875 53.421875 \r\nQ 53.21875 48.921875 51.53125 44.890625 \r\nQ 49.859375 40.875 45.40625 35.40625 \r\nQ 44.1875 33.984375 37.640625 27.21875 \r\nQ 31.109375 20.453125 19.1875 8.296875 \r\nz\r\n\" id=\"DejaVuSans-50\"/>\r\n      </defs>\r\n      <g transform=\"translate(162.587451 239.238437)scale(0.1 -0.1)\">\r\n       <use xlink:href=\"#DejaVuSans-50\"/>\r\n       <use x=\"63.623047\" xlink:href=\"#DejaVuSans-48\"/>\r\n       <use x=\"127.246094\" xlink:href=\"#DejaVuSans-48\"/>\r\n       <use x=\"190.869141\" xlink:href=\"#DejaVuSans-48\"/>\r\n       <use x=\"254.492188\" xlink:href=\"#DejaVuSans-48\"/>\r\n       <use x=\"318.115234\" xlink:href=\"#DejaVuSans-48\"/>\r\n      </g>\r\n     </g>\r\n    </g>\r\n    <g id=\"xtick_4\">\r\n     <g id=\"line2d_7\">\r\n      <path clip-path=\"url(#pceee0a1557)\" d=\"M 245.079286 224.64 \r\nL 245.079286 7.2 \r\n\" style=\"fill:none;stroke:#b0b0b0;stroke-linecap:square;stroke-width:0.8;\"/>\r\n     </g>\r\n     <g id=\"line2d_8\">\r\n      <g>\r\n       <use style=\"stroke:#000000;stroke-width:0.8;\" x=\"245.079286\" xlink:href=\"#m7cfd5629a9\" y=\"224.64\"/>\r\n      </g>\r\n     </g>\r\n     <g id=\"text_4\">\r\n      <!-- 300000 -->\r\n      <defs>\r\n       <path d=\"M 40.578125 39.3125 \r\nQ 47.65625 37.796875 51.625 33 \r\nQ 55.609375 28.21875 55.609375 21.1875 \r\nQ 55.609375 10.40625 48.1875 4.484375 \r\nQ 40.765625 -1.421875 27.09375 -1.421875 \r\nQ 22.515625 -1.421875 17.65625 -0.515625 \r\nQ 12.796875 0.390625 7.625 2.203125 \r\nL 7.625 11.71875 \r\nQ 11.71875 9.328125 16.59375 8.109375 \r\nQ 21.484375 6.890625 26.8125 6.890625 \r\nQ 36.078125 6.890625 40.9375 10.546875 \r\nQ 45.796875 14.203125 45.796875 21.1875 \r\nQ 45.796875 27.640625 41.28125 31.265625 \r\nQ 36.765625 34.90625 28.71875 34.90625 \r\nL 20.21875 34.90625 \r\nL 20.21875 43.015625 \r\nL 29.109375 43.015625 \r\nQ 36.375 43.015625 40.234375 45.921875 \r\nQ 44.09375 48.828125 44.09375 54.296875 \r\nQ 44.09375 59.90625 40.109375 62.90625 \r\nQ 36.140625 65.921875 28.71875 65.921875 \r\nQ 24.65625 65.921875 20.015625 65.03125 \r\nQ 15.375 64.15625 9.8125 62.3125 \r\nL 9.8125 71.09375 \r\nQ 15.4375 72.65625 20.34375 73.4375 \r\nQ 25.25 74.21875 29.59375 74.21875 \r\nQ 40.828125 74.21875 47.359375 69.109375 \r\nQ 53.90625 64.015625 53.90625 55.328125 \r\nQ 53.90625 49.265625 50.4375 45.09375 \r\nQ 46.96875 40.921875 40.578125 39.3125 \r\nz\r\n\" id=\"DejaVuSans-51\"/>\r\n      </defs>\r\n      <g transform=\"translate(225.991786 239.238437)scale(0.1 -0.1)\">\r\n       <use xlink:href=\"#DejaVuSans-51\"/>\r\n       <use x=\"63.623047\" xlink:href=\"#DejaVuSans-48\"/>\r\n       <use x=\"127.246094\" xlink:href=\"#DejaVuSans-48\"/>\r\n       <use x=\"190.869141\" xlink:href=\"#DejaVuSans-48\"/>\r\n       <use x=\"254.492188\" xlink:href=\"#DejaVuSans-48\"/>\r\n       <use x=\"318.115234\" xlink:href=\"#DejaVuSans-48\"/>\r\n      </g>\r\n     </g>\r\n    </g>\r\n    <g id=\"xtick_5\">\r\n     <g id=\"line2d_9\">\r\n      <path clip-path=\"url(#pceee0a1557)\" d=\"M 308.483622 224.64 \r\nL 308.483622 7.2 \r\n\" style=\"fill:none;stroke:#b0b0b0;stroke-linecap:square;stroke-width:0.8;\"/>\r\n     </g>\r\n     <g id=\"line2d_10\">\r\n      <g>\r\n       <use style=\"stroke:#000000;stroke-width:0.8;\" x=\"308.483622\" xlink:href=\"#m7cfd5629a9\" y=\"224.64\"/>\r\n      </g>\r\n     </g>\r\n     <g id=\"text_5\">\r\n      <!-- 400000 -->\r\n      <defs>\r\n       <path d=\"M 37.796875 64.3125 \r\nL 12.890625 25.390625 \r\nL 37.796875 25.390625 \r\nz\r\nM 35.203125 72.90625 \r\nL 47.609375 72.90625 \r\nL 47.609375 25.390625 \r\nL 58.015625 25.390625 \r\nL 58.015625 17.1875 \r\nL 47.609375 17.1875 \r\nL 47.609375 0 \r\nL 37.796875 0 \r\nL 37.796875 17.1875 \r\nL 4.890625 17.1875 \r\nL 4.890625 26.703125 \r\nz\r\n\" id=\"DejaVuSans-52\"/>\r\n      </defs>\r\n      <g transform=\"translate(289.396122 239.238437)scale(0.1 -0.1)\">\r\n       <use xlink:href=\"#DejaVuSans-52\"/>\r\n       <use x=\"63.623047\" xlink:href=\"#DejaVuSans-48\"/>\r\n       <use x=\"127.246094\" xlink:href=\"#DejaVuSans-48\"/>\r\n       <use x=\"190.869141\" xlink:href=\"#DejaVuSans-48\"/>\r\n       <use x=\"254.492188\" xlink:href=\"#DejaVuSans-48\"/>\r\n       <use x=\"318.115234\" xlink:href=\"#DejaVuSans-48\"/>\r\n      </g>\r\n     </g>\r\n    </g>\r\n    <g id=\"xtick_6\">\r\n     <g id=\"line2d_11\">\r\n      <path clip-path=\"url(#pceee0a1557)\" d=\"M 371.887958 224.64 \r\nL 371.887958 7.2 \r\n\" style=\"fill:none;stroke:#b0b0b0;stroke-linecap:square;stroke-width:0.8;\"/>\r\n     </g>\r\n     <g id=\"line2d_12\">\r\n      <g>\r\n       <use style=\"stroke:#000000;stroke-width:0.8;\" x=\"371.887958\" xlink:href=\"#m7cfd5629a9\" y=\"224.64\"/>\r\n      </g>\r\n     </g>\r\n     <g id=\"text_6\">\r\n      <!-- 500000 -->\r\n      <defs>\r\n       <path d=\"M 10.796875 72.90625 \r\nL 49.515625 72.90625 \r\nL 49.515625 64.59375 \r\nL 19.828125 64.59375 \r\nL 19.828125 46.734375 \r\nQ 21.96875 47.46875 24.109375 47.828125 \r\nQ 26.265625 48.1875 28.421875 48.1875 \r\nQ 40.625 48.1875 47.75 41.5 \r\nQ 54.890625 34.8125 54.890625 23.390625 \r\nQ 54.890625 11.625 47.5625 5.09375 \r\nQ 40.234375 -1.421875 26.90625 -1.421875 \r\nQ 22.3125 -1.421875 17.546875 -0.640625 \r\nQ 12.796875 0.140625 7.71875 1.703125 \r\nL 7.71875 11.625 \r\nQ 12.109375 9.234375 16.796875 8.0625 \r\nQ 21.484375 6.890625 26.703125 6.890625 \r\nQ 35.15625 6.890625 40.078125 11.328125 \r\nQ 45.015625 15.765625 45.015625 23.390625 \r\nQ 45.015625 31 40.078125 35.4375 \r\nQ 35.15625 39.890625 26.703125 39.890625 \r\nQ 22.75 39.890625 18.8125 39.015625 \r\nQ 14.890625 38.140625 10.796875 36.28125 \r\nz\r\n\" id=\"DejaVuSans-53\"/>\r\n      </defs>\r\n      <g transform=\"translate(352.800458 239.238437)scale(0.1 -0.1)\">\r\n       <use xlink:href=\"#DejaVuSans-53\"/>\r\n       <use x=\"63.623047\" xlink:href=\"#DejaVuSans-48\"/>\r\n       <use x=\"127.246094\" xlink:href=\"#DejaVuSans-48\"/>\r\n       <use x=\"190.869141\" xlink:href=\"#DejaVuSans-48\"/>\r\n       <use x=\"254.492188\" xlink:href=\"#DejaVuSans-48\"/>\r\n       <use x=\"318.115234\" xlink:href=\"#DejaVuSans-48\"/>\r\n      </g>\r\n     </g>\r\n    </g>\r\n   </g>\r\n   <g id=\"matplotlib.axis_2\">\r\n    <g id=\"ytick_1\">\r\n     <g id=\"line2d_13\">\r\n      <path clip-path=\"url(#pceee0a1557)\" d=\"M 39.65 224.64 \r\nL 374.45 224.64 \r\n\" style=\"fill:none;stroke:#b0b0b0;stroke-linecap:square;stroke-width:0.8;\"/>\r\n     </g>\r\n     <g id=\"line2d_14\">\r\n      <defs>\r\n       <path d=\"M 0 0 \r\nL -3.5 0 \r\n\" id=\"m81909573dd\" style=\"stroke:#000000;stroke-width:0.8;\"/>\r\n      </defs>\r\n      <g>\r\n       <use style=\"stroke:#000000;stroke-width:0.8;\" x=\"39.65\" xlink:href=\"#m81909573dd\" y=\"224.64\"/>\r\n      </g>\r\n     </g>\r\n     <g id=\"text_7\">\r\n      <!-- 0 -->\r\n      <g transform=\"translate(26.2875 228.439219)scale(0.1 -0.1)\">\r\n       <use xlink:href=\"#DejaVuSans-48\"/>\r\n      </g>\r\n     </g>\r\n    </g>\r\n    <g id=\"ytick_2\">\r\n     <g id=\"line2d_15\">\r\n      <path clip-path=\"url(#pceee0a1557)\" d=\"M 39.65 184.11442 \r\nL 374.45 184.11442 \r\n\" style=\"fill:none;stroke:#b0b0b0;stroke-linecap:square;stroke-width:0.8;\"/>\r\n     </g>\r\n     <g id=\"line2d_16\">\r\n      <g>\r\n       <use style=\"stroke:#000000;stroke-width:0.8;\" x=\"39.65\" xlink:href=\"#m81909573dd\" y=\"184.11442\"/>\r\n      </g>\r\n     </g>\r\n     <g id=\"text_8\">\r\n      <!-- 200 -->\r\n      <g transform=\"translate(13.5625 187.913639)scale(0.1 -0.1)\">\r\n       <use xlink:href=\"#DejaVuSans-50\"/>\r\n       <use x=\"63.623047\" xlink:href=\"#DejaVuSans-48\"/>\r\n       <use x=\"127.246094\" xlink:href=\"#DejaVuSans-48\"/>\r\n      </g>\r\n     </g>\r\n    </g>\r\n    <g id=\"ytick_3\">\r\n     <g id=\"line2d_17\">\r\n      <path clip-path=\"url(#pceee0a1557)\" d=\"M 39.65 143.58884 \r\nL 374.45 143.58884 \r\n\" style=\"fill:none;stroke:#b0b0b0;stroke-linecap:square;stroke-width:0.8;\"/>\r\n     </g>\r\n     <g id=\"line2d_18\">\r\n      <g>\r\n       <use style=\"stroke:#000000;stroke-width:0.8;\" x=\"39.65\" xlink:href=\"#m81909573dd\" y=\"143.58884\"/>\r\n      </g>\r\n     </g>\r\n     <g id=\"text_9\">\r\n      <!-- 400 -->\r\n      <g transform=\"translate(13.5625 147.388059)scale(0.1 -0.1)\">\r\n       <use xlink:href=\"#DejaVuSans-52\"/>\r\n       <use x=\"63.623047\" xlink:href=\"#DejaVuSans-48\"/>\r\n       <use x=\"127.246094\" xlink:href=\"#DejaVuSans-48\"/>\r\n      </g>\r\n     </g>\r\n    </g>\r\n    <g id=\"ytick_4\">\r\n     <g id=\"line2d_19\">\r\n      <path clip-path=\"url(#pceee0a1557)\" d=\"M 39.65 103.06326 \r\nL 374.45 103.06326 \r\n\" style=\"fill:none;stroke:#b0b0b0;stroke-linecap:square;stroke-width:0.8;\"/>\r\n     </g>\r\n     <g id=\"line2d_20\">\r\n      <g>\r\n       <use style=\"stroke:#000000;stroke-width:0.8;\" x=\"39.65\" xlink:href=\"#m81909573dd\" y=\"103.06326\"/>\r\n      </g>\r\n     </g>\r\n     <g id=\"text_10\">\r\n      <!-- 600 -->\r\n      <defs>\r\n       <path d=\"M 33.015625 40.375 \r\nQ 26.375 40.375 22.484375 35.828125 \r\nQ 18.609375 31.296875 18.609375 23.390625 \r\nQ 18.609375 15.53125 22.484375 10.953125 \r\nQ 26.375 6.390625 33.015625 6.390625 \r\nQ 39.65625 6.390625 43.53125 10.953125 \r\nQ 47.40625 15.53125 47.40625 23.390625 \r\nQ 47.40625 31.296875 43.53125 35.828125 \r\nQ 39.65625 40.375 33.015625 40.375 \r\nz\r\nM 52.59375 71.296875 \r\nL 52.59375 62.3125 \r\nQ 48.875 64.0625 45.09375 64.984375 \r\nQ 41.3125 65.921875 37.59375 65.921875 \r\nQ 27.828125 65.921875 22.671875 59.328125 \r\nQ 17.53125 52.734375 16.796875 39.40625 \r\nQ 19.671875 43.65625 24.015625 45.921875 \r\nQ 28.375 48.1875 33.59375 48.1875 \r\nQ 44.578125 48.1875 50.953125 41.515625 \r\nQ 57.328125 34.859375 57.328125 23.390625 \r\nQ 57.328125 12.15625 50.6875 5.359375 \r\nQ 44.046875 -1.421875 33.015625 -1.421875 \r\nQ 20.359375 -1.421875 13.671875 8.265625 \r\nQ 6.984375 17.96875 6.984375 36.375 \r\nQ 6.984375 53.65625 15.1875 63.9375 \r\nQ 23.390625 74.21875 37.203125 74.21875 \r\nQ 40.921875 74.21875 44.703125 73.484375 \r\nQ 48.484375 72.75 52.59375 71.296875 \r\nz\r\n\" id=\"DejaVuSans-54\"/>\r\n      </defs>\r\n      <g transform=\"translate(13.5625 106.862478)scale(0.1 -0.1)\">\r\n       <use xlink:href=\"#DejaVuSans-54\"/>\r\n       <use x=\"63.623047\" xlink:href=\"#DejaVuSans-48\"/>\r\n       <use x=\"127.246094\" xlink:href=\"#DejaVuSans-48\"/>\r\n      </g>\r\n     </g>\r\n    </g>\r\n    <g id=\"ytick_5\">\r\n     <g id=\"line2d_21\">\r\n      <path clip-path=\"url(#pceee0a1557)\" d=\"M 39.65 62.53768 \r\nL 374.45 62.53768 \r\n\" style=\"fill:none;stroke:#b0b0b0;stroke-linecap:square;stroke-width:0.8;\"/>\r\n     </g>\r\n     <g id=\"line2d_22\">\r\n      <g>\r\n       <use style=\"stroke:#000000;stroke-width:0.8;\" x=\"39.65\" xlink:href=\"#m81909573dd\" y=\"62.53768\"/>\r\n      </g>\r\n     </g>\r\n     <g id=\"text_11\">\r\n      <!-- 800 -->\r\n      <defs>\r\n       <path d=\"M 31.78125 34.625 \r\nQ 24.75 34.625 20.71875 30.859375 \r\nQ 16.703125 27.09375 16.703125 20.515625 \r\nQ 16.703125 13.921875 20.71875 10.15625 \r\nQ 24.75 6.390625 31.78125 6.390625 \r\nQ 38.8125 6.390625 42.859375 10.171875 \r\nQ 46.921875 13.96875 46.921875 20.515625 \r\nQ 46.921875 27.09375 42.890625 30.859375 \r\nQ 38.875 34.625 31.78125 34.625 \r\nz\r\nM 21.921875 38.8125 \r\nQ 15.578125 40.375 12.03125 44.71875 \r\nQ 8.5 49.078125 8.5 55.328125 \r\nQ 8.5 64.0625 14.71875 69.140625 \r\nQ 20.953125 74.21875 31.78125 74.21875 \r\nQ 42.671875 74.21875 48.875 69.140625 \r\nQ 55.078125 64.0625 55.078125 55.328125 \r\nQ 55.078125 49.078125 51.53125 44.71875 \r\nQ 48 40.375 41.703125 38.8125 \r\nQ 48.828125 37.15625 52.796875 32.3125 \r\nQ 56.78125 27.484375 56.78125 20.515625 \r\nQ 56.78125 9.90625 50.3125 4.234375 \r\nQ 43.84375 -1.421875 31.78125 -1.421875 \r\nQ 19.734375 -1.421875 13.25 4.234375 \r\nQ 6.78125 9.90625 6.78125 20.515625 \r\nQ 6.78125 27.484375 10.78125 32.3125 \r\nQ 14.796875 37.15625 21.921875 38.8125 \r\nz\r\nM 18.3125 54.390625 \r\nQ 18.3125 48.734375 21.84375 45.5625 \r\nQ 25.390625 42.390625 31.78125 42.390625 \r\nQ 38.140625 42.390625 41.71875 45.5625 \r\nQ 45.3125 48.734375 45.3125 54.390625 \r\nQ 45.3125 60.0625 41.71875 63.234375 \r\nQ 38.140625 66.40625 31.78125 66.40625 \r\nQ 25.390625 66.40625 21.84375 63.234375 \r\nQ 18.3125 60.0625 18.3125 54.390625 \r\nz\r\n\" id=\"DejaVuSans-56\"/>\r\n      </defs>\r\n      <g transform=\"translate(13.5625 66.336898)scale(0.1 -0.1)\">\r\n       <use xlink:href=\"#DejaVuSans-56\"/>\r\n       <use x=\"63.623047\" xlink:href=\"#DejaVuSans-48\"/>\r\n       <use x=\"127.246094\" xlink:href=\"#DejaVuSans-48\"/>\r\n      </g>\r\n     </g>\r\n    </g>\r\n    <g id=\"ytick_6\">\r\n     <g id=\"line2d_23\">\r\n      <path clip-path=\"url(#pceee0a1557)\" d=\"M 39.65 22.0121 \r\nL 374.45 22.0121 \r\n\" style=\"fill:none;stroke:#b0b0b0;stroke-linecap:square;stroke-width:0.8;\"/>\r\n     </g>\r\n     <g id=\"line2d_24\">\r\n      <g>\r\n       <use style=\"stroke:#000000;stroke-width:0.8;\" x=\"39.65\" xlink:href=\"#m81909573dd\" y=\"22.0121\"/>\r\n      </g>\r\n     </g>\r\n     <g id=\"text_12\">\r\n      <!-- 1000 -->\r\n      <g transform=\"translate(7.2 25.811318)scale(0.1 -0.1)\">\r\n       <use xlink:href=\"#DejaVuSans-49\"/>\r\n       <use x=\"63.623047\" xlink:href=\"#DejaVuSans-48\"/>\r\n       <use x=\"127.246094\" xlink:href=\"#DejaVuSans-48\"/>\r\n       <use x=\"190.869141\" xlink:href=\"#DejaVuSans-48\"/>\r\n      </g>\r\n     </g>\r\n    </g>\r\n   </g>\r\n   <g id=\"patch_23\">\r\n    <path d=\"M 39.65 224.64 \r\nL 39.65 7.2 \r\n\" style=\"fill:none;stroke:#000000;stroke-linecap:square;stroke-linejoin:miter;stroke-width:0.8;\"/>\r\n   </g>\r\n   <g id=\"patch_24\">\r\n    <path d=\"M 374.45 224.64 \r\nL 374.45 7.2 \r\n\" style=\"fill:none;stroke:#000000;stroke-linecap:square;stroke-linejoin:miter;stroke-width:0.8;\"/>\r\n   </g>\r\n   <g id=\"patch_25\">\r\n    <path d=\"M 39.65 224.64 \r\nL 374.45 224.64 \r\n\" style=\"fill:none;stroke:#000000;stroke-linecap:square;stroke-linejoin:miter;stroke-width:0.8;\"/>\r\n   </g>\r\n   <g id=\"patch_26\">\r\n    <path d=\"M 39.65 7.2 \r\nL 374.45 7.2 \r\n\" style=\"fill:none;stroke:#000000;stroke-linecap:square;stroke-linejoin:miter;stroke-width:0.8;\"/>\r\n   </g>\r\n  </g>\r\n </g>\r\n <defs>\r\n  <clipPath id=\"pceee0a1557\">\r\n   <rect height=\"217.44\" width=\"334.8\" x=\"39.65\" y=\"7.2\"/>\r\n  </clipPath>\r\n </defs>\r\n</svg>\r\n",
      "image/png": "[encoded data removed]"
     },
     "metadata": {
      "needs_background": "light"
     }
    }
   ],
   "source": [
    "user_artist_plays_by_user = user_artist_plays[[\"userID\", \"weight\"]].groupby(['userID']).sum()\n",
    "\n",
    "user_artist_plays_by_user[\"weight\"].hist(bins = 20)"
   ]
  },
  {
   "cell_type": "markdown",
   "metadata": {},
   "source": [
    "### 1.3. Géneros más escuchados"
   ]
  },
  {
   "cell_type": "code",
   "execution_count": 10,
   "metadata": {},
   "outputs": [
    {
     "output_type": "execute_result",
     "data": {
      "text/plain": [
       "     tagID      weight          tagValue\n",
       "23      24  1043039517               pop\n",
       "71      73   622063102              rock\n",
       "122    130   611535548  female vocalists\n",
       "38      39   569648216             dance\n",
       "77      79   403229595       alternative\n",
       "17      18   400420167        electronic\n",
       "76      78   231167101  alternative rock\n",
       "79      81   215784773             indie\n",
       "24      25   209870819               80s\n",
       "150    167   185446089               rnb"
      ],
      "text/html": "<div>\n<style scoped>\n    .dataframe tbody tr th:only-of-type {\n        vertical-align: middle;\n    }\n\n    .dataframe tbody tr th {\n        vertical-align: top;\n    }\n\n    .dataframe thead th {\n        text-align: right;\n    }\n</style>\n<table border=\"1\" class=\"dataframe\">\n  <thead>\n    <tr style=\"text-align: right;\">\n      <th></th>\n      <th>tagID</th>\n      <th>weight</th>\n      <th>tagValue</th>\n    </tr>\n  </thead>\n  <tbody>\n    <tr>\n      <th>23</th>\n      <td>24</td>\n      <td>1043039517</td>\n      <td>pop</td>\n    </tr>\n    <tr>\n      <th>71</th>\n      <td>73</td>\n      <td>622063102</td>\n      <td>rock</td>\n    </tr>\n    <tr>\n      <th>122</th>\n      <td>130</td>\n      <td>611535548</td>\n      <td>female vocalists</td>\n    </tr>\n    <tr>\n      <th>38</th>\n      <td>39</td>\n      <td>569648216</td>\n      <td>dance</td>\n    </tr>\n    <tr>\n      <th>77</th>\n      <td>79</td>\n      <td>403229595</td>\n      <td>alternative</td>\n    </tr>\n    <tr>\n      <th>17</th>\n      <td>18</td>\n      <td>400420167</td>\n      <td>electronic</td>\n    </tr>\n    <tr>\n      <th>76</th>\n      <td>78</td>\n      <td>231167101</td>\n      <td>alternative rock</td>\n    </tr>\n    <tr>\n      <th>79</th>\n      <td>81</td>\n      <td>215784773</td>\n      <td>indie</td>\n    </tr>\n    <tr>\n      <th>24</th>\n      <td>25</td>\n      <td>209870819</td>\n      <td>80s</td>\n    </tr>\n    <tr>\n      <th>150</th>\n      <td>167</td>\n      <td>185446089</td>\n      <td>rnb</td>\n    </tr>\n  </tbody>\n</table>\n</div>"
     },
     "metadata": {},
     "execution_count": 10
    }
   ],
   "source": [
    "user_artist_plays_by_artist_tags = artist_plays.merge(user_tagged_artists, left_on=\"id\", right_on=\"artistID\")\n",
    "tags_plays = user_artist_plays_by_artist_tags[[\"tagID\", \"weight\"]].groupby(['tagID']).sum()\n",
    "tags_plays_merge = tags_plays.merge(tags, on=\"tagID\").sort_values(by=[\"weight\"], ascending=False)\n",
    "tags_plays_merge.head(10)"
   ]
  },
  {
   "cell_type": "code",
   "execution_count": 11,
   "metadata": {},
   "outputs": [
    {
     "output_type": "execute_result",
     "data": {
      "text/plain": [
       "<matplotlib.axes._subplots.AxesSubplot at 0x21b0eb87c48>"
      ]
     },
     "metadata": {},
     "execution_count": 11
    },
    {
     "output_type": "display_data",
     "data": {
      "text/plain": "<Figure size 432x288 with 1 Axes>",
      "image/svg+xml": "<?xml version=\"1.0\" encoding=\"utf-8\" standalone=\"no\"?>\r\n<!DOCTYPE svg PUBLIC \"-//W3C//DTD SVG 1.1//EN\"\r\n  \"http://www.w3.org/Graphics/SVG/1.1/DTD/svg11.dtd\">\r\n<!-- Created with matplotlib (https://matplotlib.org/) -->\r\n<svg height=\"231.84pt\" version=\"1.1\" viewBox=\"0 0 313.270967 231.84\" width=\"313.270967pt\" xmlns=\"http://www.w3.org/2000/svg\" xmlns:xlink=\"http://www.w3.org/1999/xlink\">\r\n <defs>\r\n  <style type=\"text/css\">\r\n*{stroke-linecap:butt;stroke-linejoin:round;}\r\n  </style>\r\n </defs>\r\n <g id=\"figure_1\">\r\n  <g id=\"patch_1\">\r\n   <path d=\"M 0 231.84 \r\nL 313.270967 231.84 \r\nL 313.270967 0 \r\nL 0 0 \r\nz\r\n\" style=\"fill:none;\"/>\r\n  </g>\r\n  <g id=\"axes_1\">\r\n   <g id=\"patch_2\">\r\n    <path d=\"M 264.058405 115.92 \r\nC 264.058405 94.540489 256.17548 73.893895 241.927017 57.954485 \r\nC 227.678553 42.015075 208.041462 31.875697 186.795691 29.488081 \r\nL 177.082405 115.92 \r\nL 264.058405 115.92 \r\nz\r\n\" style=\"fill:#1f77b4;\"/>\r\n   </g>\r\n   <g id=\"patch_3\">\r\n    <path d=\"M 186.795691 29.488081 \r\nC 174.212828 28.074009 161.471629 29.424588 149.464846 33.445185 \r\nC 137.458064 37.465783 126.472835 44.060247 117.278875 52.766517 \r\nL 177.082405 115.92 \r\nL 186.795691 29.488081 \r\nz\r\n\" style=\"fill:#ff7f0e;\"/>\r\n   </g>\r\n   <g id=\"patch_4\">\r\n    <path d=\"M 117.278875 52.766517 \r\nC 108.241692 61.324326 101.145822 71.723091 96.47198 83.258341 \r\nC 91.798138 94.793591 89.654307 107.198819 90.185722 119.633624 \r\nL 177.082405 115.92 \r\nL 117.278875 52.766517 \r\nz\r\n\" style=\"fill:#2ca02c;\"/>\r\n   </g>\r\n   <g id=\"patch_5\">\r\n    <path d=\"M 90.185722 119.633624 \r\nC 90.68049 131.210931 93.483986 142.573475 98.43114 153.052239 \r\nC 103.378295 163.531003 110.37007 172.916209 118.994795 180.655262 \r\nL 177.082405 115.92 \r\nL 90.185722 119.633624 \r\nz\r\n\" style=\"fill:#d62728;\"/>\r\n   </g>\r\n   <g id=\"patch_6\">\r\n    <path d=\"M 118.994795 180.655262 \r\nC 125.089884 186.124448 131.926961 190.70551 139.303234 194.262573 \r\nC 146.679507 197.819637 154.52132 200.317181 162.59608 201.681127 \r\nL 177.082405 115.92 \r\nL 118.994795 180.655262 \r\nz\r\n\" style=\"fill:#9467bd;\"/>\r\n   </g>\r\n   <g id=\"patch_7\">\r\n    <path d=\"M 162.59608 201.681127 \r\nC 170.614397 203.03554 178.783187 203.258764 186.863505 202.344271 \r\nC 194.943824 201.429778 202.856109 199.386572 210.368921 196.274418 \r\nL 177.082405 115.92 \r\nL 162.59608 201.681127 \r\nz\r\n\" style=\"fill:#8c564b;\"/>\r\n   </g>\r\n   <g id=\"patch_8\">\r\n    <path d=\"M 210.368921 196.274418 \r\nC 214.701447 194.479685 218.881733 192.337489 222.868882 189.868787 \r\nC 226.85603 187.400086 230.636996 184.612956 234.174788 181.534665 \r\nL 177.082405 115.92 \r\nL 210.368921 196.274418 \r\nz\r\n\" style=\"fill:#e377c2;\"/>\r\n   </g>\r\n   <g id=\"patch_9\">\r\n    <path d=\"M 234.174788 181.534665 \r\nC 237.476938 178.661412 240.55748 175.542975 243.390148 172.205946 \r\nC 246.222817 168.868917 248.799537 165.322806 251.098339 161.597852 \r\nL 177.082405 115.92 \r\nL 234.174788 181.534665 \r\nz\r\n\" style=\"fill:#7f7f7f;\"/>\r\n   </g>\r\n   <g id=\"patch_10\">\r\n    <path d=\"M 251.098339 161.597852 \r\nC 253.33408 157.975079 255.300828 154.193044 256.982718 150.282254 \r\nC 258.664608 146.371465 260.057105 142.342466 261.148978 138.227755 \r\nL 177.082405 115.92 \r\nL 251.098339 161.597852 \r\nz\r\n\" style=\"fill:#bcbd22;\"/>\r\n   </g>\r\n   <g id=\"patch_11\">\r\n    <path d=\"M 261.148978 138.227755 \r\nC 262.113683 134.592272 262.841547 130.898035 263.327984 127.168319 \r\nC 263.814421 123.438603 264.058407 119.681258 264.058405 115.919955 \r\nL 177.082405 115.92 \r\nL 261.148978 138.227755 \r\nz\r\n\" style=\"fill:#17becf;\"/>\r\n   </g>\r\n   <g id=\"matplotlib.axis_1\"/>\r\n   <g id=\"matplotlib.axis_2\">\r\n    <g id=\"text_1\">\r\n     <!-- weight -->\r\n     <defs>\r\n      <path d=\"M 4.203125 54.6875 \r\nL 13.1875 54.6875 \r\nL 24.421875 12.015625 \r\nL 35.59375 54.6875 \r\nL 46.1875 54.6875 \r\nL 57.421875 12.015625 \r\nL 68.609375 54.6875 \r\nL 77.59375 54.6875 \r\nL 63.28125 0 \r\nL 52.6875 0 \r\nL 40.921875 44.828125 \r\nL 29.109375 0 \r\nL 18.5 0 \r\nz\r\n\" id=\"DejaVuSans-119\"/>\r\n      <path d=\"M 56.203125 29.59375 \r\nL 56.203125 25.203125 \r\nL 14.890625 25.203125 \r\nQ 15.484375 15.921875 20.484375 11.0625 \r\nQ 25.484375 6.203125 34.421875 6.203125 \r\nQ 39.59375 6.203125 44.453125 7.46875 \r\nQ 49.3125 8.734375 54.109375 11.28125 \r\nL 54.109375 2.78125 \r\nQ 49.265625 0.734375 44.1875 -0.34375 \r\nQ 39.109375 -1.421875 33.890625 -1.421875 \r\nQ 20.796875 -1.421875 13.15625 6.1875 \r\nQ 5.515625 13.8125 5.515625 26.8125 \r\nQ 5.515625 40.234375 12.765625 48.109375 \r\nQ 20.015625 56 32.328125 56 \r\nQ 43.359375 56 49.78125 48.890625 \r\nQ 56.203125 41.796875 56.203125 29.59375 \r\nz\r\nM 47.21875 32.234375 \r\nQ 47.125 39.59375 43.09375 43.984375 \r\nQ 39.0625 48.390625 32.421875 48.390625 \r\nQ 24.90625 48.390625 20.390625 44.140625 \r\nQ 15.875 39.890625 15.1875 32.171875 \r\nz\r\n\" id=\"DejaVuSans-101\"/>\r\n      <path d=\"M 9.421875 54.6875 \r\nL 18.40625 54.6875 \r\nL 18.40625 0 \r\nL 9.421875 0 \r\nz\r\nM 9.421875 75.984375 \r\nL 18.40625 75.984375 \r\nL 18.40625 64.59375 \r\nL 9.421875 64.59375 \r\nz\r\n\" id=\"DejaVuSans-105\"/>\r\n      <path d=\"M 45.40625 27.984375 \r\nQ 45.40625 37.75 41.375 43.109375 \r\nQ 37.359375 48.484375 30.078125 48.484375 \r\nQ 22.859375 48.484375 18.828125 43.109375 \r\nQ 14.796875 37.75 14.796875 27.984375 \r\nQ 14.796875 18.265625 18.828125 12.890625 \r\nQ 22.859375 7.515625 30.078125 7.515625 \r\nQ 37.359375 7.515625 41.375 12.890625 \r\nQ 45.40625 18.265625 45.40625 27.984375 \r\nz\r\nM 54.390625 6.78125 \r\nQ 54.390625 -7.171875 48.1875 -13.984375 \r\nQ 42 -20.796875 29.203125 -20.796875 \r\nQ 24.46875 -20.796875 20.265625 -20.09375 \r\nQ 16.0625 -19.390625 12.109375 -17.921875 \r\nL 12.109375 -9.1875 \r\nQ 16.0625 -11.328125 19.921875 -12.34375 \r\nQ 23.78125 -13.375 27.78125 -13.375 \r\nQ 36.625 -13.375 41.015625 -8.765625 \r\nQ 45.40625 -4.15625 45.40625 5.171875 \r\nL 45.40625 9.625 \r\nQ 42.625 4.78125 38.28125 2.390625 \r\nQ 33.9375 0 27.875 0 \r\nQ 17.828125 0 11.671875 7.65625 \r\nQ 5.515625 15.328125 5.515625 27.984375 \r\nQ 5.515625 40.671875 11.671875 48.328125 \r\nQ 17.828125 56 27.875 56 \r\nQ 33.9375 56 38.28125 53.609375 \r\nQ 42.625 51.21875 45.40625 46.390625 \r\nL 45.40625 54.6875 \r\nL 54.390625 54.6875 \r\nz\r\n\" id=\"DejaVuSans-103\"/>\r\n      <path d=\"M 54.890625 33.015625 \r\nL 54.890625 0 \r\nL 45.90625 0 \r\nL 45.90625 32.71875 \r\nQ 45.90625 40.484375 42.875 44.328125 \r\nQ 39.84375 48.1875 33.796875 48.1875 \r\nQ 26.515625 48.1875 22.3125 43.546875 \r\nQ 18.109375 38.921875 18.109375 30.90625 \r\nL 18.109375 0 \r\nL 9.078125 0 \r\nL 9.078125 75.984375 \r\nL 18.109375 75.984375 \r\nL 18.109375 46.1875 \r\nQ 21.34375 51.125 25.703125 53.5625 \r\nQ 30.078125 56 35.796875 56 \r\nQ 45.21875 56 50.046875 50.171875 \r\nQ 54.890625 44.34375 54.890625 33.015625 \r\nz\r\n\" id=\"DejaVuSans-104\"/>\r\n      <path d=\"M 18.3125 70.21875 \r\nL 18.3125 54.6875 \r\nL 36.8125 54.6875 \r\nL 36.8125 47.703125 \r\nL 18.3125 47.703125 \r\nL 18.3125 18.015625 \r\nQ 18.3125 11.328125 20.140625 9.421875 \r\nQ 21.96875 7.515625 27.59375 7.515625 \r\nL 36.8125 7.515625 \r\nL 36.8125 0 \r\nL 27.59375 0 \r\nQ 17.1875 0 13.234375 3.875 \r\nQ 9.28125 7.765625 9.28125 18.015625 \r\nL 9.28125 47.703125 \r\nL 2.6875 47.703125 \r\nL 2.6875 54.6875 \r\nL 9.28125 54.6875 \r\nL 9.28125 70.21875 \r\nz\r\n\" id=\"DejaVuSans-116\"/>\r\n     </defs>\r\n     <g transform=\"translate(62.282717 132.777812)rotate(-90)scale(0.1 -0.1)\">\r\n      <use xlink:href=\"#DejaVuSans-119\"/>\r\n      <use x=\"81.787109\" xlink:href=\"#DejaVuSans-101\"/>\r\n      <use x=\"143.310547\" xlink:href=\"#DejaVuSans-105\"/>\r\n      <use x=\"171.09375\" xlink:href=\"#DejaVuSans-103\"/>\r\n      <use x=\"234.570312\" xlink:href=\"#DejaVuSans-104\"/>\r\n      <use x=\"297.949219\" xlink:href=\"#DejaVuSans-116\"/>\r\n     </g>\r\n    </g>\r\n   </g>\r\n   <g id=\"text_2\">\r\n    <!-- pop -->\r\n    <defs>\r\n     <path d=\"M 18.109375 8.203125 \r\nL 18.109375 -20.796875 \r\nL 9.078125 -20.796875 \r\nL 9.078125 54.6875 \r\nL 18.109375 54.6875 \r\nL 18.109375 46.390625 \r\nQ 20.953125 51.265625 25.265625 53.625 \r\nQ 29.59375 56 35.59375 56 \r\nQ 45.5625 56 51.78125 48.09375 \r\nQ 58.015625 40.1875 58.015625 27.296875 \r\nQ 58.015625 14.40625 51.78125 6.484375 \r\nQ 45.5625 -1.421875 35.59375 -1.421875 \r\nQ 29.59375 -1.421875 25.265625 0.953125 \r\nQ 20.953125 3.328125 18.109375 8.203125 \r\nz\r\nM 48.6875 27.296875 \r\nQ 48.6875 37.203125 44.609375 42.84375 \r\nQ 40.53125 48.484375 33.40625 48.484375 \r\nQ 26.265625 48.484375 22.1875 42.84375 \r\nQ 18.109375 37.203125 18.109375 27.296875 \r\nQ 18.109375 17.390625 22.1875 11.75 \r\nQ 26.265625 6.109375 33.40625 6.109375 \r\nQ 40.53125 6.109375 44.609375 11.75 \r\nQ 48.6875 17.390625 48.6875 27.296875 \r\nz\r\n\" id=\"DejaVuSans-112\"/>\r\n     <path d=\"M 30.609375 48.390625 \r\nQ 23.390625 48.390625 19.1875 42.75 \r\nQ 14.984375 37.109375 14.984375 27.296875 \r\nQ 14.984375 17.484375 19.15625 11.84375 \r\nQ 23.34375 6.203125 30.609375 6.203125 \r\nQ 37.796875 6.203125 41.984375 11.859375 \r\nQ 46.1875 17.53125 46.1875 27.296875 \r\nQ 46.1875 37.015625 41.984375 42.703125 \r\nQ 37.796875 48.390625 30.609375 48.390625 \r\nz\r\nM 30.609375 56 \r\nQ 42.328125 56 49.015625 48.375 \r\nQ 55.71875 40.765625 55.71875 27.296875 \r\nQ 55.71875 13.875 49.015625 6.21875 \r\nQ 42.328125 -1.421875 30.609375 -1.421875 \r\nQ 18.84375 -1.421875 12.171875 6.21875 \r\nQ 5.515625 13.875 5.515625 27.296875 \r\nQ 5.515625 40.765625 12.171875 48.375 \r\nQ 18.84375 56 30.609375 56 \r\nz\r\n\" id=\"DejaVuSans-111\"/>\r\n    </defs>\r\n    <g transform=\"translate(248.411478 54.917309)scale(0.1 -0.1)\">\r\n     <use xlink:href=\"#DejaVuSans-112\"/>\r\n     <use x=\"63.476562\" xlink:href=\"#DejaVuSans-111\"/>\r\n     <use x=\"124.658203\" xlink:href=\"#DejaVuSans-112\"/>\r\n    </g>\r\n   </g>\r\n   <g id=\"text_3\">\r\n    <!-- rock -->\r\n    <defs>\r\n     <path d=\"M 41.109375 46.296875 \r\nQ 39.59375 47.171875 37.8125 47.578125 \r\nQ 36.03125 48 33.890625 48 \r\nQ 26.265625 48 22.1875 43.046875 \r\nQ 18.109375 38.09375 18.109375 28.8125 \r\nL 18.109375 0 \r\nL 9.078125 0 \r\nL 9.078125 54.6875 \r\nL 18.109375 54.6875 \r\nL 18.109375 46.1875 \r\nQ 20.953125 51.171875 25.484375 53.578125 \r\nQ 30.03125 56 36.53125 56 \r\nQ 37.453125 56 38.578125 55.875 \r\nQ 39.703125 55.765625 41.0625 55.515625 \r\nz\r\n\" id=\"DejaVuSans-114\"/>\r\n     <path d=\"M 48.78125 52.59375 \r\nL 48.78125 44.1875 \r\nQ 44.96875 46.296875 41.140625 47.34375 \r\nQ 37.3125 48.390625 33.40625 48.390625 \r\nQ 24.65625 48.390625 19.8125 42.84375 \r\nQ 14.984375 37.3125 14.984375 27.296875 \r\nQ 14.984375 17.28125 19.8125 11.734375 \r\nQ 24.65625 6.203125 33.40625 6.203125 \r\nQ 37.3125 6.203125 41.140625 7.25 \r\nQ 44.96875 8.296875 48.78125 10.40625 \r\nL 48.78125 2.09375 \r\nQ 45.015625 0.34375 40.984375 -0.53125 \r\nQ 36.96875 -1.421875 32.421875 -1.421875 \r\nQ 20.0625 -1.421875 12.78125 6.34375 \r\nQ 5.515625 14.109375 5.515625 27.296875 \r\nQ 5.515625 40.671875 12.859375 48.328125 \r\nQ 20.21875 56 33.015625 56 \r\nQ 37.15625 56 41.109375 55.140625 \r\nQ 45.0625 54.296875 48.78125 52.59375 \r\nz\r\n\" id=\"DejaVuSans-99\"/>\r\n     <path d=\"M 9.078125 75.984375 \r\nL 18.109375 75.984375 \r\nL 18.109375 31.109375 \r\nL 44.921875 54.6875 \r\nL 56.390625 54.6875 \r\nL 27.390625 29.109375 \r\nL 57.625 0 \r\nL 45.90625 0 \r\nL 18.109375 26.703125 \r\nL 18.109375 0 \r\nL 9.078125 0 \r\nz\r\n\" id=\"DejaVuSans-107\"/>\r\n    </defs>\r\n    <g transform=\"translate(125.409341 27.957079)scale(0.1 -0.1)\">\r\n     <use xlink:href=\"#DejaVuSans-114\"/>\r\n     <use x=\"38.863281\" xlink:href=\"#DejaVuSans-111\"/>\r\n     <use x=\"100.044922\" xlink:href=\"#DejaVuSans-99\"/>\r\n     <use x=\"155.025391\" xlink:href=\"#DejaVuSans-107\"/>\r\n    </g>\r\n   </g>\r\n   <g id=\"text_4\">\r\n    <!-- female vocalists -->\r\n    <defs>\r\n     <path d=\"M 37.109375 75.984375 \r\nL 37.109375 68.5 \r\nL 28.515625 68.5 \r\nQ 23.6875 68.5 21.796875 66.546875 \r\nQ 19.921875 64.59375 19.921875 59.515625 \r\nL 19.921875 54.6875 \r\nL 34.71875 54.6875 \r\nL 34.71875 47.703125 \r\nL 19.921875 47.703125 \r\nL 19.921875 0 \r\nL 10.890625 0 \r\nL 10.890625 47.703125 \r\nL 2.296875 47.703125 \r\nL 2.296875 54.6875 \r\nL 10.890625 54.6875 \r\nL 10.890625 58.5 \r\nQ 10.890625 67.625 15.140625 71.796875 \r\nQ 19.390625 75.984375 28.609375 75.984375 \r\nz\r\n\" id=\"DejaVuSans-102\"/>\r\n     <path d=\"M 52 44.1875 \r\nQ 55.375 50.25 60.0625 53.125 \r\nQ 64.75 56 71.09375 56 \r\nQ 79.640625 56 84.28125 50.015625 \r\nQ 88.921875 44.046875 88.921875 33.015625 \r\nL 88.921875 0 \r\nL 79.890625 0 \r\nL 79.890625 32.71875 \r\nQ 79.890625 40.578125 77.09375 44.375 \r\nQ 74.3125 48.1875 68.609375 48.1875 \r\nQ 61.625 48.1875 57.5625 43.546875 \r\nQ 53.515625 38.921875 53.515625 30.90625 \r\nL 53.515625 0 \r\nL 44.484375 0 \r\nL 44.484375 32.71875 \r\nQ 44.484375 40.625 41.703125 44.40625 \r\nQ 38.921875 48.1875 33.109375 48.1875 \r\nQ 26.21875 48.1875 22.15625 43.53125 \r\nQ 18.109375 38.875 18.109375 30.90625 \r\nL 18.109375 0 \r\nL 9.078125 0 \r\nL 9.078125 54.6875 \r\nL 18.109375 54.6875 \r\nL 18.109375 46.1875 \r\nQ 21.1875 51.21875 25.484375 53.609375 \r\nQ 29.78125 56 35.6875 56 \r\nQ 41.65625 56 45.828125 52.96875 \r\nQ 50 49.953125 52 44.1875 \r\nz\r\n\" id=\"DejaVuSans-109\"/>\r\n     <path d=\"M 34.28125 27.484375 \r\nQ 23.390625 27.484375 19.1875 25 \r\nQ 14.984375 22.515625 14.984375 16.5 \r\nQ 14.984375 11.71875 18.140625 8.90625 \r\nQ 21.296875 6.109375 26.703125 6.109375 \r\nQ 34.1875 6.109375 38.703125 11.40625 \r\nQ 43.21875 16.703125 43.21875 25.484375 \r\nL 43.21875 27.484375 \r\nz\r\nM 52.203125 31.203125 \r\nL 52.203125 0 \r\nL 43.21875 0 \r\nL 43.21875 8.296875 \r\nQ 40.140625 3.328125 35.546875 0.953125 \r\nQ 30.953125 -1.421875 24.3125 -1.421875 \r\nQ 15.921875 -1.421875 10.953125 3.296875 \r\nQ 6 8.015625 6 15.921875 \r\nQ 6 25.140625 12.171875 29.828125 \r\nQ 18.359375 34.515625 30.609375 34.515625 \r\nL 43.21875 34.515625 \r\nL 43.21875 35.40625 \r\nQ 43.21875 41.609375 39.140625 45 \r\nQ 35.0625 48.390625 27.6875 48.390625 \r\nQ 23 48.390625 18.546875 47.265625 \r\nQ 14.109375 46.140625 10.015625 43.890625 \r\nL 10.015625 52.203125 \r\nQ 14.9375 54.109375 19.578125 55.046875 \r\nQ 24.21875 56 28.609375 56 \r\nQ 40.484375 56 46.34375 49.84375 \r\nQ 52.203125 43.703125 52.203125 31.203125 \r\nz\r\n\" id=\"DejaVuSans-97\"/>\r\n     <path d=\"M 9.421875 75.984375 \r\nL 18.40625 75.984375 \r\nL 18.40625 0 \r\nL 9.421875 0 \r\nz\r\n\" id=\"DejaVuSans-108\"/>\r\n     <path id=\"DejaVuSans-32\"/>\r\n     <path d=\"M 2.984375 54.6875 \r\nL 12.5 54.6875 \r\nL 29.59375 8.796875 \r\nL 46.6875 54.6875 \r\nL 56.203125 54.6875 \r\nL 35.6875 0 \r\nL 23.484375 0 \r\nz\r\n\" id=\"DejaVuSans-118\"/>\r\n     <path d=\"M 44.28125 53.078125 \r\nL 44.28125 44.578125 \r\nQ 40.484375 46.53125 36.375 47.5 \r\nQ 32.28125 48.484375 27.875 48.484375 \r\nQ 21.1875 48.484375 17.84375 46.4375 \r\nQ 14.5 44.390625 14.5 40.28125 \r\nQ 14.5 37.15625 16.890625 35.375 \r\nQ 19.28125 33.59375 26.515625 31.984375 \r\nL 29.59375 31.296875 \r\nQ 39.15625 29.25 43.1875 25.515625 \r\nQ 47.21875 21.78125 47.21875 15.09375 \r\nQ 47.21875 7.46875 41.1875 3.015625 \r\nQ 35.15625 -1.421875 24.609375 -1.421875 \r\nQ 20.21875 -1.421875 15.453125 -0.5625 \r\nQ 10.6875 0.296875 5.421875 2 \r\nL 5.421875 11.28125 \r\nQ 10.40625 8.6875 15.234375 7.390625 \r\nQ 20.0625 6.109375 24.8125 6.109375 \r\nQ 31.15625 6.109375 34.5625 8.28125 \r\nQ 37.984375 10.453125 37.984375 14.40625 \r\nQ 37.984375 18.0625 35.515625 20.015625 \r\nQ 33.0625 21.96875 24.703125 23.78125 \r\nL 21.578125 24.515625 \r\nQ 13.234375 26.265625 9.515625 29.90625 \r\nQ 5.8125 33.546875 5.8125 39.890625 \r\nQ 5.8125 47.609375 11.28125 51.796875 \r\nQ 16.75 56 26.8125 56 \r\nQ 31.78125 56 36.171875 55.265625 \r\nQ 40.578125 54.546875 44.28125 53.078125 \r\nz\r\n\" id=\"DejaVuSans-115\"/>\r\n    </defs>\r\n    <g transform=\"translate(7.2 82.75155)scale(0.1 -0.1)\">\r\n     <use xlink:href=\"#DejaVuSans-102\"/>\r\n     <use x=\"35.205078\" xlink:href=\"#DejaVuSans-101\"/>\r\n     <use x=\"96.728516\" xlink:href=\"#DejaVuSans-109\"/>\r\n     <use x=\"194.140625\" xlink:href=\"#DejaVuSans-97\"/>\r\n     <use x=\"255.419922\" xlink:href=\"#DejaVuSans-108\"/>\r\n     <use x=\"283.203125\" xlink:href=\"#DejaVuSans-101\"/>\r\n     <use x=\"344.726562\" xlink:href=\"#DejaVuSans-32\"/>\r\n     <use x=\"376.513672\" xlink:href=\"#DejaVuSans-118\"/>\r\n     <use x=\"435.693359\" xlink:href=\"#DejaVuSans-111\"/>\r\n     <use x=\"496.875\" xlink:href=\"#DejaVuSans-99\"/>\r\n     <use x=\"551.855469\" xlink:href=\"#DejaVuSans-97\"/>\r\n     <use x=\"613.134766\" xlink:href=\"#DejaVuSans-108\"/>\r\n     <use x=\"640.917969\" xlink:href=\"#DejaVuSans-105\"/>\r\n     <use x=\"668.701172\" xlink:href=\"#DejaVuSans-115\"/>\r\n     <use x=\"720.800781\" xlink:href=\"#DejaVuSans-116\"/>\r\n     <use x=\"760.009766\" xlink:href=\"#DejaVuSans-115\"/>\r\n    </g>\r\n   </g>\r\n   <g id=\"text_5\">\r\n    <!-- dance -->\r\n    <defs>\r\n     <path d=\"M 45.40625 46.390625 \r\nL 45.40625 75.984375 \r\nL 54.390625 75.984375 \r\nL 54.390625 0 \r\nL 45.40625 0 \r\nL 45.40625 8.203125 \r\nQ 42.578125 3.328125 38.25 0.953125 \r\nQ 33.9375 -1.421875 27.875 -1.421875 \r\nQ 17.96875 -1.421875 11.734375 6.484375 \r\nQ 5.515625 14.40625 5.515625 27.296875 \r\nQ 5.515625 40.1875 11.734375 48.09375 \r\nQ 17.96875 56 27.875 56 \r\nQ 33.9375 56 38.25 53.625 \r\nQ 42.578125 51.265625 45.40625 46.390625 \r\nz\r\nM 14.796875 27.296875 \r\nQ 14.796875 17.390625 18.875 11.75 \r\nQ 22.953125 6.109375 30.078125 6.109375 \r\nQ 37.203125 6.109375 41.296875 11.75 \r\nQ 45.40625 17.390625 45.40625 27.296875 \r\nQ 45.40625 37.203125 41.296875 42.84375 \r\nQ 37.203125 48.484375 30.078125 48.484375 \r\nQ 22.953125 48.484375 18.875 42.84375 \r\nQ 14.796875 37.203125 14.796875 27.296875 \r\nz\r\n\" id=\"DejaVuSans-100\"/>\r\n     <path d=\"M 54.890625 33.015625 \r\nL 54.890625 0 \r\nL 45.90625 0 \r\nL 45.90625 32.71875 \r\nQ 45.90625 40.484375 42.875 44.328125 \r\nQ 39.84375 48.1875 33.796875 48.1875 \r\nQ 26.515625 48.1875 22.3125 43.546875 \r\nQ 18.109375 38.921875 18.109375 30.90625 \r\nL 18.109375 0 \r\nL 9.078125 0 \r\nL 9.078125 54.6875 \r\nL 18.109375 54.6875 \r\nL 18.109375 46.1875 \r\nQ 21.34375 51.125 25.703125 53.5625 \r\nQ 30.078125 56 35.796875 56 \r\nQ 45.21875 56 50.046875 50.171875 \r\nQ 54.890625 44.34375 54.890625 33.015625 \r\nz\r\n\" id=\"DejaVuSans-110\"/>\r\n    </defs>\r\n    <g transform=\"translate(60.100389 159.524838)scale(0.1 -0.1)\">\r\n     <use xlink:href=\"#DejaVuSans-100\"/>\r\n     <use x=\"63.476562\" xlink:href=\"#DejaVuSans-97\"/>\r\n     <use x=\"124.755859\" xlink:href=\"#DejaVuSans-110\"/>\r\n     <use x=\"188.134766\" xlink:href=\"#DejaVuSans-99\"/>\r\n     <use x=\"243.115234\" xlink:href=\"#DejaVuSans-101\"/>\r\n    </g>\r\n   </g>\r\n   <g id=\"text_6\">\r\n    <!-- alternative -->\r\n    <g transform=\"translate(81.373754 204.856206)scale(0.1 -0.1)\">\r\n     <use xlink:href=\"#DejaVuSans-97\"/>\r\n     <use x=\"61.279297\" xlink:href=\"#DejaVuSans-108\"/>\r\n     <use x=\"89.0625\" xlink:href=\"#DejaVuSans-116\"/>\r\n     <use x=\"128.271484\" xlink:href=\"#DejaVuSans-101\"/>\r\n     <use x=\"189.794922\" xlink:href=\"#DejaVuSans-114\"/>\r\n     <use x=\"229.158203\" xlink:href=\"#DejaVuSans-110\"/>\r\n     <use x=\"292.537109\" xlink:href=\"#DejaVuSans-97\"/>\r\n     <use x=\"353.816406\" xlink:href=\"#DejaVuSans-116\"/>\r\n     <use x=\"393.025391\" xlink:href=\"#DejaVuSans-105\"/>\r\n     <use x=\"420.808594\" xlink:href=\"#DejaVuSans-118\"/>\r\n     <use x=\"479.988281\" xlink:href=\"#DejaVuSans-101\"/>\r\n    </g>\r\n   </g>\r\n   <g id=\"text_7\">\r\n    <!-- electronic -->\r\n    <g transform=\"translate(187.841615 213.746073)scale(0.1 -0.1)\">\r\n     <use xlink:href=\"#DejaVuSans-101\"/>\r\n     <use x=\"61.523438\" xlink:href=\"#DejaVuSans-108\"/>\r\n     <use x=\"89.306641\" xlink:href=\"#DejaVuSans-101\"/>\r\n     <use x=\"150.830078\" xlink:href=\"#DejaVuSans-99\"/>\r\n     <use x=\"205.810547\" xlink:href=\"#DejaVuSans-116\"/>\r\n     <use x=\"245.019531\" xlink:href=\"#DejaVuSans-114\"/>\r\n     <use x=\"283.882812\" xlink:href=\"#DejaVuSans-111\"/>\r\n     <use x=\"345.064453\" xlink:href=\"#DejaVuSans-110\"/>\r\n     <use x=\"408.443359\" xlink:href=\"#DejaVuSans-105\"/>\r\n     <use x=\"436.226562\" xlink:href=\"#DejaVuSans-99\"/>\r\n    </g>\r\n   </g>\r\n   <g id=\"text_8\">\r\n    <!-- alternative rock -->\r\n    <g transform=\"translate(227.447529 200.023041)scale(0.1 -0.1)\">\r\n     <use xlink:href=\"#DejaVuSans-97\"/>\r\n     <use x=\"61.279297\" xlink:href=\"#DejaVuSans-108\"/>\r\n     <use x=\"89.0625\" xlink:href=\"#DejaVuSans-116\"/>\r\n     <use x=\"128.271484\" xlink:href=\"#DejaVuSans-101\"/>\r\n     <use x=\"189.794922\" xlink:href=\"#DejaVuSans-114\"/>\r\n     <use x=\"229.158203\" xlink:href=\"#DejaVuSans-110\"/>\r\n     <use x=\"292.537109\" xlink:href=\"#DejaVuSans-97\"/>\r\n     <use x=\"353.816406\" xlink:href=\"#DejaVuSans-116\"/>\r\n     <use x=\"393.025391\" xlink:href=\"#DejaVuSans-105\"/>\r\n     <use x=\"420.808594\" xlink:href=\"#DejaVuSans-118\"/>\r\n     <use x=\"479.988281\" xlink:href=\"#DejaVuSans-101\"/>\r\n     <use x=\"541.511719\" xlink:href=\"#DejaVuSans-32\"/>\r\n     <use x=\"573.298828\" xlink:href=\"#DejaVuSans-114\"/>\r\n     <use x=\"612.162109\" xlink:href=\"#DejaVuSans-111\"/>\r\n     <use x=\"673.34375\" xlink:href=\"#DejaVuSans-99\"/>\r\n     <use x=\"728.324219\" xlink:href=\"#DejaVuSans-107\"/>\r\n    </g>\r\n   </g>\r\n   <g id=\"text_9\">\r\n    <!-- indie -->\r\n    <g transform=\"translate(250.020923 180.593916)scale(0.1 -0.1)\">\r\n     <use xlink:href=\"#DejaVuSans-105\"/>\r\n     <use x=\"27.783203\" xlink:href=\"#DejaVuSans-110\"/>\r\n     <use x=\"91.162109\" xlink:href=\"#DejaVuSans-100\"/>\r\n     <use x=\"154.638672\" xlink:href=\"#DejaVuSans-105\"/>\r\n     <use x=\"182.421875\" xlink:href=\"#DejaVuSans-101\"/>\r\n    </g>\r\n   </g>\r\n   <g id=\"text_10\">\r\n    <!-- 80s -->\r\n    <defs>\r\n     <path d=\"M 31.78125 34.625 \r\nQ 24.75 34.625 20.71875 30.859375 \r\nQ 16.703125 27.09375 16.703125 20.515625 \r\nQ 16.703125 13.921875 20.71875 10.15625 \r\nQ 24.75 6.390625 31.78125 6.390625 \r\nQ 38.8125 6.390625 42.859375 10.171875 \r\nQ 46.921875 13.96875 46.921875 20.515625 \r\nQ 46.921875 27.09375 42.890625 30.859375 \r\nQ 38.875 34.625 31.78125 34.625 \r\nz\r\nM 21.921875 38.8125 \r\nQ 15.578125 40.375 12.03125 44.71875 \r\nQ 8.5 49.078125 8.5 55.328125 \r\nQ 8.5 64.0625 14.71875 69.140625 \r\nQ 20.953125 74.21875 31.78125 74.21875 \r\nQ 42.671875 74.21875 48.875 69.140625 \r\nQ 55.078125 64.0625 55.078125 55.328125 \r\nQ 55.078125 49.078125 51.53125 44.71875 \r\nQ 48 40.375 41.703125 38.8125 \r\nQ 48.828125 37.15625 52.796875 32.3125 \r\nQ 56.78125 27.484375 56.78125 20.515625 \r\nQ 56.78125 9.90625 50.3125 4.234375 \r\nQ 43.84375 -1.421875 31.78125 -1.421875 \r\nQ 19.734375 -1.421875 13.25 4.234375 \r\nQ 6.78125 9.90625 6.78125 20.515625 \r\nQ 6.78125 27.484375 10.78125 32.3125 \r\nQ 14.796875 37.15625 21.921875 38.8125 \r\nz\r\nM 18.3125 54.390625 \r\nQ 18.3125 48.734375 21.84375 45.5625 \r\nQ 25.390625 42.390625 31.78125 42.390625 \r\nQ 38.140625 42.390625 41.71875 45.5625 \r\nQ 45.3125 48.734375 45.3125 54.390625 \r\nQ 45.3125 60.0625 41.71875 63.234375 \r\nQ 38.140625 66.40625 31.78125 66.40625 \r\nQ 25.390625 66.40625 21.84375 63.234375 \r\nQ 18.3125 60.0625 18.3125 54.390625 \r\nz\r\n\" id=\"DejaVuSans-56\"/>\r\n     <path d=\"M 31.78125 66.40625 \r\nQ 24.171875 66.40625 20.328125 58.90625 \r\nQ 16.5 51.421875 16.5 36.375 \r\nQ 16.5 21.390625 20.328125 13.890625 \r\nQ 24.171875 6.390625 31.78125 6.390625 \r\nQ 39.453125 6.390625 43.28125 13.890625 \r\nQ 47.125 21.390625 47.125 36.375 \r\nQ 47.125 51.421875 43.28125 58.90625 \r\nQ 39.453125 66.40625 31.78125 66.40625 \r\nz\r\nM 31.78125 74.21875 \r\nQ 44.046875 74.21875 50.515625 64.515625 \r\nQ 56.984375 54.828125 56.984375 36.375 \r\nQ 56.984375 17.96875 50.515625 8.265625 \r\nQ 44.046875 -1.421875 31.78125 -1.421875 \r\nQ 19.53125 -1.421875 13.0625 8.265625 \r\nQ 6.59375 17.96875 6.59375 36.375 \r\nQ 6.59375 54.828125 13.0625 64.515625 \r\nQ 19.53125 74.21875 31.78125 74.21875 \r\nz\r\n\" id=\"DejaVuSans-48\"/>\r\n    </defs>\r\n    <g transform=\"translate(264.972749 156.477855)scale(0.1 -0.1)\">\r\n     <use xlink:href=\"#DejaVuSans-56\"/>\r\n     <use x=\"63.623047\" xlink:href=\"#DejaVuSans-48\"/>\r\n     <use x=\"127.246094\" xlink:href=\"#DejaVuSans-115\"/>\r\n    </g>\r\n   </g>\r\n   <g id=\"text_11\">\r\n    <!-- rnb -->\r\n    <defs>\r\n     <path d=\"M 48.6875 27.296875 \r\nQ 48.6875 37.203125 44.609375 42.84375 \r\nQ 40.53125 48.484375 33.40625 48.484375 \r\nQ 26.265625 48.484375 22.1875 42.84375 \r\nQ 18.109375 37.203125 18.109375 27.296875 \r\nQ 18.109375 17.390625 22.1875 11.75 \r\nQ 26.265625 6.109375 33.40625 6.109375 \r\nQ 40.53125 6.109375 44.609375 11.75 \r\nQ 48.6875 17.390625 48.6875 27.296875 \r\nz\r\nM 18.109375 46.390625 \r\nQ 20.953125 51.265625 25.265625 53.625 \r\nQ 29.59375 56 35.59375 56 \r\nQ 45.5625 56 51.78125 48.09375 \r\nQ 58.015625 40.1875 58.015625 27.296875 \r\nQ 58.015625 14.40625 51.78125 6.484375 \r\nQ 45.5625 -1.421875 35.59375 -1.421875 \r\nQ 29.59375 -1.421875 25.265625 0.953125 \r\nQ 20.953125 3.328125 18.109375 8.203125 \r\nL 18.109375 0 \r\nL 9.078125 0 \r\nL 9.078125 75.984375 \r\nL 18.109375 75.984375 \r\nz\r\n\" id=\"DejaVuSans-98\"/>\r\n    </defs>\r\n    <g transform=\"translate(271.952542 131.052526)scale(0.1 -0.1)\">\r\n     <use xlink:href=\"#DejaVuSans-114\"/>\r\n     <use x=\"39.363281\" xlink:href=\"#DejaVuSans-110\"/>\r\n     <use x=\"102.742188\" xlink:href=\"#DejaVuSans-98\"/>\r\n    </g>\r\n   </g>\r\n  </g>\r\n </g>\r\n</svg>\r\n",
      "image/png": "[encoded data removed]"
     },
     "metadata": {}
    }
   ],
   "source": [
    "tags_plays_merge.head(10).set_index(\"tagValue\")[\"weight\"].plot.pie()"
   ]
  },
  {
   "cell_type": "markdown",
   "metadata": {},
   "source": [
    "## Ejercicio 2 - Sistema de Recomendación"
   ]
  },
  {
   "cell_type": "markdown",
   "metadata": {},
   "source": [
    "### Ejercicio 2a - Filtrados Colaborativos\n",
    "\n",
    "Esta parte del ejercicio es obligatoria para aprobar la parte introductoria de la materia (i.e. los contenidos que se ven en las dos primeras clases), quienes estén realizando la materia completa deerán realizar también el [Ejercicio 2b](#Ejercicio-2b---Sistemas-de-Recomendación-Avanzados). \n",
    "\n",
    "Deberán realizar un sistema de filtrados colaborativos basado en [Surpr!se](http://surpriselib.com/), a partir de los datos que proporciona `LastFM`, en especial el archivo `user_artists.dat`. Tener en cuenta los siguientes pasos:\n",
    "\n",
    "1. **Desarrollo de la matriz de Usuario-Contenido:** A partir del conjunto de datos deberán generar una matriz de usuario-contenido. Tener en cuenta que los ratings son implícitos, puesto que se dan a partir de la cantidad de veces que un usuario escuchó a determinado artista.\n",
    "2. **Entrenamiento del algoritmo de recomendación**: Utilizando las herramientas brindadas por [Surpr!se](http://surpriselib.com/), entrenen varios modelos (al menos 3) de sistemas de recomendación basados en filtrado colaborativo a partir de su matriz de usuario-contenido. Recuerden tener en cuenta lo aprendido en la diplomatura a la hora de evaluar y validar el modelo. Si necesitan inspiración, les recomendamos revisar [este notebook con información de como entrenar un sistema de recomendación con Surpr!se](https://github.com/susanli2016/Machine-Learning-with-Python/blob/master/Building%20Recommender%20System%20with%20Surprise.ipynb).\n",
    "3. **Sistema de recomendación**: A partir del mejor modelo de recomendación que haya surgido del caso anterior, y utilizando los datos del archivo `artist.dat`, armar un sistema de recomendación sencillo que, dado un nombre de un artista, devuelva el top 10 de artistas más similares. La idea es que el sistema tome el nombre de un artista y devuelva el nombre de otros artistas (no simplemente tomar y devolver IDs). Se recomienda [revisar este notebook para inspiración (ver el paso número 5)](https://github.com/topspinj/pydata-workshop/blob/master/tutorial.ipynb)."
   ]
  },
  {
   "cell_type": "markdown",
   "metadata": {},
   "source": [
    "### Preparación del conjunto de datos\n",
    "De forma previa a la implementación del algoritmo de recomendación, es necesario asignar al valor weight registrado (cantidad de reproducciones) para cada registro, un valor dentro de una escala predefinida. Esto se hará en 3 pasos:\n",
    "- Agrupar la cantidad de reproducciones por usuario y ordenarlas de mayor a menor.\n",
    "- Tomar los primeros 30 registros de reproducciones por cada usuario.\n",
    "- Agregar una columna \"rating\" que tomará un valor de 1 a 5 en base a una serie de intervalos predefinidos e identificados a partir del análisis de la distribución."
   ]
  },
  {
   "cell_type": "code",
   "execution_count": 12,
   "metadata": {},
   "outputs": [
    {
     "output_type": "stream",
     "name": "stdout",
     "text": [
      "(56006, 3)\n"
     ]
    }
   ],
   "source": [
    "user_artist_plays_sorted = user_artist_plays.groupby([\"userID\"]).apply(lambda x: x.sort_values([\"weight\"],ascending = False)).reset_index(drop = True)\n",
    "\n",
    "# user_artist_plays_top = user_artist_plays.groupby([\"userID\"]).head(30)\n",
    "user_artist_plays_top = user_artist_plays_sorted.groupby([\"userID\"]).head(30)\n",
    "print(user_artist_plays_top.shape)"
   ]
  },
  {
   "cell_type": "markdown",
   "metadata": {},
   "source": [
    "Chequeamos algunos usuarios"
   ]
  },
  {
   "cell_type": "code",
   "execution_count": 13,
   "metadata": {},
   "outputs": [
    {
     "output_type": "execute_result",
     "data": {
      "text/plain": [
       "   userID  artistID  weight\n",
       "0       2        51   13883\n",
       "1       2        52   11690\n",
       "2       2        53   11351\n",
       "3       2        54   10300\n",
       "4       2        55    8983"
      ],
      "text/html": "<div>\n<style scoped>\n    .dataframe tbody tr th:only-of-type {\n        vertical-align: middle;\n    }\n\n    .dataframe tbody tr th {\n        vertical-align: top;\n    }\n\n    .dataframe thead th {\n        text-align: right;\n    }\n</style>\n<table border=\"1\" class=\"dataframe\">\n  <thead>\n    <tr style=\"text-align: right;\">\n      <th></th>\n      <th>userID</th>\n      <th>artistID</th>\n      <th>weight</th>\n    </tr>\n  </thead>\n  <tbody>\n    <tr>\n      <th>0</th>\n      <td>2</td>\n      <td>51</td>\n      <td>13883</td>\n    </tr>\n    <tr>\n      <th>1</th>\n      <td>2</td>\n      <td>52</td>\n      <td>11690</td>\n    </tr>\n    <tr>\n      <th>2</th>\n      <td>2</td>\n      <td>53</td>\n      <td>11351</td>\n    </tr>\n    <tr>\n      <th>3</th>\n      <td>2</td>\n      <td>54</td>\n      <td>10300</td>\n    </tr>\n    <tr>\n      <th>4</th>\n      <td>2</td>\n      <td>55</td>\n      <td>8983</td>\n    </tr>\n  </tbody>\n</table>\n</div>"
     },
     "metadata": {},
     "execution_count": 13
    }
   ],
   "source": [
    "user_artist_plays_top.head(5)"
   ]
  },
  {
   "cell_type": "code",
   "execution_count": 14,
   "metadata": {},
   "outputs": [
    {
     "output_type": "execute_result",
     "data": {
      "text/plain": [
       "      userID  artistID  weight\n",
       "5815     123        88   16108\n",
       "5816     123      1396   10944\n",
       "5817     123      1390    7877\n",
       "5818     123      3025    6756\n",
       "5819     123      1195    4991"
      ],
      "text/html": "<div>\n<style scoped>\n    .dataframe tbody tr th:only-of-type {\n        vertical-align: middle;\n    }\n\n    .dataframe tbody tr th {\n        vertical-align: top;\n    }\n\n    .dataframe thead th {\n        text-align: right;\n    }\n</style>\n<table border=\"1\" class=\"dataframe\">\n  <thead>\n    <tr style=\"text-align: right;\">\n      <th></th>\n      <th>userID</th>\n      <th>artistID</th>\n      <th>weight</th>\n    </tr>\n  </thead>\n  <tbody>\n    <tr>\n      <th>5815</th>\n      <td>123</td>\n      <td>88</td>\n      <td>16108</td>\n    </tr>\n    <tr>\n      <th>5816</th>\n      <td>123</td>\n      <td>1396</td>\n      <td>10944</td>\n    </tr>\n    <tr>\n      <th>5817</th>\n      <td>123</td>\n      <td>1390</td>\n      <td>7877</td>\n    </tr>\n    <tr>\n      <th>5818</th>\n      <td>123</td>\n      <td>3025</td>\n      <td>6756</td>\n    </tr>\n    <tr>\n      <th>5819</th>\n      <td>123</td>\n      <td>1195</td>\n      <td>4991</td>\n    </tr>\n  </tbody>\n</table>\n</div>"
     },
     "metadata": {},
     "execution_count": 14
    }
   ],
   "source": [
    "user_artist_plays_top[user_artist_plays_top[\"userID\"] == 123].head(5)"
   ]
  },
  {
   "cell_type": "markdown",
   "metadata": {},
   "source": [
    "Calculamos rating"
   ]
  },
  {
   "cell_type": "code",
   "execution_count": 15,
   "metadata": {},
   "outputs": [
    {
     "output_type": "execute_result",
     "data": {
      "text/plain": [
       "1    43044\n",
       "2    12332\n",
       "3      624\n",
       "4        5\n",
       "5        1\n",
       "Name: rating, dtype: int64"
      ]
     },
     "metadata": {},
     "execution_count": 15
    }
   ],
   "source": [
    "# user_artist_plays_top[\"rating\"] = pd.cut(user_artist_plays_top[\"weight\"], 5, [0, 1000, 10000, 200000, 350000, 400000], labels=[\"1\", \"2\", \"3\", \"4\", \"5\"],include_lowest=True)\n",
    "user_artist_plays_top[\"rating\"] = pd.cut(user_artist_plays_top[\"weight\"], [0, 1000, 10000, 200000, 350000, 400000], labels=[\"1\", \"2\", \"3\", \"4\", \"5\"],include_lowest=True)\n",
    "\n",
    "# La distribucion de listens por usuario decae mas o menos exponencial. Probamos \"bins\"  mas o menos exponenciales.\n",
    "# user_artist_plays_top[\"rating\"] = pd.cut(user_artist_plays_top[\"weight\"], [0, 100, 1000, 10000, 100000, 500000], labels=[\"1\", \"2\", \"3\", \"4\", \"5\"],include_lowest=True)\n",
    "\n",
    "user_artist_plays_top[\"rating\"].value_counts() #.plot.pie()"
   ]
  },
  {
   "cell_type": "code",
   "execution_count": 16,
   "metadata": {},
   "outputs": [
    {
     "output_type": "execute_result",
     "data": {
      "text/plain": [
       "   userID  artistID  weight rating\n",
       "0       2        51   13883      3\n",
       "1       2        52   11690      3\n",
       "2       2        53   11351      3\n",
       "3       2        54   10300      3\n",
       "4       2        55    8983      2"
      ],
      "text/html": "<div>\n<style scoped>\n    .dataframe tbody tr th:only-of-type {\n        vertical-align: middle;\n    }\n\n    .dataframe tbody tr th {\n        vertical-align: top;\n    }\n\n    .dataframe thead th {\n        text-align: right;\n    }\n</style>\n<table border=\"1\" class=\"dataframe\">\n  <thead>\n    <tr style=\"text-align: right;\">\n      <th></th>\n      <th>userID</th>\n      <th>artistID</th>\n      <th>weight</th>\n      <th>rating</th>\n    </tr>\n  </thead>\n  <tbody>\n    <tr>\n      <th>0</th>\n      <td>2</td>\n      <td>51</td>\n      <td>13883</td>\n      <td>3</td>\n    </tr>\n    <tr>\n      <th>1</th>\n      <td>2</td>\n      <td>52</td>\n      <td>11690</td>\n      <td>3</td>\n    </tr>\n    <tr>\n      <th>2</th>\n      <td>2</td>\n      <td>53</td>\n      <td>11351</td>\n      <td>3</td>\n    </tr>\n    <tr>\n      <th>3</th>\n      <td>2</td>\n      <td>54</td>\n      <td>10300</td>\n      <td>3</td>\n    </tr>\n    <tr>\n      <th>4</th>\n      <td>2</td>\n      <td>55</td>\n      <td>8983</td>\n      <td>2</td>\n    </tr>\n  </tbody>\n</table>\n</div>"
     },
     "metadata": {},
     "execution_count": 16
    }
   ],
   "source": [
    "user_artist_plays_top.head()"
   ]
  },
  {
   "cell_type": "markdown",
   "metadata": {},
   "source": [
    "### Ejecicio 2.a"
   ]
  },
  {
   "cell_type": "code",
   "execution_count": 17,
   "metadata": {},
   "outputs": [],
   "source": [
    "# Importación de librerías necesarias.\n",
    "from surprise import Dataset, Reader, KNNWithMeans, NormalPredictor, KNNBasic, KNNWithMeans, KNNWithZScore, KNNBaseline, SVD, BaselineOnly, SVDpp, NMF, SlopeOne, CoClustering\n",
    "from surprise.accuracy import rmse\n",
    "from surprise.model_selection import cross_validate, train_test_split"
   ]
  },
  {
   "cell_type": "markdown",
   "metadata": {},
   "source": [
    "### 2.a.1. Matriz de contenido"
   ]
  },
  {
   "cell_type": "code",
   "execution_count": 18,
   "metadata": {},
   "outputs": [],
   "source": [
    "reader = Reader(rating_scale=(1, 5))\n",
    "\n",
    "ratings = Dataset.load_from_df(user_artist_plays_top[[\"userID\", \"artistID\", \"rating\"]], reader)"
   ]
  },
  {
   "cell_type": "markdown",
   "metadata": {},
   "source": [
    "### 2.a.2 Entrenamiento y análisis de algoritmos de recomendación"
   ]
  },
  {
   "cell_type": "code",
   "execution_count": 19,
   "metadata": {},
   "outputs": [
    {
     "output_type": "stream",
     "name": "stdout",
     "text": [
      "Estimating biases using als...\n",
      "Computing the msd similarity matrix...\n",
      "Done computing similarity matrix.\n",
      "Estimating biases using als...\n",
      "Computing the msd similarity matrix...\n",
      "Done computing similarity matrix.\n",
      "Estimating biases using als...\n",
      "Computing the msd similarity matrix...\n",
      "Done computing similarity matrix.\n",
      "Computing the msd similarity matrix...\n",
      "Done computing similarity matrix.\n",
      "Computing the msd similarity matrix...\n",
      "Done computing similarity matrix.\n",
      "Computing the msd similarity matrix...\n",
      "Done computing similarity matrix.\n",
      "Computing the msd similarity matrix...\n",
      "Done computing similarity matrix.\n",
      "Computing the msd similarity matrix...\n",
      "Done computing similarity matrix.\n",
      "Computing the msd similarity matrix...\n",
      "Done computing similarity matrix.\n",
      "Computing the msd similarity matrix...\n",
      "Done computing similarity matrix.\n",
      "Computing the msd similarity matrix...\n",
      "Done computing similarity matrix.\n",
      "Computing the msd similarity matrix...\n",
      "Done computing similarity matrix.\n",
      "Estimating biases using als...\n",
      "Estimating biases using als...\n",
      "Estimating biases using als...\n"
     ]
    }
   ],
   "source": [
    "benchmark = []\n",
    "# Iterate over all algorithms\n",
    "for algorithm in [SVD(), SVDpp(), SlopeOne(), NMF(), NormalPredictor(), KNNBaseline(), KNNBasic(), KNNWithMeans(), KNNWithZScore(), BaselineOnly(), CoClustering()]:\n",
    "    # Perform cross validation\n",
    "    results = cross_validate(algorithm, ratings, measures=['RMSE'], cv=3, verbose=False)\n",
    "    \n",
    "    # Get results & append algorithm name\n",
    "    tmp = pd.DataFrame.from_dict(results).mean(axis=0)\n",
    "    tmp = tmp.append(pd.Series([str(algorithm).split(' ')[0].split('.')[-1]], index=['Algorithm']))\n",
    "    benchmark.append(tmp)\n"
   ]
  },
  {
   "cell_type": "code",
   "execution_count": 20,
   "metadata": {},
   "outputs": [],
   "source": [
    "surprise_results = pd.DataFrame(benchmark).set_index('Algorithm').sort_values('test_rmse')"
   ]
  },
  {
   "cell_type": "code",
   "execution_count": 21,
   "metadata": {},
   "outputs": [
    {
     "output_type": "execute_result",
     "data": {
      "text/plain": [
       "               test_rmse   fit_time  test_time\n",
       "Algorithm                                     \n",
       "SVDpp           0.354874  14.853841   0.736491\n",
       "SVD             0.364413   2.316991   0.201546\n",
       "BaselineOnly    0.369649   0.141457   0.181532\n",
       "KNNWithMeans    0.379448   0.272027   1.812419\n",
       "KNNWithZScore   0.380907   0.326557   1.771977"
      ],
      "text/html": "<div>\n<style scoped>\n    .dataframe tbody tr th:only-of-type {\n        vertical-align: middle;\n    }\n\n    .dataframe tbody tr th {\n        vertical-align: top;\n    }\n\n    .dataframe thead th {\n        text-align: right;\n    }\n</style>\n<table border=\"1\" class=\"dataframe\">\n  <thead>\n    <tr style=\"text-align: right;\">\n      <th></th>\n      <th>test_rmse</th>\n      <th>fit_time</th>\n      <th>test_time</th>\n    </tr>\n    <tr>\n      <th>Algorithm</th>\n      <th></th>\n      <th></th>\n      <th></th>\n    </tr>\n  </thead>\n  <tbody>\n    <tr>\n      <th>SVDpp</th>\n      <td>0.354874</td>\n      <td>14.853841</td>\n      <td>0.736491</td>\n    </tr>\n    <tr>\n      <th>SVD</th>\n      <td>0.364413</td>\n      <td>2.316991</td>\n      <td>0.201546</td>\n    </tr>\n    <tr>\n      <th>BaselineOnly</th>\n      <td>0.369649</td>\n      <td>0.141457</td>\n      <td>0.181532</td>\n    </tr>\n    <tr>\n      <th>KNNWithMeans</th>\n      <td>0.379448</td>\n      <td>0.272027</td>\n      <td>1.812419</td>\n    </tr>\n    <tr>\n      <th>KNNWithZScore</th>\n      <td>0.380907</td>\n      <td>0.326557</td>\n      <td>1.771977</td>\n    </tr>\n  </tbody>\n</table>\n</div>"
     },
     "metadata": {},
     "execution_count": 21
    }
   ],
   "source": [
    "surprise_results.head()"
   ]
  },
  {
   "cell_type": "code",
   "execution_count": 22,
   "metadata": {},
   "outputs": [
    {
     "output_type": "stream",
     "name": "stdout",
     "text": [
      "RMSE on test: 0.3519\n"
     ]
    }
   ],
   "source": [
    "ratings_train, ratings_test = train_test_split(ratings, test_size=0.2)\n",
    "sim_options = {'name': 'pearson_baseline', 'user_based': False}\n",
    "model = SVDpp(random_state=42)\n",
    "model.fit(ratings_train)\n",
    "predictions = model.test(ratings_test)\n",
    "print(\"RMSE on test: {:.4f}\".format(rmse(predictions, verbose=False)))"
   ]
  },
  {
   "cell_type": "code",
   "execution_count": 23,
   "metadata": {},
   "outputs": [],
   "source": [
    "def get_Iu(uid):\n",
    "    \"\"\" return the number of items rated by given user\n",
    "    args: \n",
    "      uid: the id of the user\n",
    "    returns: \n",
    "      the number of items rated by the user\n",
    "    \"\"\"\n",
    "    try:\n",
    "        return len(ratings_train.ur[ratings_train.to_inner_uid(uid)])\n",
    "    except ValueError: # user was not part of the trainset\n",
    "        return 0\n",
    "    \n",
    "def get_Ui(iid):\n",
    "    \"\"\" return number of users that have rated given item\n",
    "    args:\n",
    "      iid: the raw id of the item\n",
    "    returns:\n",
    "      the number of users that have rated the item.\n",
    "    \"\"\"\n",
    "    try: \n",
    "        return len(ratings_train.ir[ratings_train.to_inner_iid(iid)])\n",
    "    except ValueError:\n",
    "        return 0\n",
    "\n",
    "df_predictions = pd.DataFrame(predictions, columns=['uid', 'iid', 'rui', 'est', 'details'])\n",
    "df_predictions['Iu'] = df_predictions.uid.apply(get_Iu)\n",
    "df_predictions['Ui'] = df_predictions.iid.apply(get_Ui)\n",
    "df_predictions['err'] = abs(df_predictions.est - df_predictions.rui)"
   ]
  },
  {
   "cell_type": "code",
   "execution_count": 24,
   "metadata": {},
   "outputs": [
    {
     "output_type": "execute_result",
     "data": {
      "text/plain": [
       "    uid   iid  rui       est                    details  Iu  Ui       err\n",
       "0   617  6378  1.0  1.095646  {'was_impossible': False}  23   1  0.095646\n",
       "1  2097  5154  1.0  1.032690  {'was_impossible': False}  21   3  0.032690\n",
       "2   248   644  1.0  1.123238  {'was_impossible': False}  26   8  0.123238\n",
       "3   155   875  2.0  1.698381  {'was_impossible': False}  24  20  0.301619\n",
       "4   751  9788  1.0  1.071215  {'was_impossible': False}  24   1  0.071215"
      ],
      "text/html": "<div>\n<style scoped>\n    .dataframe tbody tr th:only-of-type {\n        vertical-align: middle;\n    }\n\n    .dataframe tbody tr th {\n        vertical-align: top;\n    }\n\n    .dataframe thead th {\n        text-align: right;\n    }\n</style>\n<table border=\"1\" class=\"dataframe\">\n  <thead>\n    <tr style=\"text-align: right;\">\n      <th></th>\n      <th>uid</th>\n      <th>iid</th>\n      <th>rui</th>\n      <th>est</th>\n      <th>details</th>\n      <th>Iu</th>\n      <th>Ui</th>\n      <th>err</th>\n    </tr>\n  </thead>\n  <tbody>\n    <tr>\n      <th>0</th>\n      <td>617</td>\n      <td>6378</td>\n      <td>1.0</td>\n      <td>1.095646</td>\n      <td>{'was_impossible': False}</td>\n      <td>23</td>\n      <td>1</td>\n      <td>0.095646</td>\n    </tr>\n    <tr>\n      <th>1</th>\n      <td>2097</td>\n      <td>5154</td>\n      <td>1.0</td>\n      <td>1.032690</td>\n      <td>{'was_impossible': False}</td>\n      <td>21</td>\n      <td>3</td>\n      <td>0.032690</td>\n    </tr>\n    <tr>\n      <th>2</th>\n      <td>248</td>\n      <td>644</td>\n      <td>1.0</td>\n      <td>1.123238</td>\n      <td>{'was_impossible': False}</td>\n      <td>26</td>\n      <td>8</td>\n      <td>0.123238</td>\n    </tr>\n    <tr>\n      <th>3</th>\n      <td>155</td>\n      <td>875</td>\n      <td>2.0</td>\n      <td>1.698381</td>\n      <td>{'was_impossible': False}</td>\n      <td>24</td>\n      <td>20</td>\n      <td>0.301619</td>\n    </tr>\n    <tr>\n      <th>4</th>\n      <td>751</td>\n      <td>9788</td>\n      <td>1.0</td>\n      <td>1.071215</td>\n      <td>{'was_impossible': False}</td>\n      <td>24</td>\n      <td>1</td>\n      <td>0.071215</td>\n    </tr>\n  </tbody>\n</table>\n</div>"
     },
     "metadata": {},
     "execution_count": 24
    }
   ],
   "source": [
    "df_predictions.head()"
   ]
  },
  {
   "cell_type": "code",
   "execution_count": 25,
   "metadata": {},
   "outputs": [],
   "source": [
    "best_predictions = df_predictions.sort_values(by='err')[:10]\n",
    "worst_predictions = df_predictions.sort_values(by='err')[-10:]"
   ]
  },
  {
   "cell_type": "code",
   "execution_count": 26,
   "metadata": {},
   "outputs": [
    {
     "output_type": "execute_result",
     "data": {
      "text/plain": [
       "       uid   iid  rui  est                    details  Iu  Ui  err\n",
       "4526  1864  1418  1.0  1.0  {'was_impossible': False}  23  20  0.0\n",
       "6073  1463   604  1.0  1.0  {'was_impossible': False}  22  27  0.0\n",
       "1585  1032   583  1.0  1.0  {'was_impossible': False}  24   6  0.0\n",
       "3463  1982   432  1.0  1.0  {'was_impossible': False}  20  33  0.0\n",
       "3464  1122  1043  1.0  1.0  {'was_impossible': False}  21  40  0.0\n",
       "8793  1563  2440  1.0  1.0  {'was_impossible': False}  26   4  0.0\n",
       "8796   672  2845  1.0  1.0  {'was_impossible': False}  24   1  0.0\n",
       "6068  1294   324  1.0  1.0  {'was_impossible': False}  23  50  0.0\n",
       "6064    96   538  1.0  1.0  {'was_impossible': False}  23  63  0.0\n",
       "8802  1855  1977  1.0  1.0  {'was_impossible': False}  22   8  0.0"
      ],
      "text/html": "<div>\n<style scoped>\n    .dataframe tbody tr th:only-of-type {\n        vertical-align: middle;\n    }\n\n    .dataframe tbody tr th {\n        vertical-align: top;\n    }\n\n    .dataframe thead th {\n        text-align: right;\n    }\n</style>\n<table border=\"1\" class=\"dataframe\">\n  <thead>\n    <tr style=\"text-align: right;\">\n      <th></th>\n      <th>uid</th>\n      <th>iid</th>\n      <th>rui</th>\n      <th>est</th>\n      <th>details</th>\n      <th>Iu</th>\n      <th>Ui</th>\n      <th>err</th>\n    </tr>\n  </thead>\n  <tbody>\n    <tr>\n      <th>4526</th>\n      <td>1864</td>\n      <td>1418</td>\n      <td>1.0</td>\n      <td>1.0</td>\n      <td>{'was_impossible': False}</td>\n      <td>23</td>\n      <td>20</td>\n      <td>0.0</td>\n    </tr>\n    <tr>\n      <th>6073</th>\n      <td>1463</td>\n      <td>604</td>\n      <td>1.0</td>\n      <td>1.0</td>\n      <td>{'was_impossible': False}</td>\n      <td>22</td>\n      <td>27</td>\n      <td>0.0</td>\n    </tr>\n    <tr>\n      <th>1585</th>\n      <td>1032</td>\n      <td>583</td>\n      <td>1.0</td>\n      <td>1.0</td>\n      <td>{'was_impossible': False}</td>\n      <td>24</td>\n      <td>6</td>\n      <td>0.0</td>\n    </tr>\n    <tr>\n      <th>3463</th>\n      <td>1982</td>\n      <td>432</td>\n      <td>1.0</td>\n      <td>1.0</td>\n      <td>{'was_impossible': False}</td>\n      <td>20</td>\n      <td>33</td>\n      <td>0.0</td>\n    </tr>\n    <tr>\n      <th>3464</th>\n      <td>1122</td>\n      <td>1043</td>\n      <td>1.0</td>\n      <td>1.0</td>\n      <td>{'was_impossible': False}</td>\n      <td>21</td>\n      <td>40</td>\n      <td>0.0</td>\n    </tr>\n    <tr>\n      <th>8793</th>\n      <td>1563</td>\n      <td>2440</td>\n      <td>1.0</td>\n      <td>1.0</td>\n      <td>{'was_impossible': False}</td>\n      <td>26</td>\n      <td>4</td>\n      <td>0.0</td>\n    </tr>\n    <tr>\n      <th>8796</th>\n      <td>672</td>\n      <td>2845</td>\n      <td>1.0</td>\n      <td>1.0</td>\n      <td>{'was_impossible': False}</td>\n      <td>24</td>\n      <td>1</td>\n      <td>0.0</td>\n    </tr>\n    <tr>\n      <th>6068</th>\n      <td>1294</td>\n      <td>324</td>\n      <td>1.0</td>\n      <td>1.0</td>\n      <td>{'was_impossible': False}</td>\n      <td>23</td>\n      <td>50</td>\n      <td>0.0</td>\n    </tr>\n    <tr>\n      <th>6064</th>\n      <td>96</td>\n      <td>538</td>\n      <td>1.0</td>\n      <td>1.0</td>\n      <td>{'was_impossible': False}</td>\n      <td>23</td>\n      <td>63</td>\n      <td>0.0</td>\n    </tr>\n    <tr>\n      <th>8802</th>\n      <td>1855</td>\n      <td>1977</td>\n      <td>1.0</td>\n      <td>1.0</td>\n      <td>{'was_impossible': False}</td>\n      <td>22</td>\n      <td>8</td>\n      <td>0.0</td>\n    </tr>\n  </tbody>\n</table>\n</div>"
     },
     "metadata": {},
     "execution_count": 26
    }
   ],
   "source": [
    "best_predictions"
   ]
  },
  {
   "cell_type": "code",
   "execution_count": 27,
   "metadata": {},
   "outputs": [
    {
     "output_type": "execute_result",
     "data": {
      "text/plain": [
       "       uid   iid  rui       est                    details  Iu   Ui       err\n",
       "5230  1908    67  3.0  1.278557  {'was_impossible': False}  21  245  1.721443\n",
       "1372  1628   543  3.0  1.273947  {'was_impossible': False}  23   50  1.726053\n",
       "8425  1489   292  3.0  1.258474  {'was_impossible': False}  22  278  1.741526\n",
       "908    425   300  3.0  1.250509  {'was_impossible': False}  25  307  1.749491\n",
       "5189   378   157  3.0  1.182856  {'was_impossible': False}  23  151  1.817144\n",
       "93     411   475  3.0  1.176444  {'was_impossible': False}  28   99  1.823556\n",
       "4236  1086   683  3.0  1.174933  {'was_impossible': False}  25   47  1.825067\n",
       "6852  1256   511  3.0  1.167995  {'was_impossible': False}  25   87  1.832005\n",
       "3661   558    67  3.0  1.160469  {'was_impossible': False}   9  245  1.839531\n",
       "3042   994  6150  3.0  1.153537  {'was_impossible': False}  23    5  1.846463"
      ],
      "text/html": "<div>\n<style scoped>\n    .dataframe tbody tr th:only-of-type {\n        vertical-align: middle;\n    }\n\n    .dataframe tbody tr th {\n        vertical-align: top;\n    }\n\n    .dataframe thead th {\n        text-align: right;\n    }\n</style>\n<table border=\"1\" class=\"dataframe\">\n  <thead>\n    <tr style=\"text-align: right;\">\n      <th></th>\n      <th>uid</th>\n      <th>iid</th>\n      <th>rui</th>\n      <th>est</th>\n      <th>details</th>\n      <th>Iu</th>\n      <th>Ui</th>\n      <th>err</th>\n    </tr>\n  </thead>\n  <tbody>\n    <tr>\n      <th>5230</th>\n      <td>1908</td>\n      <td>67</td>\n      <td>3.0</td>\n      <td>1.278557</td>\n      <td>{'was_impossible': False}</td>\n      <td>21</td>\n      <td>245</td>\n      <td>1.721443</td>\n    </tr>\n    <tr>\n      <th>1372</th>\n      <td>1628</td>\n      <td>543</td>\n      <td>3.0</td>\n      <td>1.273947</td>\n      <td>{'was_impossible': False}</td>\n      <td>23</td>\n      <td>50</td>\n      <td>1.726053</td>\n    </tr>\n    <tr>\n      <th>8425</th>\n      <td>1489</td>\n      <td>292</td>\n      <td>3.0</td>\n      <td>1.258474</td>\n      <td>{'was_impossible': False}</td>\n      <td>22</td>\n      <td>278</td>\n      <td>1.741526</td>\n    </tr>\n    <tr>\n      <th>908</th>\n      <td>425</td>\n      <td>300</td>\n      <td>3.0</td>\n      <td>1.250509</td>\n      <td>{'was_impossible': False}</td>\n      <td>25</td>\n      <td>307</td>\n      <td>1.749491</td>\n    </tr>\n    <tr>\n      <th>5189</th>\n      <td>378</td>\n      <td>157</td>\n      <td>3.0</td>\n      <td>1.182856</td>\n      <td>{'was_impossible': False}</td>\n      <td>23</td>\n      <td>151</td>\n      <td>1.817144</td>\n    </tr>\n    <tr>\n      <th>93</th>\n      <td>411</td>\n      <td>475</td>\n      <td>3.0</td>\n      <td>1.176444</td>\n      <td>{'was_impossible': False}</td>\n      <td>28</td>\n      <td>99</td>\n      <td>1.823556</td>\n    </tr>\n    <tr>\n      <th>4236</th>\n      <td>1086</td>\n      <td>683</td>\n      <td>3.0</td>\n      <td>1.174933</td>\n      <td>{'was_impossible': False}</td>\n      <td>25</td>\n      <td>47</td>\n      <td>1.825067</td>\n    </tr>\n    <tr>\n      <th>6852</th>\n      <td>1256</td>\n      <td>511</td>\n      <td>3.0</td>\n      <td>1.167995</td>\n      <td>{'was_impossible': False}</td>\n      <td>25</td>\n      <td>87</td>\n      <td>1.832005</td>\n    </tr>\n    <tr>\n      <th>3661</th>\n      <td>558</td>\n      <td>67</td>\n      <td>3.0</td>\n      <td>1.160469</td>\n      <td>{'was_impossible': False}</td>\n      <td>9</td>\n      <td>245</td>\n      <td>1.839531</td>\n    </tr>\n    <tr>\n      <th>3042</th>\n      <td>994</td>\n      <td>6150</td>\n      <td>3.0</td>\n      <td>1.153537</td>\n      <td>{'was_impossible': False}</td>\n      <td>23</td>\n      <td>5</td>\n      <td>1.846463</td>\n    </tr>\n  </tbody>\n</table>\n</div>"
     },
     "metadata": {},
     "execution_count": 27
    }
   ],
   "source": [
    "worst_predictions"
   ]
  },
  {
   "cell_type": "markdown",
   "metadata": {},
   "source": [
    "### 2.a.3 Sistema de recomendación"
   ]
  },
  {
   "cell_type": "code",
   "execution_count": 28,
   "metadata": {
    "tags": []
   },
   "outputs": [],
   "source": [
    "from collections import defaultdict\n",
    "from collections import Counter\n",
    "\n",
    "def get_top_n_similar(predictions, artistID, n=10):\n",
    "    # Mapeo de predicciones por cada usuario\n",
    "    top_n = defaultdict(list)\n",
    "\n",
    "    for uid, iid, true_r, est, _ in predictions:\n",
    "        top_n[uid].append((iid, est))\n",
    "\n",
    "    # Se toman las 10 primeras predicciones de cada usuario\n",
    "    for uid, user_ratings in top_n.items():\n",
    "        user_ratings.sort(key=lambda x: x[1], reverse=True)\n",
    "        top_n[uid] = user_ratings[:n]\n",
    "\n",
    "    # Se recorren para todos los usuarios, aquellas listas en las que aparece el artista, y se eligen los 10 más frecuentes.\n",
    "    artistIDs = []\n",
    "    for uid, user_ratings in top_n.items():\n",
    "        agregarIds = False\n",
    "        for rating in user_ratings:\n",
    "            iid = rating[0]\n",
    "            if (iid == artistID):\n",
    "                agregarIds = True\n",
    "                break\n",
    "        if (agregarIds == True):\n",
    "            for rating in user_ratings:\n",
    "                artistIDs.append(rating[0])\n",
    "\n",
    "    list_freq = (Counter(artistIDs)).most_common(n)\n",
    "\n",
    "    return list_freq"
   ]
  },
  {
   "cell_type": "code",
   "execution_count": 29,
   "metadata": {},
   "outputs": [],
   "source": [
    "def print_top_10_similar(artist_name):\n",
    "    artistID = artist_data[artist_data[\"name\"].str.lower() == artist_name.lower()].id.item()\n",
    "\n",
    "    top_n_similar = get_top_n_similar(predictions, artistID, 10)\n",
    "\n",
    "    for key, value in top_n_similar:\n",
    "        if (key != artistID):\n",
    "            print(artist_data[artist_data[\"id\"] == key].name.item())"
   ]
  },
  {
   "cell_type": "code",
   "execution_count": 30,
   "metadata": {},
   "outputs": [
    {
     "output_type": "stream",
     "name": "stdout",
     "text": [
      "The Beatles\nThe Beach Boys\nLed Zeppelin\nWhitesnake\nMichael Jackson\nU2\nManic Street Preachers\nInterpol\nBelle and Sebastian\n"
     ]
    }
   ],
   "source": [
    "print_top_10_similar(\"The Rolling Stones\")"
   ]
  },
  {
   "cell_type": "code",
   "execution_count": 31,
   "metadata": {},
   "outputs": [
    {
     "output_type": "stream",
     "name": "stdout",
     "text": [
      "Gustavo Cerati\nCelia Cruz\nGary Moore\nMadonna\nAce of Base\nHeaven 17\nMadness\nJoy Division\nFleetwood Mac\n"
     ]
    }
   ],
   "source": [
    "print_top_10_similar(\"ABBA\")"
   ]
  },
  {
   "cell_type": "markdown",
   "metadata": {},
   "source": [
    "Artistas sin similares"
   ]
  },
  {
   "cell_type": "code",
   "execution_count": 32,
   "metadata": {},
   "outputs": [],
   "source": [
    "print_top_10_similar(\"The Archies\")"
   ]
  },
  {
   "cell_type": "markdown",
   "metadata": {},
   "source": [
    "### Ejercicio 2b - Sistemas de Recomendación Avanzados\n",
    "\n",
    "Este ejercicio lo deberán completar quienes hayan realizado ambas partes de la materia pues requiere de los conocimientos adquiridos en las segundas dos clases. En este caso, utilizarán no sólo la información de la matriz de usuario-contenido, sino que deberán hacer uso de otra información para poder lidiar con el problema del \"Cold Start\", i.e. que es lo que ocurre cuando tengo nuevos usuarios o artistas. Tener en cuenta los siguientes pasos:\n",
    "1. **Evaluación sobre cold start**: Para evaluar como funciona el sistema con el problema del \"cold start\", deberán tomar ciertos artistas y \"dejarlos fuera\", i.e. remover cualquier participación del artista en el sistema. Esos serán los artistas que se evaluarán como \"cold start\".\n",
    "2. **Vectores de contenido**: Deberán generar vectores de contenido para los artistas, basados en los tags que los usuarios les dan (ver los archivos `user_taggedartists.dat` y `tags.dat`).\n",
    "3. **Sistema de recomendación**: Deberán crear un sistema de recomendación que tomará como parámetros la información del artista (i.e. nombre y tags). Con dicha información, deberán disponer de un sistema de recomendación híbrido (utilizando cualquiera de las técnicas vistas en clase) que devuelva artistas similares. El sistema de recomendación deberá utilizar toda la información proporcionada para dar una mejor respuesta.\n",
    "4. **Evaluación del sistema**: Deberán evaluar \"a mano\" el sistema sobre artistas que conozca y artistas que no conozca (i.e. que fueron dejados afuera), y hacer un análisis de lo que el sistema está devolviendo."
   ]
  },
  {
   "cell_type": "markdown",
   "metadata": {},
   "source": [
    "### 2.b.1 Evaluación sobre cold start\n",
    "Para abordar el problema de cold start, el análisis se realizó sobre los tags asignados a los artistas. Se resolvió trabajar sólo con las primeras 3 tags más relevantes de cada artista."
   ]
  },
  {
   "cell_type": "code",
   "execution_count": 33,
   "metadata": {},
   "outputs": [],
   "source": [
    "user_tagged_artists_count = user_tagged_artists[[\"artistID\", \"tagID\"]]\n",
    "user_tagged_artists_count[\"count\"] = user_tagged_artists_count.groupby([\"artistID\", \"tagID\"])[\"tagID\"].transform(\"count\")\n",
    "user_tagged_artists_count = user_tagged_artists_count.drop_duplicates()\n",
    "user_tagged_artists_count = user_tagged_artists_count.groupby([\"artistID\"]).apply(lambda x: x.sort_values([\"count\"],ascending = False)).reset_index(drop = True)\n",
    "\n",
    "user_tagged_artists_count = user_tagged_artists_count.groupby(\"artistID\").head(3)"
   ]
  },
  {
   "cell_type": "code",
   "execution_count": 34,
   "metadata": {},
   "outputs": [
    {
     "output_type": "execute_result",
     "data": {
      "text/plain": [
       "   artistID  tagID  count\n",
       "0         1    139      5\n",
       "1         1    141      3\n",
       "2         1    179      2\n",
       "7         2    575      8\n",
       "8         2     30      5"
      ],
      "text/html": "<div>\n<style scoped>\n    .dataframe tbody tr th:only-of-type {\n        vertical-align: middle;\n    }\n\n    .dataframe tbody tr th {\n        vertical-align: top;\n    }\n\n    .dataframe thead th {\n        text-align: right;\n    }\n</style>\n<table border=\"1\" class=\"dataframe\">\n  <thead>\n    <tr style=\"text-align: right;\">\n      <th></th>\n      <th>artistID</th>\n      <th>tagID</th>\n      <th>count</th>\n    </tr>\n  </thead>\n  <tbody>\n    <tr>\n      <th>0</th>\n      <td>1</td>\n      <td>139</td>\n      <td>5</td>\n    </tr>\n    <tr>\n      <th>1</th>\n      <td>1</td>\n      <td>141</td>\n      <td>3</td>\n    </tr>\n    <tr>\n      <th>2</th>\n      <td>1</td>\n      <td>179</td>\n      <td>2</td>\n    </tr>\n    <tr>\n      <th>7</th>\n      <td>2</td>\n      <td>575</td>\n      <td>8</td>\n    </tr>\n    <tr>\n      <th>8</th>\n      <td>2</td>\n      <td>30</td>\n      <td>5</td>\n    </tr>\n  </tbody>\n</table>\n</div>"
     },
     "metadata": {},
     "execution_count": 34
    }
   ],
   "source": [
    "user_tagged_artists_count.head()"
   ]
  },
  {
   "cell_type": "markdown",
   "metadata": {},
   "source": [
    "Luego, sobre el dataset que contiene los 3 tags más frecuentes de cada artista se hace una operación \"merge\" con los tags para tener los nombres de cada género."
   ]
  },
  {
   "cell_type": "code",
   "execution_count": 35,
   "metadata": {},
   "outputs": [
    {
     "output_type": "execute_result",
     "data": {
      "text/plain": [
       "       artistID  tagID  count          tagValue\n",
       "10079      3967    130      1  female vocalists\n",
       "16885      5162    386      1       heavy metal\n",
       "13664     13160    192      1      classic rock\n",
       "3819      11630     18      2        electronic\n",
       "4372       4733    321      2            french"
      ],
      "text/html": "<div>\n<style scoped>\n    .dataframe tbody tr th:only-of-type {\n        vertical-align: middle;\n    }\n\n    .dataframe tbody tr th {\n        vertical-align: top;\n    }\n\n    .dataframe thead th {\n        text-align: right;\n    }\n</style>\n<table border=\"1\" class=\"dataframe\">\n  <thead>\n    <tr style=\"text-align: right;\">\n      <th></th>\n      <th>artistID</th>\n      <th>tagID</th>\n      <th>count</th>\n      <th>tagValue</th>\n    </tr>\n  </thead>\n  <tbody>\n    <tr>\n      <th>10079</th>\n      <td>3967</td>\n      <td>130</td>\n      <td>1</td>\n      <td>female vocalists</td>\n    </tr>\n    <tr>\n      <th>16885</th>\n      <td>5162</td>\n      <td>386</td>\n      <td>1</td>\n      <td>heavy metal</td>\n    </tr>\n    <tr>\n      <th>13664</th>\n      <td>13160</td>\n      <td>192</td>\n      <td>1</td>\n      <td>classic rock</td>\n    </tr>\n    <tr>\n      <th>3819</th>\n      <td>11630</td>\n      <td>18</td>\n      <td>2</td>\n      <td>electronic</td>\n    </tr>\n    <tr>\n      <th>4372</th>\n      <td>4733</td>\n      <td>321</td>\n      <td>2</td>\n      <td>french</td>\n    </tr>\n  </tbody>\n</table>\n</div>"
     },
     "metadata": {},
     "execution_count": 35
    }
   ],
   "source": [
    "# Merge con Tags para tener los nombres de tags\n",
    "artists_tags_top = user_tagged_artists_count.merge(tags, on=\"tagID\").drop_duplicates()\n",
    "\n",
    "artists_tags_top.sample(5)"
   ]
  },
  {
   "cell_type": "markdown",
   "metadata": {},
   "source": [
    "Algunas tags parecen no ser buenas para determinar género."
   ]
  },
  {
   "cell_type": "markdown",
   "metadata": {},
   "source": [
    "### 2.b.2 Vector de contenido"
   ]
  },
  {
   "cell_type": "markdown",
   "metadata": {},
   "source": [
    "Para armar el vector de contenido, se tomará una lista de valores únicos de aquellos tags que se encuentran en el dataset que almacena los 3 tags más frecuentes por cada artista. "
   ]
  },
  {
   "cell_type": "code",
   "execution_count": 36,
   "metadata": {},
   "outputs": [
    {
     "output_type": "execute_result",
     "data": {
      "text/plain": [
       "0                j-rock\n",
       "66           visual kei\n",
       "129              gothic\n",
       "218            darkwave\n",
       "280              german\n",
       "              ...      \n",
       "32403             ustad\n",
       "32404         a capella\n",
       "32405    massive attack\n",
       "32406         trip beat\n",
       "32407        dead music\n",
       "Name: tagValue, Length: 2821, dtype: object"
      ]
     },
     "metadata": {},
     "execution_count": 36
    }
   ],
   "source": [
    "used_tags = artists_tags_top['tagValue'].drop_duplicates()\n",
    "used_tags"
   ]
  },
  {
   "cell_type": "markdown",
   "metadata": {},
   "source": [
    "El vector de contenido será resultado de una transformación del dataset \"artists_tags_top\", agregando una columna por cada género (tag) y quitando las restantes columnas."
   ]
  },
  {
   "cell_type": "code",
   "execution_count": 37,
   "metadata": {},
   "outputs": [
    {
     "output_type": "execute_result",
     "data": {
      "text/plain": [
       "   j-rock  visual kei  gothic  darkwave  german  black metal  \\\n",
       "0       1           0       0         0       0            0   \n",
       "1       1           0       0         0       0            0   \n",
       "2       1           0       0         0       0            0   \n",
       "3       1           0       0         0       0            0   \n",
       "4       1           0       0         0       0            0   \n",
       "\n",
       "   true norwegian black metal  norwegian black metal  japanese  gothic rock  \\\n",
       "0                           0                      0         0            0   \n",
       "1                           0                      0         0            0   \n",
       "2                           0                      0         0            0   \n",
       "3                           0                      0         0            0   \n",
       "4                           0                      0         0            0   \n",
       "\n",
       "   ...  ou nao  batcave deathrock  stoner power rock  italodance  \\\n",
       "0  ...       0                  0                  0           0   \n",
       "1  ...       0                  0                  0           0   \n",
       "2  ...       0                  0                  0           0   \n",
       "3  ...       0                  0                  0           0   \n",
       "4  ...       0                  0                  0           0   \n",
       "\n",
       "   amazing singer  ustad  a capella  massive attack  trip beat  dead music  \n",
       "0               0      0          0               0          0           0  \n",
       "1               0      0          0               0          0           0  \n",
       "2               0      0          0               0          0           0  \n",
       "3               0      0          0               0          0           0  \n",
       "4               0      0          0               0          0           0  \n",
       "\n",
       "[5 rows x 2821 columns]"
      ],
      "text/html": "<div>\n<style scoped>\n    .dataframe tbody tr th:only-of-type {\n        vertical-align: middle;\n    }\n\n    .dataframe tbody tr th {\n        vertical-align: top;\n    }\n\n    .dataframe thead th {\n        text-align: right;\n    }\n</style>\n<table border=\"1\" class=\"dataframe\">\n  <thead>\n    <tr style=\"text-align: right;\">\n      <th></th>\n      <th>j-rock</th>\n      <th>visual kei</th>\n      <th>gothic</th>\n      <th>darkwave</th>\n      <th>german</th>\n      <th>black metal</th>\n      <th>true norwegian black metal</th>\n      <th>norwegian black metal</th>\n      <th>japanese</th>\n      <th>gothic rock</th>\n      <th>...</th>\n      <th>ou nao</th>\n      <th>batcave deathrock</th>\n      <th>stoner power rock</th>\n      <th>italodance</th>\n      <th>amazing singer</th>\n      <th>ustad</th>\n      <th>a capella</th>\n      <th>massive attack</th>\n      <th>trip beat</th>\n      <th>dead music</th>\n    </tr>\n  </thead>\n  <tbody>\n    <tr>\n      <th>0</th>\n      <td>1</td>\n      <td>0</td>\n      <td>0</td>\n      <td>0</td>\n      <td>0</td>\n      <td>0</td>\n      <td>0</td>\n      <td>0</td>\n      <td>0</td>\n      <td>0</td>\n      <td>...</td>\n      <td>0</td>\n      <td>0</td>\n      <td>0</td>\n      <td>0</td>\n      <td>0</td>\n      <td>0</td>\n      <td>0</td>\n      <td>0</td>\n      <td>0</td>\n      <td>0</td>\n    </tr>\n    <tr>\n      <th>1</th>\n      <td>1</td>\n      <td>0</td>\n      <td>0</td>\n      <td>0</td>\n      <td>0</td>\n      <td>0</td>\n      <td>0</td>\n      <td>0</td>\n      <td>0</td>\n      <td>0</td>\n      <td>...</td>\n      <td>0</td>\n      <td>0</td>\n      <td>0</td>\n      <td>0</td>\n      <td>0</td>\n      <td>0</td>\n      <td>0</td>\n      <td>0</td>\n      <td>0</td>\n      <td>0</td>\n    </tr>\n    <tr>\n      <th>2</th>\n      <td>1</td>\n      <td>0</td>\n      <td>0</td>\n      <td>0</td>\n      <td>0</td>\n      <td>0</td>\n      <td>0</td>\n      <td>0</td>\n      <td>0</td>\n      <td>0</td>\n      <td>...</td>\n      <td>0</td>\n      <td>0</td>\n      <td>0</td>\n      <td>0</td>\n      <td>0</td>\n      <td>0</td>\n      <td>0</td>\n      <td>0</td>\n      <td>0</td>\n      <td>0</td>\n    </tr>\n    <tr>\n      <th>3</th>\n      <td>1</td>\n      <td>0</td>\n      <td>0</td>\n      <td>0</td>\n      <td>0</td>\n      <td>0</td>\n      <td>0</td>\n      <td>0</td>\n      <td>0</td>\n      <td>0</td>\n      <td>...</td>\n      <td>0</td>\n      <td>0</td>\n      <td>0</td>\n      <td>0</td>\n      <td>0</td>\n      <td>0</td>\n      <td>0</td>\n      <td>0</td>\n      <td>0</td>\n      <td>0</td>\n    </tr>\n    <tr>\n      <th>4</th>\n      <td>1</td>\n      <td>0</td>\n      <td>0</td>\n      <td>0</td>\n      <td>0</td>\n      <td>0</td>\n      <td>0</td>\n      <td>0</td>\n      <td>0</td>\n      <td>0</td>\n      <td>...</td>\n      <td>0</td>\n      <td>0</td>\n      <td>0</td>\n      <td>0</td>\n      <td>0</td>\n      <td>0</td>\n      <td>0</td>\n      <td>0</td>\n      <td>0</td>\n      <td>0</td>\n    </tr>\n  </tbody>\n</table>\n<p>5 rows × 2821 columns</p>\n</div>"
     },
     "metadata": {},
     "execution_count": 37
    }
   ],
   "source": [
    "# Vector de contenido.\n",
    "for g in used_tags:\n",
    "    artists_tags_top[g] = artists_tags_top.tagValue.transform(lambda x: int(g in x))\n",
    "   \n",
    "artists_tags_transform = artists_tags_top.drop(columns=['tagValue', 'count', 'artistID', 'tagID'])\n",
    "artists_tags_transform.head()"
   ]
  },
  {
   "cell_type": "markdown",
   "metadata": {},
   "source": [
    "### 2.b.3 Sistema de recomendación"
   ]
  },
  {
   "cell_type": "markdown",
   "metadata": {},
   "source": [
    "El sistema de recomendación utilizará la implementación de Similitud Coseno de sklearn como métrica de cálculo."
   ]
  },
  {
   "cell_type": "code",
   "execution_count": 38,
   "metadata": {},
   "outputs": [],
   "source": [
    "# Cálculo de similitud coseno\n",
    "from sklearn.metrics.pairwise import cosine_similarity\n",
    "\n",
    "cosine_sim = cosine_similarity(artists_tags_transform, artists_tags_transform)"
   ]
  },
  {
   "cell_type": "code",
   "execution_count": 39,
   "metadata": {},
   "outputs": [],
   "source": [
    "# Sistema de recomendación\n",
    "def artists_finder(artist_name):\n",
    "    artists_idx = dict(zip(artist_data['name'], list(artist_data.index)))\n",
    "    n_recommendations = 10\n",
    "\n",
    "    idx = artists_idx[artist_name]\n",
    "    sim_scores = list(enumerate(cosine_sim[idx]))\n",
    "\n",
    "    # eliminamos el propio artista.\n",
    "    sim_scores[idx] = (idx, 0)\n",
    "\n",
    "    sim_scores = sorted(sim_scores, key=lambda x: x[1], reverse=True)\n",
    "    # sim_scores = sim_scores[1:(n_recommendations+1)]\n",
    "    sim_scores = sim_scores[:n_recommendations]\n",
    "\n",
    "    similar_artists = [i[0] for i in sim_scores]\n",
    "    \n",
    "    return artist_data['name'].iloc[similar_artists]"
   ]
  },
  {
   "cell_type": "code",
   "execution_count": 40,
   "metadata": {},
   "outputs": [
    {
     "output_type": "stream",
     "name": "stdout",
     "text": [
      "Artistas similares para The Beatles:\n\tYeong-wook Jo\n\tInterpol\n\tQueens of the Stone Age\n\tKings of Leon\n\tThe Killers\n\tGreen Day\n\tDevendra Banhart\n\tSunset Rubdown\n\tNine Inch Nails\n\tNirvana\n"
     ]
    }
   ],
   "source": [
    "artist_name = \"The Beatles\"\n",
    "\n",
    "print(\"Artistas similares para {}:\".format(artist_name))\n",
    "for artist in artists_finder(artist_name):\n",
    "    print(\"\\t{}\".format(artist))"
   ]
  },
  {
   "cell_type": "code",
   "execution_count": 41,
   "metadata": {},
   "outputs": [
    {
     "output_type": "stream",
     "name": "stdout",
     "text": [
      "Artistas similares para ABBA:\n\tMSTRKRFT\n\tCalvin Harris\n\tPendulum\n\tKing Crimson\n\tLed Zeppelin\n\tGenesis\n\tPaul McCartney\n\tCreedence Clearwater Revival\n\tGeorge Harrison\n\tTýr\n"
     ]
    }
   ],
   "source": [
    "artist_name = \"ABBA\"\n",
    "\n",
    "print(\"Artistas similares para {}:\".format(artist_name))\n",
    "for artist in artists_finder(artist_name):\n",
    "    print(\"\\t{}\".format(artist))"
   ]
  },
  {
   "cell_type": "markdown",
   "metadata": {},
   "source": [
    "### 2.b.4 Evaluación manual del sistema"
   ]
  },
  {
   "cell_type": "markdown",
   "metadata": {},
   "source": [
    "Usamos los datos calculados para el [Ejercicio 2](#Ejercicio-2---Sistema-de-Recomendación)"
   ]
  },
  {
   "cell_type": "code",
   "execution_count": 42,
   "metadata": {},
   "outputs": [],
   "source": [
    "# Elegimos 5 artistas al azar.\n",
    "cold_set = user_artist_plays_top[\"artistID\"].sample(5).unique()\n",
    "\n",
    "# y los borramos.\n",
    "hot_df = user_artist_plays_top[~user_artist_plays_top[\"artistID\"].isin(cold_set)]"
   ]
  },
  {
   "cell_type": "code",
   "execution_count": 43,
   "metadata": {},
   "outputs": [
    {
     "output_type": "execute_result",
     "data": {
      "text/plain": [
       "array([ 607, 7973, 1418, 1873,   67], dtype=int64)"
      ]
     },
     "metadata": {},
     "execution_count": 43
    }
   ],
   "source": [
    "cold_set"
   ]
  },
  {
   "cell_type": "markdown",
   "metadata": {},
   "source": [
    "Entrenamos el mismo modelo que antes pero para un subset de artistas."
   ]
  },
  {
   "cell_type": "code",
   "execution_count": 44,
   "metadata": {},
   "outputs": [
    {
     "output_type": "stream",
     "name": "stdout",
     "text": [
      "RMSE on test: 0.3515\n"
     ]
    }
   ],
   "source": [
    "reader = Reader(rating_scale=(1, 5))\n",
    "ratings = Dataset.load_from_df(hot_df[[\"userID\", \"artistID\", \"rating\"]], reader)\n",
    "\n",
    "ratings_train, ratings_test = train_test_split(ratings, test_size=0.2)\n",
    "sim_options = {'name': 'pearson_baseline', 'user_based': False}\n",
    "model = SVDpp(random_state=42)\n",
    "model.fit(ratings_train)\n",
    "predictions = model.test(ratings_test)\n",
    "print(\"RMSE on test: {:.4f}\".format(rmse(predictions, verbose=False)))\n",
    "\n",
    "\n",
    "def print_top_hibrid(artistID):\n",
    "    artist_name = artist_data[artist_data.id == artistID].name.item()\n",
    "    related_artists = artists_finder(artist_name)[:5]\n",
    "\n",
    "    result = []\n",
    "    for ra_name in related_artists:\n",
    "        print(ra_name)\n",
    "        ra_id = artist_data[artist_data.name == ra_name].id.item()\n",
    "        for artist_id, score in get_top_n_similar(predictions, ra_id, 3):\n",
    "            a_name = artist_data[artist_data.id == artist_id].name.item()\n",
    "            print(f\"  - {a_name}\")"
   ]
  },
  {
   "cell_type": "code",
   "execution_count": 45,
   "metadata": {
    "scrolled": false
   },
   "outputs": [
    {
     "output_type": "stream",
     "name": "stdout",
     "text": [
      "Jethro Tull\n",
      "Maroon 5\n",
      "  - Maroon 5\n",
      "  - Timbaland\n",
      "  - Justin Bieber\n",
      "Gossip\n",
      "Fall Out Boy\n",
      "  - Fall Out Boy\n",
      "  - Cobra Starship\n",
      "  - Paramore\n",
      "Space Cowboy\n",
      "Pitty\n",
      "  - Pitty\n",
      "  - Britney Spears\n",
      "  - Anahí\n",
      "\n",
      "ZuBCoRe\n",
      "Chicago Afrobeat Project\n",
      "Tunji Oyelana and the Benders\n",
      "Sir Victor Uwaifo\n",
      "The Daktaris\n",
      "Africando\n",
      "\n",
      "Mogwai\n",
      "MSTRKRFT\n",
      "Calvin Harris\n",
      "  - Calvin Harris\n",
      "  - Lil' Wayne\n",
      "  - David Guetta\n",
      "Pendulum\n",
      "King Crimson\n",
      "  - King Crimson\n",
      "  - Frédéric Chopin\n",
      "  - Emerson, Lake & Palmer\n",
      "Led Zeppelin\n",
      "  - Led Zeppelin\n",
      "  - The Beatles\n",
      "  - Hanoi Rocks\n",
      "\n",
      "Audioslave\n",
      "MSTRKRFT\n",
      "Calvin Harris\n",
      "  - Calvin Harris\n",
      "  - Lil' Wayne\n",
      "  - David Guetta\n",
      "Pendulum\n",
      "King Crimson\n",
      "  - King Crimson\n",
      "  - Frédéric Chopin\n",
      "  - Emerson, Lake & Palmer\n",
      "Led Zeppelin\n",
      "  - Led Zeppelin\n",
      "  - The Beatles\n",
      "  - Hanoi Rocks\n",
      "\n",
      "Madonna\n",
      "MALICE MIZER\n",
      "Diary of Dreams\n",
      "  - De/Vision\n",
      "  - Project Pitchfork\n",
      "  - Diary of Dreams\n",
      "Carpathian Forest\n",
      "Moi dix Mois\n",
      "Bella Morte\n",
      "\n"
     ]
    }
   ],
   "source": [
    "for cs in cold_set:\n",
    "    cs_name = artist_data[artist_data.id == cs].name.item()\n",
    "    print(cs_name)\n",
    "    print_top_hibrid(cs)\n",
    "    print()"
   ]
  },
  {
   "source": [
    "**Evaluación manual comparando tags entre artista principal y artistas recomendados**"
   ],
   "cell_type": "markdown",
   "metadata": {}
  },
  {
   "source": [
    "Se tomará uno de los artistas del cual se buscaron recomendaciones en el punto anterior, y se compararán sus tags principales con los de dos de los artistas recomendados para ese artista. El artista principal será \"The Beatles\" y los artistas recomendados que se utilizarán en la comparación serán \"The Killers\" y \"Queens of the Stone Age\"."
   ],
   "cell_type": "markdown",
   "metadata": {}
  },
  {
   "cell_type": "code",
   "execution_count": 55,
   "metadata": {},
   "outputs": [],
   "source": [
    "artist_name_principal = 'The Beatles'\n",
    "artistID_principal = artist_data[artist_data[\"name\"].str.lower() == artist_name_principal.lower()].id.item()"
   ]
  },
  {
   "cell_type": "code",
   "execution_count": 56,
   "metadata": {},
   "outputs": [],
   "source": [
    "artist_name_rec1 = 'The Killers'\n",
    "artistID_rec1 = artist_data[artist_data[\"name\"].str.lower() == artist_name_rec1.lower()].id.item()"
   ]
  },
  {
   "cell_type": "code",
   "execution_count": 57,
   "metadata": {},
   "outputs": [],
   "source": [
    "artist_name_rec2 = 'Queens of the Stone Age'\n",
    "artistID_rec2 = artist_data[artist_data[\"name\"].str.lower() == artist_name_rec2.lower()].id.item()"
   ]
  },
  {
   "cell_type": "code",
   "execution_count": 58,
   "metadata": {},
   "outputs": [
    {
     "output_type": "execute_result",
     "data": {
      "text/plain": [
       "       artistID  tagID  count      tagValue  j-rock  visual kei  gothic  \\\n",
       "1428        227     73     67          rock       0           0       0   \n",
       "13163       227    195     59       british       0           0       0   \n",
       "13453       227    192     85  classic rock       0           0       0   \n",
       "\n",
       "       darkwave  german  black metal  ...  ou nao  batcave deathrock  \\\n",
       "1428          0       0            0  ...       0                  0   \n",
       "13163         0       0            0  ...       0                  0   \n",
       "13453         0       0            0  ...       0                  0   \n",
       "\n",
       "       stoner power rock  italodance  amazing singer  ustad  a capella  \\\n",
       "1428                   0           0               0      0          0   \n",
       "13163                  0           0               0      0          0   \n",
       "13453                  0           0               0      0          0   \n",
       "\n",
       "       massive attack  trip beat  dead music  \n",
       "1428                0          0           0  \n",
       "13163               0          0           0  \n",
       "13453               0          0           0  \n",
       "\n",
       "[3 rows x 2825 columns]"
      ],
      "text/html": "<div>\n<style scoped>\n    .dataframe tbody tr th:only-of-type {\n        vertical-align: middle;\n    }\n\n    .dataframe tbody tr th {\n        vertical-align: top;\n    }\n\n    .dataframe thead th {\n        text-align: right;\n    }\n</style>\n<table border=\"1\" class=\"dataframe\">\n  <thead>\n    <tr style=\"text-align: right;\">\n      <th></th>\n      <th>artistID</th>\n      <th>tagID</th>\n      <th>count</th>\n      <th>tagValue</th>\n      <th>j-rock</th>\n      <th>visual kei</th>\n      <th>gothic</th>\n      <th>darkwave</th>\n      <th>german</th>\n      <th>black metal</th>\n      <th>...</th>\n      <th>ou nao</th>\n      <th>batcave deathrock</th>\n      <th>stoner power rock</th>\n      <th>italodance</th>\n      <th>amazing singer</th>\n      <th>ustad</th>\n      <th>a capella</th>\n      <th>massive attack</th>\n      <th>trip beat</th>\n      <th>dead music</th>\n    </tr>\n  </thead>\n  <tbody>\n    <tr>\n      <th>1428</th>\n      <td>227</td>\n      <td>73</td>\n      <td>67</td>\n      <td>rock</td>\n      <td>0</td>\n      <td>0</td>\n      <td>0</td>\n      <td>0</td>\n      <td>0</td>\n      <td>0</td>\n      <td>...</td>\n      <td>0</td>\n      <td>0</td>\n      <td>0</td>\n      <td>0</td>\n      <td>0</td>\n      <td>0</td>\n      <td>0</td>\n      <td>0</td>\n      <td>0</td>\n      <td>0</td>\n    </tr>\n    <tr>\n      <th>13163</th>\n      <td>227</td>\n      <td>195</td>\n      <td>59</td>\n      <td>british</td>\n      <td>0</td>\n      <td>0</td>\n      <td>0</td>\n      <td>0</td>\n      <td>0</td>\n      <td>0</td>\n      <td>...</td>\n      <td>0</td>\n      <td>0</td>\n      <td>0</td>\n      <td>0</td>\n      <td>0</td>\n      <td>0</td>\n      <td>0</td>\n      <td>0</td>\n      <td>0</td>\n      <td>0</td>\n    </tr>\n    <tr>\n      <th>13453</th>\n      <td>227</td>\n      <td>192</td>\n      <td>85</td>\n      <td>classic rock</td>\n      <td>0</td>\n      <td>0</td>\n      <td>0</td>\n      <td>0</td>\n      <td>0</td>\n      <td>0</td>\n      <td>...</td>\n      <td>0</td>\n      <td>0</td>\n      <td>0</td>\n      <td>0</td>\n      <td>0</td>\n      <td>0</td>\n      <td>0</td>\n      <td>0</td>\n      <td>0</td>\n      <td>0</td>\n    </tr>\n  </tbody>\n</table>\n<p>3 rows × 2825 columns</p>\n</div>"
     },
     "metadata": {},
     "execution_count": 58
    }
   ],
   "source": [
    "artists_tags_top[artists_tags_top['artistID'] == artistID_principal]"
   ]
  },
  {
   "cell_type": "code",
   "execution_count": 59,
   "metadata": {},
   "outputs": [
    {
     "output_type": "execute_result",
     "data": {
      "text/plain": [
       "       artistID  tagID  count    tagValue  j-rock  visual kei  gothic  \\\n",
       "1430        229     73     37        rock       0           0       0   \n",
       "5135        229     81     49       indie       0           0       0   \n",
       "16017       229     84     42  indie rock       0           0       0   \n",
       "\n",
       "       darkwave  german  black metal  ...  ou nao  batcave deathrock  \\\n",
       "1430          0       0            0  ...       0                  0   \n",
       "5135          0       0            0  ...       0                  0   \n",
       "16017         0       0            0  ...       0                  0   \n",
       "\n",
       "       stoner power rock  italodance  amazing singer  ustad  a capella  \\\n",
       "1430                   0           0               0      0          0   \n",
       "5135                   0           0               0      0          0   \n",
       "16017                  0           0               0      0          0   \n",
       "\n",
       "       massive attack  trip beat  dead music  \n",
       "1430                0          0           0  \n",
       "5135                0          0           0  \n",
       "16017               0          0           0  \n",
       "\n",
       "[3 rows x 2825 columns]"
      ],
      "text/html": "<div>\n<style scoped>\n    .dataframe tbody tr th:only-of-type {\n        vertical-align: middle;\n    }\n\n    .dataframe tbody tr th {\n        vertical-align: top;\n    }\n\n    .dataframe thead th {\n        text-align: right;\n    }\n</style>\n<table border=\"1\" class=\"dataframe\">\n  <thead>\n    <tr style=\"text-align: right;\">\n      <th></th>\n      <th>artistID</th>\n      <th>tagID</th>\n      <th>count</th>\n      <th>tagValue</th>\n      <th>j-rock</th>\n      <th>visual kei</th>\n      <th>gothic</th>\n      <th>darkwave</th>\n      <th>german</th>\n      <th>black metal</th>\n      <th>...</th>\n      <th>ou nao</th>\n      <th>batcave deathrock</th>\n      <th>stoner power rock</th>\n      <th>italodance</th>\n      <th>amazing singer</th>\n      <th>ustad</th>\n      <th>a capella</th>\n      <th>massive attack</th>\n      <th>trip beat</th>\n      <th>dead music</th>\n    </tr>\n  </thead>\n  <tbody>\n    <tr>\n      <th>1430</th>\n      <td>229</td>\n      <td>73</td>\n      <td>37</td>\n      <td>rock</td>\n      <td>0</td>\n      <td>0</td>\n      <td>0</td>\n      <td>0</td>\n      <td>0</td>\n      <td>0</td>\n      <td>...</td>\n      <td>0</td>\n      <td>0</td>\n      <td>0</td>\n      <td>0</td>\n      <td>0</td>\n      <td>0</td>\n      <td>0</td>\n      <td>0</td>\n      <td>0</td>\n      <td>0</td>\n    </tr>\n    <tr>\n      <th>5135</th>\n      <td>229</td>\n      <td>81</td>\n      <td>49</td>\n      <td>indie</td>\n      <td>0</td>\n      <td>0</td>\n      <td>0</td>\n      <td>0</td>\n      <td>0</td>\n      <td>0</td>\n      <td>...</td>\n      <td>0</td>\n      <td>0</td>\n      <td>0</td>\n      <td>0</td>\n      <td>0</td>\n      <td>0</td>\n      <td>0</td>\n      <td>0</td>\n      <td>0</td>\n      <td>0</td>\n    </tr>\n    <tr>\n      <th>16017</th>\n      <td>229</td>\n      <td>84</td>\n      <td>42</td>\n      <td>indie rock</td>\n      <td>0</td>\n      <td>0</td>\n      <td>0</td>\n      <td>0</td>\n      <td>0</td>\n      <td>0</td>\n      <td>...</td>\n      <td>0</td>\n      <td>0</td>\n      <td>0</td>\n      <td>0</td>\n      <td>0</td>\n      <td>0</td>\n      <td>0</td>\n      <td>0</td>\n      <td>0</td>\n      <td>0</td>\n    </tr>\n  </tbody>\n</table>\n<p>3 rows × 2825 columns</p>\n</div>"
     },
     "metadata": {},
     "execution_count": 59
    }
   ],
   "source": [
    "artists_tags_top[artists_tags_top['artistID'] == artistID_rec1]"
   ]
  },
  {
   "cell_type": "code",
   "execution_count": 60,
   "metadata": {},
   "outputs": [
    {
     "output_type": "execute_result",
     "data": {
      "text/plain": [
       "       artistID  tagID  count          tagValue  j-rock  visual kei  gothic  \\\n",
       "1427        226     73     20              rock       0           0       0   \n",
       "10693       226     79     13       alternative       0           0       0   \n",
       "11452       226     78     14  alternative rock       0           0       0   \n",
       "\n",
       "       darkwave  german  black metal  ...  ou nao  batcave deathrock  \\\n",
       "1427          0       0            0  ...       0                  0   \n",
       "10693         0       0            0  ...       0                  0   \n",
       "11452         0       0            0  ...       0                  0   \n",
       "\n",
       "       stoner power rock  italodance  amazing singer  ustad  a capella  \\\n",
       "1427                   0           0               0      0          0   \n",
       "10693                  0           0               0      0          0   \n",
       "11452                  0           0               0      0          0   \n",
       "\n",
       "       massive attack  trip beat  dead music  \n",
       "1427                0          0           0  \n",
       "10693               0          0           0  \n",
       "11452               0          0           0  \n",
       "\n",
       "[3 rows x 2825 columns]"
      ],
      "text/html": "<div>\n<style scoped>\n    .dataframe tbody tr th:only-of-type {\n        vertical-align: middle;\n    }\n\n    .dataframe tbody tr th {\n        vertical-align: top;\n    }\n\n    .dataframe thead th {\n        text-align: right;\n    }\n</style>\n<table border=\"1\" class=\"dataframe\">\n  <thead>\n    <tr style=\"text-align: right;\">\n      <th></th>\n      <th>artistID</th>\n      <th>tagID</th>\n      <th>count</th>\n      <th>tagValue</th>\n      <th>j-rock</th>\n      <th>visual kei</th>\n      <th>gothic</th>\n      <th>darkwave</th>\n      <th>german</th>\n      <th>black metal</th>\n      <th>...</th>\n      <th>ou nao</th>\n      <th>batcave deathrock</th>\n      <th>stoner power rock</th>\n      <th>italodance</th>\n      <th>amazing singer</th>\n      <th>ustad</th>\n      <th>a capella</th>\n      <th>massive attack</th>\n      <th>trip beat</th>\n      <th>dead music</th>\n    </tr>\n  </thead>\n  <tbody>\n    <tr>\n      <th>1427</th>\n      <td>226</td>\n      <td>73</td>\n      <td>20</td>\n      <td>rock</td>\n      <td>0</td>\n      <td>0</td>\n      <td>0</td>\n      <td>0</td>\n      <td>0</td>\n      <td>0</td>\n      <td>...</td>\n      <td>0</td>\n      <td>0</td>\n      <td>0</td>\n      <td>0</td>\n      <td>0</td>\n      <td>0</td>\n      <td>0</td>\n      <td>0</td>\n      <td>0</td>\n      <td>0</td>\n    </tr>\n    <tr>\n      <th>10693</th>\n      <td>226</td>\n      <td>79</td>\n      <td>13</td>\n      <td>alternative</td>\n      <td>0</td>\n      <td>0</td>\n      <td>0</td>\n      <td>0</td>\n      <td>0</td>\n      <td>0</td>\n      <td>...</td>\n      <td>0</td>\n      <td>0</td>\n      <td>0</td>\n      <td>0</td>\n      <td>0</td>\n      <td>0</td>\n      <td>0</td>\n      <td>0</td>\n      <td>0</td>\n      <td>0</td>\n    </tr>\n    <tr>\n      <th>11452</th>\n      <td>226</td>\n      <td>78</td>\n      <td>14</td>\n      <td>alternative rock</td>\n      <td>0</td>\n      <td>0</td>\n      <td>0</td>\n      <td>0</td>\n      <td>0</td>\n      <td>0</td>\n      <td>...</td>\n      <td>0</td>\n      <td>0</td>\n      <td>0</td>\n      <td>0</td>\n      <td>0</td>\n      <td>0</td>\n      <td>0</td>\n      <td>0</td>\n      <td>0</td>\n      <td>0</td>\n    </tr>\n  </tbody>\n</table>\n<p>3 rows × 2825 columns</p>\n</div>"
     },
     "metadata": {},
     "execution_count": 60
    }
   ],
   "source": [
    "artists_tags_top[artists_tags_top['artistID'] == artistID_rec2]"
   ]
  },
  {
   "source": [
    "Se puede observar que los 3 artistas tienen tags relacionados con al género musical \"rock\", o son derivaciones del mismo."
   ],
   "cell_type": "markdown",
   "metadata": {}
  }
 ],
 "metadata": {
  "kernelspec": {
   "display_name": "Python 3",
   "language": "python",
   "name": "python3"
  },
  "language_info": {
   "codemirror_mode": {
    "name": "ipython",
    "version": 3
   },
   "file_extension": ".py",
   "mimetype": "text/x-python",
   "name": "python",
   "nbconvert_exporter": "python",
   "pygments_lexer": "ipython3",
   "version": "3.7.6-final"
  },
  "rise": {
   "scroll": true
  }
 },
 "nbformat": 4,
 "nbformat_minor": 2
}