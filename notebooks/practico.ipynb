{
 "cells": [
  {
   "cell_type": "markdown",
   "metadata": {
    "slideshow": {
     "slide_type": "slide"
    }
   },
   "source": [
    "# Práctico: Recomendación de Artistas\n",
    "\n",
    "En este práctico trabajaremos con el conjuto de datos de [LastFM](https://grouplens.org/datasets/hetrec-2011/) para el desarrollo de un sistema de recomendación que, dado el nombre de un artista musical, devuelve una lista de artistas \"similares\".\n",
    "\n",
    "Para el práctico utilizaremos el conjunto de datos de LastFM que consiguieron del [notebook de instalación](./instalacion.ipynb). Se recomienda leer el [Readme](http://files.grouplens.org/datasets/hetrec2011/hetrec2011-lastfm-readme.txt) de los datos para saber más sobre que información contiene cada archivo."
   ]
  },
  {
   "cell_type": "code",
   "execution_count": 2,
   "metadata": {},
   "outputs": [],
   "source": [
    "import pandas as pd\n",
    "import numpy as np"
   ]
  },
  {
   "cell_type": "code",
   "execution_count": 3,
   "metadata": {},
   "outputs": [
    {
     "output_type": "execute_result",
     "data": {
      "text/plain": [
       "   id               name                                         url  \\\n",
       "0   1       MALICE MIZER       http://www.last.fm/music/MALICE+MIZER   \n",
       "1   2    Diary of Dreams    http://www.last.fm/music/Diary+of+Dreams   \n",
       "2   3  Carpathian Forest  http://www.last.fm/music/Carpathian+Forest   \n",
       "3   4       Moi dix Mois       http://www.last.fm/music/Moi+dix+Mois   \n",
       "4   5        Bella Morte        http://www.last.fm/music/Bella+Morte   \n",
       "\n",
       "                                          pictureURL  \n",
       "0    http://userserve-ak.last.fm/serve/252/10808.jpg  \n",
       "1  http://userserve-ak.last.fm/serve/252/3052066.jpg  \n",
       "2  http://userserve-ak.last.fm/serve/252/40222717...  \n",
       "3  http://userserve-ak.last.fm/serve/252/54697835...  \n",
       "4  http://userserve-ak.last.fm/serve/252/14789013...  "
      ],
      "text/html": "<div>\n<style scoped>\n    .dataframe tbody tr th:only-of-type {\n        vertical-align: middle;\n    }\n\n    .dataframe tbody tr th {\n        vertical-align: top;\n    }\n\n    .dataframe thead th {\n        text-align: right;\n    }\n</style>\n<table border=\"1\" class=\"dataframe\">\n  <thead>\n    <tr style=\"text-align: right;\">\n      <th></th>\n      <th>id</th>\n      <th>name</th>\n      <th>url</th>\n      <th>pictureURL</th>\n    </tr>\n  </thead>\n  <tbody>\n    <tr>\n      <th>0</th>\n      <td>1</td>\n      <td>MALICE MIZER</td>\n      <td>http://www.last.fm/music/MALICE+MIZER</td>\n      <td>http://userserve-ak.last.fm/serve/252/10808.jpg</td>\n    </tr>\n    <tr>\n      <th>1</th>\n      <td>2</td>\n      <td>Diary of Dreams</td>\n      <td>http://www.last.fm/music/Diary+of+Dreams</td>\n      <td>http://userserve-ak.last.fm/serve/252/3052066.jpg</td>\n    </tr>\n    <tr>\n      <th>2</th>\n      <td>3</td>\n      <td>Carpathian Forest</td>\n      <td>http://www.last.fm/music/Carpathian+Forest</td>\n      <td>http://userserve-ak.last.fm/serve/252/40222717...</td>\n    </tr>\n    <tr>\n      <th>3</th>\n      <td>4</td>\n      <td>Moi dix Mois</td>\n      <td>http://www.last.fm/music/Moi+dix+Mois</td>\n      <td>http://userserve-ak.last.fm/serve/252/54697835...</td>\n    </tr>\n    <tr>\n      <th>4</th>\n      <td>5</td>\n      <td>Bella Morte</td>\n      <td>http://www.last.fm/music/Bella+Morte</td>\n      <td>http://userserve-ak.last.fm/serve/252/14789013...</td>\n    </tr>\n  </tbody>\n</table>\n</div>"
     },
     "metadata": {},
     "execution_count": 3
    }
   ],
   "source": [
    "artist_data = pd.read_csv(\"../data/lastFm/artists.dat\", sep=\"\\t\")\n",
    "artist_data.head()"
   ]
  },
  {
   "cell_type": "code",
   "execution_count": 4,
   "metadata": {},
   "outputs": [
    {
     "output_type": "execute_result",
     "data": {
      "text/plain": [
       "   userID  artistID  weight\n",
       "0       2        51   13883\n",
       "1       2        52   11690\n",
       "2       2        53   11351\n",
       "3       2        54   10300\n",
       "4       2        55    8983"
      ],
      "text/html": "<div>\n<style scoped>\n    .dataframe tbody tr th:only-of-type {\n        vertical-align: middle;\n    }\n\n    .dataframe tbody tr th {\n        vertical-align: top;\n    }\n\n    .dataframe thead th {\n        text-align: right;\n    }\n</style>\n<table border=\"1\" class=\"dataframe\">\n  <thead>\n    <tr style=\"text-align: right;\">\n      <th></th>\n      <th>userID</th>\n      <th>artistID</th>\n      <th>weight</th>\n    </tr>\n  </thead>\n  <tbody>\n    <tr>\n      <th>0</th>\n      <td>2</td>\n      <td>51</td>\n      <td>13883</td>\n    </tr>\n    <tr>\n      <th>1</th>\n      <td>2</td>\n      <td>52</td>\n      <td>11690</td>\n    </tr>\n    <tr>\n      <th>2</th>\n      <td>2</td>\n      <td>53</td>\n      <td>11351</td>\n    </tr>\n    <tr>\n      <th>3</th>\n      <td>2</td>\n      <td>54</td>\n      <td>10300</td>\n    </tr>\n    <tr>\n      <th>4</th>\n      <td>2</td>\n      <td>55</td>\n      <td>8983</td>\n    </tr>\n  </tbody>\n</table>\n</div>"
     },
     "metadata": {},
     "execution_count": 4
    }
   ],
   "source": [
    "user_artist_plays = pd.read_csv(\"../data/lastfm/user_artists.dat\", sep=\"\\t\")\n",
    "user_artist_plays.head()"
   ]
  },
  {
   "cell_type": "code",
   "execution_count": 5,
   "metadata": {},
   "outputs": [
    {
     "output_type": "execute_result",
     "data": {
      "text/plain": [
       "       tagID           tagValue\n",
       "0          1              metal\n",
       "1          2  alternative metal\n",
       "2          3          goth rock\n",
       "3          4        black metal\n",
       "4          5        death metal\n",
       "...      ...                ...\n",
       "11941  12644              suomi\n",
       "11942  12645          symbiosis\n",
       "11943  12646            sverige\n",
       "11944  12647               eire\n",
       "11945  12648     electro latino\n",
       "\n",
       "[11946 rows x 2 columns]"
      ],
      "text/html": "<div>\n<style scoped>\n    .dataframe tbody tr th:only-of-type {\n        vertical-align: middle;\n    }\n\n    .dataframe tbody tr th {\n        vertical-align: top;\n    }\n\n    .dataframe thead th {\n        text-align: right;\n    }\n</style>\n<table border=\"1\" class=\"dataframe\">\n  <thead>\n    <tr style=\"text-align: right;\">\n      <th></th>\n      <th>tagID</th>\n      <th>tagValue</th>\n    </tr>\n  </thead>\n  <tbody>\n    <tr>\n      <th>0</th>\n      <td>1</td>\n      <td>metal</td>\n    </tr>\n    <tr>\n      <th>1</th>\n      <td>2</td>\n      <td>alternative metal</td>\n    </tr>\n    <tr>\n      <th>2</th>\n      <td>3</td>\n      <td>goth rock</td>\n    </tr>\n    <tr>\n      <th>3</th>\n      <td>4</td>\n      <td>black metal</td>\n    </tr>\n    <tr>\n      <th>4</th>\n      <td>5</td>\n      <td>death metal</td>\n    </tr>\n    <tr>\n      <th>...</th>\n      <td>...</td>\n      <td>...</td>\n    </tr>\n    <tr>\n      <th>11941</th>\n      <td>12644</td>\n      <td>suomi</td>\n    </tr>\n    <tr>\n      <th>11942</th>\n      <td>12645</td>\n      <td>symbiosis</td>\n    </tr>\n    <tr>\n      <th>11943</th>\n      <td>12646</td>\n      <td>sverige</td>\n    </tr>\n    <tr>\n      <th>11944</th>\n      <td>12647</td>\n      <td>eire</td>\n    </tr>\n    <tr>\n      <th>11945</th>\n      <td>12648</td>\n      <td>electro latino</td>\n    </tr>\n  </tbody>\n</table>\n<p>11946 rows × 2 columns</p>\n</div>"
     },
     "metadata": {},
     "execution_count": 5
    }
   ],
   "source": [
    "tags = pd.read_csv(\"../data/lastfm/tags.dat\", sep=\"\\t\", encoding = \"ISO-8859-1\")\n",
    "tags"
   ]
  },
  {
   "cell_type": "code",
   "execution_count": 6,
   "metadata": {},
   "outputs": [
    {
     "output_type": "execute_result",
     "data": {
      "text/plain": [
       "   userID  artistID  tagID  day  month  year\n",
       "0       2        52     13    1      4  2009\n",
       "1       2        52     15    1      4  2009\n",
       "2       2        52     18    1      4  2009\n",
       "3       2        52     21    1      4  2009\n",
       "4       2        52     41    1      4  2009"
      ],
      "text/html": "<div>\n<style scoped>\n    .dataframe tbody tr th:only-of-type {\n        vertical-align: middle;\n    }\n\n    .dataframe tbody tr th {\n        vertical-align: top;\n    }\n\n    .dataframe thead th {\n        text-align: right;\n    }\n</style>\n<table border=\"1\" class=\"dataframe\">\n  <thead>\n    <tr style=\"text-align: right;\">\n      <th></th>\n      <th>userID</th>\n      <th>artistID</th>\n      <th>tagID</th>\n      <th>day</th>\n      <th>month</th>\n      <th>year</th>\n    </tr>\n  </thead>\n  <tbody>\n    <tr>\n      <th>0</th>\n      <td>2</td>\n      <td>52</td>\n      <td>13</td>\n      <td>1</td>\n      <td>4</td>\n      <td>2009</td>\n    </tr>\n    <tr>\n      <th>1</th>\n      <td>2</td>\n      <td>52</td>\n      <td>15</td>\n      <td>1</td>\n      <td>4</td>\n      <td>2009</td>\n    </tr>\n    <tr>\n      <th>2</th>\n      <td>2</td>\n      <td>52</td>\n      <td>18</td>\n      <td>1</td>\n      <td>4</td>\n      <td>2009</td>\n    </tr>\n    <tr>\n      <th>3</th>\n      <td>2</td>\n      <td>52</td>\n      <td>21</td>\n      <td>1</td>\n      <td>4</td>\n      <td>2009</td>\n    </tr>\n    <tr>\n      <th>4</th>\n      <td>2</td>\n      <td>52</td>\n      <td>41</td>\n      <td>1</td>\n      <td>4</td>\n      <td>2009</td>\n    </tr>\n  </tbody>\n</table>\n</div>"
     },
     "metadata": {},
     "execution_count": 6
    }
   ],
   "source": [
    "user_tagged_artists = pd.read_csv(\"../data/lastfm/user_taggedartists.dat\", sep=\"\\t\", encoding = \"ISO-8859-1\")\n",
    "user_tagged_artists.head()"
   ]
  },
  {
   "cell_type": "markdown",
   "metadata": {},
   "source": [
    "## Actividades\n",
    "\n",
    "El [Ejercicio 1](#Ejercicio-1---Análisis-Exploratorio-de-Datos) deberá ser realizado por quienes estén realizando cualquier parte de la materia.\n",
    "\n",
    "El [Ejercicio 2](#Ejercicio-2---Sistema-de-Recomendación) variará de acuerdo a que parte de la materia estén realizando, quienes estén realizando la materia completa, deberán realizar ambas partes."
   ]
  },
  {
   "cell_type": "markdown",
   "metadata": {},
   "source": [
    "De acuerdo a la parte de la materia que hagan, deberán realizar una de las siguientes actividades (pueden realizar ambas si así lo desean):\n",
    "\n",
    "La idea del práctico es hacer un análisis muy sencillo del conjunto de datos y desarrollar dos sistemas de recomendación: \n",
    "1. El primero, más sencillo, utilizando [Surpr!se](http://surpriselib.com/), y a partir de los datos de LastFM, en especial del archivo `./data/lastfm/user_artists.dat`, generar un sistema de recomendación basado en filtros colaborativos.\n",
    "2. En el segundo, deberán utilizar todos los datos ofrecidos en el dataset de LastFM para generar un sistema de filtrado colaborativo más complejo, deberá utilizar las técnicas aprendidas \n",
    "\n",
    "basado en filtrado colaborativo (usando Surpr!se), a partir de los datos existentes."
   ]
  },
  {
   "cell_type": "markdown",
   "metadata": {},
   "source": [
    "## Ejercicio 1 - Análisis Exploratorio de Datos\n",
    "\n",
    "En esta primera parte deberán hacer un análisis exploratorio de los datos, aprovechando toda la información brindada por el conjunto. A partir de eso podrán tener mayor idea de qué tipo de datos estarán enfrentando (describe o hist).\n",
    "\n",
    "Algunas preguntas para responder:\n",
    "- ¿Cuáles son los artistas que fueron más escuchados?\n",
    "- ¿Cómo es la distribución de cantidad de listens por user?\n",
    "- ¿Es posible ver el género más escuchado?"
   ]
  },
  {
   "source": [
    "### 1.1. Artistas más escuchados"
   ],
   "cell_type": "markdown",
   "metadata": {}
  },
  {
   "cell_type": "code",
   "execution_count": 7,
   "metadata": {},
   "outputs": [
    {
     "output_type": "execute_result",
     "data": {
      "text/plain": [
       "    weight   id                name  \\\n",
       "0  2393140  289      Britney Spears   \n",
       "1  1301308   72        Depeche Mode   \n",
       "2  1291387   89           Lady Gaga   \n",
       "3  1058405  292  Christina Aguilera   \n",
       "4   963449  498            Paramore   \n",
       "5   921198   67             Madonna   \n",
       "6   905423  288             Rihanna   \n",
       "7   688529  701             Shakira   \n",
       "8   662116  227         The Beatles   \n",
       "9   532545  300          Katy Perry   \n",
       "\n",
       "                                           url  \\\n",
       "0      http://www.last.fm/music/Britney+Spears   \n",
       "1        http://www.last.fm/music/Depeche+Mode   \n",
       "2           http://www.last.fm/music/Lady+Gaga   \n",
       "3  http://www.last.fm/music/Christina+Aguilera   \n",
       "4            http://www.last.fm/music/Paramore   \n",
       "5             http://www.last.fm/music/Madonna   \n",
       "6             http://www.last.fm/music/Rihanna   \n",
       "7             http://www.last.fm/music/Shakira   \n",
       "8         http://www.last.fm/music/The+Beatles   \n",
       "9          http://www.last.fm/music/Katy+Perry   \n",
       "\n",
       "                                          pictureURL  \n",
       "0  http://userserve-ak.last.fm/serve/252/60126439...  \n",
       "1    http://userserve-ak.last.fm/serve/252/75022.jpg  \n",
       "2  http://userserve-ak.last.fm/serve/252/47390093...  \n",
       "3  http://userserve-ak.last.fm/serve/252/47363849...  \n",
       "4  http://userserve-ak.last.fm/serve/252/35837991...  \n",
       "5   http://userserve-ak.last.fm/serve/252/340387.jpg  \n",
       "6  http://userserve-ak.last.fm/serve/252/53023109...  \n",
       "7  http://userserve-ak.last.fm/serve/252/52116105...  \n",
       "8  http://userserve-ak.last.fm/serve/252/2588646.jpg  \n",
       "9  http://userserve-ak.last.fm/serve/252/42128121...  "
      ],
      "text/html": "<div>\n<style scoped>\n    .dataframe tbody tr th:only-of-type {\n        vertical-align: middle;\n    }\n\n    .dataframe tbody tr th {\n        vertical-align: top;\n    }\n\n    .dataframe thead th {\n        text-align: right;\n    }\n</style>\n<table border=\"1\" class=\"dataframe\">\n  <thead>\n    <tr style=\"text-align: right;\">\n      <th></th>\n      <th>weight</th>\n      <th>id</th>\n      <th>name</th>\n      <th>url</th>\n      <th>pictureURL</th>\n    </tr>\n  </thead>\n  <tbody>\n    <tr>\n      <th>0</th>\n      <td>2393140</td>\n      <td>289</td>\n      <td>Britney Spears</td>\n      <td>http://www.last.fm/music/Britney+Spears</td>\n      <td>http://userserve-ak.last.fm/serve/252/60126439...</td>\n    </tr>\n    <tr>\n      <th>1</th>\n      <td>1301308</td>\n      <td>72</td>\n      <td>Depeche Mode</td>\n      <td>http://www.last.fm/music/Depeche+Mode</td>\n      <td>http://userserve-ak.last.fm/serve/252/75022.jpg</td>\n    </tr>\n    <tr>\n      <th>2</th>\n      <td>1291387</td>\n      <td>89</td>\n      <td>Lady Gaga</td>\n      <td>http://www.last.fm/music/Lady+Gaga</td>\n      <td>http://userserve-ak.last.fm/serve/252/47390093...</td>\n    </tr>\n    <tr>\n      <th>3</th>\n      <td>1058405</td>\n      <td>292</td>\n      <td>Christina Aguilera</td>\n      <td>http://www.last.fm/music/Christina+Aguilera</td>\n      <td>http://userserve-ak.last.fm/serve/252/47363849...</td>\n    </tr>\n    <tr>\n      <th>4</th>\n      <td>963449</td>\n      <td>498</td>\n      <td>Paramore</td>\n      <td>http://www.last.fm/music/Paramore</td>\n      <td>http://userserve-ak.last.fm/serve/252/35837991...</td>\n    </tr>\n    <tr>\n      <th>5</th>\n      <td>921198</td>\n      <td>67</td>\n      <td>Madonna</td>\n      <td>http://www.last.fm/music/Madonna</td>\n      <td>http://userserve-ak.last.fm/serve/252/340387.jpg</td>\n    </tr>\n    <tr>\n      <th>6</th>\n      <td>905423</td>\n      <td>288</td>\n      <td>Rihanna</td>\n      <td>http://www.last.fm/music/Rihanna</td>\n      <td>http://userserve-ak.last.fm/serve/252/53023109...</td>\n    </tr>\n    <tr>\n      <th>7</th>\n      <td>688529</td>\n      <td>701</td>\n      <td>Shakira</td>\n      <td>http://www.last.fm/music/Shakira</td>\n      <td>http://userserve-ak.last.fm/serve/252/52116105...</td>\n    </tr>\n    <tr>\n      <th>8</th>\n      <td>662116</td>\n      <td>227</td>\n      <td>The Beatles</td>\n      <td>http://www.last.fm/music/The+Beatles</td>\n      <td>http://userserve-ak.last.fm/serve/252/2588646.jpg</td>\n    </tr>\n    <tr>\n      <th>9</th>\n      <td>532545</td>\n      <td>300</td>\n      <td>Katy Perry</td>\n      <td>http://www.last.fm/music/Katy+Perry</td>\n      <td>http://userserve-ak.last.fm/serve/252/42128121...</td>\n    </tr>\n  </tbody>\n</table>\n</div>"
     },
     "metadata": {},
     "execution_count": 7
    }
   ],
   "source": [
    "user_artist_plays_by_artist = user_artist_plays[[\"artistID\", \"weight\"]].groupby(['artistID']).sum().sort_values(by=[\"weight\"], ascending=False)\n",
    "\n",
    "artist_plays = user_artist_plays_by_artist.merge(artist_data, left_on=\"artistID\", right_on=\"id\")\n",
    "\n",
    "artist_plays.head(10)\n"
   ]
  },
  {
   "source": [
    "### 1.2. Distribución de cantidad de listens por user"
   ],
   "cell_type": "markdown",
   "metadata": {}
  },
  {
   "cell_type": "code",
   "execution_count": 8,
   "metadata": {},
   "outputs": [
    {
     "output_type": "execute_result",
     "data": {
      "text/plain": [
       "<matplotlib.axes._subplots.AxesSubplot at 0x1fa1eab8d88>"
      ]
     },
     "metadata": {},
     "execution_count": 8
    },
    {
     "output_type": "display_data",
     "data": {
      "text/plain": "<Figure size 432x288 with 1 Axes>",
      "image/svg+xml": "<?xml version=\"1.0\" encoding=\"utf-8\" standalone=\"no\"?>\r\n<!DOCTYPE svg PUBLIC \"-//W3C//DTD SVG 1.1//EN\"\r\n  \"http://www.w3.org/Graphics/SVG/1.1/DTD/svg11.dtd\">\r\n<!-- Created with matplotlib (https://matplotlib.org/) -->\r\n<svg height=\"248.518125pt\" version=\"1.1\" viewBox=\"0 0 398.175458 248.518125\" width=\"398.175458pt\" xmlns=\"http://www.w3.org/2000/svg\" xmlns:xlink=\"http://www.w3.org/1999/xlink\">\r\n <defs>\r\n  <style type=\"text/css\">\r\n*{stroke-linecap:butt;stroke-linejoin:round;}\r\n  </style>\r\n </defs>\r\n <g id=\"figure_1\">\r\n  <g id=\"patch_1\">\r\n   <path d=\"M -0 248.518125 \r\nL 398.175458 248.518125 \r\nL 398.175458 0 \r\nL -0 0 \r\nz\r\n\" style=\"fill:none;\"/>\r\n  </g>\r\n  <g id=\"axes_1\">\r\n   <g id=\"patch_2\">\r\n    <path d=\"M 39.65 224.64 \r\nL 374.45 224.64 \r\nL 374.45 7.2 \r\nL 39.65 7.2 \r\nz\r\n\" style=\"fill:#ffffff;\"/>\r\n   </g>\r\n   <g id=\"patch_3\">\r\n    <path clip-path=\"url(#p4379964d34)\" d=\"M 54.868182 224.64 \r\nL 70.086364 224.64 \r\nL 70.086364 17.554286 \r\nL 54.868182 17.554286 \r\nz\r\n\" style=\"fill:#1f77b4;\"/>\r\n   </g>\r\n   <g id=\"patch_4\">\r\n    <path clip-path=\"url(#p4379964d34)\" d=\"M 70.086364 224.64 \r\nL 85.304545 224.64 \r\nL 85.304545 130.215398 \r\nL 70.086364 130.215398 \r\nz\r\n\" style=\"fill:#1f77b4;\"/>\r\n   </g>\r\n   <g id=\"patch_5\">\r\n    <path clip-path=\"url(#p4379964d34)\" d=\"M 85.304545 224.64 \r\nL 100.522727 224.64 \r\nL 100.522727 189.990629 \r\nL 85.304545 189.990629 \r\nz\r\n\" style=\"fill:#1f77b4;\"/>\r\n   </g>\r\n   <g id=\"patch_6\">\r\n    <path clip-path=\"url(#p4379964d34)\" d=\"M 100.522727 224.64 \r\nL 115.740909 224.64 \r\nL 115.740909 207.821884 \r\nL 100.522727 207.821884 \r\nz\r\n\" style=\"fill:#1f77b4;\"/>\r\n   </g>\r\n   <g id=\"patch_7\">\r\n    <path clip-path=\"url(#p4379964d34)\" d=\"M 115.740909 224.64 \r\nL 130.959091 224.64 \r\nL 130.959091 215.521744 \r\nL 115.740909 215.521744 \r\nz\r\n\" style=\"fill:#1f77b4;\"/>\r\n   </g>\r\n   <g id=\"patch_8\">\r\n    <path clip-path=\"url(#p4379964d34)\" d=\"M 130.959091 224.64 \r\nL 146.177273 224.64 \r\nL 146.177273 218.358535 \r\nL 130.959091 218.358535 \r\nz\r\n\" style=\"fill:#1f77b4;\"/>\r\n   </g>\r\n   <g id=\"patch_9\">\r\n    <path clip-path=\"url(#p4379964d34)\" d=\"M 146.177273 224.64 \r\nL 161.395455 224.64 \r\nL 161.395455 220.587442 \r\nL 146.177273 220.587442 \r\nz\r\n\" style=\"fill:#1f77b4;\"/>\r\n   </g>\r\n   <g id=\"patch_10\">\r\n    <path clip-path=\"url(#p4379964d34)\" d=\"M 161.395455 224.64 \r\nL 176.613636 224.64 \r\nL 176.613636 221.600581 \r\nL 161.395455 221.600581 \r\nz\r\n\" style=\"fill:#1f77b4;\"/>\r\n   </g>\r\n   <g id=\"patch_11\">\r\n    <path clip-path=\"url(#p4379964d34)\" d=\"M 176.613636 224.64 \r\nL 191.831818 224.64 \r\nL 191.831818 223.424233 \r\nL 176.613636 223.424233 \r\nz\r\n\" style=\"fill:#1f77b4;\"/>\r\n   </g>\r\n   <g id=\"patch_12\">\r\n    <path clip-path=\"url(#p4379964d34)\" d=\"M 191.831818 224.64 \r\nL 207.05 224.64 \r\nL 207.05 223.018977 \r\nL 191.831818 223.018977 \r\nz\r\n\" style=\"fill:#1f77b4;\"/>\r\n   </g>\r\n   <g id=\"patch_13\">\r\n    <path clip-path=\"url(#p4379964d34)\" d=\"M 207.05 224.64 \r\nL 222.268182 224.64 \r\nL 222.268182 222.411093 \r\nL 207.05 222.411093 \r\nz\r\n\" style=\"fill:#1f77b4;\"/>\r\n   </g>\r\n   <g id=\"patch_14\">\r\n    <path clip-path=\"url(#p4379964d34)\" d=\"M 222.268182 224.64 \r\nL 237.486364 224.64 \r\nL 237.486364 224.234744 \r\nL 222.268182 224.234744 \r\nz\r\n\" style=\"fill:#1f77b4;\"/>\r\n   </g>\r\n   <g id=\"patch_15\">\r\n    <path clip-path=\"url(#p4379964d34)\" d=\"M 237.486364 224.64 \r\nL 252.704545 224.64 \r\nL 252.704545 224.234744 \r\nL 237.486364 224.234744 \r\nz\r\n\" style=\"fill:#1f77b4;\"/>\r\n   </g>\r\n   <g id=\"patch_16\">\r\n    <path clip-path=\"url(#p4379964d34)\" d=\"M 252.704545 224.64 \r\nL 267.922727 224.64 \r\nL 267.922727 224.032116 \r\nL 252.704545 224.032116 \r\nz\r\n\" style=\"fill:#1f77b4;\"/>\r\n   </g>\r\n   <g id=\"patch_17\">\r\n    <path clip-path=\"url(#p4379964d34)\" d=\"M 267.922727 224.64 \r\nL 283.140909 224.64 \r\nL 283.140909 224.234744 \r\nL 267.922727 224.234744 \r\nz\r\n\" style=\"fill:#1f77b4;\"/>\r\n   </g>\r\n   <g id=\"patch_18\">\r\n    <path clip-path=\"url(#p4379964d34)\" d=\"M 283.140909 224.64 \r\nL 298.359091 224.64 \r\nL 298.359091 224.437372 \r\nL 283.140909 224.437372 \r\nz\r\n\" style=\"fill:#1f77b4;\"/>\r\n   </g>\r\n   <g id=\"patch_19\">\r\n    <path clip-path=\"url(#p4379964d34)\" d=\"M 298.359091 224.64 \r\nL 313.577273 224.64 \r\nL 313.577273 224.437372 \r\nL 298.359091 224.437372 \r\nz\r\n\" style=\"fill:#1f77b4;\"/>\r\n   </g>\r\n   <g id=\"patch_20\">\r\n    <path clip-path=\"url(#p4379964d34)\" d=\"M 313.577273 224.64 \r\nL 328.795455 224.64 \r\nL 328.795455 224.437372 \r\nL 313.577273 224.437372 \r\nz\r\n\" style=\"fill:#1f77b4;\"/>\r\n   </g>\r\n   <g id=\"patch_21\">\r\n    <path clip-path=\"url(#p4379964d34)\" d=\"M 328.795455 224.64 \r\nL 344.013636 224.64 \r\nL 344.013636 224.64 \r\nL 328.795455 224.64 \r\nz\r\n\" style=\"fill:#1f77b4;\"/>\r\n   </g>\r\n   <g id=\"patch_22\">\r\n    <path clip-path=\"url(#p4379964d34)\" d=\"M 344.013636 224.64 \r\nL 359.231818 224.64 \r\nL 359.231818 224.234744 \r\nL 344.013636 224.234744 \r\nz\r\n\" style=\"fill:#1f77b4;\"/>\r\n   </g>\r\n   <g id=\"matplotlib.axis_1\">\r\n    <g id=\"xtick_1\">\r\n     <g id=\"line2d_1\">\r\n      <path clip-path=\"url(#p4379964d34)\" d=\"M 54.86628 224.64 \r\nL 54.86628 7.2 \r\n\" style=\"fill:none;stroke:#b0b0b0;stroke-linecap:square;stroke-width:0.8;\"/>\r\n     </g>\r\n     <g id=\"line2d_2\">\r\n      <defs>\r\n       <path d=\"M 0 0 \r\nL 0 3.5 \r\n\" id=\"m445e3ae949\" style=\"stroke:#000000;stroke-width:0.8;\"/>\r\n      </defs>\r\n      <g>\r\n       <use style=\"stroke:#000000;stroke-width:0.8;\" x=\"54.86628\" xlink:href=\"#m445e3ae949\" y=\"224.64\"/>\r\n      </g>\r\n     </g>\r\n     <g id=\"text_1\">\r\n      <!-- 0 -->\r\n      <defs>\r\n       <path d=\"M 31.78125 66.40625 \r\nQ 24.171875 66.40625 20.328125 58.90625 \r\nQ 16.5 51.421875 16.5 36.375 \r\nQ 16.5 21.390625 20.328125 13.890625 \r\nQ 24.171875 6.390625 31.78125 6.390625 \r\nQ 39.453125 6.390625 43.28125 13.890625 \r\nQ 47.125 21.390625 47.125 36.375 \r\nQ 47.125 51.421875 43.28125 58.90625 \r\nQ 39.453125 66.40625 31.78125 66.40625 \r\nz\r\nM 31.78125 74.21875 \r\nQ 44.046875 74.21875 50.515625 64.515625 \r\nQ 56.984375 54.828125 56.984375 36.375 \r\nQ 56.984375 17.96875 50.515625 8.265625 \r\nQ 44.046875 -1.421875 31.78125 -1.421875 \r\nQ 19.53125 -1.421875 13.0625 8.265625 \r\nQ 6.59375 17.96875 6.59375 36.375 \r\nQ 6.59375 54.828125 13.0625 64.515625 \r\nQ 19.53125 74.21875 31.78125 74.21875 \r\nz\r\n\" id=\"DejaVuSans-48\"/>\r\n      </defs>\r\n      <g transform=\"translate(51.68503 239.238437)scale(0.1 -0.1)\">\r\n       <use xlink:href=\"#DejaVuSans-48\"/>\r\n      </g>\r\n     </g>\r\n    </g>\r\n    <g id=\"xtick_2\">\r\n     <g id=\"line2d_3\">\r\n      <path clip-path=\"url(#p4379964d34)\" d=\"M 118.270615 224.64 \r\nL 118.270615 7.2 \r\n\" style=\"fill:none;stroke:#b0b0b0;stroke-linecap:square;stroke-width:0.8;\"/>\r\n     </g>\r\n     <g id=\"line2d_4\">\r\n      <g>\r\n       <use style=\"stroke:#000000;stroke-width:0.8;\" x=\"118.270615\" xlink:href=\"#m445e3ae949\" y=\"224.64\"/>\r\n      </g>\r\n     </g>\r\n     <g id=\"text_2\">\r\n      <!-- 100000 -->\r\n      <defs>\r\n       <path d=\"M 12.40625 8.296875 \r\nL 28.515625 8.296875 \r\nL 28.515625 63.921875 \r\nL 10.984375 60.40625 \r\nL 10.984375 69.390625 \r\nL 28.421875 72.90625 \r\nL 38.28125 72.90625 \r\nL 38.28125 8.296875 \r\nL 54.390625 8.296875 \r\nL 54.390625 0 \r\nL 12.40625 0 \r\nz\r\n\" id=\"DejaVuSans-49\"/>\r\n      </defs>\r\n      <g transform=\"translate(99.183115 239.238437)scale(0.1 -0.1)\">\r\n       <use xlink:href=\"#DejaVuSans-49\"/>\r\n       <use x=\"63.623047\" xlink:href=\"#DejaVuSans-48\"/>\r\n       <use x=\"127.246094\" xlink:href=\"#DejaVuSans-48\"/>\r\n       <use x=\"190.869141\" xlink:href=\"#DejaVuSans-48\"/>\r\n       <use x=\"254.492188\" xlink:href=\"#DejaVuSans-48\"/>\r\n       <use x=\"318.115234\" xlink:href=\"#DejaVuSans-48\"/>\r\n      </g>\r\n     </g>\r\n    </g>\r\n    <g id=\"xtick_3\">\r\n     <g id=\"line2d_5\">\r\n      <path clip-path=\"url(#p4379964d34)\" d=\"M 181.674951 224.64 \r\nL 181.674951 7.2 \r\n\" style=\"fill:none;stroke:#b0b0b0;stroke-linecap:square;stroke-width:0.8;\"/>\r\n     </g>\r\n     <g id=\"line2d_6\">\r\n      <g>\r\n       <use style=\"stroke:#000000;stroke-width:0.8;\" x=\"181.674951\" xlink:href=\"#m445e3ae949\" y=\"224.64\"/>\r\n      </g>\r\n     </g>\r\n     <g id=\"text_3\">\r\n      <!-- 200000 -->\r\n      <defs>\r\n       <path d=\"M 19.1875 8.296875 \r\nL 53.609375 8.296875 \r\nL 53.609375 0 \r\nL 7.328125 0 \r\nL 7.328125 8.296875 \r\nQ 12.9375 14.109375 22.625 23.890625 \r\nQ 32.328125 33.6875 34.8125 36.53125 \r\nQ 39.546875 41.84375 41.421875 45.53125 \r\nQ 43.3125 49.21875 43.3125 52.78125 \r\nQ 43.3125 58.59375 39.234375 62.25 \r\nQ 35.15625 65.921875 28.609375 65.921875 \r\nQ 23.96875 65.921875 18.8125 64.3125 \r\nQ 13.671875 62.703125 7.8125 59.421875 \r\nL 7.8125 69.390625 \r\nQ 13.765625 71.78125 18.9375 73 \r\nQ 24.125 74.21875 28.421875 74.21875 \r\nQ 39.75 74.21875 46.484375 68.546875 \r\nQ 53.21875 62.890625 53.21875 53.421875 \r\nQ 53.21875 48.921875 51.53125 44.890625 \r\nQ 49.859375 40.875 45.40625 35.40625 \r\nQ 44.1875 33.984375 37.640625 27.21875 \r\nQ 31.109375 20.453125 19.1875 8.296875 \r\nz\r\n\" id=\"DejaVuSans-50\"/>\r\n      </defs>\r\n      <g transform=\"translate(162.587451 239.238437)scale(0.1 -0.1)\">\r\n       <use xlink:href=\"#DejaVuSans-50\"/>\r\n       <use x=\"63.623047\" xlink:href=\"#DejaVuSans-48\"/>\r\n       <use x=\"127.246094\" xlink:href=\"#DejaVuSans-48\"/>\r\n       <use x=\"190.869141\" xlink:href=\"#DejaVuSans-48\"/>\r\n       <use x=\"254.492188\" xlink:href=\"#DejaVuSans-48\"/>\r\n       <use x=\"318.115234\" xlink:href=\"#DejaVuSans-48\"/>\r\n      </g>\r\n     </g>\r\n    </g>\r\n    <g id=\"xtick_4\">\r\n     <g id=\"line2d_7\">\r\n      <path clip-path=\"url(#p4379964d34)\" d=\"M 245.079286 224.64 \r\nL 245.079286 7.2 \r\n\" style=\"fill:none;stroke:#b0b0b0;stroke-linecap:square;stroke-width:0.8;\"/>\r\n     </g>\r\n     <g id=\"line2d_8\">\r\n      <g>\r\n       <use style=\"stroke:#000000;stroke-width:0.8;\" x=\"245.079286\" xlink:href=\"#m445e3ae949\" y=\"224.64\"/>\r\n      </g>\r\n     </g>\r\n     <g id=\"text_4\">\r\n      <!-- 300000 -->\r\n      <defs>\r\n       <path d=\"M 40.578125 39.3125 \r\nQ 47.65625 37.796875 51.625 33 \r\nQ 55.609375 28.21875 55.609375 21.1875 \r\nQ 55.609375 10.40625 48.1875 4.484375 \r\nQ 40.765625 -1.421875 27.09375 -1.421875 \r\nQ 22.515625 -1.421875 17.65625 -0.515625 \r\nQ 12.796875 0.390625 7.625 2.203125 \r\nL 7.625 11.71875 \r\nQ 11.71875 9.328125 16.59375 8.109375 \r\nQ 21.484375 6.890625 26.8125 6.890625 \r\nQ 36.078125 6.890625 40.9375 10.546875 \r\nQ 45.796875 14.203125 45.796875 21.1875 \r\nQ 45.796875 27.640625 41.28125 31.265625 \r\nQ 36.765625 34.90625 28.71875 34.90625 \r\nL 20.21875 34.90625 \r\nL 20.21875 43.015625 \r\nL 29.109375 43.015625 \r\nQ 36.375 43.015625 40.234375 45.921875 \r\nQ 44.09375 48.828125 44.09375 54.296875 \r\nQ 44.09375 59.90625 40.109375 62.90625 \r\nQ 36.140625 65.921875 28.71875 65.921875 \r\nQ 24.65625 65.921875 20.015625 65.03125 \r\nQ 15.375 64.15625 9.8125 62.3125 \r\nL 9.8125 71.09375 \r\nQ 15.4375 72.65625 20.34375 73.4375 \r\nQ 25.25 74.21875 29.59375 74.21875 \r\nQ 40.828125 74.21875 47.359375 69.109375 \r\nQ 53.90625 64.015625 53.90625 55.328125 \r\nQ 53.90625 49.265625 50.4375 45.09375 \r\nQ 46.96875 40.921875 40.578125 39.3125 \r\nz\r\n\" id=\"DejaVuSans-51\"/>\r\n      </defs>\r\n      <g transform=\"translate(225.991786 239.238437)scale(0.1 -0.1)\">\r\n       <use xlink:href=\"#DejaVuSans-51\"/>\r\n       <use x=\"63.623047\" xlink:href=\"#DejaVuSans-48\"/>\r\n       <use x=\"127.246094\" xlink:href=\"#DejaVuSans-48\"/>\r\n       <use x=\"190.869141\" xlink:href=\"#DejaVuSans-48\"/>\r\n       <use x=\"254.492188\" xlink:href=\"#DejaVuSans-48\"/>\r\n       <use x=\"318.115234\" xlink:href=\"#DejaVuSans-48\"/>\r\n      </g>\r\n     </g>\r\n    </g>\r\n    <g id=\"xtick_5\">\r\n     <g id=\"line2d_9\">\r\n      <path clip-path=\"url(#p4379964d34)\" d=\"M 308.483622 224.64 \r\nL 308.483622 7.2 \r\n\" style=\"fill:none;stroke:#b0b0b0;stroke-linecap:square;stroke-width:0.8;\"/>\r\n     </g>\r\n     <g id=\"line2d_10\">\r\n      <g>\r\n       <use style=\"stroke:#000000;stroke-width:0.8;\" x=\"308.483622\" xlink:href=\"#m445e3ae949\" y=\"224.64\"/>\r\n      </g>\r\n     </g>\r\n     <g id=\"text_5\">\r\n      <!-- 400000 -->\r\n      <defs>\r\n       <path d=\"M 37.796875 64.3125 \r\nL 12.890625 25.390625 \r\nL 37.796875 25.390625 \r\nz\r\nM 35.203125 72.90625 \r\nL 47.609375 72.90625 \r\nL 47.609375 25.390625 \r\nL 58.015625 25.390625 \r\nL 58.015625 17.1875 \r\nL 47.609375 17.1875 \r\nL 47.609375 0 \r\nL 37.796875 0 \r\nL 37.796875 17.1875 \r\nL 4.890625 17.1875 \r\nL 4.890625 26.703125 \r\nz\r\n\" id=\"DejaVuSans-52\"/>\r\n      </defs>\r\n      <g transform=\"translate(289.396122 239.238437)scale(0.1 -0.1)\">\r\n       <use xlink:href=\"#DejaVuSans-52\"/>\r\n       <use x=\"63.623047\" xlink:href=\"#DejaVuSans-48\"/>\r\n       <use x=\"127.246094\" xlink:href=\"#DejaVuSans-48\"/>\r\n       <use x=\"190.869141\" xlink:href=\"#DejaVuSans-48\"/>\r\n       <use x=\"254.492188\" xlink:href=\"#DejaVuSans-48\"/>\r\n       <use x=\"318.115234\" xlink:href=\"#DejaVuSans-48\"/>\r\n      </g>\r\n     </g>\r\n    </g>\r\n    <g id=\"xtick_6\">\r\n     <g id=\"line2d_11\">\r\n      <path clip-path=\"url(#p4379964d34)\" d=\"M 371.887958 224.64 \r\nL 371.887958 7.2 \r\n\" style=\"fill:none;stroke:#b0b0b0;stroke-linecap:square;stroke-width:0.8;\"/>\r\n     </g>\r\n     <g id=\"line2d_12\">\r\n      <g>\r\n       <use style=\"stroke:#000000;stroke-width:0.8;\" x=\"371.887958\" xlink:href=\"#m445e3ae949\" y=\"224.64\"/>\r\n      </g>\r\n     </g>\r\n     <g id=\"text_6\">\r\n      <!-- 500000 -->\r\n      <defs>\r\n       <path d=\"M 10.796875 72.90625 \r\nL 49.515625 72.90625 \r\nL 49.515625 64.59375 \r\nL 19.828125 64.59375 \r\nL 19.828125 46.734375 \r\nQ 21.96875 47.46875 24.109375 47.828125 \r\nQ 26.265625 48.1875 28.421875 48.1875 \r\nQ 40.625 48.1875 47.75 41.5 \r\nQ 54.890625 34.8125 54.890625 23.390625 \r\nQ 54.890625 11.625 47.5625 5.09375 \r\nQ 40.234375 -1.421875 26.90625 -1.421875 \r\nQ 22.3125 -1.421875 17.546875 -0.640625 \r\nQ 12.796875 0.140625 7.71875 1.703125 \r\nL 7.71875 11.625 \r\nQ 12.109375 9.234375 16.796875 8.0625 \r\nQ 21.484375 6.890625 26.703125 6.890625 \r\nQ 35.15625 6.890625 40.078125 11.328125 \r\nQ 45.015625 15.765625 45.015625 23.390625 \r\nQ 45.015625 31 40.078125 35.4375 \r\nQ 35.15625 39.890625 26.703125 39.890625 \r\nQ 22.75 39.890625 18.8125 39.015625 \r\nQ 14.890625 38.140625 10.796875 36.28125 \r\nz\r\n\" id=\"DejaVuSans-53\"/>\r\n      </defs>\r\n      <g transform=\"translate(352.800458 239.238437)scale(0.1 -0.1)\">\r\n       <use xlink:href=\"#DejaVuSans-53\"/>\r\n       <use x=\"63.623047\" xlink:href=\"#DejaVuSans-48\"/>\r\n       <use x=\"127.246094\" xlink:href=\"#DejaVuSans-48\"/>\r\n       <use x=\"190.869141\" xlink:href=\"#DejaVuSans-48\"/>\r\n       <use x=\"254.492188\" xlink:href=\"#DejaVuSans-48\"/>\r\n       <use x=\"318.115234\" xlink:href=\"#DejaVuSans-48\"/>\r\n      </g>\r\n     </g>\r\n    </g>\r\n   </g>\r\n   <g id=\"matplotlib.axis_2\">\r\n    <g id=\"ytick_1\">\r\n     <g id=\"line2d_13\">\r\n      <path clip-path=\"url(#p4379964d34)\" d=\"M 39.65 224.64 \r\nL 374.45 224.64 \r\n\" style=\"fill:none;stroke:#b0b0b0;stroke-linecap:square;stroke-width:0.8;\"/>\r\n     </g>\r\n     <g id=\"line2d_14\">\r\n      <defs>\r\n       <path d=\"M 0 0 \r\nL -3.5 0 \r\n\" id=\"m1ee76d72bb\" style=\"stroke:#000000;stroke-width:0.8;\"/>\r\n      </defs>\r\n      <g>\r\n       <use style=\"stroke:#000000;stroke-width:0.8;\" x=\"39.65\" xlink:href=\"#m1ee76d72bb\" y=\"224.64\"/>\r\n      </g>\r\n     </g>\r\n     <g id=\"text_7\">\r\n      <!-- 0 -->\r\n      <g transform=\"translate(26.2875 228.439219)scale(0.1 -0.1)\">\r\n       <use xlink:href=\"#DejaVuSans-48\"/>\r\n      </g>\r\n     </g>\r\n    </g>\r\n    <g id=\"ytick_2\">\r\n     <g id=\"line2d_15\">\r\n      <path clip-path=\"url(#p4379964d34)\" d=\"M 39.65 184.11442 \r\nL 374.45 184.11442 \r\n\" style=\"fill:none;stroke:#b0b0b0;stroke-linecap:square;stroke-width:0.8;\"/>\r\n     </g>\r\n     <g id=\"line2d_16\">\r\n      <g>\r\n       <use style=\"stroke:#000000;stroke-width:0.8;\" x=\"39.65\" xlink:href=\"#m1ee76d72bb\" y=\"184.11442\"/>\r\n      </g>\r\n     </g>\r\n     <g id=\"text_8\">\r\n      <!-- 200 -->\r\n      <g transform=\"translate(13.5625 187.913639)scale(0.1 -0.1)\">\r\n       <use xlink:href=\"#DejaVuSans-50\"/>\r\n       <use x=\"63.623047\" xlink:href=\"#DejaVuSans-48\"/>\r\n       <use x=\"127.246094\" xlink:href=\"#DejaVuSans-48\"/>\r\n      </g>\r\n     </g>\r\n    </g>\r\n    <g id=\"ytick_3\">\r\n     <g id=\"line2d_17\">\r\n      <path clip-path=\"url(#p4379964d34)\" d=\"M 39.65 143.58884 \r\nL 374.45 143.58884 \r\n\" style=\"fill:none;stroke:#b0b0b0;stroke-linecap:square;stroke-width:0.8;\"/>\r\n     </g>\r\n     <g id=\"line2d_18\">\r\n      <g>\r\n       <use style=\"stroke:#000000;stroke-width:0.8;\" x=\"39.65\" xlink:href=\"#m1ee76d72bb\" y=\"143.58884\"/>\r\n      </g>\r\n     </g>\r\n     <g id=\"text_9\">\r\n      <!-- 400 -->\r\n      <g transform=\"translate(13.5625 147.388059)scale(0.1 -0.1)\">\r\n       <use xlink:href=\"#DejaVuSans-52\"/>\r\n       <use x=\"63.623047\" xlink:href=\"#DejaVuSans-48\"/>\r\n       <use x=\"127.246094\" xlink:href=\"#DejaVuSans-48\"/>\r\n      </g>\r\n     </g>\r\n    </g>\r\n    <g id=\"ytick_4\">\r\n     <g id=\"line2d_19\">\r\n      <path clip-path=\"url(#p4379964d34)\" d=\"M 39.65 103.06326 \r\nL 374.45 103.06326 \r\n\" style=\"fill:none;stroke:#b0b0b0;stroke-linecap:square;stroke-width:0.8;\"/>\r\n     </g>\r\n     <g id=\"line2d_20\">\r\n      <g>\r\n       <use style=\"stroke:#000000;stroke-width:0.8;\" x=\"39.65\" xlink:href=\"#m1ee76d72bb\" y=\"103.06326\"/>\r\n      </g>\r\n     </g>\r\n     <g id=\"text_10\">\r\n      <!-- 600 -->\r\n      <defs>\r\n       <path d=\"M 33.015625 40.375 \r\nQ 26.375 40.375 22.484375 35.828125 \r\nQ 18.609375 31.296875 18.609375 23.390625 \r\nQ 18.609375 15.53125 22.484375 10.953125 \r\nQ 26.375 6.390625 33.015625 6.390625 \r\nQ 39.65625 6.390625 43.53125 10.953125 \r\nQ 47.40625 15.53125 47.40625 23.390625 \r\nQ 47.40625 31.296875 43.53125 35.828125 \r\nQ 39.65625 40.375 33.015625 40.375 \r\nz\r\nM 52.59375 71.296875 \r\nL 52.59375 62.3125 \r\nQ 48.875 64.0625 45.09375 64.984375 \r\nQ 41.3125 65.921875 37.59375 65.921875 \r\nQ 27.828125 65.921875 22.671875 59.328125 \r\nQ 17.53125 52.734375 16.796875 39.40625 \r\nQ 19.671875 43.65625 24.015625 45.921875 \r\nQ 28.375 48.1875 33.59375 48.1875 \r\nQ 44.578125 48.1875 50.953125 41.515625 \r\nQ 57.328125 34.859375 57.328125 23.390625 \r\nQ 57.328125 12.15625 50.6875 5.359375 \r\nQ 44.046875 -1.421875 33.015625 -1.421875 \r\nQ 20.359375 -1.421875 13.671875 8.265625 \r\nQ 6.984375 17.96875 6.984375 36.375 \r\nQ 6.984375 53.65625 15.1875 63.9375 \r\nQ 23.390625 74.21875 37.203125 74.21875 \r\nQ 40.921875 74.21875 44.703125 73.484375 \r\nQ 48.484375 72.75 52.59375 71.296875 \r\nz\r\n\" id=\"DejaVuSans-54\"/>\r\n      </defs>\r\n      <g transform=\"translate(13.5625 106.862478)scale(0.1 -0.1)\">\r\n       <use xlink:href=\"#DejaVuSans-54\"/>\r\n       <use x=\"63.623047\" xlink:href=\"#DejaVuSans-48\"/>\r\n       <use x=\"127.246094\" xlink:href=\"#DejaVuSans-48\"/>\r\n      </g>\r\n     </g>\r\n    </g>\r\n    <g id=\"ytick_5\">\r\n     <g id=\"line2d_21\">\r\n      <path clip-path=\"url(#p4379964d34)\" d=\"M 39.65 62.53768 \r\nL 374.45 62.53768 \r\n\" style=\"fill:none;stroke:#b0b0b0;stroke-linecap:square;stroke-width:0.8;\"/>\r\n     </g>\r\n     <g id=\"line2d_22\">\r\n      <g>\r\n       <use style=\"stroke:#000000;stroke-width:0.8;\" x=\"39.65\" xlink:href=\"#m1ee76d72bb\" y=\"62.53768\"/>\r\n      </g>\r\n     </g>\r\n     <g id=\"text_11\">\r\n      <!-- 800 -->\r\n      <defs>\r\n       <path d=\"M 31.78125 34.625 \r\nQ 24.75 34.625 20.71875 30.859375 \r\nQ 16.703125 27.09375 16.703125 20.515625 \r\nQ 16.703125 13.921875 20.71875 10.15625 \r\nQ 24.75 6.390625 31.78125 6.390625 \r\nQ 38.8125 6.390625 42.859375 10.171875 \r\nQ 46.921875 13.96875 46.921875 20.515625 \r\nQ 46.921875 27.09375 42.890625 30.859375 \r\nQ 38.875 34.625 31.78125 34.625 \r\nz\r\nM 21.921875 38.8125 \r\nQ 15.578125 40.375 12.03125 44.71875 \r\nQ 8.5 49.078125 8.5 55.328125 \r\nQ 8.5 64.0625 14.71875 69.140625 \r\nQ 20.953125 74.21875 31.78125 74.21875 \r\nQ 42.671875 74.21875 48.875 69.140625 \r\nQ 55.078125 64.0625 55.078125 55.328125 \r\nQ 55.078125 49.078125 51.53125 44.71875 \r\nQ 48 40.375 41.703125 38.8125 \r\nQ 48.828125 37.15625 52.796875 32.3125 \r\nQ 56.78125 27.484375 56.78125 20.515625 \r\nQ 56.78125 9.90625 50.3125 4.234375 \r\nQ 43.84375 -1.421875 31.78125 -1.421875 \r\nQ 19.734375 -1.421875 13.25 4.234375 \r\nQ 6.78125 9.90625 6.78125 20.515625 \r\nQ 6.78125 27.484375 10.78125 32.3125 \r\nQ 14.796875 37.15625 21.921875 38.8125 \r\nz\r\nM 18.3125 54.390625 \r\nQ 18.3125 48.734375 21.84375 45.5625 \r\nQ 25.390625 42.390625 31.78125 42.390625 \r\nQ 38.140625 42.390625 41.71875 45.5625 \r\nQ 45.3125 48.734375 45.3125 54.390625 \r\nQ 45.3125 60.0625 41.71875 63.234375 \r\nQ 38.140625 66.40625 31.78125 66.40625 \r\nQ 25.390625 66.40625 21.84375 63.234375 \r\nQ 18.3125 60.0625 18.3125 54.390625 \r\nz\r\n\" id=\"DejaVuSans-56\"/>\r\n      </defs>\r\n      <g transform=\"translate(13.5625 66.336898)scale(0.1 -0.1)\">\r\n       <use xlink:href=\"#DejaVuSans-56\"/>\r\n       <use x=\"63.623047\" xlink:href=\"#DejaVuSans-48\"/>\r\n       <use x=\"127.246094\" xlink:href=\"#DejaVuSans-48\"/>\r\n      </g>\r\n     </g>\r\n    </g>\r\n    <g id=\"ytick_6\">\r\n     <g id=\"line2d_23\">\r\n      <path clip-path=\"url(#p4379964d34)\" d=\"M 39.65 22.0121 \r\nL 374.45 22.0121 \r\n\" style=\"fill:none;stroke:#b0b0b0;stroke-linecap:square;stroke-width:0.8;\"/>\r\n     </g>\r\n     <g id=\"line2d_24\">\r\n      <g>\r\n       <use style=\"stroke:#000000;stroke-width:0.8;\" x=\"39.65\" xlink:href=\"#m1ee76d72bb\" y=\"22.0121\"/>\r\n      </g>\r\n     </g>\r\n     <g id=\"text_12\">\r\n      <!-- 1000 -->\r\n      <g transform=\"translate(7.2 25.811318)scale(0.1 -0.1)\">\r\n       <use xlink:href=\"#DejaVuSans-49\"/>\r\n       <use x=\"63.623047\" xlink:href=\"#DejaVuSans-48\"/>\r\n       <use x=\"127.246094\" xlink:href=\"#DejaVuSans-48\"/>\r\n       <use x=\"190.869141\" xlink:href=\"#DejaVuSans-48\"/>\r\n      </g>\r\n     </g>\r\n    </g>\r\n   </g>\r\n   <g id=\"patch_23\">\r\n    <path d=\"M 39.65 224.64 \r\nL 39.65 7.2 \r\n\" style=\"fill:none;stroke:#000000;stroke-linecap:square;stroke-linejoin:miter;stroke-width:0.8;\"/>\r\n   </g>\r\n   <g id=\"patch_24\">\r\n    <path d=\"M 374.45 224.64 \r\nL 374.45 7.2 \r\n\" style=\"fill:none;stroke:#000000;stroke-linecap:square;stroke-linejoin:miter;stroke-width:0.8;\"/>\r\n   </g>\r\n   <g id=\"patch_25\">\r\n    <path d=\"M 39.65 224.64 \r\nL 374.45 224.64 \r\n\" style=\"fill:none;stroke:#000000;stroke-linecap:square;stroke-linejoin:miter;stroke-width:0.8;\"/>\r\n   </g>\r\n   <g id=\"patch_26\">\r\n    <path d=\"M 39.65 7.2 \r\nL 374.45 7.2 \r\n\" style=\"fill:none;stroke:#000000;stroke-linecap:square;stroke-linejoin:miter;stroke-width:0.8;\"/>\r\n   </g>\r\n  </g>\r\n </g>\r\n <defs>\r\n  <clipPath id=\"p4379964d34\">\r\n   <rect height=\"217.44\" width=\"334.8\" x=\"39.65\" y=\"7.2\"/>\r\n  </clipPath>\r\n </defs>\r\n</svg>\r\n",
      "image/png": "[encoded data removed]"
     },
     "metadata": {
      "needs_background": "light"
     }
    }
   ],
   "source": [
    "user_artist_plays_by_user = user_artist_plays[[\"userID\", \"weight\"]].groupby(['userID']).sum()\n",
    "\n",
    "user_artist_plays_by_user[\"weight\"].hist(bins = 20)"
   ]
  },
  {
   "source": [
    "### 1.3. Géneros más escuchados"
   ],
   "cell_type": "markdown",
   "metadata": {}
  },
  {
   "cell_type": "code",
   "execution_count": 9,
   "metadata": {},
   "outputs": [
    {
     "output_type": "execute_result",
     "data": {
      "text/plain": [
       "     tagID      weight          tagValue\n",
       "23      24  1043039517               pop\n",
       "71      73   622063102              rock\n",
       "122    130   611535548  female vocalists\n",
       "38      39   569648216             dance\n",
       "77      79   403229595       alternative"
      ],
      "text/html": "<div>\n<style scoped>\n    .dataframe tbody tr th:only-of-type {\n        vertical-align: middle;\n    }\n\n    .dataframe tbody tr th {\n        vertical-align: top;\n    }\n\n    .dataframe thead th {\n        text-align: right;\n    }\n</style>\n<table border=\"1\" class=\"dataframe\">\n  <thead>\n    <tr style=\"text-align: right;\">\n      <th></th>\n      <th>tagID</th>\n      <th>weight</th>\n      <th>tagValue</th>\n    </tr>\n  </thead>\n  <tbody>\n    <tr>\n      <th>23</th>\n      <td>24</td>\n      <td>1043039517</td>\n      <td>pop</td>\n    </tr>\n    <tr>\n      <th>71</th>\n      <td>73</td>\n      <td>622063102</td>\n      <td>rock</td>\n    </tr>\n    <tr>\n      <th>122</th>\n      <td>130</td>\n      <td>611535548</td>\n      <td>female vocalists</td>\n    </tr>\n    <tr>\n      <th>38</th>\n      <td>39</td>\n      <td>569648216</td>\n      <td>dance</td>\n    </tr>\n    <tr>\n      <th>77</th>\n      <td>79</td>\n      <td>403229595</td>\n      <td>alternative</td>\n    </tr>\n  </tbody>\n</table>\n</div>"
     },
     "metadata": {},
     "execution_count": 9
    }
   ],
   "source": [
    "user_artist_plays_by_artist_tags = artist_plays.merge(user_tagged_artists, left_on=\"id\", right_on=\"artistID\")\n",
    "tags_plays = user_artist_plays_by_artist_tags[[\"tagID\", \"weight\"]].groupby(['tagID']).sum()\n",
    "tags_plays_merge = tags_plays.merge(tags, on=\"tagID\").sort_values(by=[\"weight\"], ascending=False)\n",
    "tags_plays_merge.head()"
   ]
  },
  {
   "cell_type": "markdown",
   "metadata": {},
   "source": [
    "## Ejercicio 2 - Sistema de Recomendación"
   ]
  },
  {
   "cell_type": "markdown",
   "metadata": {},
   "source": [
    "### Ejercicio 2a - Filtrados Colaborativos\n",
    "\n",
    "Esta parte del ejercicio es obligatoria para aprobar la parte introductoria de la materia (i.e. los contenidos que se ven en las dos primeras clases), quienes estén realizando la materia completa deerán realizar también el [Ejercicio 2b](#Ejercicio-2b---Sistemas-de-Recomendación-Avanzados). \n",
    "\n",
    "Deberán realizar un sistema de filtrados colaborativos basado en [Surpr!se](http://surpriselib.com/), a partir de los datos que proporciona `LastFM`, en especial el archivo `user_artists.dat`. Tener en cuenta los siguientes pasos:\n",
    "\n",
    "1. **Desarrollo de la matriz de Usuario-Contenido:** A partir del conjunto de datos deberán generar una matriz de usuario-contenido. Tener en cuenta que los ratings son implícitos, puesto que se dan a partir de la cantidad de veces que un usuario escuchó a determinado artista.\n",
    "2. **Entrenamiento del algoritmo de recomendación**: Utilizando las herramientas brindadas por [Surpr!se](http://surpriselib.com/), entrenen varios modelos (al menos 3) de sistemas de recomendación basados en filtrado colaborativo a partir de su matriz de usuario-contenido. Recuerden tener en cuenta lo aprendido en la diplomatura a la hora de evaluar y validar el modelo. Si necesitan inspiración, les recomendamos revisar [este notebook con información de como entrenar un sistema de recomendación con Surpr!se](https://github.com/susanli2016/Machine-Learning-with-Python/blob/master/Building%20Recommender%20System%20with%20Surprise.ipynb).\n",
    "3. **Sistema de recomendación**: A partir del mejor modelo de recomendación que haya surgido del caso anterior, y utilizando los datos del archivo `artist.dat`, armar un sistema de recomendación sencillo que, dado un nombre de un artista, devuelva el top 10 de artistas más similares. La idea es que el sistema tome el nombre de un artista y devuelva el nombre de otros artistas (no simplemente tomar y devolver IDs). Se recomienda [revisar este notebook para inspiración (ver el paso número 5)](https://github.com/topspinj/pydata-workshop/blob/master/tutorial.ipynb)."
   ]
  },
  {
   "cell_type": "code",
   "execution_count": 10,
   "metadata": {},
   "outputs": [],
   "source": [
    "user_artist_plays_sorted = user_artist_plays.groupby([\"userID\"]).apply(lambda x: x.sort_values([\"weight\"],ascending = False)).reset_index(drop = True)"
   ]
  },
  {
   "cell_type": "code",
   "execution_count": 11,
   "metadata": {},
   "outputs": [],
   "source": [
    "user_artist_plays_top = user_artist_plays.groupby([\"userID\"]).head(30)"
   ]
  },
  {
   "cell_type": "code",
   "execution_count": 12,
   "metadata": {},
   "outputs": [],
   "source": [
    "user_artist_plays_top[\"rating\"] = pd.cut(user_artist_plays_top[\"weight\"], 5, [0, 1000, 10000, 200000, 350000, 400000], labels=[\"1\", \"2\", \"3\", \"4\", \"5\"],include_lowest=True)"
   ]
  },
  {
   "cell_type": "code",
   "execution_count": 13,
   "metadata": {},
   "outputs": [
    {
     "output_type": "execute_result",
     "data": {
      "text/plain": [
       "       userID  artistID  weight rating\n",
       "0           2        51   13883      1\n",
       "1           2        52   11690      1\n",
       "2           2        53   11351      1\n",
       "3           2        54   10300      1\n",
       "4           2        55    8983      1\n",
       "...       ...       ...     ...    ...\n",
       "92809    2100      8320     284      1\n",
       "92810    2100      8322     650      1\n",
       "92811    2100      8323     456      1\n",
       "92812    2100      8324    1068      1\n",
       "92813    2100      8326     626      1\n",
       "\n",
       "[56006 rows x 4 columns]"
      ],
      "text/html": "<div>\n<style scoped>\n    .dataframe tbody tr th:only-of-type {\n        vertical-align: middle;\n    }\n\n    .dataframe tbody tr th {\n        vertical-align: top;\n    }\n\n    .dataframe thead th {\n        text-align: right;\n    }\n</style>\n<table border=\"1\" class=\"dataframe\">\n  <thead>\n    <tr style=\"text-align: right;\">\n      <th></th>\n      <th>userID</th>\n      <th>artistID</th>\n      <th>weight</th>\n      <th>rating</th>\n    </tr>\n  </thead>\n  <tbody>\n    <tr>\n      <th>0</th>\n      <td>2</td>\n      <td>51</td>\n      <td>13883</td>\n      <td>1</td>\n    </tr>\n    <tr>\n      <th>1</th>\n      <td>2</td>\n      <td>52</td>\n      <td>11690</td>\n      <td>1</td>\n    </tr>\n    <tr>\n      <th>2</th>\n      <td>2</td>\n      <td>53</td>\n      <td>11351</td>\n      <td>1</td>\n    </tr>\n    <tr>\n      <th>3</th>\n      <td>2</td>\n      <td>54</td>\n      <td>10300</td>\n      <td>1</td>\n    </tr>\n    <tr>\n      <th>4</th>\n      <td>2</td>\n      <td>55</td>\n      <td>8983</td>\n      <td>1</td>\n    </tr>\n    <tr>\n      <th>...</th>\n      <td>...</td>\n      <td>...</td>\n      <td>...</td>\n      <td>...</td>\n    </tr>\n    <tr>\n      <th>92809</th>\n      <td>2100</td>\n      <td>8320</td>\n      <td>284</td>\n      <td>1</td>\n    </tr>\n    <tr>\n      <th>92810</th>\n      <td>2100</td>\n      <td>8322</td>\n      <td>650</td>\n      <td>1</td>\n    </tr>\n    <tr>\n      <th>92811</th>\n      <td>2100</td>\n      <td>8323</td>\n      <td>456</td>\n      <td>1</td>\n    </tr>\n    <tr>\n      <th>92812</th>\n      <td>2100</td>\n      <td>8324</td>\n      <td>1068</td>\n      <td>1</td>\n    </tr>\n    <tr>\n      <th>92813</th>\n      <td>2100</td>\n      <td>8326</td>\n      <td>626</td>\n      <td>1</td>\n    </tr>\n  </tbody>\n</table>\n<p>56006 rows × 4 columns</p>\n</div>"
     },
     "metadata": {},
     "execution_count": 13
    }
   ],
   "source": [
    "user_artist_plays_top"
   ]
  },
  {
   "source": [
    "### Ejecicio 2.a"
   ],
   "cell_type": "markdown",
   "metadata": {}
  },
  {
   "cell_type": "code",
   "execution_count": 14,
   "metadata": {},
   "outputs": [],
   "source": [
    "# Importación de librerías necesarias.\n",
    "from surprise import Dataset, Reader, KNNWithMeans, NormalPredictor, KNNBasic, KNNWithMeans, KNNWithZScore, KNNBaseline, SVD, BaselineOnly, SVDpp, NMF, SlopeOne, CoClustering\n",
    "from surprise.accuracy import rmse\n",
    "from surprise.model_selection import cross_validate, train_test_split"
   ]
  },
  {
   "source": [
    "### 2.a.1. Matriz de contenido"
   ],
   "cell_type": "markdown",
   "metadata": {}
  },
  {
   "cell_type": "code",
   "execution_count": 15,
   "metadata": {},
   "outputs": [],
   "source": [
    "reader = Reader(rating_scale=(1, 5))\n",
    "\n",
    "ratings = Dataset.load_from_df(user_artist_plays_top[[\"userID\", \"artistID\", \"rating\"]], reader)"
   ]
  },
  {
   "source": [
    "### 2.a.2 Entrenamiento y análisis de algoritmos de recomendación"
   ],
   "cell_type": "markdown",
   "metadata": {}
  },
  {
   "cell_type": "code",
   "execution_count": 16,
   "metadata": {},
   "outputs": [
    {
     "output_type": "stream",
     "name": "stdout",
     "text": [
      "Estimating biases using als...\n",
      "Computing the msd similarity matrix...\n",
      "Done computing similarity matrix.\n",
      "Estimating biases using als...\n",
      "Computing the msd similarity matrix...\n",
      "Done computing similarity matrix.\n",
      "Estimating biases using als...\n",
      "Computing the msd similarity matrix...\n",
      "Done computing similarity matrix.\n",
      "Computing the msd similarity matrix...\n",
      "Done computing similarity matrix.\n",
      "Computing the msd similarity matrix...\n",
      "Done computing similarity matrix.\n",
      "Computing the msd similarity matrix...\n",
      "Done computing similarity matrix.\n",
      "Computing the msd similarity matrix...\n",
      "Done computing similarity matrix.\n",
      "Computing the msd similarity matrix...\n",
      "Done computing similarity matrix.\n",
      "Computing the msd similarity matrix...\n",
      "Done computing similarity matrix.\n",
      "Computing the msd similarity matrix...\n",
      "Done computing similarity matrix.\n",
      "Computing the msd similarity matrix...\n",
      "Done computing similarity matrix.\n",
      "Computing the msd similarity matrix...\n",
      "Done computing similarity matrix.\n",
      "Estimating biases using als...\n",
      "Estimating biases using als...\n",
      "Estimating biases using als...\n"
     ]
    }
   ],
   "source": [
    "benchmark = []\n",
    "# Iterate over all algorithms\n",
    "for algorithm in [SVD(), SVDpp(), SlopeOne(), NMF(), NormalPredictor(), KNNBaseline(), KNNBasic(), KNNWithMeans(), KNNWithZScore(), BaselineOnly(), CoClustering()]:\n",
    "    # Perform cross validation\n",
    "    results = cross_validate(algorithm, ratings, measures=['RMSE'], cv=3, verbose=False)\n",
    "    \n",
    "    # Get results & append algorithm name\n",
    "    tmp = pd.DataFrame.from_dict(results).mean(axis=0)\n",
    "    tmp = tmp.append(pd.Series([str(algorithm).split(' ')[0].split('.')[-1]], index=['Algorithm']))\n",
    "    benchmark.append(tmp)\n"
   ]
  },
  {
   "cell_type": "code",
   "execution_count": 17,
   "metadata": {},
   "outputs": [],
   "source": [
    "surprise_results = pd.DataFrame(benchmark).set_index('Algorithm').sort_values('test_rmse')"
   ]
  },
  {
   "cell_type": "code",
   "execution_count": 18,
   "metadata": {},
   "outputs": [
    {
     "output_type": "execute_result",
     "data": {
      "text/plain": [
       "                 test_rmse   fit_time  test_time\n",
       "Algorithm                                       \n",
       "BaselineOnly      0.043340   0.125318   0.132025\n",
       "KNNBasic          0.045950   0.293675   1.947336\n",
       "NMF               0.046081   3.074689   0.166002\n",
       "KNNWithZScore     0.046627   0.381953   2.170016\n",
       "KNNWithMeans      0.046822   0.365635   2.258347\n",
       "KNNBaseline       0.046910   0.398985   2.271023\n",
       "SlopeOne          0.047623   0.595004   0.404669\n",
       "SVDpp             0.053477  15.611185   0.647657\n",
       "NormalPredictor   0.055812   0.089670   0.225647\n",
       "CoClustering      0.056232   1.639966   0.136027\n",
       "SVD               0.072231   2.205129   0.166032"
      ],
      "text/html": "<div>\n<style scoped>\n    .dataframe tbody tr th:only-of-type {\n        vertical-align: middle;\n    }\n\n    .dataframe tbody tr th {\n        vertical-align: top;\n    }\n\n    .dataframe thead th {\n        text-align: right;\n    }\n</style>\n<table border=\"1\" class=\"dataframe\">\n  <thead>\n    <tr style=\"text-align: right;\">\n      <th></th>\n      <th>test_rmse</th>\n      <th>fit_time</th>\n      <th>test_time</th>\n    </tr>\n    <tr>\n      <th>Algorithm</th>\n      <th></th>\n      <th></th>\n      <th></th>\n    </tr>\n  </thead>\n  <tbody>\n    <tr>\n      <th>BaselineOnly</th>\n      <td>0.043340</td>\n      <td>0.125318</td>\n      <td>0.132025</td>\n    </tr>\n    <tr>\n      <th>KNNBasic</th>\n      <td>0.045950</td>\n      <td>0.293675</td>\n      <td>1.947336</td>\n    </tr>\n    <tr>\n      <th>NMF</th>\n      <td>0.046081</td>\n      <td>3.074689</td>\n      <td>0.166002</td>\n    </tr>\n    <tr>\n      <th>KNNWithZScore</th>\n      <td>0.046627</td>\n      <td>0.381953</td>\n      <td>2.170016</td>\n    </tr>\n    <tr>\n      <th>KNNWithMeans</th>\n      <td>0.046822</td>\n      <td>0.365635</td>\n      <td>2.258347</td>\n    </tr>\n    <tr>\n      <th>KNNBaseline</th>\n      <td>0.046910</td>\n      <td>0.398985</td>\n      <td>2.271023</td>\n    </tr>\n    <tr>\n      <th>SlopeOne</th>\n      <td>0.047623</td>\n      <td>0.595004</td>\n      <td>0.404669</td>\n    </tr>\n    <tr>\n      <th>SVDpp</th>\n      <td>0.053477</td>\n      <td>15.611185</td>\n      <td>0.647657</td>\n    </tr>\n    <tr>\n      <th>NormalPredictor</th>\n      <td>0.055812</td>\n      <td>0.089670</td>\n      <td>0.225647</td>\n    </tr>\n    <tr>\n      <th>CoClustering</th>\n      <td>0.056232</td>\n      <td>1.639966</td>\n      <td>0.136027</td>\n    </tr>\n    <tr>\n      <th>SVD</th>\n      <td>0.072231</td>\n      <td>2.205129</td>\n      <td>0.166032</td>\n    </tr>\n  </tbody>\n</table>\n</div>"
     },
     "metadata": {},
     "execution_count": 18
    }
   ],
   "source": [
    "surprise_results"
   ]
  },
  {
   "cell_type": "code",
   "execution_count": 19,
   "metadata": {},
   "outputs": [
    {
     "output_type": "stream",
     "name": "stdout",
     "text": [
      "RMSE on test: 0.0362\n"
     ]
    }
   ],
   "source": [
    "ratings_train, ratings_test = train_test_split(ratings, test_size=0.2)\n",
    "sim_options = {'name': 'pearson_baseline', 'user_based': False}\n",
    "model = SVDpp(random_state=42)\n",
    "model.fit(ratings_train)\n",
    "predictions = model.test(ratings_test)\n",
    "print(\"RMSE on test: {:.4f}\".format(rmse(predictions, verbose=False)))"
   ]
  },
  {
   "cell_type": "code",
   "execution_count": 20,
   "metadata": {},
   "outputs": [],
   "source": [
    "def get_Iu(uid):\n",
    "    \"\"\" return the number of items rated by given user\n",
    "    args: \n",
    "      uid: the id of the user\n",
    "    returns: \n",
    "      the number of items rated by the user\n",
    "    \"\"\"\n",
    "    try:\n",
    "        return len(ratings_train.ur[ratings_train.to_inner_uid(uid)])\n",
    "    except ValueError: # user was not part of the trainset\n",
    "        return 0\n",
    "    \n",
    "def get_Ui(iid):\n",
    "    \"\"\" return number of users that have rated given item\n",
    "    args:\n",
    "      iid: the raw id of the item\n",
    "    returns:\n",
    "      the number of users that have rated the item.\n",
    "    \"\"\"\n",
    "    try: \n",
    "        return len(ratings_train.ir[ratings_train.to_inner_iid(iid)])\n",
    "    except ValueError:\n",
    "        return 0\n",
    "    \n",
    "df_predictions = pd.DataFrame(predictions, columns=['uid', 'iid', 'rui', 'est', 'details'])\n",
    "df_predictions['Iu'] = df_predictions.uid.apply(get_Iu)\n",
    "df_predictions['Ui'] = df_predictions.iid.apply(get_Ui)\n",
    "df_predictions['err'] = abs(df_predictions.est - df_predictions.rui)"
   ]
  },
  {
   "cell_type": "code",
   "execution_count": 21,
   "metadata": {},
   "outputs": [
    {
     "output_type": "execute_result",
     "data": {
      "text/plain": [
       "    uid    iid  rui       est                    details  Iu   Ui       err\n",
       "0  1457    475  1.0  1.000000  {'was_impossible': False}  25  157  0.000000\n",
       "1  1090  12231  1.0  1.000000  {'was_impossible': False}  25    0  0.000000\n",
       "2  1249    245  1.0  1.009583  {'was_impossible': False}  23   25  0.009583\n",
       "3   846   3442  1.0  1.000000  {'was_impossible': False}  21    3  0.000000\n",
       "4   521    209  1.0  1.012184  {'was_impossible': False}  24  122  0.012184"
      ],
      "text/html": "<div>\n<style scoped>\n    .dataframe tbody tr th:only-of-type {\n        vertical-align: middle;\n    }\n\n    .dataframe tbody tr th {\n        vertical-align: top;\n    }\n\n    .dataframe thead th {\n        text-align: right;\n    }\n</style>\n<table border=\"1\" class=\"dataframe\">\n  <thead>\n    <tr style=\"text-align: right;\">\n      <th></th>\n      <th>uid</th>\n      <th>iid</th>\n      <th>rui</th>\n      <th>est</th>\n      <th>details</th>\n      <th>Iu</th>\n      <th>Ui</th>\n      <th>err</th>\n    </tr>\n  </thead>\n  <tbody>\n    <tr>\n      <th>0</th>\n      <td>1457</td>\n      <td>475</td>\n      <td>1.0</td>\n      <td>1.000000</td>\n      <td>{'was_impossible': False}</td>\n      <td>25</td>\n      <td>157</td>\n      <td>0.000000</td>\n    </tr>\n    <tr>\n      <th>1</th>\n      <td>1090</td>\n      <td>12231</td>\n      <td>1.0</td>\n      <td>1.000000</td>\n      <td>{'was_impossible': False}</td>\n      <td>25</td>\n      <td>0</td>\n      <td>0.000000</td>\n    </tr>\n    <tr>\n      <th>2</th>\n      <td>1249</td>\n      <td>245</td>\n      <td>1.0</td>\n      <td>1.009583</td>\n      <td>{'was_impossible': False}</td>\n      <td>23</td>\n      <td>25</td>\n      <td>0.009583</td>\n    </tr>\n    <tr>\n      <th>3</th>\n      <td>846</td>\n      <td>3442</td>\n      <td>1.0</td>\n      <td>1.000000</td>\n      <td>{'was_impossible': False}</td>\n      <td>21</td>\n      <td>3</td>\n      <td>0.000000</td>\n    </tr>\n    <tr>\n      <th>4</th>\n      <td>521</td>\n      <td>209</td>\n      <td>1.0</td>\n      <td>1.012184</td>\n      <td>{'was_impossible': False}</td>\n      <td>24</td>\n      <td>122</td>\n      <td>0.012184</td>\n    </tr>\n  </tbody>\n</table>\n</div>"
     },
     "metadata": {},
     "execution_count": 21
    }
   ],
   "source": [
    "df_predictions.head()"
   ]
  },
  {
   "cell_type": "code",
   "execution_count": 22,
   "metadata": {},
   "outputs": [],
   "source": [
    "best_predictions = df_predictions.sort_values(by='err')[:10]\n",
    "worst_predictions = df_predictions.sort_values(by='err')[-10:]"
   ]
  },
  {
   "cell_type": "code",
   "execution_count": 23,
   "metadata": {},
   "outputs": [
    {
     "output_type": "execute_result",
     "data": {
      "text/plain": [
       "       uid    iid  rui  est                    details  Iu   Ui  err\n",
       "0     1457    475  1.0  1.0  {'was_impossible': False}  25  157  0.0\n",
       "6207  1872    693  1.0  1.0  {'was_impossible': False}  22   23  0.0\n",
       "6205  1513   3057  1.0  1.0  {'was_impossible': False}  23   22  0.0\n",
       "6204  1498    867  1.0  1.0  {'was_impossible': False}  23   20  0.0\n",
       "6203   333    295  1.0  1.0  {'was_impossible': False}  24  307  0.0\n",
       "6202  1923   1249  1.0  1.0  {'was_impossible': False}  24   96  0.0\n",
       "6201   849   1239  1.0  1.0  {'was_impossible': False}  26   47  0.0\n",
       "6199  1997    735  1.0  1.0  {'was_impossible': False}  19  106  0.0\n",
       "6197  1989  18036  1.0  1.0  {'was_impossible': False}  22    0  0.0\n",
       "6196   336   2831  1.0  1.0  {'was_impossible': False}  24    1  0.0"
      ],
      "text/html": "<div>\n<style scoped>\n    .dataframe tbody tr th:only-of-type {\n        vertical-align: middle;\n    }\n\n    .dataframe tbody tr th {\n        vertical-align: top;\n    }\n\n    .dataframe thead th {\n        text-align: right;\n    }\n</style>\n<table border=\"1\" class=\"dataframe\">\n  <thead>\n    <tr style=\"text-align: right;\">\n      <th></th>\n      <th>uid</th>\n      <th>iid</th>\n      <th>rui</th>\n      <th>est</th>\n      <th>details</th>\n      <th>Iu</th>\n      <th>Ui</th>\n      <th>err</th>\n    </tr>\n  </thead>\n  <tbody>\n    <tr>\n      <th>0</th>\n      <td>1457</td>\n      <td>475</td>\n      <td>1.0</td>\n      <td>1.0</td>\n      <td>{'was_impossible': False}</td>\n      <td>25</td>\n      <td>157</td>\n      <td>0.0</td>\n    </tr>\n    <tr>\n      <th>6207</th>\n      <td>1872</td>\n      <td>693</td>\n      <td>1.0</td>\n      <td>1.0</td>\n      <td>{'was_impossible': False}</td>\n      <td>22</td>\n      <td>23</td>\n      <td>0.0</td>\n    </tr>\n    <tr>\n      <th>6205</th>\n      <td>1513</td>\n      <td>3057</td>\n      <td>1.0</td>\n      <td>1.0</td>\n      <td>{'was_impossible': False}</td>\n      <td>23</td>\n      <td>22</td>\n      <td>0.0</td>\n    </tr>\n    <tr>\n      <th>6204</th>\n      <td>1498</td>\n      <td>867</td>\n      <td>1.0</td>\n      <td>1.0</td>\n      <td>{'was_impossible': False}</td>\n      <td>23</td>\n      <td>20</td>\n      <td>0.0</td>\n    </tr>\n    <tr>\n      <th>6203</th>\n      <td>333</td>\n      <td>295</td>\n      <td>1.0</td>\n      <td>1.0</td>\n      <td>{'was_impossible': False}</td>\n      <td>24</td>\n      <td>307</td>\n      <td>0.0</td>\n    </tr>\n    <tr>\n      <th>6202</th>\n      <td>1923</td>\n      <td>1249</td>\n      <td>1.0</td>\n      <td>1.0</td>\n      <td>{'was_impossible': False}</td>\n      <td>24</td>\n      <td>96</td>\n      <td>0.0</td>\n    </tr>\n    <tr>\n      <th>6201</th>\n      <td>849</td>\n      <td>1239</td>\n      <td>1.0</td>\n      <td>1.0</td>\n      <td>{'was_impossible': False}</td>\n      <td>26</td>\n      <td>47</td>\n      <td>0.0</td>\n    </tr>\n    <tr>\n      <th>6199</th>\n      <td>1997</td>\n      <td>735</td>\n      <td>1.0</td>\n      <td>1.0</td>\n      <td>{'was_impossible': False}</td>\n      <td>19</td>\n      <td>106</td>\n      <td>0.0</td>\n    </tr>\n    <tr>\n      <th>6197</th>\n      <td>1989</td>\n      <td>18036</td>\n      <td>1.0</td>\n      <td>1.0</td>\n      <td>{'was_impossible': False}</td>\n      <td>22</td>\n      <td>0</td>\n      <td>0.0</td>\n    </tr>\n    <tr>\n      <th>6196</th>\n      <td>336</td>\n      <td>2831</td>\n      <td>1.0</td>\n      <td>1.0</td>\n      <td>{'was_impossible': False}</td>\n      <td>24</td>\n      <td>1</td>\n      <td>0.0</td>\n    </tr>\n  </tbody>\n</table>\n</div>"
     },
     "metadata": {},
     "execution_count": 23
    }
   ],
   "source": [
    "best_predictions"
   ]
  },
  {
   "cell_type": "code",
   "execution_count": 24,
   "metadata": {},
   "outputs": [
    {
     "output_type": "execute_result",
     "data": {
      "text/plain": [
       "        uid    iid  rui       est                    details  Iu   Ui  \\\n",
       "7728   1094    735  1.0  1.191185  {'was_impossible': False}  23  106   \n",
       "9584   1094    166  1.0  1.211567  {'was_impossible': False}  23   56   \n",
       "7597   1905   1171  1.0  1.229407  {'was_impossible': False}  26    4   \n",
       "9812   1642  14752  1.0  1.235365  {'was_impossible': False}  25    1   \n",
       "5322    536    792  1.0  1.283254  {'was_impossible': False}  22   12   \n",
       "10103   735    792  1.0  1.285757  {'was_impossible': False}  23   12   \n",
       "665     767     72  2.0  1.055973  {'was_impossible': False}  23  218   \n",
       "6146   1339     65  2.0  1.029472  {'was_impossible': False}  26  299   \n",
       "2919   1368    486  2.0  1.016414  {'was_impossible': False}  23  170   \n",
       "9399   1146    378  3.0  1.010600  {'was_impossible': False}  20  178   \n",
       "\n",
       "            err  \n",
       "7728   0.191185  \n",
       "9584   0.211567  \n",
       "7597   0.229407  \n",
       "9812   0.235365  \n",
       "5322   0.283254  \n",
       "10103  0.285757  \n",
       "665    0.944027  \n",
       "6146   0.970528  \n",
       "2919   0.983586  \n",
       "9399   1.989400  "
      ],
      "text/html": "<div>\n<style scoped>\n    .dataframe tbody tr th:only-of-type {\n        vertical-align: middle;\n    }\n\n    .dataframe tbody tr th {\n        vertical-align: top;\n    }\n\n    .dataframe thead th {\n        text-align: right;\n    }\n</style>\n<table border=\"1\" class=\"dataframe\">\n  <thead>\n    <tr style=\"text-align: right;\">\n      <th></th>\n      <th>uid</th>\n      <th>iid</th>\n      <th>rui</th>\n      <th>est</th>\n      <th>details</th>\n      <th>Iu</th>\n      <th>Ui</th>\n      <th>err</th>\n    </tr>\n  </thead>\n  <tbody>\n    <tr>\n      <th>7728</th>\n      <td>1094</td>\n      <td>735</td>\n      <td>1.0</td>\n      <td>1.191185</td>\n      <td>{'was_impossible': False}</td>\n      <td>23</td>\n      <td>106</td>\n      <td>0.191185</td>\n    </tr>\n    <tr>\n      <th>9584</th>\n      <td>1094</td>\n      <td>166</td>\n      <td>1.0</td>\n      <td>1.211567</td>\n      <td>{'was_impossible': False}</td>\n      <td>23</td>\n      <td>56</td>\n      <td>0.211567</td>\n    </tr>\n    <tr>\n      <th>7597</th>\n      <td>1905</td>\n      <td>1171</td>\n      <td>1.0</td>\n      <td>1.229407</td>\n      <td>{'was_impossible': False}</td>\n      <td>26</td>\n      <td>4</td>\n      <td>0.229407</td>\n    </tr>\n    <tr>\n      <th>9812</th>\n      <td>1642</td>\n      <td>14752</td>\n      <td>1.0</td>\n      <td>1.235365</td>\n      <td>{'was_impossible': False}</td>\n      <td>25</td>\n      <td>1</td>\n      <td>0.235365</td>\n    </tr>\n    <tr>\n      <th>5322</th>\n      <td>536</td>\n      <td>792</td>\n      <td>1.0</td>\n      <td>1.283254</td>\n      <td>{'was_impossible': False}</td>\n      <td>22</td>\n      <td>12</td>\n      <td>0.283254</td>\n    </tr>\n    <tr>\n      <th>10103</th>\n      <td>735</td>\n      <td>792</td>\n      <td>1.0</td>\n      <td>1.285757</td>\n      <td>{'was_impossible': False}</td>\n      <td>23</td>\n      <td>12</td>\n      <td>0.285757</td>\n    </tr>\n    <tr>\n      <th>665</th>\n      <td>767</td>\n      <td>72</td>\n      <td>2.0</td>\n      <td>1.055973</td>\n      <td>{'was_impossible': False}</td>\n      <td>23</td>\n      <td>218</td>\n      <td>0.944027</td>\n    </tr>\n    <tr>\n      <th>6146</th>\n      <td>1339</td>\n      <td>65</td>\n      <td>2.0</td>\n      <td>1.029472</td>\n      <td>{'was_impossible': False}</td>\n      <td>26</td>\n      <td>299</td>\n      <td>0.970528</td>\n    </tr>\n    <tr>\n      <th>2919</th>\n      <td>1368</td>\n      <td>486</td>\n      <td>2.0</td>\n      <td>1.016414</td>\n      <td>{'was_impossible': False}</td>\n      <td>23</td>\n      <td>170</td>\n      <td>0.983586</td>\n    </tr>\n    <tr>\n      <th>9399</th>\n      <td>1146</td>\n      <td>378</td>\n      <td>3.0</td>\n      <td>1.010600</td>\n      <td>{'was_impossible': False}</td>\n      <td>20</td>\n      <td>178</td>\n      <td>1.989400</td>\n    </tr>\n  </tbody>\n</table>\n</div>"
     },
     "metadata": {},
     "execution_count": 24
    }
   ],
   "source": [
    "worst_predictions"
   ]
  },
  {
   "source": [
    "### 2.a.3 Sistema de recomendación"
   ],
   "cell_type": "markdown",
   "metadata": {}
  },
  {
   "cell_type": "code",
   "execution_count": 25,
   "metadata": {
    "tags": []
   },
   "outputs": [],
   "source": [
    "from collections import defaultdict\n",
    "from collections import Counter\n",
    "\n",
    "def get_top_n_similar(predictions, artistID, n=10):\n",
    "    # Mapeo de predicciones por cada usuario\n",
    "    top_n = defaultdict(list)\n",
    "\n",
    "    for uid, iid, true_r, est, _ in predictions:\n",
    "        top_n[uid].append((iid, est))\n",
    "\n",
    "    # Se toman las 10 primeras predicciones de cada usuario\n",
    "    for uid, user_ratings in top_n.items():\n",
    "        user_ratings.sort(key=lambda x: x[1], reverse=True)\n",
    "        top_n[uid] = user_ratings[:n]\n",
    "\n",
    "    # Se recorren para todos los usuarios, aquellas listas en las que aparece el artista, y se eligen los 10 más frecuentes.\n",
    "    artistIDs = []\n",
    "    for uid, user_ratings in top_n.items():\n",
    "        agregarIds = False\n",
    "        for rating in user_ratings:\n",
    "            iid = rating[0]\n",
    "            if (iid == artistID):\n",
    "                agregarIds = True\n",
    "                break\n",
    "        if (agregarIds == True):\n",
    "            for rating in user_ratings:\n",
    "                artistIDs.append(rating[0])\n",
    "\n",
    "    list_freq = (Counter(artistIDs)).most_common(10)\n",
    "\n",
    "    return list_freq"
   ]
  },
  {
   "cell_type": "code",
   "execution_count": 26,
   "metadata": {},
   "outputs": [],
   "source": [
    "def print_top_10_similar(artist_name):\n",
    "    artistID = artist_data[artist_data[\"name\"].str.lower() == artist_name.lower()].id.item()\n",
    "\n",
    "    top_n_similar = get_top_n_similar(predictions, artistID, 10)\n",
    "\n",
    "    for key, value in top_n_similar:\n",
    "        if (key != artistID):\n",
    "            print(artist_data[artist_data[\"id\"] == key].name.item())"
   ]
  },
  {
   "cell_type": "code",
   "execution_count": 27,
   "metadata": {},
   "outputs": [
    {
     "output_type": "stream",
     "name": "stdout",
     "text": [
      "The Beatles\nEric Clapton\nThe Doors\nElvis Presley\nJohn Lennon\nLed Zeppelin\nThe White Stripes\nThe Strokes\nFoo Fighters\n"
     ]
    }
   ],
   "source": [
    "print_top_10_similar(\"The Rolling Stones\")"
   ]
  },
  {
   "cell_type": "markdown",
   "metadata": {},
   "source": [
    "### Ejercicio 2b - Sistemas de Recomendación Avanzados\n",
    "\n",
    "Este ejercicio lo deberán completar quienes hayan realizado ambas partes de la materia pues requiere de los conocimientos adquiridos en las segundas dos clases. En este caso, utilizarán no sólo la información de la matriz de usuario-contenido, sino que deberán hacer uso de otra información para poder lidiar con el problema del \"Cold Start\", i.e. que es lo que ocurre cuando tengo nuevos usuarios o artistas. Tener en cuenta los siguientes pasos:\n",
    "1. **Evaluación sobre cold start**: Para evaluar como funciona el sistema con el problema del \"cold start\", deberán tomar ciertos artistas y \"dejarlos fuera\", i.e. remover cualquier participación del artista en el sistema. Esos serán los artistas que se evaluarán como \"cold start\".\n",
    "2. **Vectores de contenido**: Deberán generar vectores de contenido para los artistas, basados en los tags que los usuarios les dan (ver los archivos `user_taggedartists.dat` y `tags.dat`).\n",
    "3. **Sistema de recomendación**: Deberán crear un sistema de recomendación que tomará como parámetros la información del artista (i.e. nombre y tags). Con dicha información, deberán disponer de un sistema de recomendación híbrido (utilizando cualquiera de las técnicas vistas en clase) que devuelva artistas similares. El sistema de recomendación deberá utilizar toda la información proporcionada para dar una mejor respuesta.\n",
    "4. **Evaluación del sistema**: Deberán evaluar \"a mano\" el sistema sobre artistas que conozca y artistas que no conozca (i.e. que fueron dejados afuera), y hacer un análisis de lo que el sistema está devolviendo."
   ]
  },
  {
   "source": [
    "### 2.b.1 Evaluación sobre cold start\n",
    "Para abordar el problema de cold start, el análisis se realizó sobre los tags asignados a los artistas. Se resolvió trabajar sólo con las primeras 3 tags más relevantes de cada artista."
   ],
   "cell_type": "markdown",
   "metadata": {}
  },
  {
   "cell_type": "code",
   "execution_count": 28,
   "metadata": {},
   "outputs": [],
   "source": [
    "user_tagged_artists_count = user_tagged_artists[[\"artistID\", \"tagID\"]]\n",
    "user_tagged_artists_count[\"count\"] = user_tagged_artists_count.groupby([\"artistID\", \"tagID\"])[\"tagID\"].transform(\"count\")\n",
    "user_tagged_artists_count = user_tagged_artists_count.drop_duplicates()\n",
    "user_tagged_artists_count = user_tagged_artists_count.groupby([\"artistID\"]).apply(lambda x: x.sort_values([\"count\"],ascending = False)).reset_index(drop = True)\n",
    "\n",
    "user_tagged_artists_count = user_tagged_artists_count.groupby(\"artistID\").head(3)"
   ]
  },
  {
   "source": [
    "user_tagged_artists_count.head()"
   ],
   "cell_type": "code",
   "metadata": {},
   "execution_count": 29,
   "outputs": [
    {
     "output_type": "execute_result",
     "data": {
      "text/plain": [
       "   artistID  tagID  count\n",
       "0         1    139      5\n",
       "1         1    141      3\n",
       "2         1    179      2\n",
       "7         2    575      8\n",
       "8         2     30      5"
      ],
      "text/html": "<div>\n<style scoped>\n    .dataframe tbody tr th:only-of-type {\n        vertical-align: middle;\n    }\n\n    .dataframe tbody tr th {\n        vertical-align: top;\n    }\n\n    .dataframe thead th {\n        text-align: right;\n    }\n</style>\n<table border=\"1\" class=\"dataframe\">\n  <thead>\n    <tr style=\"text-align: right;\">\n      <th></th>\n      <th>artistID</th>\n      <th>tagID</th>\n      <th>count</th>\n    </tr>\n  </thead>\n  <tbody>\n    <tr>\n      <th>0</th>\n      <td>1</td>\n      <td>139</td>\n      <td>5</td>\n    </tr>\n    <tr>\n      <th>1</th>\n      <td>1</td>\n      <td>141</td>\n      <td>3</td>\n    </tr>\n    <tr>\n      <th>2</th>\n      <td>1</td>\n      <td>179</td>\n      <td>2</td>\n    </tr>\n    <tr>\n      <th>7</th>\n      <td>2</td>\n      <td>575</td>\n      <td>8</td>\n    </tr>\n    <tr>\n      <th>8</th>\n      <td>2</td>\n      <td>30</td>\n      <td>5</td>\n    </tr>\n  </tbody>\n</table>\n</div>"
     },
     "metadata": {},
     "execution_count": 29
    }
   ]
  },
  {
   "source": [
    "Luego, sobre el dataset que contiene los 3 tags más frecuentes de cada artista se hace una operación \"merge\" con los tags para tener los nombres de cada género."
   ],
   "cell_type": "markdown",
   "metadata": {}
  },
  {
   "cell_type": "code",
   "execution_count": 30,
   "metadata": {},
   "outputs": [
    {
     "output_type": "execute_result",
     "data": {
      "text/plain": [
       "   artistID  tagID  count tagValue\n",
       "0         1    139      5   j-rock\n",
       "1         4    139      6   j-rock\n",
       "2         8    139      8   j-rock\n",
       "3       372    139      1   j-rock\n",
       "4       376    139      5   j-rock"
      ],
      "text/html": "<div>\n<style scoped>\n    .dataframe tbody tr th:only-of-type {\n        vertical-align: middle;\n    }\n\n    .dataframe tbody tr th {\n        vertical-align: top;\n    }\n\n    .dataframe thead th {\n        text-align: right;\n    }\n</style>\n<table border=\"1\" class=\"dataframe\">\n  <thead>\n    <tr style=\"text-align: right;\">\n      <th></th>\n      <th>artistID</th>\n      <th>tagID</th>\n      <th>count</th>\n      <th>tagValue</th>\n    </tr>\n  </thead>\n  <tbody>\n    <tr>\n      <th>0</th>\n      <td>1</td>\n      <td>139</td>\n      <td>5</td>\n      <td>j-rock</td>\n    </tr>\n    <tr>\n      <th>1</th>\n      <td>4</td>\n      <td>139</td>\n      <td>6</td>\n      <td>j-rock</td>\n    </tr>\n    <tr>\n      <th>2</th>\n      <td>8</td>\n      <td>139</td>\n      <td>8</td>\n      <td>j-rock</td>\n    </tr>\n    <tr>\n      <th>3</th>\n      <td>372</td>\n      <td>139</td>\n      <td>1</td>\n      <td>j-rock</td>\n    </tr>\n    <tr>\n      <th>4</th>\n      <td>376</td>\n      <td>139</td>\n      <td>5</td>\n      <td>j-rock</td>\n    </tr>\n  </tbody>\n</table>\n</div>"
     },
     "metadata": {},
     "execution_count": 30
    }
   ],
   "source": [
    "# Merge con Tags para tener los nombres de tags\n",
    "artists_tags_top = user_tagged_artists_count.merge(tags, on=\"tagID\").drop_duplicates()\n",
    "\n",
    "artists_tags_top.head()"
   ]
  },
  {
   "source": [
    "### 2.b.2 Vector de contenido"
   ],
   "cell_type": "markdown",
   "metadata": {}
  },
  {
   "source": [
    "Para armar el vector de contenido, se tomará una lista de valores únicos de aquellos tags que se encuentran en el dataset que almacena los 3 tags más frecuentes por cada artista. "
   ],
   "cell_type": "markdown",
   "metadata": {}
  },
  {
   "cell_type": "code",
   "execution_count": 31,
   "metadata": {},
   "outputs": [
    {
     "output_type": "execute_result",
     "data": {
      "text/plain": [
       "0                j-rock\n",
       "66           visual kei\n",
       "129              gothic\n",
       "218            darkwave\n",
       "280              german\n",
       "              ...      \n",
       "32403             ustad\n",
       "32404         a capella\n",
       "32405    massive attack\n",
       "32406         trip beat\n",
       "32407        dead music\n",
       "Name: tagValue, Length: 2821, dtype: object"
      ]
     },
     "metadata": {},
     "execution_count": 31
    }
   ],
   "source": [
    "used_tags = artists_tags_top['tagValue'].drop_duplicates()\n",
    "used_tags"
   ]
  },
  {
   "source": [
    "El vector de contenido será resultado de una transformación del dataset \"artists_tags_top\", agregando una columna por cada género (tag) y quitando las restantes columnas."
   ],
   "cell_type": "markdown",
   "metadata": {}
  },
  {
   "cell_type": "code",
   "execution_count": 32,
   "metadata": {},
   "outputs": [
    {
     "output_type": "execute_result",
     "data": {
      "text/plain": [
       "   j-rock  visual kei  gothic  darkwave  german  black metal  \\\n",
       "0       1           0       0         0       0            0   \n",
       "1       1           0       0         0       0            0   \n",
       "2       1           0       0         0       0            0   \n",
       "3       1           0       0         0       0            0   \n",
       "4       1           0       0         0       0            0   \n",
       "\n",
       "   true norwegian black metal  norwegian black metal  japanese  gothic rock  \\\n",
       "0                           0                      0         0            0   \n",
       "1                           0                      0         0            0   \n",
       "2                           0                      0         0            0   \n",
       "3                           0                      0         0            0   \n",
       "4                           0                      0         0            0   \n",
       "\n",
       "   ...  ou nao  batcave deathrock  stoner power rock  italodance  \\\n",
       "0  ...       0                  0                  0           0   \n",
       "1  ...       0                  0                  0           0   \n",
       "2  ...       0                  0                  0           0   \n",
       "3  ...       0                  0                  0           0   \n",
       "4  ...       0                  0                  0           0   \n",
       "\n",
       "   amazing singer  ustad  a capella  massive attack  trip beat  dead music  \n",
       "0               0      0          0               0          0           0  \n",
       "1               0      0          0               0          0           0  \n",
       "2               0      0          0               0          0           0  \n",
       "3               0      0          0               0          0           0  \n",
       "4               0      0          0               0          0           0  \n",
       "\n",
       "[5 rows x 2821 columns]"
      ],
      "text/html": "<div>\n<style scoped>\n    .dataframe tbody tr th:only-of-type {\n        vertical-align: middle;\n    }\n\n    .dataframe tbody tr th {\n        vertical-align: top;\n    }\n\n    .dataframe thead th {\n        text-align: right;\n    }\n</style>\n<table border=\"1\" class=\"dataframe\">\n  <thead>\n    <tr style=\"text-align: right;\">\n      <th></th>\n      <th>j-rock</th>\n      <th>visual kei</th>\n      <th>gothic</th>\n      <th>darkwave</th>\n      <th>german</th>\n      <th>black metal</th>\n      <th>true norwegian black metal</th>\n      <th>norwegian black metal</th>\n      <th>japanese</th>\n      <th>gothic rock</th>\n      <th>...</th>\n      <th>ou nao</th>\n      <th>batcave deathrock</th>\n      <th>stoner power rock</th>\n      <th>italodance</th>\n      <th>amazing singer</th>\n      <th>ustad</th>\n      <th>a capella</th>\n      <th>massive attack</th>\n      <th>trip beat</th>\n      <th>dead music</th>\n    </tr>\n  </thead>\n  <tbody>\n    <tr>\n      <th>0</th>\n      <td>1</td>\n      <td>0</td>\n      <td>0</td>\n      <td>0</td>\n      <td>0</td>\n      <td>0</td>\n      <td>0</td>\n      <td>0</td>\n      <td>0</td>\n      <td>0</td>\n      <td>...</td>\n      <td>0</td>\n      <td>0</td>\n      <td>0</td>\n      <td>0</td>\n      <td>0</td>\n      <td>0</td>\n      <td>0</td>\n      <td>0</td>\n      <td>0</td>\n      <td>0</td>\n    </tr>\n    <tr>\n      <th>1</th>\n      <td>1</td>\n      <td>0</td>\n      <td>0</td>\n      <td>0</td>\n      <td>0</td>\n      <td>0</td>\n      <td>0</td>\n      <td>0</td>\n      <td>0</td>\n      <td>0</td>\n      <td>...</td>\n      <td>0</td>\n      <td>0</td>\n      <td>0</td>\n      <td>0</td>\n      <td>0</td>\n      <td>0</td>\n      <td>0</td>\n      <td>0</td>\n      <td>0</td>\n      <td>0</td>\n    </tr>\n    <tr>\n      <th>2</th>\n      <td>1</td>\n      <td>0</td>\n      <td>0</td>\n      <td>0</td>\n      <td>0</td>\n      <td>0</td>\n      <td>0</td>\n      <td>0</td>\n      <td>0</td>\n      <td>0</td>\n      <td>...</td>\n      <td>0</td>\n      <td>0</td>\n      <td>0</td>\n      <td>0</td>\n      <td>0</td>\n      <td>0</td>\n      <td>0</td>\n      <td>0</td>\n      <td>0</td>\n      <td>0</td>\n    </tr>\n    <tr>\n      <th>3</th>\n      <td>1</td>\n      <td>0</td>\n      <td>0</td>\n      <td>0</td>\n      <td>0</td>\n      <td>0</td>\n      <td>0</td>\n      <td>0</td>\n      <td>0</td>\n      <td>0</td>\n      <td>...</td>\n      <td>0</td>\n      <td>0</td>\n      <td>0</td>\n      <td>0</td>\n      <td>0</td>\n      <td>0</td>\n      <td>0</td>\n      <td>0</td>\n      <td>0</td>\n      <td>0</td>\n    </tr>\n    <tr>\n      <th>4</th>\n      <td>1</td>\n      <td>0</td>\n      <td>0</td>\n      <td>0</td>\n      <td>0</td>\n      <td>0</td>\n      <td>0</td>\n      <td>0</td>\n      <td>0</td>\n      <td>0</td>\n      <td>...</td>\n      <td>0</td>\n      <td>0</td>\n      <td>0</td>\n      <td>0</td>\n      <td>0</td>\n      <td>0</td>\n      <td>0</td>\n      <td>0</td>\n      <td>0</td>\n      <td>0</td>\n    </tr>\n  </tbody>\n</table>\n<p>5 rows × 2821 columns</p>\n</div>"
     },
     "metadata": {},
     "execution_count": 32
    }
   ],
   "source": [
    "# Vector de contenido.\n",
    "for g in used_tags:\n",
    "    artists_tags_top[g] = artists_tags_top.tagValue.transform(lambda x: int(g in x))\n",
    "   \n",
    "artists_tags_transform = artists_tags_top.drop(columns=['tagValue', 'count', 'artistID', 'tagID'])\n",
    "artists_tags_transform.head()"
   ]
  },
  {
   "source": [
    "### 2.b.3 Sistema de recomendación"
   ],
   "cell_type": "markdown",
   "metadata": {}
  },
  {
   "source": [
    "El sistema de recomendación utilizará la implementación de Similitud Coseno de sklearn como métrica de cálculo."
   ],
   "cell_type": "markdown",
   "metadata": {}
  },
  {
   "cell_type": "code",
   "execution_count": 33,
   "metadata": {},
   "outputs": [],
   "source": [
    "# Cálculo de similitud coseno\n",
    "from sklearn.metrics.pairwise import cosine_similarity\n",
    "\n",
    "cosine_sim = cosine_similarity(artists_tags_transform, artists_tags_transform)"
   ]
  },
  {
   "cell_type": "code",
   "execution_count": 38,
   "metadata": {},
   "outputs": [],
   "source": [
    "# Sistema de recomendación\n",
    "def artists_finder(artist_name):\n",
    "    artists_idx = dict(zip(artist_data['name'], list(artist_data.index)))\n",
    "    n_recommendations = 10\n",
    "\n",
    "    idx = artists_idx[artist_name]\n",
    "    sim_scores = list(enumerate(cosine_sim[idx]))\n",
    "    sim_scores = sorted(sim_scores, key=lambda x: x[1], reverse=True)\n",
    "    sim_scores = sim_scores[1:(n_recommendations+1)]\n",
    "    similar_artists = [i[0] for i in sim_scores]\n",
    "\n",
    "    print(\"Artistas similares para {}:\".format(artist_name))\n",
    "    for artist in artist_data['name'].iloc[similar_artists]:\n",
    "        print(\"\\t{}\".format(artist))"
   ]
  },
  {
   "cell_type": "code",
   "execution_count": 39,
   "metadata": {},
   "outputs": [
    {
     "output_type": "stream",
     "name": "stdout",
     "text": [
      "Artistas similares para The Beatles:\n\tInterpol\n\tQueens of the Stone Age\n\tThe Beatles\n\tKings of Leon\n\tThe Killers\n\tGreen Day\n\tDevendra Banhart\n\tSunset Rubdown\n\tNine Inch Nails\n\tNirvana\n"
     ]
    }
   ],
   "source": [
    "artists_finder(\"The Beatles\")"
   ]
  },
  {
   "source": [
    "### 2.b.4 Evaluación manual del sistema"
   ],
   "cell_type": "markdown",
   "metadata": {}
  }
 ],
 "metadata": {
  "kernelspec": {
   "display_name": "Python 3",
   "language": "python",
   "name": "python3"
  },
  "language_info": {
   "codemirror_mode": {
    "name": "ipython",
    "version": 3
   },
   "file_extension": ".py",
   "mimetype": "text/x-python",
   "name": "python",
   "nbconvert_exporter": "python",
   "pygments_lexer": "ipython3",
   "version": "3.7.6-final"
  },
  "rise": {
   "scroll": true
  }
 },
 "nbformat": 4,
 "nbformat_minor": 2
}