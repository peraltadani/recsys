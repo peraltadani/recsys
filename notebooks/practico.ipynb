{
 "cells": [
  {
   "cell_type": "markdown",
   "metadata": {
    "slideshow": {
     "slide_type": "slide"
    }
   },
   "source": [
    "# Práctico: Recomendación de Artistas\n",
    "\n",
    "En este práctico trabajaremos con el conjuto de datos de [LastFM](https://grouplens.org/datasets/hetrec-2011/) para el desarrollo de un sistema de recomendación que, dado el nombre de un artista musical, devuelve una lista de artistas \"similares\".\n",
    "\n",
    "Para el práctico utilizaremos el conjunto de datos de LastFM que consiguieron del [notebook de instalación](./instalacion.ipynb). Se recomienda leer el [Readme](http://files.grouplens.org/datasets/hetrec2011/hetrec2011-lastfm-readme.txt) de los datos para saber más sobre que información contiene cada archivo."
   ]
  },
  {
   "cell_type": "code",
   "execution_count": 1,
   "metadata": {},
   "outputs": [],
   "source": [
    "import pandas as pd\n",
    "import numpy as np"
   ]
  },
  {
   "cell_type": "code",
   "execution_count": 2,
   "metadata": {},
   "outputs": [
    {
     "name": "stdout",
     "output_type": "stream",
     "text": [
      "(17632, 4)\n"
     ]
    },
    {
     "data": {
      "text/html": [
       "<div>\n",
       "<style scoped>\n",
       "    .dataframe tbody tr th:only-of-type {\n",
       "        vertical-align: middle;\n",
       "    }\n",
       "\n",
       "    .dataframe tbody tr th {\n",
       "        vertical-align: top;\n",
       "    }\n",
       "\n",
       "    .dataframe thead th {\n",
       "        text-align: right;\n",
       "    }\n",
       "</style>\n",
       "<table border=\"1\" class=\"dataframe\">\n",
       "  <thead>\n",
       "    <tr style=\"text-align: right;\">\n",
       "      <th></th>\n",
       "      <th>id</th>\n",
       "      <th>name</th>\n",
       "      <th>url</th>\n",
       "      <th>pictureURL</th>\n",
       "    </tr>\n",
       "  </thead>\n",
       "  <tbody>\n",
       "    <tr>\n",
       "      <th>16271</th>\n",
       "      <td>17200</td>\n",
       "      <td>Starkey</td>\n",
       "      <td>http://www.last.fm/music/Starkey</td>\n",
       "      <td>http://userserve-ak.last.fm/serve/252/23697033...</td>\n",
       "    </tr>\n",
       "    <tr>\n",
       "      <th>8099</th>\n",
       "      <td>8292</td>\n",
       "      <td>Takanashi Yasuharu</td>\n",
       "      <td>http://www.last.fm/music/Takanashi+Yasuharu</td>\n",
       "      <td>http://userserve-ak.last.fm/serve/252/52509621...</td>\n",
       "    </tr>\n",
       "    <tr>\n",
       "      <th>1002</th>\n",
       "      <td>1011</td>\n",
       "      <td>Artista desconhecido</td>\n",
       "      <td>http://www.last.fm/music/Artista+desconhecido</td>\n",
       "      <td>http://userserve-ak.last.fm/serve/252/57492437...</td>\n",
       "    </tr>\n",
       "    <tr>\n",
       "      <th>4929</th>\n",
       "      <td>5040</td>\n",
       "      <td>Necro</td>\n",
       "      <td>http://www.last.fm/music/Necro</td>\n",
       "      <td>http://userserve-ak.last.fm/serve/252/2621715.jpg</td>\n",
       "    </tr>\n",
       "    <tr>\n",
       "      <th>14142</th>\n",
       "      <td>14806</td>\n",
       "      <td>Fiddler's Green</td>\n",
       "      <td>http://www.last.fm/music/Fiddler%27s+Green</td>\n",
       "      <td>http://userserve-ak.last.fm/serve/252/18719077...</td>\n",
       "    </tr>\n",
       "  </tbody>\n",
       "</table>\n",
       "</div>"
      ],
      "text/plain": [
       "          id                  name  \\\n",
       "16271  17200               Starkey   \n",
       "8099    8292    Takanashi Yasuharu   \n",
       "1002    1011  Artista desconhecido   \n",
       "4929    5040                 Necro   \n",
       "14142  14806       Fiddler's Green   \n",
       "\n",
       "                                                 url  \\\n",
       "16271               http://www.last.fm/music/Starkey   \n",
       "8099     http://www.last.fm/music/Takanashi+Yasuharu   \n",
       "1002   http://www.last.fm/music/Artista+desconhecido   \n",
       "4929                  http://www.last.fm/music/Necro   \n",
       "14142     http://www.last.fm/music/Fiddler%27s+Green   \n",
       "\n",
       "                                              pictureURL  \n",
       "16271  http://userserve-ak.last.fm/serve/252/23697033...  \n",
       "8099   http://userserve-ak.last.fm/serve/252/52509621...  \n",
       "1002   http://userserve-ak.last.fm/serve/252/57492437...  \n",
       "4929   http://userserve-ak.last.fm/serve/252/2621715.jpg  \n",
       "14142  http://userserve-ak.last.fm/serve/252/18719077...  "
      ]
     },
     "execution_count": 2,
     "metadata": {},
     "output_type": "execute_result"
    }
   ],
   "source": [
    "artist_data = pd.read_csv(\"../data/lastFm/artists.dat\", sep=\"\\t\")\n",
    "print(artist_data.shape)\n",
    "artist_data.sample(5)"
   ]
  },
  {
   "cell_type": "code",
   "execution_count": 3,
   "metadata": {},
   "outputs": [
    {
     "name": "stdout",
     "output_type": "stream",
     "text": [
      "(92834, 3)\n"
     ]
    },
    {
     "data": {
      "text/html": [
       "<div>\n",
       "<style scoped>\n",
       "    .dataframe tbody tr th:only-of-type {\n",
       "        vertical-align: middle;\n",
       "    }\n",
       "\n",
       "    .dataframe tbody tr th {\n",
       "        vertical-align: top;\n",
       "    }\n",
       "\n",
       "    .dataframe thead th {\n",
       "        text-align: right;\n",
       "    }\n",
       "</style>\n",
       "<table border=\"1\" class=\"dataframe\">\n",
       "  <thead>\n",
       "    <tr style=\"text-align: right;\">\n",
       "      <th></th>\n",
       "      <th>userID</th>\n",
       "      <th>artistID</th>\n",
       "      <th>weight</th>\n",
       "    </tr>\n",
       "  </thead>\n",
       "  <tbody>\n",
       "    <tr>\n",
       "      <th>32683</th>\n",
       "      <td>711</td>\n",
       "      <td>9473</td>\n",
       "      <td>61</td>\n",
       "    </tr>\n",
       "    <tr>\n",
       "      <th>70610</th>\n",
       "      <td>1590</td>\n",
       "      <td>906</td>\n",
       "      <td>380</td>\n",
       "    </tr>\n",
       "    <tr>\n",
       "      <th>40784</th>\n",
       "      <td>898</td>\n",
       "      <td>792</td>\n",
       "      <td>240</td>\n",
       "    </tr>\n",
       "    <tr>\n",
       "      <th>20909</th>\n",
       "      <td>454</td>\n",
       "      <td>18736</td>\n",
       "      <td>879</td>\n",
       "    </tr>\n",
       "    <tr>\n",
       "      <th>70482</th>\n",
       "      <td>1588</td>\n",
       "      <td>356</td>\n",
       "      <td>1571</td>\n",
       "    </tr>\n",
       "  </tbody>\n",
       "</table>\n",
       "</div>"
      ],
      "text/plain": [
       "       userID  artistID  weight\n",
       "32683     711      9473      61\n",
       "70610    1590       906     380\n",
       "40784     898       792     240\n",
       "20909     454     18736     879\n",
       "70482    1588       356    1571"
      ]
     },
     "execution_count": 3,
     "metadata": {},
     "output_type": "execute_result"
    }
   ],
   "source": [
    "user_artist_plays = pd.read_csv(\"../data/lastFm/user_artists.dat\", sep=\"\\t\")\n",
    "print(user_artist_plays.shape)\n",
    "user_artist_plays.sample(5)"
   ]
  },
  {
   "cell_type": "code",
   "execution_count": 4,
   "metadata": {},
   "outputs": [
    {
     "name": "stdout",
     "output_type": "stream",
     "text": [
      "(11946, 2)\n"
     ]
    },
    {
     "data": {
      "text/html": [
       "<div>\n",
       "<style scoped>\n",
       "    .dataframe tbody tr th:only-of-type {\n",
       "        vertical-align: middle;\n",
       "    }\n",
       "\n",
       "    .dataframe tbody tr th {\n",
       "        vertical-align: top;\n",
       "    }\n",
       "\n",
       "    .dataframe thead th {\n",
       "        text-align: right;\n",
       "    }\n",
       "</style>\n",
       "<table border=\"1\" class=\"dataframe\">\n",
       "  <thead>\n",
       "    <tr style=\"text-align: right;\">\n",
       "      <th></th>\n",
       "      <th>tagID</th>\n",
       "      <th>tagValue</th>\n",
       "    </tr>\n",
       "  </thead>\n",
       "  <tbody>\n",
       "    <tr>\n",
       "      <th>6789</th>\n",
       "      <td>7081</td>\n",
       "      <td>undie rock</td>\n",
       "    </tr>\n",
       "    <tr>\n",
       "      <th>3411</th>\n",
       "      <td>3481</td>\n",
       "      <td>best cover</td>\n",
       "    </tr>\n",
       "    <tr>\n",
       "      <th>9834</th>\n",
       "      <td>10376</td>\n",
       "      <td>big band swing</td>\n",
       "    </tr>\n",
       "    <tr>\n",
       "      <th>8310</th>\n",
       "      <td>8723</td>\n",
       "      <td>overproduced by martin hannet</td>\n",
       "    </tr>\n",
       "    <tr>\n",
       "      <th>9748</th>\n",
       "      <td>10284</td>\n",
       "      <td>zmierzch</td>\n",
       "    </tr>\n",
       "  </tbody>\n",
       "</table>\n",
       "</div>"
      ],
      "text/plain": [
       "      tagID                       tagValue\n",
       "6789   7081                     undie rock\n",
       "3411   3481                     best cover\n",
       "9834  10376                 big band swing\n",
       "8310   8723  overproduced by martin hannet\n",
       "9748  10284                       zmierzch"
      ]
     },
     "execution_count": 4,
     "metadata": {},
     "output_type": "execute_result"
    }
   ],
   "source": [
    "tags = pd.read_csv(\"../data/lastFm/tags.dat\", sep=\"\\t\", encoding = \"ISO-8859-1\")\n",
    "print(tags.shape)\n",
    "tags.sample(5)"
   ]
  },
  {
   "cell_type": "code",
   "execution_count": 5,
   "metadata": {},
   "outputs": [
    {
     "name": "stdout",
     "output_type": "stream",
     "text": [
      "(186479, 6)\n"
     ]
    },
    {
     "data": {
      "text/html": [
       "<div>\n",
       "<style scoped>\n",
       "    .dataframe tbody tr th:only-of-type {\n",
       "        vertical-align: middle;\n",
       "    }\n",
       "\n",
       "    .dataframe tbody tr th {\n",
       "        vertical-align: top;\n",
       "    }\n",
       "\n",
       "    .dataframe thead th {\n",
       "        text-align: right;\n",
       "    }\n",
       "</style>\n",
       "<table border=\"1\" class=\"dataframe\">\n",
       "  <thead>\n",
       "    <tr style=\"text-align: right;\">\n",
       "      <th></th>\n",
       "      <th>userID</th>\n",
       "      <th>artistID</th>\n",
       "      <th>tagID</th>\n",
       "      <th>day</th>\n",
       "      <th>month</th>\n",
       "      <th>year</th>\n",
       "    </tr>\n",
       "  </thead>\n",
       "  <tbody>\n",
       "    <tr>\n",
       "      <th>6006</th>\n",
       "      <td>49</td>\n",
       "      <td>3947</td>\n",
       "      <td>24</td>\n",
       "      <td>1</td>\n",
       "      <td>4</td>\n",
       "      <td>2010</td>\n",
       "    </tr>\n",
       "    <tr>\n",
       "      <th>83474</th>\n",
       "      <td>922</td>\n",
       "      <td>70</td>\n",
       "      <td>20</td>\n",
       "      <td>1</td>\n",
       "      <td>11</td>\n",
       "      <td>2008</td>\n",
       "    </tr>\n",
       "    <tr>\n",
       "      <th>132281</th>\n",
       "      <td>1535</td>\n",
       "      <td>3461</td>\n",
       "      <td>24</td>\n",
       "      <td>1</td>\n",
       "      <td>3</td>\n",
       "      <td>2008</td>\n",
       "    </tr>\n",
       "    <tr>\n",
       "      <th>17046</th>\n",
       "      <td>171</td>\n",
       "      <td>10383</td>\n",
       "      <td>127</td>\n",
       "      <td>1</td>\n",
       "      <td>1</td>\n",
       "      <td>2011</td>\n",
       "    </tr>\n",
       "    <tr>\n",
       "      <th>96312</th>\n",
       "      <td>1060</td>\n",
       "      <td>5966</td>\n",
       "      <td>73</td>\n",
       "      <td>1</td>\n",
       "      <td>7</td>\n",
       "      <td>2008</td>\n",
       "    </tr>\n",
       "  </tbody>\n",
       "</table>\n",
       "</div>"
      ],
      "text/plain": [
       "        userID  artistID  tagID  day  month  year\n",
       "6006        49      3947     24    1      4  2010\n",
       "83474      922        70     20    1     11  2008\n",
       "132281    1535      3461     24    1      3  2008\n",
       "17046      171     10383    127    1      1  2011\n",
       "96312     1060      5966     73    1      7  2008"
      ]
     },
     "execution_count": 5,
     "metadata": {},
     "output_type": "execute_result"
    }
   ],
   "source": [
    "user_tagged_artists = pd.read_csv(\"../data/lastFm/user_taggedartists.dat\", sep=\"\\t\", encoding = \"ISO-8859-1\")\n",
    "print(user_tagged_artists.shape)\n",
    "user_tagged_artists.sample(5)"
   ]
  },
  {
   "cell_type": "markdown",
   "metadata": {},
   "source": [
    "## Actividades\n",
    "\n",
    "El [Ejercicio 1](#Ejercicio-1---Análisis-Exploratorio-de-Datos) deberá ser realizado por quienes estén realizando cualquier parte de la materia.\n",
    "\n",
    "El [Ejercicio 2](#Ejercicio-2---Sistema-de-Recomendación) variará de acuerdo a que parte de la materia estén realizando, quienes estén realizando la materia completa, deberán realizar ambas partes."
   ]
  },
  {
   "cell_type": "markdown",
   "metadata": {},
   "source": [
    "De acuerdo a la parte de la materia que hagan, deberán realizar una de las siguientes actividades (pueden realizar ambas si así lo desean):\n",
    "\n",
    "La idea del práctico es hacer un análisis muy sencillo del conjunto de datos y desarrollar dos sistemas de recomendación: \n",
    "1. El primero, más sencillo, utilizando [Surpr!se](http://surpriselib.com/), y a partir de los datos de LastFM, en especial del archivo `./data/lastfm/user_artists.dat`, generar un sistema de recomendación basado en filtros colaborativos.\n",
    "2. En el segundo, deberán utilizar todos los datos ofrecidos en el dataset de LastFM para generar un sistema de filtrado colaborativo más complejo, deberá utilizar las técnicas aprendidas \n",
    "\n",
    "basado en filtrado colaborativo (usando Surpr!se), a partir de los datos existentes."
   ]
  },
  {
   "cell_type": "markdown",
   "metadata": {},
   "source": [
    "## Ejercicio 1 - Análisis Exploratorio de Datos\n",
    "\n",
    "En esta primera parte deberán hacer un análisis exploratorio de los datos, aprovechando toda la información brindada por el conjunto. A partir de eso podrán tener mayor idea de qué tipo de datos estarán enfrentando (describe o hist).\n",
    "\n",
    "Algunas preguntas para responder:\n",
    "- ¿Cuáles son los artistas que fueron más escuchados?\n",
    "- ¿Cómo es la distribución de cantidad de listens por user?\n",
    "- ¿Es posible ver el género más escuchado?"
   ]
  },
  {
   "cell_type": "markdown",
   "metadata": {},
   "source": [
    "### 1.1. Artistas más escuchados"
   ]
  },
  {
   "cell_type": "code",
   "execution_count": 6,
   "metadata": {},
   "outputs": [
    {
     "data": {
      "text/html": [
       "<div>\n",
       "<style scoped>\n",
       "    .dataframe tbody tr th:only-of-type {\n",
       "        vertical-align: middle;\n",
       "    }\n",
       "\n",
       "    .dataframe tbody tr th {\n",
       "        vertical-align: top;\n",
       "    }\n",
       "\n",
       "    .dataframe thead th {\n",
       "        text-align: right;\n",
       "    }\n",
       "</style>\n",
       "<table border=\"1\" class=\"dataframe\">\n",
       "  <thead>\n",
       "    <tr style=\"text-align: right;\">\n",
       "      <th></th>\n",
       "      <th>weight</th>\n",
       "      <th>id</th>\n",
       "      <th>name</th>\n",
       "      <th>url</th>\n",
       "      <th>pictureURL</th>\n",
       "    </tr>\n",
       "  </thead>\n",
       "  <tbody>\n",
       "    <tr>\n",
       "      <th>0</th>\n",
       "      <td>2393140</td>\n",
       "      <td>289</td>\n",
       "      <td>Britney Spears</td>\n",
       "      <td>http://www.last.fm/music/Britney+Spears</td>\n",
       "      <td>http://userserve-ak.last.fm/serve/252/60126439...</td>\n",
       "    </tr>\n",
       "    <tr>\n",
       "      <th>1</th>\n",
       "      <td>1301308</td>\n",
       "      <td>72</td>\n",
       "      <td>Depeche Mode</td>\n",
       "      <td>http://www.last.fm/music/Depeche+Mode</td>\n",
       "      <td>http://userserve-ak.last.fm/serve/252/75022.jpg</td>\n",
       "    </tr>\n",
       "    <tr>\n",
       "      <th>2</th>\n",
       "      <td>1291387</td>\n",
       "      <td>89</td>\n",
       "      <td>Lady Gaga</td>\n",
       "      <td>http://www.last.fm/music/Lady+Gaga</td>\n",
       "      <td>http://userserve-ak.last.fm/serve/252/47390093...</td>\n",
       "    </tr>\n",
       "    <tr>\n",
       "      <th>3</th>\n",
       "      <td>1058405</td>\n",
       "      <td>292</td>\n",
       "      <td>Christina Aguilera</td>\n",
       "      <td>http://www.last.fm/music/Christina+Aguilera</td>\n",
       "      <td>http://userserve-ak.last.fm/serve/252/47363849...</td>\n",
       "    </tr>\n",
       "    <tr>\n",
       "      <th>4</th>\n",
       "      <td>963449</td>\n",
       "      <td>498</td>\n",
       "      <td>Paramore</td>\n",
       "      <td>http://www.last.fm/music/Paramore</td>\n",
       "      <td>http://userserve-ak.last.fm/serve/252/35837991...</td>\n",
       "    </tr>\n",
       "    <tr>\n",
       "      <th>5</th>\n",
       "      <td>921198</td>\n",
       "      <td>67</td>\n",
       "      <td>Madonna</td>\n",
       "      <td>http://www.last.fm/music/Madonna</td>\n",
       "      <td>http://userserve-ak.last.fm/serve/252/340387.jpg</td>\n",
       "    </tr>\n",
       "    <tr>\n",
       "      <th>6</th>\n",
       "      <td>905423</td>\n",
       "      <td>288</td>\n",
       "      <td>Rihanna</td>\n",
       "      <td>http://www.last.fm/music/Rihanna</td>\n",
       "      <td>http://userserve-ak.last.fm/serve/252/53023109...</td>\n",
       "    </tr>\n",
       "    <tr>\n",
       "      <th>7</th>\n",
       "      <td>688529</td>\n",
       "      <td>701</td>\n",
       "      <td>Shakira</td>\n",
       "      <td>http://www.last.fm/music/Shakira</td>\n",
       "      <td>http://userserve-ak.last.fm/serve/252/52116105...</td>\n",
       "    </tr>\n",
       "    <tr>\n",
       "      <th>8</th>\n",
       "      <td>662116</td>\n",
       "      <td>227</td>\n",
       "      <td>The Beatles</td>\n",
       "      <td>http://www.last.fm/music/The+Beatles</td>\n",
       "      <td>http://userserve-ak.last.fm/serve/252/2588646.jpg</td>\n",
       "    </tr>\n",
       "    <tr>\n",
       "      <th>9</th>\n",
       "      <td>532545</td>\n",
       "      <td>300</td>\n",
       "      <td>Katy Perry</td>\n",
       "      <td>http://www.last.fm/music/Katy+Perry</td>\n",
       "      <td>http://userserve-ak.last.fm/serve/252/42128121...</td>\n",
       "    </tr>\n",
       "  </tbody>\n",
       "</table>\n",
       "</div>"
      ],
      "text/plain": [
       "    weight   id                name  \\\n",
       "0  2393140  289      Britney Spears   \n",
       "1  1301308   72        Depeche Mode   \n",
       "2  1291387   89           Lady Gaga   \n",
       "3  1058405  292  Christina Aguilera   \n",
       "4   963449  498            Paramore   \n",
       "5   921198   67             Madonna   \n",
       "6   905423  288             Rihanna   \n",
       "7   688529  701             Shakira   \n",
       "8   662116  227         The Beatles   \n",
       "9   532545  300          Katy Perry   \n",
       "\n",
       "                                           url  \\\n",
       "0      http://www.last.fm/music/Britney+Spears   \n",
       "1        http://www.last.fm/music/Depeche+Mode   \n",
       "2           http://www.last.fm/music/Lady+Gaga   \n",
       "3  http://www.last.fm/music/Christina+Aguilera   \n",
       "4            http://www.last.fm/music/Paramore   \n",
       "5             http://www.last.fm/music/Madonna   \n",
       "6             http://www.last.fm/music/Rihanna   \n",
       "7             http://www.last.fm/music/Shakira   \n",
       "8         http://www.last.fm/music/The+Beatles   \n",
       "9          http://www.last.fm/music/Katy+Perry   \n",
       "\n",
       "                                          pictureURL  \n",
       "0  http://userserve-ak.last.fm/serve/252/60126439...  \n",
       "1    http://userserve-ak.last.fm/serve/252/75022.jpg  \n",
       "2  http://userserve-ak.last.fm/serve/252/47390093...  \n",
       "3  http://userserve-ak.last.fm/serve/252/47363849...  \n",
       "4  http://userserve-ak.last.fm/serve/252/35837991...  \n",
       "5   http://userserve-ak.last.fm/serve/252/340387.jpg  \n",
       "6  http://userserve-ak.last.fm/serve/252/53023109...  \n",
       "7  http://userserve-ak.last.fm/serve/252/52116105...  \n",
       "8  http://userserve-ak.last.fm/serve/252/2588646.jpg  \n",
       "9  http://userserve-ak.last.fm/serve/252/42128121...  "
      ]
     },
     "execution_count": 6,
     "metadata": {},
     "output_type": "execute_result"
    }
   ],
   "source": [
    "user_artist_plays_by_artist = (\n",
    "    user_artist_plays[[\"artistID\", \"weight\"]]\n",
    "    .groupby(['artistID']).sum()\n",
    "    .sort_values(by=[\"weight\"], ascending=False)\n",
    ")\n",
    "\n",
    "artist_plays = user_artist_plays_by_artist.merge(artist_data, left_on=\"artistID\", right_on=\"id\")\n",
    "artist_plays.head(10)"
   ]
  },
  {
   "cell_type": "code",
   "execution_count": 7,
   "metadata": {},
   "outputs": [
    {
     "data": {
      "text/plain": [
       "<AxesSubplot:ylabel='weight'>"
      ]
     },
     "execution_count": 7,
     "metadata": {},
     "output_type": "execute_result"
    },
    {
     "data": {
      "image/png": "[encoded data removed]",
      "text/plain": [
       "<Figure size 432x288 with 1 Axes>"
      ]
     },
     "metadata": {},
     "output_type": "display_data"
    }
   ],
   "source": [
    "artist_plays.head(10).set_index(\"name\")[\"weight\"].plot.pie()"
   ]
  },
  {
   "cell_type": "markdown",
   "metadata": {},
   "source": [
    "### 1.2. Distribución de cantidad de listens por user"
   ]
  },
  {
   "cell_type": "code",
   "execution_count": 8,
   "metadata": {},
   "outputs": [
    {
     "data": {
      "text/plain": [
       "<AxesSubplot:>"
      ]
     },
     "execution_count": 8,
     "metadata": {},
     "output_type": "execute_result"
    },
    {
     "data": {
      "image/png": "[encoded data removed]",
      "text/plain": [
       "<Figure size 432x288 with 1 Axes>"
      ]
     },
     "metadata": {
      "needs_background": "light"
     },
     "output_type": "display_data"
    }
   ],
   "source": [
    "user_artist_plays_by_user = user_artist_plays[[\"userID\", \"weight\"]].groupby(['userID']).sum()\n",
    "\n",
    "user_artist_plays_by_user[\"weight\"].hist(bins = 20)"
   ]
  },
  {
   "cell_type": "markdown",
   "metadata": {},
   "source": [
    "### 1.3. Géneros más escuchados"
   ]
  },
  {
   "cell_type": "code",
   "execution_count": 9,
   "metadata": {},
   "outputs": [
    {
     "data": {
      "text/html": [
       "<div>\n",
       "<style scoped>\n",
       "    .dataframe tbody tr th:only-of-type {\n",
       "        vertical-align: middle;\n",
       "    }\n",
       "\n",
       "    .dataframe tbody tr th {\n",
       "        vertical-align: top;\n",
       "    }\n",
       "\n",
       "    .dataframe thead th {\n",
       "        text-align: right;\n",
       "    }\n",
       "</style>\n",
       "<table border=\"1\" class=\"dataframe\">\n",
       "  <thead>\n",
       "    <tr style=\"text-align: right;\">\n",
       "      <th></th>\n",
       "      <th>tagID</th>\n",
       "      <th>weight</th>\n",
       "      <th>tagValue</th>\n",
       "    </tr>\n",
       "  </thead>\n",
       "  <tbody>\n",
       "    <tr>\n",
       "      <th>23</th>\n",
       "      <td>24</td>\n",
       "      <td>1043039517</td>\n",
       "      <td>pop</td>\n",
       "    </tr>\n",
       "    <tr>\n",
       "      <th>71</th>\n",
       "      <td>73</td>\n",
       "      <td>622063102</td>\n",
       "      <td>rock</td>\n",
       "    </tr>\n",
       "    <tr>\n",
       "      <th>122</th>\n",
       "      <td>130</td>\n",
       "      <td>611535548</td>\n",
       "      <td>female vocalists</td>\n",
       "    </tr>\n",
       "    <tr>\n",
       "      <th>38</th>\n",
       "      <td>39</td>\n",
       "      <td>569648216</td>\n",
       "      <td>dance</td>\n",
       "    </tr>\n",
       "    <tr>\n",
       "      <th>77</th>\n",
       "      <td>79</td>\n",
       "      <td>403229595</td>\n",
       "      <td>alternative</td>\n",
       "    </tr>\n",
       "    <tr>\n",
       "      <th>17</th>\n",
       "      <td>18</td>\n",
       "      <td>400420167</td>\n",
       "      <td>electronic</td>\n",
       "    </tr>\n",
       "    <tr>\n",
       "      <th>76</th>\n",
       "      <td>78</td>\n",
       "      <td>231167101</td>\n",
       "      <td>alternative rock</td>\n",
       "    </tr>\n",
       "    <tr>\n",
       "      <th>79</th>\n",
       "      <td>81</td>\n",
       "      <td>215784773</td>\n",
       "      <td>indie</td>\n",
       "    </tr>\n",
       "    <tr>\n",
       "      <th>24</th>\n",
       "      <td>25</td>\n",
       "      <td>209870819</td>\n",
       "      <td>80s</td>\n",
       "    </tr>\n",
       "    <tr>\n",
       "      <th>150</th>\n",
       "      <td>167</td>\n",
       "      <td>185446089</td>\n",
       "      <td>rnb</td>\n",
       "    </tr>\n",
       "  </tbody>\n",
       "</table>\n",
       "</div>"
      ],
      "text/plain": [
       "     tagID      weight          tagValue\n",
       "23      24  1043039517               pop\n",
       "71      73   622063102              rock\n",
       "122    130   611535548  female vocalists\n",
       "38      39   569648216             dance\n",
       "77      79   403229595       alternative\n",
       "17      18   400420167        electronic\n",
       "76      78   231167101  alternative rock\n",
       "79      81   215784773             indie\n",
       "24      25   209870819               80s\n",
       "150    167   185446089               rnb"
      ]
     },
     "execution_count": 9,
     "metadata": {},
     "output_type": "execute_result"
    }
   ],
   "source": [
    "user_artist_plays_by_artist_tags = artist_plays.merge(user_tagged_artists, left_on=\"id\", right_on=\"artistID\")\n",
    "tags_plays = user_artist_plays_by_artist_tags[[\"tagID\", \"weight\"]].groupby(['tagID']).sum()\n",
    "tags_plays_merge = tags_plays.merge(tags, on=\"tagID\").sort_values(by=[\"weight\"], ascending=False)\n",
    "tags_plays_merge.head(10)"
   ]
  },
  {
   "cell_type": "code",
   "execution_count": 10,
   "metadata": {},
   "outputs": [
    {
     "data": {
      "text/plain": [
       "<AxesSubplot:ylabel='weight'>"
      ]
     },
     "execution_count": 10,
     "metadata": {},
     "output_type": "execute_result"
    },
    {
     "data": {
      "image/png": "[encoded data removed]",
      "text/plain": [
       "<Figure size 432x288 with 1 Axes>"
      ]
     },
     "metadata": {},
     "output_type": "display_data"
    }
   ],
   "source": [
    "tags_plays_merge.head(10).set_index(\"tagValue\")[\"weight\"].plot.pie()"
   ]
  },
  {
   "cell_type": "markdown",
   "metadata": {},
   "source": [
    "## Ejercicio 2 - Sistema de Recomendación"
   ]
  },
  {
   "cell_type": "markdown",
   "metadata": {},
   "source": [
    "### Ejercicio 2a - Filtrados Colaborativos\n",
    "\n",
    "Esta parte del ejercicio es obligatoria para aprobar la parte introductoria de la materia (i.e. los contenidos que se ven en las dos primeras clases), quienes estén realizando la materia completa deerán realizar también el [Ejercicio 2b](#Ejercicio-2b---Sistemas-de-Recomendación-Avanzados). \n",
    "\n",
    "Deberán realizar un sistema de filtrados colaborativos basado en [Surpr!se](http://surpriselib.com/), a partir de los datos que proporciona `LastFM`, en especial el archivo `user_artists.dat`. Tener en cuenta los siguientes pasos:\n",
    "\n",
    "1. **Desarrollo de la matriz de Usuario-Contenido:** A partir del conjunto de datos deberán generar una matriz de usuario-contenido. Tener en cuenta que los ratings son implícitos, puesto que se dan a partir de la cantidad de veces que un usuario escuchó a determinado artista.\n",
    "2. **Entrenamiento del algoritmo de recomendación**: Utilizando las herramientas brindadas por [Surpr!se](http://surpriselib.com/), entrenen varios modelos (al menos 3) de sistemas de recomendación basados en filtrado colaborativo a partir de su matriz de usuario-contenido. Recuerden tener en cuenta lo aprendido en la diplomatura a la hora de evaluar y validar el modelo. Si necesitan inspiración, les recomendamos revisar [este notebook con información de como entrenar un sistema de recomendación con Surpr!se](https://github.com/susanli2016/Machine-Learning-with-Python/blob/master/Building%20Recommender%20System%20with%20Surprise.ipynb).\n",
    "3. **Sistema de recomendación**: A partir del mejor modelo de recomendación que haya surgido del caso anterior, y utilizando los datos del archivo `artist.dat`, armar un sistema de recomendación sencillo que, dado un nombre de un artista, devuelva el top 10 de artistas más similares. La idea es que el sistema tome el nombre de un artista y devuelva el nombre de otros artistas (no simplemente tomar y devolver IDs). Se recomienda [revisar este notebook para inspiración (ver el paso número 5)](https://github.com/topspinj/pydata-workshop/blob/master/tutorial.ipynb)."
   ]
  },
  {
   "cell_type": "markdown",
   "metadata": {},
   "source": [
    "### Preparación del conjunto de datos\n",
    "De forma previa a la implementación del algoritmo de recomendación, es necesario asignar al valor weight registrado (cantidad de reproducciones) para cada registro, un valor dentro de una escala predefinida. Esto se hará en 3 pasos:\n",
    "- Agrupar la cantidad de reproducciones por usuario y ordenarlas de mayor a menor.\n",
    "- Tomar los primeros 30 registros de reproducciones por cada usuario.\n",
    "- Agregar una columna \"rating\" que tomará un valor de 1 a 5 en base a una serie de intervalos predefinidos e identificados a partir del análisis de la distribución."
   ]
  },
  {
   "cell_type": "code",
   "execution_count": 11,
   "metadata": {},
   "outputs": [
    {
     "name": "stdout",
     "output_type": "stream",
     "text": [
      "(56006, 3)\n"
     ]
    }
   ],
   "source": [
    "user_artist_plays_sorted = user_artist_plays.groupby([\"userID\"]).apply(lambda x: x.sort_values([\"weight\"],ascending = False)).reset_index(drop = True)\n",
    "\n",
    "# user_artist_plays_top = user_artist_plays.groupby([\"userID\"]).head(30)\n",
    "user_artist_plays_top = user_artist_plays_sorted.groupby([\"userID\"]).head(30)\n",
    "print(user_artist_plays_top.shape)"
   ]
  },
  {
   "cell_type": "markdown",
   "metadata": {},
   "source": [
    "Chequeamos algunos usuarios"
   ]
  },
  {
   "cell_type": "code",
   "execution_count": 12,
   "metadata": {},
   "outputs": [
    {
     "data": {
      "text/html": [
       "<div>\n",
       "<style scoped>\n",
       "    .dataframe tbody tr th:only-of-type {\n",
       "        vertical-align: middle;\n",
       "    }\n",
       "\n",
       "    .dataframe tbody tr th {\n",
       "        vertical-align: top;\n",
       "    }\n",
       "\n",
       "    .dataframe thead th {\n",
       "        text-align: right;\n",
       "    }\n",
       "</style>\n",
       "<table border=\"1\" class=\"dataframe\">\n",
       "  <thead>\n",
       "    <tr style=\"text-align: right;\">\n",
       "      <th></th>\n",
       "      <th>userID</th>\n",
       "      <th>artistID</th>\n",
       "      <th>weight</th>\n",
       "    </tr>\n",
       "  </thead>\n",
       "  <tbody>\n",
       "    <tr>\n",
       "      <th>0</th>\n",
       "      <td>2</td>\n",
       "      <td>51</td>\n",
       "      <td>13883</td>\n",
       "    </tr>\n",
       "    <tr>\n",
       "      <th>1</th>\n",
       "      <td>2</td>\n",
       "      <td>52</td>\n",
       "      <td>11690</td>\n",
       "    </tr>\n",
       "    <tr>\n",
       "      <th>2</th>\n",
       "      <td>2</td>\n",
       "      <td>53</td>\n",
       "      <td>11351</td>\n",
       "    </tr>\n",
       "    <tr>\n",
       "      <th>3</th>\n",
       "      <td>2</td>\n",
       "      <td>54</td>\n",
       "      <td>10300</td>\n",
       "    </tr>\n",
       "    <tr>\n",
       "      <th>4</th>\n",
       "      <td>2</td>\n",
       "      <td>55</td>\n",
       "      <td>8983</td>\n",
       "    </tr>\n",
       "  </tbody>\n",
       "</table>\n",
       "</div>"
      ],
      "text/plain": [
       "   userID  artistID  weight\n",
       "0       2        51   13883\n",
       "1       2        52   11690\n",
       "2       2        53   11351\n",
       "3       2        54   10300\n",
       "4       2        55    8983"
      ]
     },
     "execution_count": 12,
     "metadata": {},
     "output_type": "execute_result"
    }
   ],
   "source": [
    "user_artist_plays_top.head(5)"
   ]
  },
  {
   "cell_type": "code",
   "execution_count": 13,
   "metadata": {},
   "outputs": [
    {
     "data": {
      "text/html": [
       "<div>\n",
       "<style scoped>\n",
       "    .dataframe tbody tr th:only-of-type {\n",
       "        vertical-align: middle;\n",
       "    }\n",
       "\n",
       "    .dataframe tbody tr th {\n",
       "        vertical-align: top;\n",
       "    }\n",
       "\n",
       "    .dataframe thead th {\n",
       "        text-align: right;\n",
       "    }\n",
       "</style>\n",
       "<table border=\"1\" class=\"dataframe\">\n",
       "  <thead>\n",
       "    <tr style=\"text-align: right;\">\n",
       "      <th></th>\n",
       "      <th>userID</th>\n",
       "      <th>artistID</th>\n",
       "      <th>weight</th>\n",
       "    </tr>\n",
       "  </thead>\n",
       "  <tbody>\n",
       "    <tr>\n",
       "      <th>5815</th>\n",
       "      <td>123</td>\n",
       "      <td>88</td>\n",
       "      <td>16108</td>\n",
       "    </tr>\n",
       "    <tr>\n",
       "      <th>5816</th>\n",
       "      <td>123</td>\n",
       "      <td>1396</td>\n",
       "      <td>10944</td>\n",
       "    </tr>\n",
       "    <tr>\n",
       "      <th>5817</th>\n",
       "      <td>123</td>\n",
       "      <td>1390</td>\n",
       "      <td>7877</td>\n",
       "    </tr>\n",
       "    <tr>\n",
       "      <th>5818</th>\n",
       "      <td>123</td>\n",
       "      <td>3025</td>\n",
       "      <td>6756</td>\n",
       "    </tr>\n",
       "    <tr>\n",
       "      <th>5819</th>\n",
       "      <td>123</td>\n",
       "      <td>1195</td>\n",
       "      <td>4991</td>\n",
       "    </tr>\n",
       "  </tbody>\n",
       "</table>\n",
       "</div>"
      ],
      "text/plain": [
       "      userID  artistID  weight\n",
       "5815     123        88   16108\n",
       "5816     123      1396   10944\n",
       "5817     123      1390    7877\n",
       "5818     123      3025    6756\n",
       "5819     123      1195    4991"
      ]
     },
     "execution_count": 13,
     "metadata": {},
     "output_type": "execute_result"
    }
   ],
   "source": [
    "user_artist_plays_top[user_artist_plays_top[\"userID\"] == 123].head(5)"
   ]
  },
  {
   "cell_type": "markdown",
   "metadata": {},
   "source": [
    "Calculamos rating"
   ]
  },
  {
   "cell_type": "code",
   "execution_count": 14,
   "metadata": {},
   "outputs": [
    {
     "name": "stderr",
     "output_type": "stream",
     "text": [
      "<ipython-input-14-665a46db8b92>:2: SettingWithCopyWarning: \n",
      "A value is trying to be set on a copy of a slice from a DataFrame.\n",
      "Try using .loc[row_indexer,col_indexer] = value instead\n",
      "\n",
      "See the caveats in the documentation: https://pandas.pydata.org/pandas-docs/stable/user_guide/indexing.html#returning-a-view-versus-a-copy\n",
      "  user_artist_plays_top[\"rating\"] = pd.cut(user_artist_plays_top[\"weight\"], [0, 1000, 10000, 200000, 350000, 400000], labels=[\"1\", \"2\", \"3\", \"4\", \"5\"],include_lowest=True)\n"
     ]
    },
    {
     "data": {
      "text/plain": [
       "1    43044\n",
       "2    12332\n",
       "3      624\n",
       "4        5\n",
       "5        1\n",
       "Name: rating, dtype: int64"
      ]
     },
     "execution_count": 14,
     "metadata": {},
     "output_type": "execute_result"
    }
   ],
   "source": [
    "# user_artist_plays_top[\"rating\"] = pd.cut(user_artist_plays_top[\"weight\"], 5, [0, 1000, 10000, 200000, 350000, 400000], labels=[\"1\", \"2\", \"3\", \"4\", \"5\"],include_lowest=True)\n",
    "user_artist_plays_top[\"rating\"] = pd.cut(user_artist_plays_top[\"weight\"], [0, 1000, 10000, 200000, 350000, 400000], labels=[\"1\", \"2\", \"3\", \"4\", \"5\"],include_lowest=True)\n",
    "\n",
    "# La distribucion de listens por usuario decae mas o menos exponencial. Probamos \"bins\"  mas o menos exponenciales.\n",
    "# user_artist_plays_top[\"rating\"] = pd.cut(user_artist_plays_top[\"weight\"], [0, 100, 1000, 10000, 100000, 500000], labels=[\"1\", \"2\", \"3\", \"4\", \"5\"],include_lowest=True)\n",
    "\n",
    "user_artist_plays_top[\"rating\"].value_counts() #.plot.pie()"
   ]
  },
  {
   "cell_type": "code",
   "execution_count": 15,
   "metadata": {},
   "outputs": [
    {
     "data": {
      "text/html": [
       "<div>\n",
       "<style scoped>\n",
       "    .dataframe tbody tr th:only-of-type {\n",
       "        vertical-align: middle;\n",
       "    }\n",
       "\n",
       "    .dataframe tbody tr th {\n",
       "        vertical-align: top;\n",
       "    }\n",
       "\n",
       "    .dataframe thead th {\n",
       "        text-align: right;\n",
       "    }\n",
       "</style>\n",
       "<table border=\"1\" class=\"dataframe\">\n",
       "  <thead>\n",
       "    <tr style=\"text-align: right;\">\n",
       "      <th></th>\n",
       "      <th>userID</th>\n",
       "      <th>artistID</th>\n",
       "      <th>weight</th>\n",
       "      <th>rating</th>\n",
       "    </tr>\n",
       "  </thead>\n",
       "  <tbody>\n",
       "    <tr>\n",
       "      <th>0</th>\n",
       "      <td>2</td>\n",
       "      <td>51</td>\n",
       "      <td>13883</td>\n",
       "      <td>3</td>\n",
       "    </tr>\n",
       "    <tr>\n",
       "      <th>1</th>\n",
       "      <td>2</td>\n",
       "      <td>52</td>\n",
       "      <td>11690</td>\n",
       "      <td>3</td>\n",
       "    </tr>\n",
       "    <tr>\n",
       "      <th>2</th>\n",
       "      <td>2</td>\n",
       "      <td>53</td>\n",
       "      <td>11351</td>\n",
       "      <td>3</td>\n",
       "    </tr>\n",
       "    <tr>\n",
       "      <th>3</th>\n",
       "      <td>2</td>\n",
       "      <td>54</td>\n",
       "      <td>10300</td>\n",
       "      <td>3</td>\n",
       "    </tr>\n",
       "    <tr>\n",
       "      <th>4</th>\n",
       "      <td>2</td>\n",
       "      <td>55</td>\n",
       "      <td>8983</td>\n",
       "      <td>2</td>\n",
       "    </tr>\n",
       "  </tbody>\n",
       "</table>\n",
       "</div>"
      ],
      "text/plain": [
       "   userID  artistID  weight rating\n",
       "0       2        51   13883      3\n",
       "1       2        52   11690      3\n",
       "2       2        53   11351      3\n",
       "3       2        54   10300      3\n",
       "4       2        55    8983      2"
      ]
     },
     "execution_count": 15,
     "metadata": {},
     "output_type": "execute_result"
    }
   ],
   "source": [
    "user_artist_plays_top.head()"
   ]
  },
  {
   "cell_type": "markdown",
   "metadata": {},
   "source": [
    "### Ejecicio 2.a"
   ]
  },
  {
   "cell_type": "code",
   "execution_count": 16,
   "metadata": {},
   "outputs": [],
   "source": [
    "# Importación de librerías necesarias.\n",
    "from surprise import Dataset, Reader, KNNWithMeans, NormalPredictor, KNNBasic, KNNWithMeans, KNNWithZScore, KNNBaseline, SVD, BaselineOnly, SVDpp, NMF, SlopeOne, CoClustering\n",
    "from surprise.accuracy import rmse\n",
    "from surprise.model_selection import cross_validate, train_test_split"
   ]
  },
  {
   "cell_type": "markdown",
   "metadata": {},
   "source": [
    "### 2.a.1. Matriz de contenido"
   ]
  },
  {
   "cell_type": "code",
   "execution_count": 17,
   "metadata": {},
   "outputs": [],
   "source": [
    "reader = Reader(rating_scale=(1, 5))\n",
    "\n",
    "ratings = Dataset.load_from_df(user_artist_plays_top[[\"userID\", \"artistID\", \"rating\"]], reader)"
   ]
  },
  {
   "cell_type": "markdown",
   "metadata": {},
   "source": [
    "### 2.a.2 Entrenamiento y análisis de algoritmos de recomendación"
   ]
  },
  {
   "cell_type": "code",
   "execution_count": 18,
   "metadata": {},
   "outputs": [
    {
     "name": "stdout",
     "output_type": "stream",
     "text": [
      "Estimating biases using als...\n",
      "Computing the msd similarity matrix...\n",
      "Done computing similarity matrix.\n",
      "Estimating biases using als...\n",
      "Computing the msd similarity matrix...\n",
      "Done computing similarity matrix.\n",
      "Estimating biases using als...\n",
      "Computing the msd similarity matrix...\n",
      "Done computing similarity matrix.\n",
      "Computing the msd similarity matrix...\n",
      "Done computing similarity matrix.\n",
      "Computing the msd similarity matrix...\n",
      "Done computing similarity matrix.\n",
      "Computing the msd similarity matrix...\n",
      "Done computing similarity matrix.\n",
      "Computing the msd similarity matrix...\n",
      "Done computing similarity matrix.\n",
      "Computing the msd similarity matrix...\n",
      "Done computing similarity matrix.\n",
      "Computing the msd similarity matrix...\n",
      "Done computing similarity matrix.\n",
      "Computing the msd similarity matrix...\n",
      "Done computing similarity matrix.\n",
      "Computing the msd similarity matrix...\n",
      "Done computing similarity matrix.\n",
      "Computing the msd similarity matrix...\n",
      "Done computing similarity matrix.\n",
      "Estimating biases using als...\n",
      "Estimating biases using als...\n",
      "Estimating biases using als...\n"
     ]
    }
   ],
   "source": [
    "benchmark = []\n",
    "# Iterate over all algorithms\n",
    "for algorithm in [SVD(), SVDpp(), SlopeOne(), NMF(), NormalPredictor(), KNNBaseline(), KNNBasic(), KNNWithMeans(), KNNWithZScore(), BaselineOnly(), CoClustering()]:\n",
    "    # Perform cross validation\n",
    "    results = cross_validate(algorithm, ratings, measures=['RMSE'], cv=3, verbose=False)\n",
    "    \n",
    "    # Get results & append algorithm name\n",
    "    tmp = pd.DataFrame.from_dict(results).mean(axis=0)\n",
    "    tmp = tmp.append(pd.Series([str(algorithm).split(' ')[0].split('.')[-1]], index=['Algorithm']))\n",
    "    benchmark.append(tmp)\n"
   ]
  },
  {
   "cell_type": "code",
   "execution_count": 19,
   "metadata": {},
   "outputs": [],
   "source": [
    "surprise_results = pd.DataFrame(benchmark).set_index('Algorithm').sort_values('test_rmse')"
   ]
  },
  {
   "cell_type": "code",
   "execution_count": 20,
   "metadata": {},
   "outputs": [
    {
     "data": {
      "text/html": [
       "<div>\n",
       "<style scoped>\n",
       "    .dataframe tbody tr th:only-of-type {\n",
       "        vertical-align: middle;\n",
       "    }\n",
       "\n",
       "    .dataframe tbody tr th {\n",
       "        vertical-align: top;\n",
       "    }\n",
       "\n",
       "    .dataframe thead th {\n",
       "        text-align: right;\n",
       "    }\n",
       "</style>\n",
       "<table border=\"1\" class=\"dataframe\">\n",
       "  <thead>\n",
       "    <tr style=\"text-align: right;\">\n",
       "      <th></th>\n",
       "      <th>test_rmse</th>\n",
       "      <th>fit_time</th>\n",
       "      <th>test_time</th>\n",
       "    </tr>\n",
       "    <tr>\n",
       "      <th>Algorithm</th>\n",
       "      <th></th>\n",
       "      <th></th>\n",
       "      <th></th>\n",
       "    </tr>\n",
       "  </thead>\n",
       "  <tbody>\n",
       "    <tr>\n",
       "      <th>SVDpp</th>\n",
       "      <td>0.355819</td>\n",
       "      <td>7.043529</td>\n",
       "      <td>0.340710</td>\n",
       "    </tr>\n",
       "    <tr>\n",
       "      <th>SVD</th>\n",
       "      <td>0.363353</td>\n",
       "      <td>1.119641</td>\n",
       "      <td>0.083993</td>\n",
       "    </tr>\n",
       "    <tr>\n",
       "      <th>BaselineOnly</th>\n",
       "      <td>0.370292</td>\n",
       "      <td>0.046654</td>\n",
       "      <td>0.094358</td>\n",
       "    </tr>\n",
       "    <tr>\n",
       "      <th>KNNWithMeans</th>\n",
       "      <td>0.377807</td>\n",
       "      <td>0.113938</td>\n",
       "      <td>0.671454</td>\n",
       "    </tr>\n",
       "    <tr>\n",
       "      <th>KNNWithZScore</th>\n",
       "      <td>0.382021</td>\n",
       "      <td>0.156490</td>\n",
       "      <td>0.731941</td>\n",
       "    </tr>\n",
       "  </tbody>\n",
       "</table>\n",
       "</div>"
      ],
      "text/plain": [
       "               test_rmse  fit_time  test_time\n",
       "Algorithm                                    \n",
       "SVDpp           0.355819  7.043529   0.340710\n",
       "SVD             0.363353  1.119641   0.083993\n",
       "BaselineOnly    0.370292  0.046654   0.094358\n",
       "KNNWithMeans    0.377807  0.113938   0.671454\n",
       "KNNWithZScore   0.382021  0.156490   0.731941"
      ]
     },
     "execution_count": 20,
     "metadata": {},
     "output_type": "execute_result"
    }
   ],
   "source": [
    "surprise_results.head()"
   ]
  },
  {
   "cell_type": "code",
   "execution_count": 21,
   "metadata": {},
   "outputs": [
    {
     "name": "stdout",
     "output_type": "stream",
     "text": [
      "RMSE on test: 0.3536\n"
     ]
    }
   ],
   "source": [
    "ratings_train, ratings_test = train_test_split(ratings, test_size=0.2)\n",
    "sim_options = {'name': 'pearson_baseline', 'user_based': False}\n",
    "model = SVDpp(random_state=42)\n",
    "model.fit(ratings_train)\n",
    "predictions = model.test(ratings_test)\n",
    "print(\"RMSE on test: {:.4f}\".format(rmse(predictions, verbose=False)))"
   ]
  },
  {
   "cell_type": "code",
   "execution_count": 22,
   "metadata": {},
   "outputs": [],
   "source": [
    "def get_Iu(uid):\n",
    "    \"\"\" return the number of items rated by given user\n",
    "    args: \n",
    "      uid: the id of the user\n",
    "    returns: \n",
    "      the number of items rated by the user\n",
    "    \"\"\"\n",
    "    try:\n",
    "        return len(ratings_train.ur[ratings_train.to_inner_uid(uid)])\n",
    "    except ValueError: # user was not part of the trainset\n",
    "        return 0\n",
    "    \n",
    "def get_Ui(iid):\n",
    "    \"\"\" return number of users that have rated given item\n",
    "    args:\n",
    "      iid: the raw id of the item\n",
    "    returns:\n",
    "      the number of users that have rated the item.\n",
    "    \"\"\"\n",
    "    try: \n",
    "        return len(ratings_train.ir[ratings_train.to_inner_iid(iid)])\n",
    "    except ValueError:\n",
    "        return 0\n",
    "\n",
    "df_predictions = pd.DataFrame(predictions, columns=['uid', 'iid', 'rui', 'est', 'details'])\n",
    "df_predictions['Iu'] = df_predictions.uid.apply(get_Iu)\n",
    "df_predictions['Ui'] = df_predictions.iid.apply(get_Ui)\n",
    "df_predictions['err'] = abs(df_predictions.est - df_predictions.rui)"
   ]
  },
  {
   "cell_type": "code",
   "execution_count": 23,
   "metadata": {},
   "outputs": [
    {
     "data": {
      "text/html": [
       "<div>\n",
       "<style scoped>\n",
       "    .dataframe tbody tr th:only-of-type {\n",
       "        vertical-align: middle;\n",
       "    }\n",
       "\n",
       "    .dataframe tbody tr th {\n",
       "        vertical-align: top;\n",
       "    }\n",
       "\n",
       "    .dataframe thead th {\n",
       "        text-align: right;\n",
       "    }\n",
       "</style>\n",
       "<table border=\"1\" class=\"dataframe\">\n",
       "  <thead>\n",
       "    <tr style=\"text-align: right;\">\n",
       "      <th></th>\n",
       "      <th>uid</th>\n",
       "      <th>iid</th>\n",
       "      <th>rui</th>\n",
       "      <th>est</th>\n",
       "      <th>details</th>\n",
       "      <th>Iu</th>\n",
       "      <th>Ui</th>\n",
       "      <th>err</th>\n",
       "    </tr>\n",
       "  </thead>\n",
       "  <tbody>\n",
       "    <tr>\n",
       "      <th>0</th>\n",
       "      <td>1223</td>\n",
       "      <td>1412</td>\n",
       "      <td>1.0</td>\n",
       "      <td>1.370406</td>\n",
       "      <td>{'was_impossible': False}</td>\n",
       "      <td>24</td>\n",
       "      <td>107</td>\n",
       "      <td>0.370406</td>\n",
       "    </tr>\n",
       "    <tr>\n",
       "      <th>1</th>\n",
       "      <td>1430</td>\n",
       "      <td>1400</td>\n",
       "      <td>1.0</td>\n",
       "      <td>1.064198</td>\n",
       "      <td>{'was_impossible': False}</td>\n",
       "      <td>24</td>\n",
       "      <td>66</td>\n",
       "      <td>0.064198</td>\n",
       "    </tr>\n",
       "    <tr>\n",
       "      <th>2</th>\n",
       "      <td>1196</td>\n",
       "      <td>498</td>\n",
       "      <td>2.0</td>\n",
       "      <td>1.788681</td>\n",
       "      <td>{'was_impossible': False}</td>\n",
       "      <td>24</td>\n",
       "      <td>223</td>\n",
       "      <td>0.211319</td>\n",
       "    </tr>\n",
       "    <tr>\n",
       "      <th>3</th>\n",
       "      <td>814</td>\n",
       "      <td>412</td>\n",
       "      <td>1.0</td>\n",
       "      <td>1.289133</td>\n",
       "      <td>{'was_impossible': False}</td>\n",
       "      <td>23</td>\n",
       "      <td>69</td>\n",
       "      <td>0.289133</td>\n",
       "    </tr>\n",
       "    <tr>\n",
       "      <th>4</th>\n",
       "      <td>728</td>\n",
       "      <td>9630</td>\n",
       "      <td>1.0</td>\n",
       "      <td>1.431881</td>\n",
       "      <td>{'was_impossible': False}</td>\n",
       "      <td>25</td>\n",
       "      <td>1</td>\n",
       "      <td>0.431881</td>\n",
       "    </tr>\n",
       "  </tbody>\n",
       "</table>\n",
       "</div>"
      ],
      "text/plain": [
       "    uid   iid  rui       est                    details  Iu   Ui       err\n",
       "0  1223  1412  1.0  1.370406  {'was_impossible': False}  24  107  0.370406\n",
       "1  1430  1400  1.0  1.064198  {'was_impossible': False}  24   66  0.064198\n",
       "2  1196   498  2.0  1.788681  {'was_impossible': False}  24  223  0.211319\n",
       "3   814   412  1.0  1.289133  {'was_impossible': False}  23   69  0.289133\n",
       "4   728  9630  1.0  1.431881  {'was_impossible': False}  25    1  0.431881"
      ]
     },
     "execution_count": 23,
     "metadata": {},
     "output_type": "execute_result"
    }
   ],
   "source": [
    "df_predictions.head()"
   ]
  },
  {
   "cell_type": "code",
   "execution_count": 24,
   "metadata": {},
   "outputs": [],
   "source": [
    "best_predictions = df_predictions.sort_values(by='err')[:10]\n",
    "worst_predictions = df_predictions.sort_values(by='err')[-10:]"
   ]
  },
  {
   "cell_type": "code",
   "execution_count": 25,
   "metadata": {},
   "outputs": [
    {
     "data": {
      "text/html": [
       "<div>\n",
       "<style scoped>\n",
       "    .dataframe tbody tr th:only-of-type {\n",
       "        vertical-align: middle;\n",
       "    }\n",
       "\n",
       "    .dataframe tbody tr th {\n",
       "        vertical-align: top;\n",
       "    }\n",
       "\n",
       "    .dataframe thead th {\n",
       "        text-align: right;\n",
       "    }\n",
       "</style>\n",
       "<table border=\"1\" class=\"dataframe\">\n",
       "  <thead>\n",
       "    <tr style=\"text-align: right;\">\n",
       "      <th></th>\n",
       "      <th>uid</th>\n",
       "      <th>iid</th>\n",
       "      <th>rui</th>\n",
       "      <th>est</th>\n",
       "      <th>details</th>\n",
       "      <th>Iu</th>\n",
       "      <th>Ui</th>\n",
       "      <th>err</th>\n",
       "    </tr>\n",
       "  </thead>\n",
       "  <tbody>\n",
       "    <tr>\n",
       "      <th>1824</th>\n",
       "      <td>1293</td>\n",
       "      <td>1179</td>\n",
       "      <td>1.0</td>\n",
       "      <td>1.0</td>\n",
       "      <td>{'was_impossible': False}</td>\n",
       "      <td>25</td>\n",
       "      <td>21</td>\n",
       "      <td>0.0</td>\n",
       "    </tr>\n",
       "    <tr>\n",
       "      <th>7216</th>\n",
       "      <td>1390</td>\n",
       "      <td>1090</td>\n",
       "      <td>1.0</td>\n",
       "      <td>1.0</td>\n",
       "      <td>{'was_impossible': False}</td>\n",
       "      <td>26</td>\n",
       "      <td>84</td>\n",
       "      <td>0.0</td>\n",
       "    </tr>\n",
       "    <tr>\n",
       "      <th>7218</th>\n",
       "      <td>1122</td>\n",
       "      <td>324</td>\n",
       "      <td>1.0</td>\n",
       "      <td>1.0</td>\n",
       "      <td>{'was_impossible': False}</td>\n",
       "      <td>23</td>\n",
       "      <td>43</td>\n",
       "      <td>0.0</td>\n",
       "    </tr>\n",
       "    <tr>\n",
       "      <th>7219</th>\n",
       "      <td>1125</td>\n",
       "      <td>4875</td>\n",
       "      <td>1.0</td>\n",
       "      <td>1.0</td>\n",
       "      <td>{'was_impossible': False}</td>\n",
       "      <td>26</td>\n",
       "      <td>2</td>\n",
       "      <td>0.0</td>\n",
       "    </tr>\n",
       "    <tr>\n",
       "      <th>7234</th>\n",
       "      <td>878</td>\n",
       "      <td>1032</td>\n",
       "      <td>1.0</td>\n",
       "      <td>1.0</td>\n",
       "      <td>{'was_impossible': False}</td>\n",
       "      <td>26</td>\n",
       "      <td>31</td>\n",
       "      <td>0.0</td>\n",
       "    </tr>\n",
       "    <tr>\n",
       "      <th>7235</th>\n",
       "      <td>1525</td>\n",
       "      <td>1698</td>\n",
       "      <td>1.0</td>\n",
       "      <td>1.0</td>\n",
       "      <td>{'was_impossible': False}</td>\n",
       "      <td>25</td>\n",
       "      <td>5</td>\n",
       "      <td>0.0</td>\n",
       "    </tr>\n",
       "    <tr>\n",
       "      <th>1909</th>\n",
       "      <td>1312</td>\n",
       "      <td>491</td>\n",
       "      <td>1.0</td>\n",
       "      <td>1.0</td>\n",
       "      <td>{'was_impossible': False}</td>\n",
       "      <td>24</td>\n",
       "      <td>7</td>\n",
       "      <td>0.0</td>\n",
       "    </tr>\n",
       "    <tr>\n",
       "      <th>1901</th>\n",
       "      <td>967</td>\n",
       "      <td>11457</td>\n",
       "      <td>1.0</td>\n",
       "      <td>1.0</td>\n",
       "      <td>{'was_impossible': False}</td>\n",
       "      <td>25</td>\n",
       "      <td>0</td>\n",
       "      <td>0.0</td>\n",
       "    </tr>\n",
       "    <tr>\n",
       "      <th>7239</th>\n",
       "      <td>1181</td>\n",
       "      <td>631</td>\n",
       "      <td>1.0</td>\n",
       "      <td>1.0</td>\n",
       "      <td>{'was_impossible': False}</td>\n",
       "      <td>22</td>\n",
       "      <td>7</td>\n",
       "      <td>0.0</td>\n",
       "    </tr>\n",
       "    <tr>\n",
       "      <th>1899</th>\n",
       "      <td>1807</td>\n",
       "      <td>2429</td>\n",
       "      <td>1.0</td>\n",
       "      <td>1.0</td>\n",
       "      <td>{'was_impossible': False}</td>\n",
       "      <td>21</td>\n",
       "      <td>6</td>\n",
       "      <td>0.0</td>\n",
       "    </tr>\n",
       "  </tbody>\n",
       "</table>\n",
       "</div>"
      ],
      "text/plain": [
       "       uid    iid  rui  est                    details  Iu  Ui  err\n",
       "1824  1293   1179  1.0  1.0  {'was_impossible': False}  25  21  0.0\n",
       "7216  1390   1090  1.0  1.0  {'was_impossible': False}  26  84  0.0\n",
       "7218  1122    324  1.0  1.0  {'was_impossible': False}  23  43  0.0\n",
       "7219  1125   4875  1.0  1.0  {'was_impossible': False}  26   2  0.0\n",
       "7234   878   1032  1.0  1.0  {'was_impossible': False}  26  31  0.0\n",
       "7235  1525   1698  1.0  1.0  {'was_impossible': False}  25   5  0.0\n",
       "1909  1312    491  1.0  1.0  {'was_impossible': False}  24   7  0.0\n",
       "1901   967  11457  1.0  1.0  {'was_impossible': False}  25   0  0.0\n",
       "7239  1181    631  1.0  1.0  {'was_impossible': False}  22   7  0.0\n",
       "1899  1807   2429  1.0  1.0  {'was_impossible': False}  21   6  0.0"
      ]
     },
     "execution_count": 25,
     "metadata": {},
     "output_type": "execute_result"
    }
   ],
   "source": [
    "best_predictions"
   ]
  },
  {
   "cell_type": "code",
   "execution_count": 26,
   "metadata": {},
   "outputs": [
    {
     "data": {
      "text/html": [
       "<div>\n",
       "<style scoped>\n",
       "    .dataframe tbody tr th:only-of-type {\n",
       "        vertical-align: middle;\n",
       "    }\n",
       "\n",
       "    .dataframe tbody tr th {\n",
       "        vertical-align: top;\n",
       "    }\n",
       "\n",
       "    .dataframe thead th {\n",
       "        text-align: right;\n",
       "    }\n",
       "</style>\n",
       "<table border=\"1\" class=\"dataframe\">\n",
       "  <thead>\n",
       "    <tr style=\"text-align: right;\">\n",
       "      <th></th>\n",
       "      <th>uid</th>\n",
       "      <th>iid</th>\n",
       "      <th>rui</th>\n",
       "      <th>est</th>\n",
       "      <th>details</th>\n",
       "      <th>Iu</th>\n",
       "      <th>Ui</th>\n",
       "      <th>err</th>\n",
       "    </tr>\n",
       "  </thead>\n",
       "  <tbody>\n",
       "    <tr>\n",
       "      <th>6181</th>\n",
       "      <td>1034</td>\n",
       "      <td>475</td>\n",
       "      <td>3.0</td>\n",
       "      <td>1.206604</td>\n",
       "      <td>{'was_impossible': False}</td>\n",
       "      <td>22</td>\n",
       "      <td>90</td>\n",
       "      <td>1.793396</td>\n",
       "    </tr>\n",
       "    <tr>\n",
       "      <th>10688</th>\n",
       "      <td>598</td>\n",
       "      <td>289</td>\n",
       "      <td>3.0</td>\n",
       "      <td>1.200045</td>\n",
       "      <td>{'was_impossible': False}</td>\n",
       "      <td>21</td>\n",
       "      <td>370</td>\n",
       "      <td>1.799955</td>\n",
       "    </tr>\n",
       "    <tr>\n",
       "      <th>1631</th>\n",
       "      <td>425</td>\n",
       "      <td>291</td>\n",
       "      <td>3.0</td>\n",
       "      <td>1.163236</td>\n",
       "      <td>{'was_impossible': False}</td>\n",
       "      <td>22</td>\n",
       "      <td>132</td>\n",
       "      <td>1.836764</td>\n",
       "    </tr>\n",
       "    <tr>\n",
       "      <th>9090</th>\n",
       "      <td>291</td>\n",
       "      <td>344</td>\n",
       "      <td>3.0</td>\n",
       "      <td>1.143206</td>\n",
       "      <td>{'was_impossible': False}</td>\n",
       "      <td>20</td>\n",
       "      <td>134</td>\n",
       "      <td>1.856794</td>\n",
       "    </tr>\n",
       "    <tr>\n",
       "      <th>10836</th>\n",
       "      <td>442</td>\n",
       "      <td>187</td>\n",
       "      <td>3.0</td>\n",
       "      <td>1.128559</td>\n",
       "      <td>{'was_impossible': False}</td>\n",
       "      <td>21</td>\n",
       "      <td>48</td>\n",
       "      <td>1.871441</td>\n",
       "    </tr>\n",
       "    <tr>\n",
       "      <th>5747</th>\n",
       "      <td>3</td>\n",
       "      <td>101</td>\n",
       "      <td>3.0</td>\n",
       "      <td>1.080748</td>\n",
       "      <td>{'was_impossible': False}</td>\n",
       "      <td>20</td>\n",
       "      <td>1</td>\n",
       "      <td>1.919252</td>\n",
       "    </tr>\n",
       "    <tr>\n",
       "      <th>10028</th>\n",
       "      <td>1983</td>\n",
       "      <td>701</td>\n",
       "      <td>3.0</td>\n",
       "      <td>1.000000</td>\n",
       "      <td>{'was_impossible': False}</td>\n",
       "      <td>27</td>\n",
       "      <td>186</td>\n",
       "      <td>2.000000</td>\n",
       "    </tr>\n",
       "    <tr>\n",
       "      <th>2757</th>\n",
       "      <td>1094</td>\n",
       "      <td>511</td>\n",
       "      <td>4.0</td>\n",
       "      <td>1.538869</td>\n",
       "      <td>{'was_impossible': False}</td>\n",
       "      <td>26</td>\n",
       "      <td>94</td>\n",
       "      <td>2.461131</td>\n",
       "    </tr>\n",
       "    <tr>\n",
       "      <th>5772</th>\n",
       "      <td>1664</td>\n",
       "      <td>498</td>\n",
       "      <td>4.0</td>\n",
       "      <td>1.187548</td>\n",
       "      <td>{'was_impossible': False}</td>\n",
       "      <td>26</td>\n",
       "      <td>223</td>\n",
       "      <td>2.812452</td>\n",
       "    </tr>\n",
       "    <tr>\n",
       "      <th>87</th>\n",
       "      <td>2071</td>\n",
       "      <td>792</td>\n",
       "      <td>4.0</td>\n",
       "      <td>1.104053</td>\n",
       "      <td>{'was_impossible': False}</td>\n",
       "      <td>24</td>\n",
       "      <td>13</td>\n",
       "      <td>2.895947</td>\n",
       "    </tr>\n",
       "  </tbody>\n",
       "</table>\n",
       "</div>"
      ],
      "text/plain": [
       "        uid  iid  rui       est                    details  Iu   Ui       err\n",
       "6181   1034  475  3.0  1.206604  {'was_impossible': False}  22   90  1.793396\n",
       "10688   598  289  3.0  1.200045  {'was_impossible': False}  21  370  1.799955\n",
       "1631    425  291  3.0  1.163236  {'was_impossible': False}  22  132  1.836764\n",
       "9090    291  344  3.0  1.143206  {'was_impossible': False}  20  134  1.856794\n",
       "10836   442  187  3.0  1.128559  {'was_impossible': False}  21   48  1.871441\n",
       "5747      3  101  3.0  1.080748  {'was_impossible': False}  20    1  1.919252\n",
       "10028  1983  701  3.0  1.000000  {'was_impossible': False}  27  186  2.000000\n",
       "2757   1094  511  4.0  1.538869  {'was_impossible': False}  26   94  2.461131\n",
       "5772   1664  498  4.0  1.187548  {'was_impossible': False}  26  223  2.812452\n",
       "87     2071  792  4.0  1.104053  {'was_impossible': False}  24   13  2.895947"
      ]
     },
     "execution_count": 26,
     "metadata": {},
     "output_type": "execute_result"
    }
   ],
   "source": [
    "worst_predictions"
   ]
  },
  {
   "cell_type": "markdown",
   "metadata": {},
   "source": [
    "### 2.a.3 Sistema de recomendación"
   ]
  },
  {
   "cell_type": "code",
   "execution_count": 27,
   "metadata": {
    "tags": []
   },
   "outputs": [],
   "source": [
    "from collections import defaultdict\n",
    "from collections import Counter\n",
    "\n",
    "def get_top_n_similar(predictions, artistID, n=10):\n",
    "    # Mapeo de predicciones por cada usuario\n",
    "    top_n = defaultdict(list)\n",
    "\n",
    "    for uid, iid, true_r, est, _ in predictions:\n",
    "        top_n[uid].append((iid, est))\n",
    "\n",
    "    # Se toman las 10 primeras predicciones de cada usuario\n",
    "    for uid, user_ratings in top_n.items():\n",
    "        user_ratings.sort(key=lambda x: x[1], reverse=True)\n",
    "        top_n[uid] = user_ratings[:n]\n",
    "\n",
    "    # Se recorren para todos los usuarios, aquellas listas en las que aparece el artista, y se eligen los 10 más frecuentes.\n",
    "    artistIDs = []\n",
    "    for uid, user_ratings in top_n.items():\n",
    "        agregarIds = False\n",
    "        for rating in user_ratings:\n",
    "            iid = rating[0]\n",
    "            if (iid == artistID):\n",
    "                agregarIds = True\n",
    "                break\n",
    "        if (agregarIds == True):\n",
    "            for rating in user_ratings:\n",
    "                artistIDs.append(rating[0])\n",
    "\n",
    "    list_freq = (Counter(artistIDs)).most_common(n)\n",
    "\n",
    "    return list_freq"
   ]
  },
  {
   "cell_type": "code",
   "execution_count": 28,
   "metadata": {},
   "outputs": [],
   "source": [
    "def print_top_10_similar(artist_name):\n",
    "    artistID = artist_data[artist_data[\"name\"].str.lower() == artist_name.lower()].id.item()\n",
    "\n",
    "    top_n_similar = get_top_n_similar(predictions, artistID, 10)\n",
    "\n",
    "    for key, value in top_n_similar:\n",
    "        if (key != artistID):\n",
    "            print(artist_data[artist_data[\"id\"] == key].name.item())"
   ]
  },
  {
   "cell_type": "code",
   "execution_count": 29,
   "metadata": {},
   "outputs": [
    {
     "name": "stdout",
     "output_type": "stream",
     "text": [
      "The Beatles\n",
      "The Doors\n",
      "Megadeth\n",
      "Motörhead\n",
      "The Black Crowes\n",
      "Led Zeppelin\n",
      "The Who\n",
      "The Yardbirds\n",
      "Bessie Smith\n"
     ]
    }
   ],
   "source": [
    "print_top_10_similar(\"The Rolling Stones\")"
   ]
  },
  {
   "cell_type": "code",
   "execution_count": 30,
   "metadata": {},
   "outputs": [
    {
     "name": "stdout",
     "output_type": "stream",
     "text": [
      "Justin Timberlake\n",
      "The Beatles\n",
      "Alizée\n",
      "Robyn\n",
      "Queen\n",
      "Roxette\n",
      "Ronan Keating\n",
      "From Autumn to Ashes\n",
      "Yeah Yeah Yeahs\n"
     ]
    }
   ],
   "source": [
    "print_top_10_similar(\"ABBA\")"
   ]
  },
  {
   "cell_type": "markdown",
   "metadata": {},
   "source": [
    "Artistas sin similares"
   ]
  },
  {
   "cell_type": "code",
   "execution_count": 31,
   "metadata": {},
   "outputs": [],
   "source": [
    "print_top_10_similar(\"The Archies\")"
   ]
  },
  {
   "cell_type": "markdown",
   "metadata": {},
   "source": [
    "### Ejercicio 2b - Sistemas de Recomendación Avanzados\n",
    "\n",
    "Este ejercicio lo deberán completar quienes hayan realizado ambas partes de la materia pues requiere de los conocimientos adquiridos en las segundas dos clases. En este caso, utilizarán no sólo la información de la matriz de usuario-contenido, sino que deberán hacer uso de otra información para poder lidiar con el problema del \"Cold Start\", i.e. que es lo que ocurre cuando tengo nuevos usuarios o artistas. Tener en cuenta los siguientes pasos:\n",
    "1. **Evaluación sobre cold start**: Para evaluar como funciona el sistema con el problema del \"cold start\", deberán tomar ciertos artistas y \"dejarlos fuera\", i.e. remover cualquier participación del artista en el sistema. Esos serán los artistas que se evaluarán como \"cold start\".\n",
    "2. **Vectores de contenido**: Deberán generar vectores de contenido para los artistas, basados en los tags que los usuarios les dan (ver los archivos `user_taggedartists.dat` y `tags.dat`).\n",
    "3. **Sistema de recomendación**: Deberán crear un sistema de recomendación que tomará como parámetros la información del artista (i.e. nombre y tags). Con dicha información, deberán disponer de un sistema de recomendación híbrido (utilizando cualquiera de las técnicas vistas en clase) que devuelva artistas similares. El sistema de recomendación deberá utilizar toda la información proporcionada para dar una mejor respuesta.\n",
    "4. **Evaluación del sistema**: Deberán evaluar \"a mano\" el sistema sobre artistas que conozca y artistas que no conozca (i.e. que fueron dejados afuera), y hacer un análisis de lo que el sistema está devolviendo."
   ]
  },
  {
   "cell_type": "markdown",
   "metadata": {},
   "source": [
    "### 2.b.1 Evaluación sobre cold start\n",
    "Para abordar el problema de cold start, el análisis se realizó sobre los tags asignados a los artistas. Se resolvió trabajar sólo con las primeras 3 tags más relevantes de cada artista."
   ]
  },
  {
   "cell_type": "code",
   "execution_count": 32,
   "metadata": {},
   "outputs": [
    {
     "name": "stderr",
     "output_type": "stream",
     "text": [
      "<ipython-input-32-2e97f18b9452>:2: SettingWithCopyWarning: \n",
      "A value is trying to be set on a copy of a slice from a DataFrame.\n",
      "Try using .loc[row_indexer,col_indexer] = value instead\n",
      "\n",
      "See the caveats in the documentation: https://pandas.pydata.org/pandas-docs/stable/user_guide/indexing.html#returning-a-view-versus-a-copy\n",
      "  user_tagged_artists_count[\"count\"] = user_tagged_artists_count.groupby([\"artistID\", \"tagID\"])[\"tagID\"].transform(\"count\")\n"
     ]
    }
   ],
   "source": [
    "user_tagged_artists_count = user_tagged_artists[[\"artistID\", \"tagID\"]]\n",
    "user_tagged_artists_count[\"count\"] = user_tagged_artists_count.groupby([\"artistID\", \"tagID\"])[\"tagID\"].transform(\"count\")\n",
    "user_tagged_artists_count = user_tagged_artists_count.drop_duplicates()\n",
    "user_tagged_artists_count = user_tagged_artists_count.groupby([\"artistID\"]).apply(lambda x: x.sort_values([\"count\"],ascending = False)).reset_index(drop = True)\n",
    "\n",
    "user_tagged_artists_count = user_tagged_artists_count.groupby(\"artistID\").head(3)"
   ]
  },
  {
   "cell_type": "code",
   "execution_count": 33,
   "metadata": {},
   "outputs": [
    {
     "data": {
      "text/html": [
       "<div>\n",
       "<style scoped>\n",
       "    .dataframe tbody tr th:only-of-type {\n",
       "        vertical-align: middle;\n",
       "    }\n",
       "\n",
       "    .dataframe tbody tr th {\n",
       "        vertical-align: top;\n",
       "    }\n",
       "\n",
       "    .dataframe thead th {\n",
       "        text-align: right;\n",
       "    }\n",
       "</style>\n",
       "<table border=\"1\" class=\"dataframe\">\n",
       "  <thead>\n",
       "    <tr style=\"text-align: right;\">\n",
       "      <th></th>\n",
       "      <th>artistID</th>\n",
       "      <th>tagID</th>\n",
       "      <th>count</th>\n",
       "    </tr>\n",
       "  </thead>\n",
       "  <tbody>\n",
       "    <tr>\n",
       "      <th>0</th>\n",
       "      <td>1</td>\n",
       "      <td>139</td>\n",
       "      <td>5</td>\n",
       "    </tr>\n",
       "    <tr>\n",
       "      <th>1</th>\n",
       "      <td>1</td>\n",
       "      <td>141</td>\n",
       "      <td>3</td>\n",
       "    </tr>\n",
       "    <tr>\n",
       "      <th>2</th>\n",
       "      <td>1</td>\n",
       "      <td>179</td>\n",
       "      <td>2</td>\n",
       "    </tr>\n",
       "    <tr>\n",
       "      <th>7</th>\n",
       "      <td>2</td>\n",
       "      <td>575</td>\n",
       "      <td>8</td>\n",
       "    </tr>\n",
       "    <tr>\n",
       "      <th>8</th>\n",
       "      <td>2</td>\n",
       "      <td>30</td>\n",
       "      <td>5</td>\n",
       "    </tr>\n",
       "  </tbody>\n",
       "</table>\n",
       "</div>"
      ],
      "text/plain": [
       "   artistID  tagID  count\n",
       "0         1    139      5\n",
       "1         1    141      3\n",
       "2         1    179      2\n",
       "7         2    575      8\n",
       "8         2     30      5"
      ]
     },
     "execution_count": 33,
     "metadata": {},
     "output_type": "execute_result"
    }
   ],
   "source": [
    "user_tagged_artists_count.head()"
   ]
  },
  {
   "cell_type": "markdown",
   "metadata": {},
   "source": [
    "Luego, sobre el dataset que contiene los 3 tags más frecuentes de cada artista se hace una operación \"merge\" con los tags para tener los nombres de cada género."
   ]
  },
  {
   "cell_type": "code",
   "execution_count": 34,
   "metadata": {},
   "outputs": [
    {
     "data": {
      "text/html": [
       "<div>\n",
       "<style scoped>\n",
       "    .dataframe tbody tr th:only-of-type {\n",
       "        vertical-align: middle;\n",
       "    }\n",
       "\n",
       "    .dataframe tbody tr th {\n",
       "        vertical-align: top;\n",
       "    }\n",
       "\n",
       "    .dataframe thead th {\n",
       "        text-align: right;\n",
       "    }\n",
       "</style>\n",
       "<table border=\"1\" class=\"dataframe\">\n",
       "  <thead>\n",
       "    <tr style=\"text-align: right;\">\n",
       "      <th></th>\n",
       "      <th>artistID</th>\n",
       "      <th>tagID</th>\n",
       "      <th>count</th>\n",
       "      <th>tagValue</th>\n",
       "    </tr>\n",
       "  </thead>\n",
       "  <tbody>\n",
       "    <tr>\n",
       "      <th>14041</th>\n",
       "      <td>4648</td>\n",
       "      <td>33</td>\n",
       "      <td>1</td>\n",
       "      <td>experimental</td>\n",
       "    </tr>\n",
       "    <tr>\n",
       "      <th>27916</th>\n",
       "      <td>8105</td>\n",
       "      <td>1098</td>\n",
       "      <td>1</td>\n",
       "      <td>miserable</td>\n",
       "    </tr>\n",
       "    <tr>\n",
       "      <th>24574</th>\n",
       "      <td>784</td>\n",
       "      <td>8670</td>\n",
       "      <td>1</td>\n",
       "      <td>iron jesus</td>\n",
       "    </tr>\n",
       "    <tr>\n",
       "      <th>9923</th>\n",
       "      <td>1574</td>\n",
       "      <td>130</td>\n",
       "      <td>1</td>\n",
       "      <td>female vocalists</td>\n",
       "    </tr>\n",
       "    <tr>\n",
       "      <th>11776</th>\n",
       "      <td>16707</td>\n",
       "      <td>78</td>\n",
       "      <td>1</td>\n",
       "      <td>alternative rock</td>\n",
       "    </tr>\n",
       "  </tbody>\n",
       "</table>\n",
       "</div>"
      ],
      "text/plain": [
       "       artistID  tagID  count          tagValue\n",
       "14041      4648     33      1      experimental\n",
       "27916      8105   1098      1         miserable\n",
       "24574       784   8670      1        iron jesus\n",
       "9923       1574    130      1  female vocalists\n",
       "11776     16707     78      1  alternative rock"
      ]
     },
     "execution_count": 34,
     "metadata": {},
     "output_type": "execute_result"
    }
   ],
   "source": [
    "# Merge con Tags para tener los nombres de tags\n",
    "artists_tags_top = user_tagged_artists_count.merge(tags, on=\"tagID\").drop_duplicates()\n",
    "\n",
    "artists_tags_top.sample(5)"
   ]
  },
  {
   "cell_type": "markdown",
   "metadata": {},
   "source": [
    "Algunas tags parecen no ser buenas para determinar género."
   ]
  },
  {
   "cell_type": "markdown",
   "metadata": {},
   "source": [
    "### 2.b.2 Vector de contenido"
   ]
  },
  {
   "cell_type": "markdown",
   "metadata": {},
   "source": [
    "Para armar el vector de contenido, se tomará una lista de valores únicos de aquellos tags que se encuentran en el dataset que almacena los 3 tags más frecuentes por cada artista. "
   ]
  },
  {
   "cell_type": "code",
   "execution_count": 35,
   "metadata": {},
   "outputs": [
    {
     "data": {
      "text/plain": [
       "0                j-rock\n",
       "66           visual kei\n",
       "129              gothic\n",
       "218            darkwave\n",
       "280              german\n",
       "              ...      \n",
       "32403             ustad\n",
       "32404         a capella\n",
       "32405    massive attack\n",
       "32406         trip beat\n",
       "32407        dead music\n",
       "Name: tagValue, Length: 2821, dtype: object"
      ]
     },
     "execution_count": 35,
     "metadata": {},
     "output_type": "execute_result"
    }
   ],
   "source": [
    "used_tags = artists_tags_top['tagValue'].drop_duplicates()\n",
    "used_tags"
   ]
  },
  {
   "cell_type": "markdown",
   "metadata": {},
   "source": [
    "El vector de contenido será resultado de una transformación del dataset \"artists_tags_top\", agregando una columna por cada género (tag) y quitando las restantes columnas."
   ]
  },
  {
   "cell_type": "code",
   "execution_count": 36,
   "metadata": {},
   "outputs": [
    {
     "data": {
      "text/html": [
       "<div>\n",
       "<style scoped>\n",
       "    .dataframe tbody tr th:only-of-type {\n",
       "        vertical-align: middle;\n",
       "    }\n",
       "\n",
       "    .dataframe tbody tr th {\n",
       "        vertical-align: top;\n",
       "    }\n",
       "\n",
       "    .dataframe thead th {\n",
       "        text-align: right;\n",
       "    }\n",
       "</style>\n",
       "<table border=\"1\" class=\"dataframe\">\n",
       "  <thead>\n",
       "    <tr style=\"text-align: right;\">\n",
       "      <th></th>\n",
       "      <th>j-rock</th>\n",
       "      <th>visual kei</th>\n",
       "      <th>gothic</th>\n",
       "      <th>darkwave</th>\n",
       "      <th>german</th>\n",
       "      <th>black metal</th>\n",
       "      <th>true norwegian black metal</th>\n",
       "      <th>norwegian black metal</th>\n",
       "      <th>japanese</th>\n",
       "      <th>gothic rock</th>\n",
       "      <th>...</th>\n",
       "      <th>ou nao</th>\n",
       "      <th>batcave deathrock</th>\n",
       "      <th>stoner power rock</th>\n",
       "      <th>italodance</th>\n",
       "      <th>amazing singer</th>\n",
       "      <th>ustad</th>\n",
       "      <th>a capella</th>\n",
       "      <th>massive attack</th>\n",
       "      <th>trip beat</th>\n",
       "      <th>dead music</th>\n",
       "    </tr>\n",
       "  </thead>\n",
       "  <tbody>\n",
       "    <tr>\n",
       "      <th>0</th>\n",
       "      <td>1</td>\n",
       "      <td>0</td>\n",
       "      <td>0</td>\n",
       "      <td>0</td>\n",
       "      <td>0</td>\n",
       "      <td>0</td>\n",
       "      <td>0</td>\n",
       "      <td>0</td>\n",
       "      <td>0</td>\n",
       "      <td>0</td>\n",
       "      <td>...</td>\n",
       "      <td>0</td>\n",
       "      <td>0</td>\n",
       "      <td>0</td>\n",
       "      <td>0</td>\n",
       "      <td>0</td>\n",
       "      <td>0</td>\n",
       "      <td>0</td>\n",
       "      <td>0</td>\n",
       "      <td>0</td>\n",
       "      <td>0</td>\n",
       "    </tr>\n",
       "    <tr>\n",
       "      <th>1</th>\n",
       "      <td>1</td>\n",
       "      <td>0</td>\n",
       "      <td>0</td>\n",
       "      <td>0</td>\n",
       "      <td>0</td>\n",
       "      <td>0</td>\n",
       "      <td>0</td>\n",
       "      <td>0</td>\n",
       "      <td>0</td>\n",
       "      <td>0</td>\n",
       "      <td>...</td>\n",
       "      <td>0</td>\n",
       "      <td>0</td>\n",
       "      <td>0</td>\n",
       "      <td>0</td>\n",
       "      <td>0</td>\n",
       "      <td>0</td>\n",
       "      <td>0</td>\n",
       "      <td>0</td>\n",
       "      <td>0</td>\n",
       "      <td>0</td>\n",
       "    </tr>\n",
       "    <tr>\n",
       "      <th>2</th>\n",
       "      <td>1</td>\n",
       "      <td>0</td>\n",
       "      <td>0</td>\n",
       "      <td>0</td>\n",
       "      <td>0</td>\n",
       "      <td>0</td>\n",
       "      <td>0</td>\n",
       "      <td>0</td>\n",
       "      <td>0</td>\n",
       "      <td>0</td>\n",
       "      <td>...</td>\n",
       "      <td>0</td>\n",
       "      <td>0</td>\n",
       "      <td>0</td>\n",
       "      <td>0</td>\n",
       "      <td>0</td>\n",
       "      <td>0</td>\n",
       "      <td>0</td>\n",
       "      <td>0</td>\n",
       "      <td>0</td>\n",
       "      <td>0</td>\n",
       "    </tr>\n",
       "    <tr>\n",
       "      <th>3</th>\n",
       "      <td>1</td>\n",
       "      <td>0</td>\n",
       "      <td>0</td>\n",
       "      <td>0</td>\n",
       "      <td>0</td>\n",
       "      <td>0</td>\n",
       "      <td>0</td>\n",
       "      <td>0</td>\n",
       "      <td>0</td>\n",
       "      <td>0</td>\n",
       "      <td>...</td>\n",
       "      <td>0</td>\n",
       "      <td>0</td>\n",
       "      <td>0</td>\n",
       "      <td>0</td>\n",
       "      <td>0</td>\n",
       "      <td>0</td>\n",
       "      <td>0</td>\n",
       "      <td>0</td>\n",
       "      <td>0</td>\n",
       "      <td>0</td>\n",
       "    </tr>\n",
       "    <tr>\n",
       "      <th>4</th>\n",
       "      <td>1</td>\n",
       "      <td>0</td>\n",
       "      <td>0</td>\n",
       "      <td>0</td>\n",
       "      <td>0</td>\n",
       "      <td>0</td>\n",
       "      <td>0</td>\n",
       "      <td>0</td>\n",
       "      <td>0</td>\n",
       "      <td>0</td>\n",
       "      <td>...</td>\n",
       "      <td>0</td>\n",
       "      <td>0</td>\n",
       "      <td>0</td>\n",
       "      <td>0</td>\n",
       "      <td>0</td>\n",
       "      <td>0</td>\n",
       "      <td>0</td>\n",
       "      <td>0</td>\n",
       "      <td>0</td>\n",
       "      <td>0</td>\n",
       "    </tr>\n",
       "  </tbody>\n",
       "</table>\n",
       "<p>5 rows × 2821 columns</p>\n",
       "</div>"
      ],
      "text/plain": [
       "   j-rock  visual kei  gothic  darkwave  german  black metal  \\\n",
       "0       1           0       0         0       0            0   \n",
       "1       1           0       0         0       0            0   \n",
       "2       1           0       0         0       0            0   \n",
       "3       1           0       0         0       0            0   \n",
       "4       1           0       0         0       0            0   \n",
       "\n",
       "   true norwegian black metal  norwegian black metal  japanese  gothic rock  \\\n",
       "0                           0                      0         0            0   \n",
       "1                           0                      0         0            0   \n",
       "2                           0                      0         0            0   \n",
       "3                           0                      0         0            0   \n",
       "4                           0                      0         0            0   \n",
       "\n",
       "   ...  ou nao  batcave deathrock  stoner power rock  italodance  \\\n",
       "0  ...       0                  0                  0           0   \n",
       "1  ...       0                  0                  0           0   \n",
       "2  ...       0                  0                  0           0   \n",
       "3  ...       0                  0                  0           0   \n",
       "4  ...       0                  0                  0           0   \n",
       "\n",
       "   amazing singer  ustad  a capella  massive attack  trip beat  dead music  \n",
       "0               0      0          0               0          0           0  \n",
       "1               0      0          0               0          0           0  \n",
       "2               0      0          0               0          0           0  \n",
       "3               0      0          0               0          0           0  \n",
       "4               0      0          0               0          0           0  \n",
       "\n",
       "[5 rows x 2821 columns]"
      ]
     },
     "execution_count": 36,
     "metadata": {},
     "output_type": "execute_result"
    }
   ],
   "source": [
    "# Vector de contenido.\n",
    "for g in used_tags:\n",
    "    artists_tags_top[g] = artists_tags_top.tagValue.transform(lambda x: int(g in x))\n",
    "   \n",
    "artists_tags_transform = artists_tags_top.drop(columns=['tagValue', 'count', 'artistID', 'tagID'])\n",
    "artists_tags_transform.head()"
   ]
  },
  {
   "cell_type": "markdown",
   "metadata": {},
   "source": [
    "### 2.b.3 Sistema de recomendación"
   ]
  },
  {
   "cell_type": "markdown",
   "metadata": {},
   "source": [
    "El sistema de recomendación utilizará la implementación de Similitud Coseno de sklearn como métrica de cálculo."
   ]
  },
  {
   "cell_type": "code",
   "execution_count": 37,
   "metadata": {},
   "outputs": [],
   "source": [
    "# Cálculo de similitud coseno\n",
    "from sklearn.metrics.pairwise import cosine_similarity\n",
    "\n",
    "cosine_sim = cosine_similarity(artists_tags_transform, artists_tags_transform)"
   ]
  },
  {
   "cell_type": "code",
   "execution_count": 38,
   "metadata": {},
   "outputs": [],
   "source": [
    "# Sistema de recomendación\n",
    "def artists_finder(artist_name):\n",
    "    artists_idx = dict(zip(artist_data['name'], list(artist_data.index)))\n",
    "    n_recommendations = 10\n",
    "\n",
    "    idx = artists_idx[artist_name]\n",
    "    sim_scores = list(enumerate(cosine_sim[idx]))\n",
    "\n",
    "    # eliminamos el propio artista.\n",
    "    sim_scores[idx] = (idx, 0)\n",
    "\n",
    "    sim_scores = sorted(sim_scores, key=lambda x: x[1], reverse=True)\n",
    "    # sim_scores = sim_scores[1:(n_recommendations+1)]\n",
    "    sim_scores = sim_scores[:n_recommendations]\n",
    "\n",
    "    similar_artists = [i[0] for i in sim_scores]\n",
    "    \n",
    "    return artist_data['name'].iloc[similar_artists]"
   ]
  },
  {
   "cell_type": "code",
   "execution_count": 39,
   "metadata": {},
   "outputs": [
    {
     "name": "stdout",
     "output_type": "stream",
     "text": [
      "Artistas similares para The Beatles:\n",
      "\tYeong-wook Jo\n",
      "\tInterpol\n",
      "\tQueens of the Stone Age\n",
      "\tKings of Leon\n",
      "\tThe Killers\n",
      "\tGreen Day\n",
      "\tDevendra Banhart\n",
      "\tSunset Rubdown\n",
      "\tNine Inch Nails\n",
      "\tNirvana\n"
     ]
    }
   ],
   "source": [
    "artist_name = \"The Beatles\"\n",
    "\n",
    "print(\"Artistas similares para {}:\".format(artist_name))\n",
    "for artist in artists_finder(artist_name):\n",
    "    print(\"\\t{}\".format(artist))"
   ]
  },
  {
   "cell_type": "code",
   "execution_count": 40,
   "metadata": {},
   "outputs": [
    {
     "name": "stdout",
     "output_type": "stream",
     "text": [
      "Artistas similares para ABBA:\n",
      "\tMSTRKRFT\n",
      "\tCalvin Harris\n",
      "\tPendulum\n",
      "\tKing Crimson\n",
      "\tLed Zeppelin\n",
      "\tGenesis\n",
      "\tPaul McCartney\n",
      "\tCreedence Clearwater Revival\n",
      "\tGeorge Harrison\n",
      "\tTýr\n"
     ]
    }
   ],
   "source": [
    "artist_name = \"ABBA\"\n",
    "\n",
    "print(\"Artistas similares para {}:\".format(artist_name))\n",
    "for artist in artists_finder(artist_name):\n",
    "    print(\"\\t{}\".format(artist))"
   ]
  },
  {
   "cell_type": "markdown",
   "metadata": {},
   "source": [
    "### 2.b.4 Evaluación manual del sistema"
   ]
  },
  {
   "cell_type": "markdown",
   "metadata": {},
   "source": [
    "Usamos los datos calculados para el [Ejercicio 2](#Ejercicio-2---Sistema-de-Recomendación)"
   ]
  },
  {
   "cell_type": "code",
   "execution_count": 41,
   "metadata": {},
   "outputs": [],
   "source": [
    "# Elegimos 5 artistas al azar.\n",
    "cold_set = user_artist_plays_top[\"artistID\"].sample(5).unique()\n",
    "\n",
    "# y los borramos.\n",
    "hot_df = user_artist_plays_top[~user_artist_plays_top[\"artistID\"].isin(cold_set)]"
   ]
  },
  {
   "cell_type": "code",
   "execution_count": 42,
   "metadata": {},
   "outputs": [
    {
     "data": {
      "text/plain": [
       "array([  503, 11048,   533,  2133, 16183])"
      ]
     },
     "execution_count": 42,
     "metadata": {},
     "output_type": "execute_result"
    }
   ],
   "source": [
    "cold_set"
   ]
  },
  {
   "cell_type": "markdown",
   "metadata": {},
   "source": [
    "Entrenamos el mismo modelo que antes pero para un subset de artistas."
   ]
  },
  {
   "cell_type": "code",
   "execution_count": 43,
   "metadata": {},
   "outputs": [
    {
     "name": "stdout",
     "output_type": "stream",
     "text": [
      "RMSE on test: 0.3481\n"
     ]
    }
   ],
   "source": [
    "reader = Reader(rating_scale=(1, 5))\n",
    "ratings = Dataset.load_from_df(hot_df[[\"userID\", \"artistID\", \"rating\"]], reader)\n",
    "\n",
    "ratings_train, ratings_test = train_test_split(ratings, test_size=0.2)\n",
    "sim_options = {'name': 'pearson_baseline', 'user_based': False}\n",
    "model = SVDpp(random_state=42)\n",
    "model.fit(ratings_train)\n",
    "predictions = model.test(ratings_test)\n",
    "print(\"RMSE on test: {:.4f}\".format(rmse(predictions, verbose=False)))\n",
    "\n",
    "\n",
    "def print_top_hibrid(artistID):\n",
    "    artist_name = artist_data[artist_data.id == artistID].name.item()\n",
    "    related_artists = artists_finder(artist_name)[:5]\n",
    "\n",
    "    result = []\n",
    "    for ra_name in related_artists:\n",
    "        print(ra_name)\n",
    "        ra_id = artist_data[artist_data.name == ra_name].id.item()\n",
    "        for artist_id, score in get_top_n_similar(predictions, ra_id, 3):\n",
    "            a_name = artist_data[artist_data.id == artist_id].name.item()\n",
    "            print(f\"  - {a_name}\")"
   ]
  },
  {
   "cell_type": "code",
   "execution_count": 44,
   "metadata": {
    "scrolled": false
   },
   "outputs": [
    {
     "name": "stdout",
     "output_type": "stream",
     "text": [
      "In Flames\n",
      "The National\n",
      "  - The National\n",
      "  - Interpol\n",
      "  - Razorlight\n",
      "Cordel do Fogo Encantado\n",
      "Sigur Rós\n",
      "  - Sigur Rós\n",
      "  - The Beatles\n",
      "  - Depeche Mode\n",
      "Tokyo Police Club\n",
      "The Kills\n",
      "  - Mando Diao\n",
      "  - Placebo\n",
      "  - The Kills\n",
      "\n",
      "Chillsongs\n",
      "Rosa Tattooada\n",
      "  - Pink Floyd\n",
      "  - Led Zeppelin\n",
      "  - Rosa Tattooada\n",
      "Garotos da Rua\n",
      "Camisa de Vênus\n",
      "Uns e Outros\n",
      "Anthony Hamilton\n",
      "\n",
      "Oasis\n",
      "Little Boots\n",
      "  - Little Boots\n",
      "  - Katy Perry\n",
      "  - Frankmusik\n",
      "No Doubt\n",
      "  - No Doubt\n",
      "  - Eric Clapton\n",
      "  - Andrea Corr\n",
      "Sophie Ellis-Bextor\n",
      "Good Charlotte\n",
      "  - Good Charlotte\n",
      "  - The Beatles\n",
      "  - Kylie Minogue\n",
      "The Used\n",
      "  - The Used\n",
      "  - Placebo\n",
      "  - Red\n",
      "\n",
      "Milburn\n",
      "MSTRKRFT\n",
      "Calvin Harris\n",
      "Pendulum\n",
      "  - Pendulum\n",
      "  - Escape The Fate\n",
      "  - Slipknot\n",
      "King Crimson\n",
      "  - King Crimson\n",
      "  - Dark Tranquillity\n",
      "  - Death\n",
      "Led Zeppelin\n",
      "  - Led Zeppelin\n",
      "  - The Beatles\n",
      "  - The Doors\n",
      "\n",
      "Трагедия Всей Жизни\n",
      "Sandro\n",
      "Javier Malosetti\n",
      "Vox Dei\n",
      "Manal\n",
      "Sandro y los de Fuego\n",
      "\n"
     ]
    }
   ],
   "source": [
    "for cs in cold_set:\n",
    "    cs_name = artist_data[artist_data.id == cs].name.item()\n",
    "    print(cs_name)\n",
    "    print_top_hibrid(cs)\n",
    "    print()"
   ]
  }
 ],
 "metadata": {
  "kernelspec": {
   "display_name": "Python 3",
   "language": "python",
   "name": "python3"
  },
  "language_info": {
   "codemirror_mode": {
    "name": "ipython",
    "version": 3
   },
   "file_extension": ".py",
   "mimetype": "text/x-python",
   "name": "python",
   "nbconvert_exporter": "python",
   "pygments_lexer": "ipython3",
   "version": "3.8.3"
  },
  "rise": {
   "scroll": true
  }
 },
 "nbformat": 4,
 "nbformat_minor": 2
}
